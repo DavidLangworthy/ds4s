{
 "cells": [
  {
   "cell_type": "markdown",
   "id": "2d884eeb",
   "metadata": {},
   "source": [
    "## 🔗 Open This Notebook in Google Colab\n",
    "\n",
    "[![Open In Colab](https://colab.research.google.com/assets/colab-badge.svg)](https://colab.research.google.com/github/DavidLangworthy/ds4s/blob/master/Day%201_%20Introduction%20–%20Climate%20Change%20%26%20Basic%20Plotting.ipynb)"
   ]
  },
  {
   "cell_type": "markdown",
   "id": "704e9ac8",
   "metadata": {},
   "source": [
    "# 🌎 Day 1 – Visualizing Global Warming\n",
    "\n",
    "Welcome to Day 1 of the **Data Stories for Sustainability** sprint. We will work in quick, repeatable loops:\n",
    "\n",
    "1. **Learn a little** – read a bite-sized brief.\n",
    "2. **Do a little** – run guided code with immediate feedback.\n",
    "3. **Check and reflect** – confirm your output and capture the story.\n",
    "\n",
    "By the end of today you will have a polished climate line chart plus a reusable workflow you’ll lean on all week."
   ]
  },
  {
   "cell_type": "markdown",
   "id": "68f35fd0",
   "metadata": {},
   "source": [
    "> **Teacher sidebar — pacing & differentiation**  \n",
    "> • Total time: ~45 minutes (five 8–10 minute loops + 5 minute wrap).  \n",
    "> • Quick checks (`quick_snapshot`, assertions) make it easy to scan who is stuck.  \n",
    "> • Fast finishers can experiment with `df.rolling` trends or alternate annotations; students who need more support stay with the scaffolded path.\n",
    "\n",
    "## 🗺️ Roadmap for Today\n",
    "\n",
    "Loop | Focus | What success looks like\n",
    "--- | --- | ---\n",
    "0 | Setup & storytelling scaffold | Utilities loaded, story fields filled in\n",
    "1 | Load & validate the dataset | `Year`, `TempAnomaly` columns verified\n",
    "2 | Explore & self-diagnose | Shapes, null checks, sanity hints\n",
    "3 | Plot the trend responsibly | Accessible, annotated line chart\n",
    "4 | Interpret & save | Claim → Evidence → Visual → Takeaway written down"
   ]
  },
  {
   "cell_type": "markdown",
   "id": "83190a7e",
   "metadata": {},
   "source": [
    "## 🗂️ Data Card — NASA GISTEMP Global Temperature Anomalies\n",
    "\n",
    "- **Source**: NASA Goddard Institute for Space Studies (GISS) Surface Temperature Analysis (GISTEMP v4).  \n",
    "- **Temporal coverage**: 1880 – present (updated yearly).  \n",
    "- **Units**: °C anomaly relative to the 1951–1980 baseline.  \n",
    "- **Method notes**: Combined land-surface air temperatures with sea-surface temperatures; homogenized station data; uncertainty ~±0.05 °C in recent decades.  \n",
    "- **Last updated**: January 2024 release.  \n",
    "- **Known caveats**: Sparse early coverage pre-1900, anomalies rather than absolute °C; revisions happen as new station data arrive.\n",
    "\n",
    "> 🎯 **Integrity cue**: Keep axes linear, include the zero baseline, and note that anomalies describe deviation from a reference period (not absolute heat)."
   ]
  },
  {
   "cell_type": "code",
   "execution_count": null,
   "id": "bc896171",
   "metadata": {},
   "outputs": [],
   "source": [
    "# Shared utilities for the DS4S course notebooks\n",
    "        from pathlib import Path\n",
    "        import pandas as pd\n",
    "        import numpy as np\n",
    "        import matplotlib.pyplot as plt\n",
    "        from IPython.display import display\n",
    "\n",
    "        plt.style.use('seaborn-v0_8-whitegrid')\n",
    "        plt.rcParams.update({\n",
    "            'figure.dpi': 120,\n",
    "            'axes.titlesize': 16,\n",
    "            'axes.labelsize': 13,\n",
    "            'axes.titlepad': 12,\n",
    "            'figure.figsize': (10, 5),\n",
    "        })\n",
    "\n",
    "\n",
    "        def load_csv(path: Path, **read_kwargs) -> pd.DataFrame:\n",
    "            '''Load a CSV and report the basic shape.'''\n",
    "            df = pd.read_csv(path, **read_kwargs)\n",
    "            print(f\"✅ Loaded {path.name} with {df.shape[0]:,} rows and {df.shape[1]} columns\")\n",
    "            return df\n",
    "\n",
    "\n",
    "        def validate_columns(df: pd.DataFrame, required):\n",
    "            missing = [col for col in required if col not in df.columns]\n",
    "            if missing:\n",
    "                raise ValueError(f\"Missing columns: {missing}\")\n",
    "            print(f\"✅ Columns present: {', '.join(required)}\")\n",
    "\n",
    "\n",
    "        def expect_rows_between(df: pd.DataFrame, low: int, high: int):\n",
    "            rows = df.shape[0]\n",
    "            if not (low <= rows <= high):\n",
    "                raise ValueError(f\"Row count {rows} outside expected range {low}-{high}\")\n",
    "            print(f\"✅ Row count {rows} within expected {low}-{high}\")\n",
    "\n",
    "\n",
    "        def quick_snapshot(df: pd.DataFrame, name: str, n: int = 3):\n",
    "            print(f\"\n",
    "{name} snapshot → shape={df.shape}\")\n",
    "            print(\"Columns:\", list(df.columns))\n",
    "            print(\"Nulls:\n",
    "\", df.isna().sum())\n",
    "            display(df.head(n))\n",
    "\n",
    "\n",
    "        def ensure_story_elements(title: str, subtitle: str, annotation: str, source: str, units: str):\n",
    "            fields = {\n",
    "                'TITLE': title,\n",
    "                'SUBTITLE': subtitle,\n",
    "                'ANNOTATION': annotation,\n",
    "                'SOURCE': source,\n",
    "                'UNITS': units,\n",
    "            }\n",
    "            missing = [key for key, value in fields.items() if not str(value).strip()]\n",
    "            if missing:\n",
    "                raise ValueError(f\"Please complete these storytelling fields: {', '.join(missing)}\")\n",
    "            print(\"✅ Story scaffold complete →\", \", \".join(f\"{k}: {v}\" for k, v in fields.items()))\n",
    "            return fields\n",
    "\n",
    "\n",
    "        def save_last_fig(filename: str):\n",
    "            plots_dir = Path.cwd() / \"plots\"\n",
    "            plots_dir.mkdir(parents=True, exist_ok=True)\n",
    "            fig = plt.gcf()\n",
    "            if not fig.axes:\n",
    "                raise RuntimeError(\"Run the plotting cell before saving.\")\n",
    "            output_path = plots_dir / filename\n",
    "            fig.savefig(output_path, dpi=300, bbox_inches='tight')\n",
    "            print(f\"📁 Saved figure to {output_path}\")\n",
    "\n",
    "\n",
    "        def save_plotly_fig(fig, filename: str):\n",
    "            plots_dir = Path.cwd() / \"plots\"\n",
    "            plots_dir.mkdir(parents=True, exist_ok=True)\n",
    "            output_path = plots_dir / filename\n",
    "            fig.write_html(str(output_path))\n",
    "            print(f\"📁 Saved interactive figure to {output_path}\")"
   ]
  },
  {
   "cell_type": "markdown",
   "id": "1c38e630",
   "metadata": {},
   "source": [
    "## 🔁 Loop 0 — Establish today’s story scaffold (2 min read + 1 min action)\n",
    "\n",
    "Fill in the storytelling fields before plotting. This keeps the narrative front-and-center and prevents “label-last” habits."
   ]
  },
  {
   "cell_type": "code",
   "execution_count": null,
   "id": "8de6f795",
   "metadata": {},
   "outputs": [],
   "source": [
    "TITLE = \"Global Temperature Anomalies Are Rising\"\n",
    "SUBTITLE = \"NASA GISTEMP, 1880–2024 relative to the 1951–1980 baseline\"\n",
    "ANNOTATION = \"2023 marks ~1.35 °C above the mid-20th century norm.\"\n",
    "SOURCE = \"NASA GISS Surface Temperature Analysis (GISTEMP v4, Jan 2024)\"\n",
    "UNITS = \"Temperature anomaly in °C\"\n",
    "\n",
    "story_fields = ensure_story_elements(TITLE, SUBTITLE, ANNOTATION, SOURCE, UNITS)"
   ]
  },
  {
   "cell_type": "markdown",
   "id": "35c2aac7",
   "metadata": {},
   "source": [
    "## 🔁 Loop 1 — Load & validate the climate dataset (3 min)\n",
    "\n",
    "1. Use `load_csv` to read the curated NASA CSV.  \n",
    "2. Keep only the year and the global annual anomaly column.  \n",
    "3. Run the quick diagnostic cell to confirm the structure before moving on."
   ]
  },
  {
   "cell_type": "code",
   "execution_count": null,
   "id": "3ac0f82a",
   "metadata": {},
   "outputs": [],
   "source": [
    "data_dir = Path.cwd() / \"data\"\n",
    "raw_df = load_csv(\n",
    "    data_dir / \"GLB.Ts+dSST.csv\",\n",
    "    skiprows=1,\n",
    "    usecols=[0, 13],\n",
    "    names=[\"Year\", \"TempAnomaly\"],\n",
    "    header=0,\n",
    ")\n",
    "raw_df[\"TempAnomaly\"] = pd.to_numeric(raw_df[\"TempAnomaly\"], errors=\"coerce\")\n",
    "validate_columns(raw_df, [\"Year\", \"TempAnomaly\"])\n",
    "expect_rows_between(raw_df, 140, 170)"
   ]
  },
  {
   "cell_type": "code",
   "execution_count": null,
   "id": "3c3d2964",
   "metadata": {},
   "outputs": [],
   "source": [
    "quick_snapshot(raw_df, name=\"NASA anomalies (raw)\")"
   ]
  },
  {
   "cell_type": "markdown",
   "id": "8686e262",
   "metadata": {},
   "source": [
    "## 🔁 Loop 2 — Explore & self-diagnose (6 min)\n",
    "\n",
    "Before plotting, look for warning signs:\n",
    "\n",
    "- Are years monotonic?  \n",
    "- Are recent anomalies higher than early years?  \n",
    "- Any missing values that would break a line chart?"
   ]
  },
  {
   "cell_type": "code",
   "execution_count": null,
   "id": "0289792f",
   "metadata": {},
   "outputs": [],
   "source": [
    "clean_df = (\n",
    "    raw_df.dropna(subset=[\"TempAnomaly\"])\n",
    "    .sort_values(\"Year\")\n",
    "    .assign(RollingTrend=lambda d: d[\"TempAnomaly\"].rolling(window=5, center=True).mean())\n",
    ")\n",
    "quick_snapshot(clean_df.tail(), name=\"Clean anomalies (tail)\")\n",
    "print(\n",
    "    \"Expected rising trend?\",\n",
    "    \"✅\" if clean_df[\"TempAnomaly\"].iloc[-1] > clean_df[\"TempAnomaly\"].iloc[0] else \"⚠️ check calculations\",\n",
    ")"
   ]
  },
  {
   "cell_type": "markdown",
   "id": "4bb98583",
   "metadata": {},
   "source": [
    "## 🔁 Loop 3 — Plot with intent (10 min)\n",
    "\n",
    "Use the shared style, keep the zero baseline visible, and annotate the latest data point to anchor the audience. Run the quick visual check afterwards."
   ]
  },
  {
   "cell_type": "code",
   "execution_count": null,
   "id": "67ab1fad",
   "metadata": {},
   "outputs": [],
   "source": [
    "fig, ax = plt.subplots()\n",
    "ax.plot(clean_df[\"Year\"], clean_df[\"TempAnomaly\"], color=\"#d62728\", linewidth=2, label=\"Annual anomaly\")\n",
    "ax.plot(clean_df[\"Year\"], clean_df[\"RollingTrend\"], color=\"#1f77b4\", linewidth=3, label=\"5-year trend\")\n",
    "ax.axhline(0, color=\"black\", linestyle=\"--\", linewidth=1)\n",
    "ax.set_title(TITLE)\n",
    "ax.set_xlabel(\"Year\")\n",
    "ax.set_ylabel(UNITS)\n",
    "ax.legend(loc=\"upper left\")\n",
    "latest = clean_df.iloc[-1]\n",
    "ax.annotate(\n",
    "    ANNOTATION,\n",
    "    xy=(latest[\"Year\"], latest[\"TempAnomaly\"]),\n",
    "    xytext=(latest[\"Year\"] - 25, latest[\"TempAnomaly\"] + 0.3),\n",
    "    arrowprops=dict(arrowstyle=\"->\", color=\"black\"),\n",
    "    bbox=dict(boxstyle=\"round,pad=0.3\", fc=\"white\", ec=\"black\", alpha=0.8),\n",
    ")\n",
    "ax.text(\n",
    "    0.01,\n",
    "    -0.18,\n",
    "    f\"{SOURCE} | Units: {UNITS}\",\n",
    "    transform=ax.transAxes,\n",
    "    fontsize=10,\n",
    "    color=\"#555555\",\n",
    ")\n",
    "ax.set_ylim(clean_df[\"TempAnomaly\"].min() - 0.3, clean_df[\"TempAnomaly\"].max() + 0.3)\n",
    "plt.suptitle(SUBTITLE, fontsize=13, y=1.02, color=\"#444444\")\n",
    "plt.tight_layout()\n",
    "plt.show()"
   ]
  },
  {
   "cell_type": "code",
   "execution_count": null,
   "id": "9134cbe0",
   "metadata": {},
   "outputs": [],
   "source": [
    "print(\"Line segments plotted:\", len(ax.lines))\n",
    "assert len(ax.lines) >= 2, \"Need both annual and rolling trend lines.\"\n",
    "print(\"Latest anomaly: {:.2f}°C\".format(latest[\"TempAnomaly\"]))"
   ]
  },
  {
   "cell_type": "markdown",
   "id": "692aa50d",
   "metadata": {},
   "source": [
    "## 🔁 Loop 4 — Claim → Evidence → Visual → Takeaway (5 min)\n",
    "\n",
    "Record the interpretation so students practice closing the loop with words, not just pixels."
   ]
  },
  {
   "cell_type": "code",
   "execution_count": null,
   "id": "37475b58",
   "metadata": {},
   "outputs": [],
   "source": [
    "from IPython.display import Markdown\n",
    "\n",
    "claim = \"Earth is unequivocally warmer than it was in the late 19th century.\"\n",
    "evidence = (\n",
    "    \"NASA’s global anomaly climbed from roughly −0.2 °C in the 1880s to more than +1.3 °C in recent years. \"\n",
    "    \"The smoothed trend shows an especially sharp rise after 1970.\"\n",
    ")\n",
    "visual = \"Annotated Matplotlib line chart with 5-year rolling mean and zero baseline.\"\n",
    "takeaway = (\n",
    "    \"The story is about the magnitude and persistence of warming — not a single spike — so we emphasize the long-term trend.\"\n",
    ")\n",
    "Markdown(\n",
    "    f\"\"\"\n",
    "| Claim | Evidence | Visual | Takeaway |\n",
    "| --- | --- | --- | --- |\n",
    "| {claim} | {evidence} | {visual} | {takeaway} |\n",
    "\"\"\"\n",
    ")"
   ]
  },
  {
   "cell_type": "markdown",
   "id": "fae2e80c",
   "metadata": {},
   "source": [
    "## 💾 Save the figure for the teacher dashboard"
   ]
  },
  {
   "cell_type": "code",
   "execution_count": null,
   "id": "aa611998",
   "metadata": {},
   "outputs": [],
   "source": [
    "save_last_fig(\"day01_solution_plot.png\")"
   ]
  },
  {
   "cell_type": "markdown",
   "id": "5cf7c34f",
   "metadata": {},
   "source": [
    "## ✅ Exit Ticket\n",
    "\n",
    "- What surprised you about the rate of change after 1970?  \n",
    "- Where might the uncertainty be highest in this dataset?  \n",
    "- How would you explain the concept of a temperature anomaly to a ninth grader?"
   ]
  }
 ],
 "metadata": {},
 "nbformat": 4,
 "nbformat_minor": 5
}