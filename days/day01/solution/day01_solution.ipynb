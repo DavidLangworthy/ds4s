{
 "cells": [
  {
   "cell_type": "markdown",
   "id": "5ef90ad2",
   "metadata": {},
   "source": [
    "## 🔗 Open This Notebook in Google Colab\n",
    "\n",
    "[![Open In Colab](https://colab.research.google.com/assets/colab-badge.svg)](https://colab.research.google.com/github/DavidLangworthy/ds4s/blob/master/days/day01/notebook/day01_starter.ipynb)"
   ]
  },
  {
   "cell_type": "markdown",
   "id": "3e838578",
   "metadata": {},
   "source": [
    "# 🌎 Day 1 – Visualizing Global Warming\n",
    "### From raw anomalies to a climate story\n",
    "\n",
    "We will turn NASA's temperature anomaly table into a polished visual that highlights how much warmer the world is today than during the 20th century baseline."
   ]
  },
  {
   "cell_type": "markdown",
   "id": "494e1920",
   "metadata": {},
   "source": [
    "#### Data card: NASA GISTEMP global mean temperature anomalies\n",
    "* **Source:** [NASA GISTEMP v4](https://data.giss.nasa.gov/gistemp/) (global land–ocean mean).\n",
    "* **Temporal coverage:** 1880–2023, monthly and annual temperature anomalies.\n",
    "* **Units:** Degrees Celsius relative to the 1951–1980 baseline.\n",
    "* **Refresh cadence:** Updated monthly; downloaded September 2024.\n",
    "* **Caveats:** Missing values marked as `***`; anomalies blend land station and SST records."
   ]
  },
  {
   "cell_type": "code",
   "execution_count": null,
   "id": "20020097",
   "metadata": {},
   "outputs": [],
   "source": [
    "# Core imports and shared helpers\n",
    "from pathlib import Path\n",
    "\n",
    "import numpy as np\n",
    "import pandas as pd\n",
    "import matplotlib.pyplot as plt\n",
    "import seaborn as sns\n",
    "from IPython.display import Markdown, display\n",
    "\n",
    "import utils\n",
    "\n",
    "utils.baseline_style()\n"
   ]
  },
  {
   "cell_type": "markdown",
   "id": "b4d72e7f",
   "metadata": {},
   "source": [
    "## Step 1: Load the temperature anomalies\n",
    "Use the shared loader so the file is fetched automatically if it is missing, then run diagnostics to make sure the table looks as expected."
   ]
  },
  {
   "cell_type": "code",
   "execution_count": null,
   "id": "79b530ff",
   "metadata": {},
   "outputs": [],
   "source": [
    "# Example: validate_columns reports missing headers if we mistype one\n",
    "demo_df = pd.DataFrame({\n",
    "    'Year': [2000, 2001],\n",
    "    'Value': [0.1, 0.2]\n",
    "})\n",
    "_ = utils.validate_columns(demo_df, ['Year', 'Value'])\n"
   ]
  },
  {
   "cell_type": "code",
   "execution_count": null,
   "id": "bf7d828d",
   "metadata": {},
   "outputs": [],
   "source": [
    "temperature_raw = utils.load_data('GLB.Ts+dSST.csv', skiprows=1)\n",
    "utils.diagnostics(\n",
    "    temperature_raw,\n",
    "    'GISTEMP anomalies (raw)',\n",
    "    expected_columns=['Year', 'Jan', 'Feb', 'Mar', 'Apr', 'May', 'Jun', 'Jul', 'Aug', 'Sep', 'Oct', 'Nov', 'Dec', 'J-D'],\n",
    "    expected_row_range=(140, 200),\n",
    ")\n"
   ]
  },
  {
   "cell_type": "markdown",
   "id": "d74c1b8a",
   "metadata": {},
   "source": [
    "## Step 2: Keep the annual series and tidy the columns\n",
    "Convert the `J-D` annual anomaly column into numeric form, drop placeholder values, and confirm the dataframe only contains the fields we need."
   ]
  },
  {
   "cell_type": "code",
   "execution_count": null,
   "id": "f428e162",
   "metadata": {},
   "outputs": [],
   "source": [
    "temperature_annual = (\n",
    "    temperature_raw[['Year', 'J-D']]\n",
    "    .rename(columns={'J-D': 'temp_anomaly_c'})\n",
    "    .assign(\n",
    "        Year=lambda df: pd.to_numeric(df['Year'], errors='coerce'),\n",
    "        temp_anomaly_c=lambda df: pd.to_numeric(df['temp_anomaly_c'], errors='coerce'),\n",
    "    )\n",
    "    .dropna()\n",
    "    .astype({'Year': 'int64'})\n",
    ")\n",
    "utils.validate_columns(temperature_annual, ['Year', 'temp_anomaly_c'])\n",
    "utils.expect_rows_between(temperature_annual, 140, 200)\n",
    "temperature_annual.head()\n"
   ]
  },
  {
   "cell_type": "markdown",
   "id": "bab34924",
   "metadata": {},
   "source": [
    "## Step 3: Build context for the 1951–1980 baseline\n",
    "A quick check of the baseline window grounds our interpretation of the anomalies."
   ]
  },
  {
   "cell_type": "code",
   "execution_count": null,
   "id": "bb8f5b62",
   "metadata": {},
   "outputs": [],
   "source": [
    "baseline_window = temperature_annual.query('1951 <= Year <= 1980')\n",
    "baseline_mean = baseline_window['temp_anomaly_c'].mean()\n",
    "print(f'Baseline (1951–1980) mean anomaly: {baseline_mean:.3f} °C')\n",
    "utils.diagnostics(\n",
    "    baseline_window,\n",
    "    'Baseline slice',\n",
    "    expected_columns=['Year', 'temp_anomaly_c'],\n",
    "    expected_row_range=(25, 35),\n",
    ")\n"
   ]
  },
  {
   "cell_type": "markdown",
   "id": "5dbfbef7",
   "metadata": {},
   "source": [
    "## Step 4: Add a smooth trend for recent decades\n",
    "A centred rolling average makes the structural warming trend easier to read while keeping the annual line for context."
   ]
  },
  {
   "cell_type": "code",
   "execution_count": null,
   "id": "80f8efdc",
   "metadata": {},
   "outputs": [],
   "source": [
    "temperature_story = temperature_annual.assign(\n",
    "    rolling_5yr=lambda df: df['temp_anomaly_c'].rolling(window=5, center=True).mean()\n",
    ")\n",
    "recent = temperature_story.query('Year >= 1880')\n",
    "utils.expect_rows_between(recent, 130, 200)\n",
    "recent.tail()\n"
   ]
  },
  {
   "cell_type": "markdown",
   "id": "ea49cceb",
   "metadata": {},
   "source": [
    "## Step 5: Craft the story-first chart\n",
    "Set the narrative scaffolding (title, subtitle, annotation, source, units) before drawing the visual so the message leads the design."
   ]
  },
  {
   "cell_type": "code",
   "execution_count": null,
   "id": "d962ad4c",
   "metadata": {},
   "outputs": [],
   "source": [
    "TITLE = 'Global surface temperatures are well above the 20th-century norm'\n",
    "SUBTITLE = 'NASA GISTEMP global mean temperature anomalies, 1951–1980 baseline (°C)'\n",
    "ANNOTATION = 'Every year since 2015 has exceeded the baseline by more than 0.8 °C.'\n",
    "SOURCE = 'NASA GISTEMP v4, downloaded September 2024'\n",
    "UNITS = 'Temperature anomaly (°C)'\n",
    "metadata = {\n",
    "    'title': TITLE,\n",
    "    'subtitle': SUBTITLE,\n",
    "    'annotation': ANNOTATION,\n",
    "    'source': SOURCE,\n",
    "    'units': UNITS,\n",
    "}\n",
    "utils.validate_story_elements(metadata)\n",
    "fig, ax = plt.subplots(figsize=(10, 6))\n",
    "ax.plot(recent['Year'], recent['temp_anomaly_c'], color='#1f77b4', label='Annual anomaly', linewidth=1.6)\n",
    "ax.plot(recent['Year'], recent['rolling_5yr'], color='#d62728', linewidth=2.4, label='5-year mean')\n",
    "utils.apply_story_template(ax, title=TITLE, subtitle=SUBTITLE, source=SOURCE, units=UNITS)\n",
    "peak = recent.loc[recent['temp_anomaly_c'].idxmax()]\n",
    "ax.annotate(\n",
    "    ANNOTATION,\n",
    "    xy=(peak['Year'], peak['temp_anomaly_c']),\n",
    "    xycoords='data',\n",
    "    xytext=(-120, 30),\n",
    "    textcoords='offset points',\n",
    "    arrowprops=dict(arrowstyle='->', color='#444444'),\n",
    "    fontsize=11,\n",
    "    ha='left',\n",
    "    va='bottom',\n",
    "    bbox=dict(boxstyle='round,pad=0.3', fc='white', ec='#888888', alpha=0.85),\n",
    ")\n",
    "ax.axhline(0, color='#666666', linestyle='--', linewidth=1)\n",
    "ax.legend(loc='upper left')\n",
    "ax.set_xlim(recent['Year'].min(), recent['Year'].max())\n",
    "plt.tight_layout()\n",
    "utils.save_last_fig('day01_solution_plot.png')\n"
   ]
  },
  {
   "cell_type": "code",
   "execution_count": null,
   "id": "07794aa5",
   "metadata": {},
   "outputs": [],
   "source": [
    "display(Markdown(utils.summarize_claim(\n",
    "    claim='The planet has warmed dramatically over the past four decades.',\n",
    "    evidence='Annual anomalies now sit more than 0.8 °C above the mid-20th century baseline.',\n",
    "    takeaway='Sustained warming means short-term cool years no longer return the climate to its previous state.',\n",
    ")))\n"
   ]
  }
 ],
 "metadata": {
  "kernelspec": {
   "display_name": "Python 3",
   "language": "python",
   "name": "python3"
  },
  "language_info": {
   "name": "python",
   "version": "3.11"
  }
 },
 "nbformat": 4,
 "nbformat_minor": 5
}
