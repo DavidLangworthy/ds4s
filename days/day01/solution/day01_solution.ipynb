{
 "cells": [
  {
   "cell_type": "markdown",
   "id": "c07f1162",
   "metadata": {},
   "source": [
    "## 🔗 Open Solution in Google Colab\n",
    "\n",
    "[![Open Solution in Colab](https://colab.research.google.com/assets/colab-badge.svg)](https://colab.research.google.com/github/DavidLangworthy/ds4s/blob/master/days/day01/solution/day01_solution.ipynb)"
   ]
  },
  {
   "cell_type": "markdown",
   "id": "f4072d40",
   "metadata": {},
   "source": [
    "# 🌎 Day 1 – Global Temperature Signals\n",
    "\n",
    "Welcome! This lab eases you into Python by tracing how Earth's temperature has shifted since 1880. Work through each small step, run the quick checks, and use the hints only if you truly need them."
   ]
  },
  {
   "cell_type": "markdown",
   "id": "682eca1b",
   "metadata": {},
   "source": [
    "### Data Card — NASA GISTEMP Annual Temperature Anomalies\n",
    "\n",
    "| Field | Details |\n",
    "| --- | --- |\n",
    "| **Source** | [NASA Goddard Institute for Space Studies (GISS)](https://data.giss.nasa.gov/gistemp/) |\n",
    "| **Download** | `data/GLB.Ts+dSST.csv` (auto-downloads if missing) |\n",
    "| **Temporal coverage** | 1880–2024 (annual) |\n",
    "| **Units** | °C anomaly relative to the 1951–1980 baseline |\n",
    "| **Last updated** | January 2025 release |\n",
    "| **Caveats** | Annual means are reconstructed from land + sea stations; recent years may be revised as new measurements arrive. |\n"
   ]
  },
  {
   "cell_type": "markdown",
   "id": "e1255372",
   "metadata": {},
   "source": [
    "### Step 1 · Imports, style, and shared helpers\n",
    "\n",
    "Run the cell to load the libraries used throughout the lab."
   ]
  },
  {
   "cell_type": "code",
   "execution_count": null,
   "id": "488733d6",
   "metadata": {},
   "outputs": [],
   "source": [
    "# Ensure shared helpers are available when running on Google Colab\n",
    "import pathlib\n",
    "import urllib.request\n",
    "\n",
    "UTILS_PATH = pathlib.Path(\"utils.py\")\n",
    "if not UTILS_PATH.exists():\n",
    "    UTILS_URL = \"https://raw.githubusercontent.com/DavidLangworthy/ds4s/master/utils.py\"\n",
    "    print(\"Fetching shared helper module…\")\n",
    "    UTILS_PATH.write_bytes(urllib.request.urlopen(UTILS_URL).read())\n",
    "\n",
    "import pandas as pd\n",
    "import matplotlib.pyplot as plt\n",
    "\n",
    "from utils import (\n",
    "    baseline_style,\n",
    "    expect_rows_between,\n",
    "    load_csv,\n",
    "    quick_check,\n",
    "    save_last_fig,\n",
    "    validate_columns,\n",
    "    validate_story_elements,\n",
    ")\n",
    "\n",
    "baseline_style()\n"
   ]
  },
  {
   "cell_type": "markdown",
   "id": "5d599dbd",
   "metadata": {},
   "source": [
    "### Step 2 · Load the climate dataset\n",
    "\n",
    "We pull the CSV from the local `data` folder. If it is not available, the helper downloads the official copy from GitHub."
   ]
  },
  {
   "cell_type": "code",
   "execution_count": null,
   "id": "5498b3b2",
   "metadata": {},
   "outputs": [],
   "source": [
    "temperature_raw = load_csv(\"data/GLB.Ts+dSST.csv\", read_csv_kwargs=dict(skiprows=1))\n",
    "print(f\"Rows loaded: {len(temperature_raw)}\")\n",
    "temperature_raw.head()\n"
   ]
  },
  {
   "cell_type": "markdown",
   "id": "36b21ec7",
   "metadata": {},
   "source": [
    "<details>\n",
    "<summary>Need a nudge?</summary>\n",
    "\n",
    "- Confirm the file path matches the entry in the data card.\n",
    "- `.head()` should show columns for each month plus the annual mean (`J-D`).\n",
    "\n",
    "</details>"
   ]
  },
  {
   "cell_type": "markdown",
   "id": "ebcac0b1",
   "metadata": {},
   "source": [
    "### Step 3 · Clean and focus the columns we need\n",
    "\n",
    "Convert the annual anomaly column to numeric values and keep only the year/anomaly pair for plotting."
   ]
  },
  {
   "cell_type": "code",
   "execution_count": null,
   "id": "5eee737c",
   "metadata": {},
   "outputs": [],
   "source": [
    "temperature_df = (\n",
    "    temperature_raw[[\"Year\", \"J-D\"]]\n",
    "    .rename(columns={\"J-D\": \"TempAnomaly\"})\n",
    "    .assign(TempAnomaly=lambda df: pd.to_numeric(df[\"TempAnomaly\"], errors=\"coerce\"))\n",
    "    .dropna(subset=[\"TempAnomaly\"])\n",
    ")\n",
    "\n",
    "validate_columns(temperature_df, [\"Year\", \"TempAnomaly\"])\n",
    "expect_rows_between(temperature_df, minimum=140, maximum=200)\n"
   ]
  },
  {
   "cell_type": "code",
   "execution_count": null,
   "id": "8e7a49cf",
   "metadata": {},
   "outputs": [],
   "source": [
    "quick_check(temperature_df, name=\"NASA anomalies\")\n"
   ]
  },
  {
   "cell_type": "markdown",
   "id": "6bd6b315",
   "metadata": {},
   "source": [
    "<details>\n",
    "<summary>Still stuck?</summary>\n",
    "\n",
    "- Use `pd.to_numeric(..., errors=\\\"coerce\\\")` to turn `***` placeholders into `NaN`.\n",
    "- Drop rows without anomalies before plotting.\n",
    "\n",
    "</details>"
   ]
  },
  {
   "cell_type": "markdown",
   "id": "4439eecb",
   "metadata": {},
   "source": [
    "### Step 4 · Smooth the series for context (optional but recommended)\n",
    "\n",
    "A rolling average highlights the long-term signal without hiding yearly variation."
   ]
  },
  {
   "cell_type": "code",
   "execution_count": null,
   "id": "044c8bd6",
   "metadata": {},
   "outputs": [],
   "source": [
    "temperature_df = temperature_df.assign(\n",
    "    Rolling5=lambda df: df[\"TempAnomaly\"].rolling(window=5, center=True, min_periods=1).mean()\n",
    ")\n",
    "quick_check(temperature_df.tail(), name=\"Recent values\")\n"
   ]
  },
  {
   "cell_type": "markdown",
   "id": "f042f345",
   "metadata": {},
   "source": [
    "### Step 5 · Draft the story elements\n",
    "\n",
    "Use the checklist to craft the narrative that will appear with the chart. All fields should be filled before plotting."
   ]
  },
  {
   "cell_type": "code",
   "execution_count": null,
   "id": "ae4c921b",
   "metadata": {},
   "outputs": [],
   "source": [
    "story = {\n",
    "    \"title\": \"Global Temperature Anomalies Keep Rising\",\n",
    "    \"subtitle\": \"NASA GISTEMP annual means relative to the 1951–1980 climate baseline\",\n",
    "    \"annotation\": \"Recent years exceed +1.3°C above the 20th-century average.\",\n",
    "    \"source\": \"NASA GISS Surface Temperature Analysis (accessed 2025-01)\",\n",
    "    \"units\": \"°C anomaly\",\n",
    "}\n",
    "validate_story_elements(story)\n"
   ]
  },
  {
   "cell_type": "markdown",
   "id": "c727247b",
   "metadata": {},
   "source": [
    "### Step 6 · Plot the warming trend with debug checkpoints\n",
    "\n",
    "The preview should show a red line trending upward, a light rolling average, and an annotation on the latest year."
   ]
  },
  {
   "cell_type": "code",
   "execution_count": null,
   "id": "ed61dcee",
   "metadata": {},
   "outputs": [],
   "source": [
    "fig, ax = plt.subplots(figsize=(10, 5))\n",
    "ax.plot(temperature_df[\"Year\"], temperature_df[\"TempAnomaly\"], color=\"#c1121f\", linewidth=1.5, label=\"Annual anomaly\")\n",
    "ax.plot(temperature_df[\"Year\"], temperature_df[\"Rolling5\"], color=\"#003049\", linewidth=2.5, label=\"5-year rolling mean\")\n",
    "ax.axhline(0, color=\"#6c757d\", linestyle=\"--\", linewidth=1)\n",
    "\n",
    "last_year = int(temperature_df[\"Year\"].iloc[-1])\n",
    "last_value = temperature_df[\"TempAnomaly\"].iloc[-1]\n",
    "ax.annotate(\n",
    "    story[\"annotation\"],\n",
    "    xy=(last_year, last_value),\n",
    "    xytext=(last_year - 25, last_value + 0.3),\n",
    "    arrowprops=dict(arrowstyle=\"->\", color=\"#6c757d\"),\n",
    "    fontsize=11,\n",
    ")\n",
    "ax.set_title(story[\"title\"], fontsize=16, pad=14)\n",
    "ax.set_xlabel(\"Year\")\n",
    "ax.set_ylabel(story[\"units\"])\n",
    "ax.legend(loc=\"upper left\")\n",
    "ax.grid(alpha=0.3)\n",
    "ax.text(0.01, -0.18, f\"Source: {story['source']}\", transform=ax.transAxes, fontsize=9, ha=\"left\")\n",
    "plt.tight_layout()\n",
    "plt.show()\n"
   ]
  },
  {
   "cell_type": "markdown",
   "id": "635848b6",
   "metadata": {},
   "source": [
    "### Step 7 · Save the figure for the automated export\n",
    "\n",
    "This uses the shared helper so the GitHub Action can archive a high-resolution copy."
   ]
  },
  {
   "cell_type": "code",
   "execution_count": null,
   "id": "7207ddbc",
   "metadata": {},
   "outputs": [],
   "source": [
    "save_last_fig(fig, \"plots/day01_solution_plot.png\")\n"
   ]
  },
  {
   "cell_type": "markdown",
   "id": "dd6bb36a",
   "metadata": {},
   "source": [
    "### Step 8 · Reflect\n",
    "\n",
    "- How quickly did the anomaly cross +1°C?\n",
    "- Which checkpoints helped you confirm the calculation?\n",
    "- Note one uncertainty or caveat from the data card to mention in discussion."
   ]
  }
 ],
 "metadata": {
  "kernelspec": {
   "display_name": "Python 3",
   "language": "python",
   "name": "python3"
  }
 },
 "nbformat": 4,
 "nbformat_minor": 5
}
