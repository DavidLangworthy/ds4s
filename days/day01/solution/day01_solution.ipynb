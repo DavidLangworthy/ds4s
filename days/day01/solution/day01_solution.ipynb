{
 "cells": [
  {
   "cell_type": "markdown",
   "id": "876ca0db",
   "metadata": {},
   "source": [
    "## 🔗 Open This Notebook in Google Colab\n",
    "\n",
    "[![Open In Colab](https://colab.research.google.com/assets/colab-badge.svg)](https://colab.research.google.com/github/DavidLangworthy/ds4s/blob/master/days/day01/notebook/day01_starter.ipynb)"
   ]
  },
  {
   "cell_type": "markdown",
   "id": "f5c32cdb",
   "metadata": {},
   "source": [
    "# 🌎 Day 1 – Visualizing Global Warming\n",
    "### Step-by-step introduction to time-series storytelling\n",
    "\n",
    "Welcome! Today we learn how to read NASA's global temperature record, check our assumptions at every step,\n",
    "and craft a line chart that clearly communicates how Earth has warmed since the late 19th century.\n",
    "We'll move in small loops: set up, load data, verify, visualize, and reflect."
   ]
  },
  {
   "cell_type": "markdown",
   "id": "be3febe7",
   "metadata": {},
   "source": [
    "### 🗂️ Data card — NASA GISTEMP Global Surface Temperature Anomalies\n",
    "- **Source:** NASA Goddard Institute for Space Studies – [GISTEMP v4](https://data.giss.nasa.gov/gistemp/)\n",
    "- **Temporal coverage:** 1880–2024 (annual)\n",
    "- **Geography:** Global mean surface temperature\n",
    "- **Units:** Temperature anomaly in °C relative to the 1951–1980 baseline\n",
    "- **Collection notes:** Combines land-station and sea-surface temperature records with homogenization\n",
    "- **Last updated:** January 2025 release\n",
    "- **Caveats:** Recent years may be revised; anomalies describe change relative to baseline, not absolute temperature\n",
    "- **Mindful design:** Avoid truncated axes; annotate the baseline so viewers grasp the meaning of 0°C."
   ]
  },
  {
   "cell_type": "markdown",
   "id": "40a12d07",
   "metadata": {},
   "source": [
    "### 1. Set up the environment"
   ]
  },
  {
   "cell_type": "code",
   "execution_count": null,
   "id": "be8716de",
   "metadata": {},
   "outputs": [],
   "source": [
    "import pandas as pd\n",
    "import numpy as np\n",
    "import matplotlib.pyplot as plt\n",
    "import seaborn as sns\n",
    "from IPython.display import display\n",
    "\n",
    "pd.options.display.float_format = \"{:.3f}\".format"
   ]
  },
  {
   "cell_type": "code",
   "execution_count": null,
   "id": "234aa60b",
   "metadata": {},
   "outputs": [],
   "source": [
    "# Shared helper utilities used throughout the week.\n",
    "from __future__ import annotations\n",
    "\n",
    "import warnings\n",
    "from pathlib import Path\n",
    "from typing import Iterable, Mapping\n",
    "\n",
    "import matplotlib.pyplot as plt\n",
    "import pandas as pd\n",
    "import seaborn as sns\n",
    "\n",
    "\n",
    "def resolve_data_dir(max_up: int = 5) -> Path:\n",
    "    \"\"\"Locate the project-level ``data`` directory regardless of execution location.\"\"\"\n",
    "    here = Path.cwd()\n",
    "    for _ in range(max_up + 1):\n",
    "        candidate = here / \"data\"\n",
    "        if candidate.exists():\n",
    "            return candidate\n",
    "        here = here.parent\n",
    "    raise FileNotFoundError(\n",
    "        \"Could not find a 'data' directory relative to this notebook.\n",
    "\"\n",
    "        \"If you are running in Colab, mount your drive or upload the data folder first.\"\n",
    "    )\n",
    "\n",
    "\n",
    "DATA_DIR = resolve_data_dir()\n",
    "PROJECT_ROOT = DATA_DIR.parent\n",
    "PLOTS_DIR = PROJECT_ROOT / \"plots\"\n",
    "PLOTS_DIR.mkdir(parents=True, exist_ok=True)\n",
    "\n",
    "\n",
    "def baseline_style() -> None:\n",
    "    \"\"\"Apply a consistent, high-contrast visual style that is colorblind-friendly.\"\"\"\n",
    "    sns.set_theme(style=\"whitegrid\", context=\"talk\", font_scale=0.9)\n",
    "    plt.rcParams.update(\n",
    "        {\n",
    "            \"figure.dpi\": 120,\n",
    "            \"axes.titlesize\": 16,\n",
    "            \"axes.labelsize\": 13,\n",
    "            \"legend.fontsize\": 11,\n",
    "            \"axes.titleweight\": \"semibold\",\n",
    "        }\n",
    "    )\n",
    "\n",
    "\n",
    "def load_data(filename: str | Path, **kwargs) -> pd.DataFrame:\n",
    "    \"\"\"Read a CSV file from the shared data directory and report its shape.\"\"\"\n",
    "    path = Path(filename)\n",
    "    if not path.exists():\n",
    "        path = DATA_DIR / filename\n",
    "    df = pd.read_csv(path, **kwargs)\n",
    "    print(f\"Loaded {path.name} with shape {df.shape}.\")\n",
    "    return df\n",
    "\n",
    "\n",
    "def validate_columns(df: pd.DataFrame, required: Iterable[str], *, context: str = \"\") -> None:\n",
    "    missing = [col for col in required if col not in df.columns]\n",
    "    if missing:\n",
    "        warnings.warn(\n",
    "            f\"Missing expected columns {missing} in {context or 'dataframe'}.\n",
    "\"\n",
    "            \"Double-check your renaming and loading steps before moving on.\"\n",
    "        )\n",
    "    else:\n",
    "        print(f\"✅ Columns look good: {list(required)}\")\n",
    "\n",
    "\n",
    "def expect_rows_between(df: pd.DataFrame, low: int, high: int, *, label: str = \"rows\") -> None:\n",
    "    count = len(df)\n",
    "    if not (low <= count <= high):\n",
    "        warnings.warn(\n",
    "            f\"{label} check: expected between {low:,} and {high:,} but found {count:,}.\"\n",
    "        )\n",
    "    else:\n",
    "        print(f\"✅ {label} check: {count:,} rows is within the expected range.\")\n",
    "\n",
    "\n",
    "def quick_diagnose(df: pd.DataFrame, *, sample: int = 3) -> None:\n",
    "    print(\"\n",
    "Preview of the current dataframe:\")\n",
    "    display(df.head(sample))\n",
    "    print(\"\n",
    "Null values by column:\")\n",
    "    print(df.isna().sum())\n",
    "\n",
    "\n",
    "def validate_story_fields(fields: Mapping[str, str]) -> None:\n",
    "    missing = [name for name, value in fields.items() if not str(value).strip()]\n",
    "    if missing:\n",
    "        warnings.warn(\n",
    "            \"The following story fields are blank: \" + \", \".join(missing) +\n",
    "            \"\n",
    "Fill them in so your chart has a clear narrative frame.\"\n",
    "        )\n",
    "    else:\n",
    "        print(\"✅ Narrative checklist complete.\")\n",
    "\n",
    "\n",
    "def save_last_fig(fig: plt.Figure | None, filename: str) -> Path | None:\n",
    "    if fig is None:\n",
    "        fig = plt.gcf()\n",
    "    if fig and getattr(fig, \"axes\", None):\n",
    "        output_path = PLOTS_DIR / filename\n",
    "        fig.savefig(output_path, dpi=300, bbox_inches=\"tight\")\n",
    "        print(f\"Saved figure to {output_path.relative_to(PROJECT_ROOT)}\")\n",
    "        return output_path\n",
    "    warnings.warn(\"No matplotlib figure available to save yet.\")\n",
    "    return None\n"
   ]
  },
  {
   "cell_type": "markdown",
   "id": "cb732e06",
   "metadata": {},
   "source": [
    "### 2. Load the raw temperature table\n",
    "We read the CSV once, keep an untouched copy for reference, and immediately confirm the shape and column names."
   ]
  },
  {
   "cell_type": "code",
   "execution_count": null,
   "id": "f1fa9ac2",
   "metadata": {},
   "outputs": [],
   "source": [
    "raw_temp = load_data(\"GLB.Ts+dSST.csv\", skiprows=1)\n",
    "quick_diagnose(raw_temp.iloc[:5, :5])"
   ]
  },
  {
   "cell_type": "code",
   "execution_count": null,
   "id": "3746e772",
   "metadata": {},
   "outputs": [],
   "source": [
    "expect_rows_between(raw_temp, 140, 150, label=\"annual records\")\n",
    "validate_columns(raw_temp, [\"Year\", \"J-D\"], context=\"raw NASA table\")"
   ]
  },
  {
   "cell_type": "markdown",
   "id": "b143b3b8",
   "metadata": {},
   "source": [
    "### 3. Tidy and focus the dataset\n",
    "NASA publishes monthly columns; we keep the annual anomaly and ensure numeric types."
   ]
  },
  {
   "cell_type": "code",
   "execution_count": null,
   "id": "2413f57e",
   "metadata": {},
   "outputs": [],
   "source": [
    "climate = (\n",
    "    raw_temp[[\"Year\", \"J-D\"]]\n",
    "    .rename(columns={\"J-D\": \"temp_anomaly_c\"})\n",
    "    .assign(temp_anomaly_c=lambda d: pd.to_numeric(d[\"temp_anomaly_c\"], errors=\"coerce\"))\n",
    "    .dropna(subset=[\"temp_anomaly_c\"])\n",
    ")\n",
    "quick_diagnose(climate)\n",
    "validate_columns(climate, [\"Year\", \"temp_anomaly_c\"], context=\"tidy climate data\")\n",
    "expect_rows_between(climate, 140, 150, label=\"clean annual records\")"
   ]
  },
  {
   "cell_type": "markdown",
   "id": "5fc47491",
   "metadata": {},
   "source": [
    "### 4. Inspect trends before plotting\n",
    "Check the magnitude of change and compute a rolling average so we can explain short-term wiggles vs long-term trend."
   ]
  },
  {
   "cell_type": "code",
   "execution_count": null,
   "id": "85b89df0",
   "metadata": {},
   "outputs": [],
   "source": [
    "summary = climate.describe(percentiles=[0.1, 0.5, 0.9])\n",
    "display(summary)\n",
    "print(\"Largest positive anomaly: {:.2f}°C\".format(climate[\"temp_anomaly_c\"].max()))\n",
    "print(\"Largest negative anomaly: {:.2f}°C\".format(climate[\"temp_anomaly_c\"].min()))\n",
    "\n",
    "climate[\"rolling_5yr\"] = climate[\"temp_anomaly_c\"].rolling(window=5, center=True).mean()\n",
    "quick_diagnose(climate.tail())"
   ]
  },
  {
   "cell_type": "markdown",
   "id": "335c1bd7",
   "metadata": {},
   "source": [
    "### 5. Define the storytelling frame\n",
    "Titles, subtitles, and annotations come first so we know what evidence we need in the plot."
   ]
  },
  {
   "cell_type": "code",
   "execution_count": null,
   "id": "f70be4e4",
   "metadata": {},
   "outputs": [],
   "source": [
    "TITLE = \"Global temperatures keep climbing\"\n",
    "SUBTITLE = \"NASA GISTEMP annual anomalies vs. 1951–1980 average (1880–2024)\"\n",
    "ANNOTATION = \"Five-year smoothing shows the persistent rise above the 0°C baseline\"\n",
    "SOURCE = \"Source: NASA GISTEMP v4 (Jan 2025 release)\"\n",
    "UNITS = \"Temperature anomaly (°C relative to 1951–1980)\"\n",
    "\n",
    "narrative_fields = {\n",
    "    \"TITLE\": TITLE,\n",
    "    \"SUBTITLE\": SUBTITLE,\n",
    "    \"ANNOTATION\": ANNOTATION,\n",
    "    \"SOURCE\": SOURCE,\n",
    "    \"UNITS\": UNITS,\n",
    "}\n",
    "validate_story_fields(narrative_fields)"
   ]
  },
  {
   "cell_type": "markdown",
   "id": "065bc42d",
   "metadata": {},
   "source": [
    "### 6. Plot with diagnostic checkpoints\n",
    "We plot both the annual anomalies and the 5-year rolling mean, add accessibility-minded styling, and mark the latest value."
   ]
  },
  {
   "cell_type": "code",
   "execution_count": null,
   "id": "616e6cf3",
   "metadata": {},
   "outputs": [],
   "source": [
    "baseline_style()\n",
    "\n",
    "fig, ax = plt.subplots(figsize=(10, 6))\n",
    "ax.plot(\n",
    "    climate[\"Year\"],\n",
    "    climate[\"temp_anomaly_c\"],\n",
    "    color=\"#0072B2\",\n",
    "    linewidth=1.5,\n",
    "    label=\"Annual anomaly\",\n",
    ")\n",
    "ax.plot(\n",
    "    climate[\"Year\"],\n",
    "    climate[\"rolling_5yr\"],\n",
    "    color=\"#D55E00\",\n",
    "    linewidth=2.5,\n",
    "    label=\"5-year average\",\n",
    ")\n",
    "ax.axhline(0, color=\"#555555\", linestyle=\"--\", linewidth=1)\n",
    "\n",
    "latest = climate.dropna(subset=[\"temp_anomaly_c\"]).iloc[-1]\n",
    "ax.scatter(latest[\"Year\"], latest[\"temp_anomaly_c\"], color=\"#CC79A7\", zorder=5)\n",
    "ax.annotate(\n",
    "    f\"{latest['Year']}: {latest['temp_anomaly_c']:+.2f}°C\",\n",
    "    xy=(latest[\"Year\"], latest[\"temp_anomaly_c\"]),\n",
    "    xytext=(latest[\"Year\"] - 15, latest[\"temp_anomaly_c\"] + 0.3),\n",
    "    arrowprops=dict(arrowstyle=\"->\", color=\"#333333\"),\n",
    "    fontsize=11,\n",
    ")\n",
    "\n",
    "ax.set_title(TITLE, loc=\"left\")\n",
    "ax.set_xlabel(\"Year\")\n",
    "ax.set_ylabel(UNITS)\n",
    "ax.text(0.01, 0.02, SUBTITLE, transform=ax.transAxes, fontsize=11, ha=\"left\", va=\"bottom\")\n",
    "ax.legend(loc=\"upper left\", frameon=False)\n",
    "ax.text(0.01, -0.12, f\"{SOURCE} · {ANNOTATION}\", transform=ax.transAxes, fontsize=10, ha=\"left\", va=\"top\")\n",
    "\n",
    "plt.show()\n",
    "final_fig_path = save_last_fig(fig, \"day01_solution_plot.png\")"
   ]
  },
  {
   "cell_type": "markdown",
   "id": "b43d7597",
   "metadata": {},
   "source": [
    "### 7. Interpret responsibly\n",
    "- **Key takeaway:** Global surface temperatures now sit more than 1°C above the mid-20th-century baseline and have stayed there for the last decade.\n",
    "- **Uncertainty & caveats:** Measurement updates may nudge recent values; anomalies mask regional extremes; baseline choice affects the numeric value but not the warming trend.\n",
    "- **What this plot cannot tell us:** It does not show intra-annual variability, regional disparities, or attribution of causes—those require other datasets and models."
   ]
  },
  {
   "cell_type": "markdown",
   "id": "f6779ea3",
   "metadata": {},
   "source": [
    "### 8. Process micro-rubric\n",
    "| Step | Evidence of completion |\n",
    "| --- | --- |\n",
    "| Data loaded & validated | Shape checks and column validation passed |\n",
    "| Cleaning documented | Rolling mean added and nulls inspected |\n",
    "| Story frame filled | Title, subtitle, annotation, source, units set |\n",
    "| Visualization reviewed | Baseline, annotation, legend, and color-safe palette applied |\n",
    "| Reflection written | Takeaway plus limitations articulated |"
   ]
  }
 ],
 "metadata": {
  "colab": {
   "provenance": []
  },
  "kernelspec": {
   "display_name": "Python 3",
   "name": "python3"
  },
  "language_info": {
   "name": "python"
  }
 },
 "nbformat": 4,
 "nbformat_minor": 5
}