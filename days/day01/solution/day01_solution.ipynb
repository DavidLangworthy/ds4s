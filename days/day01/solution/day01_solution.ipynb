{
 "cells": [
  {
   "cell_type": "markdown",
   "id": "4e164810",
   "metadata": {},
   "source": [
    "## 🔗 Open This Notebook in Google Colab\n",
    "\n",
    "[![Open In Colab](https://colab.research.google.com/assets/colab-badge.svg)](https://colab.research.google.com/github/DavidLangworthy/ds4s/blob/master/days/day01/notebook/day01_starter.ipynb)"
   ]
  },
  {
   "cell_type": "markdown",
   "id": "9749f036",
   "metadata": {},
   "source": [
    "# 🌎 Day 1 – Visualizing Global Warming\n",
    "\n",
    "Welcome to your first day of the sprint! We will move in short, confidence-building passes: learn a single idea, apply it right away, and check that everything worked before you advance. By the time you reach the final cell you will have a polished climate story ready to share."
   ]
  },
  {
   "cell_type": "markdown",
   "id": "0897b68d",
   "metadata": {},
   "source": [
    "## 🗂️ Data Card: NASA GISTEMP Annual Anomalies\n",
    "- **Source:** [NASA Goddard Institute for Space Studies – GISTEMP v4](https://data.giss.nasa.gov/gistemp/).\n",
    "- **Temporal coverage:** 1880–2024, one row per year.\n",
    "- **Units:** Temperature anomaly relative to the 1951–1980 global mean (°C).\n",
    "- **Last updated:** December 2024 (download mirrored in this repo).\n",
    "- **Method notes:** Combined land–sea surface temperature estimates using meteorological stations, ship and buoy records, and a 30-year baseline.\n",
    "- **Caveats:** Values are anomalies (not absolute °C). Annual means mask seasonal extremes; polar regions remain uncertain.\n",
    "- **Integrity prompt:** What choices (smoothing, axes range, color) might exaggerate or understate warming? Name one safeguard you will use."
   ]
  },
  {
   "cell_type": "markdown",
   "id": "db7ff9bb",
   "metadata": {},
   "source": [
    "## 🧭 Story Scaffold\n",
    "We will keep looping on this structure so it becomes automatic:\n",
    "- **Claim:** What signal does the data reveal?\n",
    "- **Evidence:** Which columns/statistics support it?\n",
    "- **Visual:** Which design choices make it legible and honest?\n",
    "- **Takeaway:** How will you phrase the message for a public audience?"
   ]
  },
  {
   "cell_type": "markdown",
   "id": "c4a61235",
   "metadata": {},
   "source": [
    "## Step 0 · Set up your workspace\n",
    "Run the imports once so every later cell can focus on interpretation rather than boilerplate."
   ]
  },
  {
   "cell_type": "code",
   "execution_count": null,
   "id": "6ce5fe36",
   "metadata": {},
   "outputs": [],
   "source": [
    "from pathlib import Path\n",
    "\n",
    "import matplotlib.pyplot as plt\n",
    "import pandas as pd\n",
    "\n",
    "from days.utils import (\n",
    "    add_story_footer,\n",
    "    baseline_style,\n",
    "    check_story_metadata,\n",
    "    load_data,\n",
    "    quick_diagnostics,\n",
    "    save_last_fig,\n",
    ")\n",
    "\n",
    "baseline_style()"
   ]
  },
  {
   "cell_type": "markdown",
   "id": "e62838d5",
   "metadata": {},
   "source": [
    "## Step 1 · Load and inspect the climate record\n",
    "Focus on a single tidy DataFrame: one row per year and a numeric anomaly column. The quick diagnostic cell prints everything you should verify before plotting."
   ]
  },
  {
   "cell_type": "code",
   "execution_count": null,
   "id": "a629e7c7",
   "metadata": {},
   "outputs": [],
   "source": [
    "temperature = load_data(\n",
    "    \"data/GLB.Ts+dSST.csv\",\n",
    "    skiprows=1,\n",
    "    usecols=[0, 13],\n",
    "    names=[\"Year\", \"TempAnomaly\"],\n",
    "    header=0,\n",
    ")\n",
    "temperature[\"TempAnomaly\"] = pd.to_numeric(temperature[\"TempAnomaly\"], errors=\"coerce\")\n",
    "temperature = temperature.dropna(subset=[\"TempAnomaly\"]).sort_values(\"Year\").reset_index(drop=True)"
   ]
  },
  {
   "cell_type": "code",
   "execution_count": null,
   "id": "523424ad",
   "metadata": {},
   "outputs": [],
   "source": [
    "quick_diagnostics(\n",
    "    temperature,\n",
    "    expected_columns=[\"Year\", \"TempAnomaly\"],\n",
    "    rows_between=(140, 160),\n",
    ")\n",
    "print(\"Expected: ~145 rows from 1880 through 2024; anomalies expressed in °C.\")"
   ]
  },
  {
   "cell_type": "markdown",
   "id": "e2fb9a0a",
   "metadata": {},
   "source": [
    "## Step 2 · Build context columns\n",
    "A rolling average turns the jagged annual series into a smoother climate signal that is easier to read. Keep the original series too so viewers can see variability."
   ]
  },
  {
   "cell_type": "code",
   "execution_count": null,
   "id": "0c014a41",
   "metadata": {},
   "outputs": [],
   "source": [
    "temperature[\"RollingDecade\"] = temperature[\"TempAnomaly\"].rolling(window=10, min_periods=3).mean()\n",
    "quick_diagnostics(\n",
    "    temperature[[\"Year\", \"TempAnomaly\", \"RollingDecade\"]],\n",
    "    expected_columns=[\"Year\", \"TempAnomaly\", \"RollingDecade\"],\n",
    "    rows_between=(140, 160),\n",
    ")\n",
    "print(\"Rolling values should be slightly smoother and may start with NaNs until enough years accumulate.\")"
   ]
  },
  {
   "cell_type": "markdown",
   "id": "1a2ab3cb",
   "metadata": {},
   "source": [
    "## Step 3 · Sketch an interim view\n",
    "Check your progress with a draft Matplotlib line chart. Focus on legibility: units on the axes, zero line for context, and color that remains readable to colorblind viewers.\n",
    "\n",
    "![Interim progress preview – grey line chart with a zero reference.](../../plots/day01_solution_plot.png)"
   ]
  },
  {
   "cell_type": "code",
   "execution_count": null,
   "id": "36570cf3",
   "metadata": {},
   "outputs": [],
   "source": [
    "fig, ax = plt.subplots(figsize=(10, 5))\n",
    "ax.plot(temperature[\"Year\"], temperature[\"TempAnomaly\"], color=\"#6c7a89\", linewidth=1.5)\n",
    "ax.axhline(0, color=\"#444444\", linewidth=1, linestyle=\"--\")\n",
    "ax.set_xlabel(\"Year\")\n",
    "ax.set_ylabel(\"Temperature anomaly (°C)\")\n",
    "ax.set_title(\"Draft: Global temperature anomalies\")\n",
    "plt.show()"
   ]
  },
  {
   "cell_type": "markdown",
   "id": "8f242258",
   "metadata": {},
   "source": [
    "## Step 4 · Lock in your story metadata\n",
    "Titles, subtitles, annotations, and credits make the visual trustworthy. Fill every field before rendering the final figure."
   ]
  },
  {
   "cell_type": "code",
   "execution_count": null,
   "id": "76ddbab7",
   "metadata": {},
   "outputs": [],
   "source": [
    "TITLE = \"Earth keeps warming\"\n",
    "SUBTITLE = \"NASA GISTEMP temperature anomalies relative to 1951–1980, 1880–2024\"\n",
    "ANNOTATION = \"Recent years stay above +1°C; the trend has no sign of reversing.\"\n",
    "SOURCE = \"Source: NASA GISTEMP v4 (downloaded Dec 2024)\"\n",
    "UNITS = \"Units: Annual global mean temperature anomaly (°C)\"\n",
    "\n",
    "check_story_metadata(\n",
    "    TITLE=TITLE,\n",
    "    SUBTITLE=SUBTITLE,\n",
    "    ANNOTATION=ANNOTATION,\n",
    "    SOURCE=SOURCE,\n",
    "    UNITS=UNITS,\n",
    ")"
   ]
  },
  {
   "cell_type": "markdown",
   "id": "1b5e127a",
   "metadata": {},
   "source": [
    "## Step 5 · Craft the publishable chart\n",
    "Blend the raw line with the rolling mean, annotate the headline takeaway, and include ethical guardrails such as a zero baseline and transparent smoothing choices."
   ]
  },
  {
   "cell_type": "code",
   "execution_count": null,
   "id": "9a555251",
   "metadata": {},
   "outputs": [],
   "source": [
    "fig, ax = plt.subplots(figsize=(11, 6))\n",
    "ax.plot(temperature[\"Year\"], temperature[\"TempAnomaly\"], color=\"#a7b1c2\", linewidth=1.2, label=\"Annual anomaly\")\n",
    "ax.plot(temperature[\"Year\"], temperature[\"RollingDecade\"], color=\"#c73f46\", linewidth=2.4, label=\"10-year average\")\n",
    "ax.axhline(0, color=\"#444444\", linewidth=1, linestyle=\"--\", label=\"20th century baseline\")\n",
    "ax.fill_between(\n",
    "    temperature[\"Year\"],\n",
    "    0,\n",
    "    temperature[\"RollingDecade\"],\n",
    "    where=temperature[\"RollingDecade\"] > 0,\n",
    "    color=\"#c73f46\",\n",
    "    alpha=0.08,\n",
    "    step=\"pre\",\n",
    ")\n",
    "ax.set_title(f\"{TITLE}\\n{SUBTITLE}\")\n",
    "ax.set_xlabel(\"Year\")\n",
    "ax.set_ylabel(\"Temperature anomaly (°C)\")\n",
    "ax.legend(loc=\"upper left\", frameon=False)\n",
    "peak_year = temperature.loc[temperature[\"RollingDecade\"].idxmax(), \"Year\"]\n",
    "peak_value = temperature[\"RollingDecade\"].max()\n",
    "ax.annotate(\n",
    "    ANNOTATION,\n",
    "    xy=(peak_year, peak_value),\n",
    "    xytext=(peak_year - 25, peak_value + 0.2),\n",
    "    arrowprops=dict(arrowstyle=\"->\", color=\"#c73f46\"),\n",
    "    fontsize=11,\n",
    "    color=\"#c73f46\",\n",
    ")\n",
    "add_story_footer(ax, source=SOURCE, units=UNITS)\n",
    "plt.show()"
   ]
  },
  {
   "cell_type": "markdown",
   "id": "24c8e5d2",
   "metadata": {},
   "source": [
    "## Step 6 · Interpret with the storytelling scaffold\n",
    "- **Claim:** Global temperatures have risen steadily and the past decade remains more than 1 °C above the 20th-century baseline.\n",
    "- **Evidence:** The 10-year average crosses +1 °C after 2015 and never returns below; individual annual anomalies cluster above zero after the 1980s.\n",
    "- **Visual:** Twin lines (raw + smoothed), a zero reference, and an annotation on the sustained warmth clarify the message.\n",
    "- **Takeaway:** “NASA’s record shows that the world has warmed over 1 °C compared to the mid-1900s — a trend driven by human activity and still climbing.”"
   ]
  },
  {
   "cell_type": "markdown",
   "id": "bf41f7c5",
   "metadata": {},
   "source": [
    "### What this plot cannot tell us\n",
    "- It does **not** show within-year extremes or regional differences — a future analysis could map seasonal or geographic patterns.\n",
    "- Measurement uncertainty and revisions are small but real; cite version numbers when sharing.\n",
    "- Even with a careful palette, the fill area could imply cumulative heat. Make clear in captions that values are anomalies, not total degrees of warming."
   ]
  },
  {
   "cell_type": "markdown",
   "id": "413aaa19",
   "metadata": {},
   "source": [
    "## Step 7 · Export the figure\n",
    "Save the latest Matplotlib figure so you can reuse it in slide decks or reports without rerunning the notebook."
   ]
  },
  {
   "cell_type": "code",
   "execution_count": null,
   "id": "edfec7a7",
   "metadata": {},
   "outputs": [],
   "source": [
    "save_last_fig(\"day01_solution_plot.png\")"
   ]
  }
 ],
 "metadata": {},
 "nbformat": 4,
 "nbformat_minor": 5
}
