{
 "cells": [
  {
   "cell_type": "markdown",
   "id": "b6b3256c",
   "metadata": {},
   "source": [
    "## 🔗 Open This Notebook in Google Colab\n",
    "\n",
    "[![Open In Colab](https://colab.research.google.com/assets/colab-badge.svg)](https://colab.research.google.com/github/DavidLangworthy/ds4s/blob/master/days/day01/solution/day01_solution.ipynb)"
   ]
  },
  {
   "cell_type": "markdown",
   "id": "4f20f460",
   "metadata": {},
   "source": [
    "# 🌎 Day 1 – Visualizing Global Warming\n",
    "### Guided loops: load → check → plot → reflect\n",
    "\n",
    "Welcome to your first day of data storytelling. We'll move in short, repeatable cycles: learn a tiny concept, try a focused task, run a quick self-check, then build on it. The final figure is a clean, annotated line chart that shows how Earth's temperature anomalies have climbed since the late 19th century."
   ]
  },
  {
   "cell_type": "markdown",
   "id": "291eef8a",
   "metadata": {},
   "source": [
    "## 📇 Data Card — NASA GISTEMP Global Temperature Anomalies\n",
    "- **Source**: NASA Goddard Institute for Space Studies (GISTEMP v4).<br>Accessed via the course repo copy.\n",
    "- **Temporal coverage**: 1880–2024 (annual); 2025 is present but provisional and flagged `NaN`.\n",
    "- **Units**: Temperature anomaly in °C relative to the 1951–1980 baseline.\n",
    "- **Processing notes**: Converted from wide CSV to `Year`/`TempAnomaly` columns, coercing non-numeric entries to `NaN`.\n",
    "- **Last updated**: January 2025 data release.\n",
    "- **Caveats**: Recent months can be revised; anomalies highlight change, not absolute temperature. When interpreting, emphasise long-term trends over single-year spikes.\n",
    "\n",
    "> 🔎 **What this plot cannot tell us**: It does not separate natural vs human drivers, regional variation, or seasonal extremes. Use it as a big-picture signal, not the whole climate story."
   ]
  },
  {
   "cell_type": "markdown",
   "id": "523fffcb",
   "metadata": {},
   "source": [
    "## 🗺️ Workflow Map\n",
    "We will reuse the same cadence all week:\n",
    "1. **Setup & shared helpers** – consistent style and diagnostics.\n",
    "2. **Load a dataset** – confirm shape, columns, and plausible ranges.\n",
    "3. **Inspect** – quick stats and sanity checks.\n",
    "4. **Story scaffold** – write the title, subtitle, annotation, units, and source before plotting.\n",
    "5. **Visualize & annotate** – build the chart, confirm accessibility, and save it.\n",
    "6. **Reflect** – note limitations, uncertainty, and next questions."
   ]
  },
  {
   "cell_type": "markdown",
   "id": "1d2b7e17",
   "metadata": {},
   "source": [
    "## Step 0 · Imports, style, and quick diagnostics\n",
    "These helpers keep every notebook consistent so you can focus on reasoning instead of rewriting boilerplate."
   ]
  },
  {
   "cell_type": "code",
   "execution_count": null,
   "id": "eaf1d2e1",
   "metadata": {},
   "outputs": [],
   "source": [
    "\n",
    "from pathlib import Path\n",
    "from textwrap import dedent\n",
    "\n",
    "import pandas as pd\n",
    "import matplotlib.pyplot as plt\n",
    "import seaborn as sns\n",
    "from IPython.display import Image, display\n",
    "\n",
    "sns.set_theme(style=\"whitegrid\")\n",
    "plt.rcParams.update({\n",
    "    \"axes.titlesize\": 18,\n",
    "    \"axes.labelsize\": 13,\n",
    "    \"axes.titleweight\": \"bold\",\n",
    "    \"figure.titlesize\": 20,\n",
    "    \"xtick.labelsize\": 11,\n",
    "    \"ytick.labelsize\": 11,\n",
    "})\n",
    "\n",
    "\n",
    "def baseline_style():\n",
    "    \"\"\"Reset the Matplotlib/Seaborn style so every figure starts consistent.\"\"\"\n",
    "    sns.set_theme(style=\"whitegrid\")\n",
    "    plt.rcParams.update({\n",
    "        \"axes.titlesize\": 18,\n",
    "        \"axes.labelsize\": 13,\n",
    "        \"axes.titleweight\": \"bold\",\n",
    "        \"figure.titlesize\": 20,\n",
    "        \"xtick.labelsize\": 11,\n",
    "        \"ytick.labelsize\": 11,\n",
    "        \"legend.title_fontsize\": 12,\n",
    "        \"legend.fontsize\": 11,\n",
    "    })\n",
    "    return plt\n",
    "\n",
    "\n",
    "def quick_peek(df, expected_columns=None, sample=3, label=\"DataFrame\"):\n",
    "    \"\"\"Print a friendly snapshot so students can self-diagnose issues quickly.\"\"\"\n",
    "    print(f\"\n",
    "🔍 {label} preview\")\n",
    "    print(df.head(sample))\n",
    "    print(f\"Rows: {len(df):,} | Columns: {list(df.columns)}\")\n",
    "    if expected_columns:\n",
    "        missing = [col for col in expected_columns if col not in df.columns]\n",
    "        if missing:\n",
    "            print(f\"⚠️ Missing column(s): {missing}\")\n",
    "        else:\n",
    "            print(\"✅ Columns match the expectation.\")\n",
    "    return df\n",
    "\n",
    "\n",
    "def expect_rows_between(df, low, high, label=\"row count\"):\n",
    "    rows = len(df)\n",
    "    if low <= rows <= high:\n",
    "        print(f\"✅ {label.title()} looks right: {rows:,}.\")\n",
    "    else:\n",
    "        print(f\"⚠️ {label.title()} looks off: {rows:,}. Expected between {low:,} and {high:,}.\")\n",
    "    return rows\n",
    "\n",
    "\n",
    "def validate_story_elements(elements):\n",
    "    missing = [key for key, value in elements.items() if not value or not str(value).strip()]\n",
    "    if missing:\n",
    "        print(f\"⚠️ Please fill in these storytelling fields: {', '.join(missing)}\")\n",
    "    else:\n",
    "        print(\"✅ Story scaffold is ready — every element is filled in.\")\n",
    "    return elements\n",
    "\n",
    "\n",
    "def save_last_fig(filename, fig=None, dpi=300):\n",
    "    \"\"\"Save the latest Matplotlib figure with consistent export settings.\"\"\"\n",
    "    output_path = Path.cwd() / filename\n",
    "    output_path.parent.mkdir(parents=True, exist_ok=True)\n",
    "    if fig is None:\n",
    "        fig = plt.gcf()\n",
    "    if fig and getattr(fig, \"axes\", None):\n",
    "        fig.savefig(output_path, dpi=dpi, bbox_inches=\"tight\")\n",
    "        print(f\"💾 Saved figure to {output_path}\")\n",
    "    else:\n",
    "        print(\"⚠️ No figure detected to save.\")\n",
    "    return output_path\n",
    "\n",
    "baseline_style()\n"
   ]
  },
  {
   "cell_type": "markdown",
   "id": "472d8cc1",
   "metadata": {},
   "source": [
    "## Step 1 · Load the temperature anomaly data\n",
    "**Micro-task**: read the NASA CSV, keep the `Year` and global annual anomaly, and drop provisional `NaN` rows.\n",
    "\n",
    "If things look odd, tiered hints in the starter notebook nudge you through `pd.read_csv`, cleaning, and type conversion."
   ]
  },
  {
   "cell_type": "code",
   "execution_count": null,
   "id": "2ac071a5",
   "metadata": {},
   "outputs": [],
   "source": [
    "\n",
    "data_dir = Path.cwd() / \"data\"\n",
    "temperature_path = data_dir / \"GLB.Ts+dSST.csv\"\n",
    "\n",
    "raw_df = pd.read_csv(\n",
    "    temperature_path,\n",
    "    skiprows=1,\n",
    "    usecols=[0, 13],\n",
    "    names=[\"Year\", \"TempAnomaly\"],\n",
    "    header=0,\n",
    ")\n",
    "raw_df[\"TempAnomaly\"] = pd.to_numeric(raw_df[\"TempAnomaly\"], errors=\"coerce\")\n",
    "\n",
    "df = raw_df.dropna(subset=[\"TempAnomaly\"]).copy()\n",
    "\n",
    "quick_peek(df, expected_columns=[\"Year\", \"TempAnomaly\"], label=\"NASA anomalies\")\n",
    "expect_rows_between(df, 140, 150)\n"
   ]
  },
  {
   "cell_type": "markdown",
   "id": "5baed675",
   "metadata": {},
   "source": [
    "### Self-diagnostic: year span\n",
    "Students run this right after loading to confirm the timeline feels right."
   ]
  },
  {
   "cell_type": "code",
   "execution_count": null,
   "id": "660ee389",
   "metadata": {},
   "outputs": [],
   "source": [
    "\n",
    "start_year, end_year = int(df[\"Year\"].min()), int(df[\"Year\"].max())\n",
    "print(f\"🗓️ Years covered: {start_year} → {end_year}\")\n",
    "if start_year > 1880 or end_year < 2024:\n",
    "    print(\"⚠️ Check the column selection or dropna step; we expect 1880–2024 with current data.\")\n",
    "else:\n",
    "    print(\"✅ Year range matches the data card.\")\n"
   ]
  },
  {
   "cell_type": "markdown",
   "id": "54183dc5",
   "metadata": {},
   "source": [
    "## Step 2 · Explore interim signals\n",
    "Before plotting, compare early vs. recent decades. This bite-sized calculation gives students an interpretable checkpoint."
   ]
  },
  {
   "cell_type": "code",
   "execution_count": null,
   "id": "c647d7b5",
   "metadata": {},
   "outputs": [],
   "source": [
    "\n",
    "baseline_slice = df[df[\"Year\"].between(1951, 1980)]\n",
    "recent_slice = df[df[\"Year\"] >= 2000]\n",
    "\n",
    "mean_baseline = baseline_slice[\"TempAnomaly\"].mean()\n",
    "mean_recent = recent_slice[\"TempAnomaly\"].mean()\n",
    "change = mean_recent - mean_baseline\n",
    "\n",
    "print(f\"Baseline (1951–1980) anomaly: {mean_baseline:.2f} °C\")\n",
    "print(f\"Recent (2000–2024) anomaly: {mean_recent:.2f} °C\")\n",
    "print(f\"Change vs. baseline: {change:.2f} °C\")\n"
   ]
  },
  {
   "cell_type": "markdown",
   "id": "fc25be0c",
   "metadata": {},
   "source": [
    "### Progress anchor\n",
    "A thumbnail of the interim target helps students know they are on track."
   ]
  },
  {
   "cell_type": "code",
   "execution_count": null,
   "id": "f19bf273",
   "metadata": {},
   "outputs": [],
   "source": [
    "display(Image(filename=str(Path.cwd() / 'plots' / 'day01_solution_plot.png')), width=380)"
   ]
  },
  {
   "cell_type": "markdown",
   "id": "a9ef3c60",
   "metadata": {},
   "source": [
    "## Step 3 · Story-first chart checklist\n",
    "Everyone fills these out before drawing the chart. The validator keeps formatting consistent and prevents unlabeled visuals."
   ]
  },
  {
   "cell_type": "code",
   "execution_count": null,
   "id": "4cfd5e7d",
   "metadata": {},
   "outputs": [],
   "source": [
    "\n",
    "TITLE = \"Global Temperature Anomalies Keep Climbing\"\n",
    "SUBTITLE = \"Annual departures from the 1951–1980 average, 1880–2024\"\n",
    "ANNOTATION = \"2024 anomaly: {:.2f} °C — among the highest on record\".format(df[\"TempAnomaly\"].iloc[-1])\n",
    "SOURCE = \"NASA GISTEMP v4 (downloaded Jan 2025)\"\n",
    "UNITS = \"Temperature anomaly (°C relative to 1951–1980)\"\n",
    "ACCESSIBILITY_NOTES = \"Single red line on white grid; markers every 5 years; colorblind-safe contrast and 14pt labels.\"\n",
    "\n",
    "validate_story_elements({\n",
    "    \"TITLE\": TITLE,\n",
    "    \"SUBTITLE\": SUBTITLE,\n",
    "    \"ANNOTATION\": ANNOTATION,\n",
    "    \"SOURCE\": SOURCE,\n",
    "    \"UNITS\": UNITS,\n",
    "    \"ACCESSIBILITY_NOTES\": ACCESSIBILITY_NOTES,\n",
    "})\n"
   ]
  },
  {
   "cell_type": "markdown",
   "id": "5f6993ca",
   "metadata": {},
   "source": [
    "## Step 4 · Build, annotate, and sanity-check the figure\n",
    "This cell mirrors the starter notebook’s scaffold but with all TODOs resolved. Comments flag the same guardrails students saw while working."
   ]
  },
  {
   "cell_type": "code",
   "execution_count": null,
   "id": "447f7634",
   "metadata": {},
   "outputs": [],
   "source": [
    "\n",
    "baseline_style()\n",
    "\n",
    "fig, ax = plt.subplots(figsize=(11, 6))\n",
    "ax.plot(df[\"Year\"], df[\"TempAnomaly\"], color=\"#d62728\", linewidth=2.5)\n",
    "ax.scatter(df[\"Year\"][::5], df[\"TempAnomaly\"][::5], color=\"#d62728\", s=35)\n",
    "ax.axhline(0, color=\"#4f4f4f\", linestyle=\"--\", linewidth=1)\n",
    "\n",
    "ax.set_title(f\"{TITLE}\n",
    "{SUBTITLE}\", loc=\"left\")\n",
    "ax.set_xlabel(\"Year\")\n",
    "ax.set_ylabel(UNITS)\n",
    "ax.text(0.01, -0.18, f\"Source: {SOURCE}\", transform=ax.transAxes, fontsize=10, color=\"#4f4f4f\")\n",
    "ax.text(0.01, -0.25, f\"Notes: {ACCESSIBILITY_NOTES}\", transform=ax.transAxes, fontsize=10, color=\"#4f4f4f\")\n",
    "\n",
    "latest_year = int(df[\"Year\"].iloc[-1])\n",
    "latest_value = df[\"TempAnomaly\"].iloc[-1]\n",
    "ax.annotate(\n",
    "    ANNOTATION,\n",
    "    xy=(latest_year, latest_value),\n",
    "    xytext=(latest_year - 20, latest_value + 0.4),\n",
    "    arrowprops=dict(arrowstyle=\"->\", color=\"#4f4f4f\"),\n",
    "    bbox=dict(boxstyle=\"round,pad=0.3\", fc=\"white\", ec=\"#cccccc\"),\n",
    ")\n",
    "\n",
    "ax.set_xlim(df[\"Year\"].min(), df[\"Year\"].max())\n",
    "ax.grid(alpha=0.3)\n",
    "\n",
    "plt.show()\n"
   ]
  },
  {
   "cell_type": "markdown",
   "id": "335393bd",
   "metadata": {},
   "source": [
    "### Export checkpoint\n",
    "The helper standardises filenames so every day’s artifact saves cleanly."
   ]
  },
  {
   "cell_type": "code",
   "execution_count": null,
   "id": "174f6150",
   "metadata": {},
   "outputs": [],
   "source": [
    "save_last_fig('plots/day01_solution_plot.png')"
   ]
  },
  {
   "cell_type": "markdown",
   "id": "a19b1d54",
   "metadata": {},
   "source": [
    "## Step 5 · Reflect, question, and communicate uncertainty\n",
    "- **Claim → Evidence → Visual → Takeaway**:\n",
    "  - **Claim**: Earth has warmed by over 1 °C relative to the mid-20th century baseline.\n",
    "  - **Evidence**: The anomaly line climbs steadily after the 1970s; the recent five-year average exceeds +1 °C.\n",
    "  - **Visual**: Single-series line chart with baseline reference and annotated latest point.\n",
    "  - **Takeaway**: Warming is persistent, not a one-off spike — reinforcing the urgency for mitigation.\n",
    "- **Limitations**: Annual global mean smooths local extremes; revised data may slightly shift recent values.\n",
    "- **Potential misreads**: Zoomed-in y-axis exaggerates short-term wiggles, but annotation emphasises long-term change.\n",
    "- **Next questions**: How do emissions or regional patterns line up with this global trend? What uncertainties remain around future projections?"
   ]
  },
  {
   "cell_type": "markdown",
   "id": "33d7a13a",
   "metadata": {},
   "source": [
    "## Process quality checklist\n",
    "✅ Loaded data with validation • ✅ Ran interim diagnostics • ✅ Completed story scaffold • ✅ Built accessible figure • ✅ Captured interpretation + uncertainty."
   ]
  }
 ],
 "metadata": {
  "colab": {
   "authorship_tag": "ABX9TyMJACh4VMcJwukG3WIqQhpa",
   "provenance": []
  },
  "kernelspec": {
   "display_name": "Python 3",
   "name": "python3"
  },
  "language_info": {
   "name": "python"
  }
 },
 "nbformat": 4,
 "nbformat_minor": 5
}
