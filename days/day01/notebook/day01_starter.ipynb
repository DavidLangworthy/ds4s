{
 "cells": [
  {
   "cell_type": "markdown",
   "id": "133f2ae4",
   "metadata": {},
   "source": [
    "## 🔗 Open This Notebook in Google Colab\n",
    "\n",
    "[![Open In Colab](https://colab.research.google.com/assets/colab-badge.svg)](https://colab.research.google.com/github/DavidLangworthy/ds4s/blob/master/days/day01/solution/day01_solution.ipynb)"
   ]
  },
  {
   "cell_type": "markdown",
   "id": "75ade3e4",
   "metadata": {},
   "source": [
    "# 🌎 Day 1 – Visualizing Global Warming\n",
    "### Introduction to Jupyter, Python, and Climate Data\n",
    "\n",
    "Welcome to Day 1! Today you'll take your first steps in data storytelling with Python. We'll use NASA's global temperature anomaly record to build a transparent, trustworthy line chart that tracks how the planet has warmed since 1880.\n",
    "\n",
    "👉 **Course rhythm for today:** learn a concept, try it right away, run a quick check, repeat. By the end you'll have a finished figure plus a reusable workflow for future days."
   ]
  },
  {
   "cell_type": "markdown",
   "id": "e686fcb4",
   "metadata": {},
   "source": [
    "### Data card — NASA GISTEMP Global Land-Ocean Temperature Index\n",
    "- **Source:** [NASA GISS Surface Temperature Analysis (GISTEMP)](https://data.giss.nasa.gov/gistemp)\n",
    "- **Temporal coverage:** 1880–present (monthly anomalies relative to 1951–1980)\n",
    "- **Spatial coverage:** Global land and ocean blended series\n",
    "- **Units:** Temperature anomaly (°C) relative to a 1951–1980 baseline\n",
    "- **Update cadence:** Monthly, revised as new observations arrive\n",
    "- **Processing notes:** NASA performs homogenization and combines land weather stations with sea-surface measurements. Missing values are flagged with `***`.\n",
    "- **Caveats:** Short-term variations can be noisy; annual means smooth weather variability but do not represent absolute temperature. Always cite the baseline and acknowledge uncertainty (~±0.05 °C recent decades)."
   ]
  },
  {
   "cell_type": "markdown",
   "id": "6788b9cb",
   "metadata": {},
   "source": [
    "### Preview: what you're building today\n",
    "The final visualization highlights the accelerating warming trend and calls out the most recent anomaly. Use it as your north star while you move through each step."
   ]
  },
  {
   "cell_type": "code",
   "execution_count": null,
   "id": "8a0107d6",
   "metadata": {
    "execution": {
     "iopub.execute_input": "2025-09-20T17:45:23.465762Z",
     "iopub.status.busy": "2025-09-20T17:45:23.465449Z",
     "iopub.status.idle": "2025-09-20T17:45:24.590739Z",
     "shell.execute_reply": "2025-09-20T17:45:24.589600Z"
    }
   },
   "outputs": [],
   "source": [
    "from pathlib import Path\n",
    "from warnings import warn\n",
    "\n",
    "import pandas as pd\n",
    "import matplotlib.pyplot as plt\n",
    "from IPython.display import Image, display\n",
    "\n",
    "CANDIDATES = [Path.cwd(), *Path.cwd().parents]\n",
    "for candidate in CANDIDATES:\n",
    "    if (candidate / \"data\").exists():\n",
    "        PROJECT_ROOT = candidate\n",
    "        break\n",
    "else:\n",
    "    raise FileNotFoundError(\"Couldn't find the project root containing a data/ folder.\")\n",
    "\n",
    "DATA_DIR = PROJECT_ROOT / \"data\"\n",
    "PLOTS_DIR = PROJECT_ROOT / \"plots\"\n",
    "PLOTS_DIR.mkdir(exist_ok=True)\n",
    "\n",
    "plt.rcParams.update({\n",
    "    \"figure.dpi\": 110,\n",
    "    \"axes.titlesize\": 16,\n",
    "    \"axes.labelsize\": 12,\n",
    "    \"xtick.labelsize\": 11,\n",
    "    \"ytick.labelsize\": 11,\n",
    "    \"axes.grid\": True,\n",
    "    \"grid.alpha\": 0.3,\n",
    "})\n",
    "\n",
    "COLORBLIND_FRIENDLY = [\"#2E86AB\", \"#F18F01\", \"#A23B72\", \"#C73E1D\", \"#2EC4B6\"]\n",
    "\n",
    "if (PLOTS_DIR / \"day01_solution_plot.png\").exists():\n",
    "    display(Image(filename=PLOTS_DIR / \"day01_solution_plot.png\", width=420))\n",
    "else:\n",
    "    print(\"Preview image not found; continue with the workflow.\")\n",
    "\n",
    "\n",
    "def load_data(csv_name: str, **read_kwargs) -> pd.DataFrame:\n",
    "    path = DATA_DIR / csv_name\n",
    "    df = pd.read_csv(path, **read_kwargs)\n",
    "    print(f\"Loaded {csv_name} → {df.shape[0]:,} rows × {df.shape[1]} columns.\")\n",
    "    return df\n",
    "\n",
    "\n",
    "def validate_columns(df: pd.DataFrame, required: list[str]) -> None:\n",
    "    missing = [col for col in required if col not in df.columns]\n",
    "    if missing:\n",
    "        warn(f\"Missing columns: {missing}\")\n",
    "    else:\n",
    "        print(\"✅ Columns look good:\", required)\n",
    "\n",
    "\n",
    "def expect_rows_between(df: pd.DataFrame, lower: int, upper: int) -> None:\n",
    "    rows = len(df)\n",
    "    if rows < lower or rows > upper:\n",
    "        warn(f\"Row count {rows:,} outside the expected range ({lower:,}–{upper:,}).\")\n",
    "    else:\n",
    "        print(f\"✅ Row count within expected range ({rows:,}).\")\n",
    "\n",
    "\n",
    "def quick_diagnostics(df: pd.DataFrame, name: str = \"DataFrame\") -> None:\n",
    "    print(f\"--- Quick check for {name} ---\")\n",
    "    print(\"Shape:\", df.shape)\n",
    "    print(\"Columns:\", list(df.columns))\n",
    "    print(\"Missing values:\", df.isna().sum())\n",
    "    display(df.head())\n",
    "\n",
    "\n",
    "def check_story_fields(**fields) -> None:\n",
    "    empty = [key for key, value in fields.items() if not str(value).strip()]\n",
    "    if empty:\n",
    "        warn(f\"These storytelling fields still need text: {', '.join(empty)}\")\n",
    "    else:\n",
    "        print(\"✅ Story scaffolding complete. Ready to plot!\")\n",
    "\n",
    "\n",
    "def baseline_style():\n",
    "    plt.style.use(\"seaborn-v0_8-whitegrid\")\n",
    "    plt.rcParams[\"axes.facecolor\"] = \"#F8FAFC\"\n",
    "\n",
    "\n",
    "def save_last_fig(filename: str) -> None:\n",
    "    path = PLOTS_DIR / filename\n",
    "    plt.savefig(path, dpi=300, bbox_inches=\"tight\")\n",
    "    print(f\"Figure saved to {path.relative_to(PROJECT_ROOT)}\")\n"
   ]
  },
  {
   "cell_type": "markdown",
   "id": "daa49f34",
   "metadata": {},
   "source": [
    "## Step 1. Load and preview the NASA temperature anomalies\n",
    "We skip the first metadata row, treat `***` as missing, and keep monthly anomaly columns. Run the quick diagnostics right after loading."
   ]
  },
  {
   "cell_type": "code",
   "execution_count": null,
   "id": "0a2d963a",
   "metadata": {
    "execution": {
     "iopub.execute_input": "2025-09-20T17:45:24.594008Z",
     "iopub.status.busy": "2025-09-20T17:45:24.593609Z",
     "iopub.status.idle": "2025-09-20T17:45:24.625673Z",
     "shell.execute_reply": "2025-09-20T17:45:24.624483Z"
    }
   },
   "outputs": [],
   "source": [
    "raw_temps = load_data(\n",
    "    \"GLB.Ts+dSST.csv\",\n",
    "    skiprows=1,\n",
    "    na_values=\"***\"\n",
    ")\n",
    "quick_diagnostics(raw_temps, name=\"raw NASA anomalies\")\n"
   ]
  },
  {
   "cell_type": "markdown",
   "id": "9e490a1f",
   "metadata": {},
   "source": [
    "✅ **Checkpoint:** You should see 1880–2024 (or latest year) with columns for each month plus derived annual statistics. Expect roughly 170+ rows."
   ]
  },
  {
   "cell_type": "markdown",
   "id": "6d4a81f0",
   "metadata": {},
   "source": [
    "## Step 2. Focus on the annual mean anomaly\n",
    "Students often forget to rename columns or convert units. We tidy the table to two columns: year and annual anomaly (°C)."
   ]
  },
  {
   "cell_type": "code",
   "execution_count": null,
   "id": "1c697437",
   "metadata": {
    "execution": {
     "iopub.execute_input": "2025-09-20T17:45:24.628943Z",
     "iopub.status.busy": "2025-09-20T17:45:24.628659Z",
     "iopub.status.idle": "2025-09-20T17:45:24.645562Z",
     "shell.execute_reply": "2025-09-20T17:45:24.644436Z"
    }
   },
   "outputs": [],
   "source": [
    "annual_anomaly = (\n",
    "    raw_temps[[\"Year\", \"J-D\"]]\n",
    "    .dropna()\n",
    "    .rename(columns={\"J-D\": \"anomaly_c\"})\n",
    ")\n",
    "annual_anomaly[\"Year\"] = annual_anomaly[\"Year\"].astype(int)\n",
    "annual_anomaly[\"anomaly_c\"] = pd.to_numeric(annual_anomaly[\"anomaly_c\"], errors=\"coerce\")\n",
    "\n",
    "validate_columns(annual_anomaly, [\"Year\", \"anomaly_c\"])\n",
    "expect_rows_between(annual_anomaly, 140, 200)\n",
    "quick_diagnostics(annual_anomaly, name=\"annual anomaly series\")\n"
   ]
  },
  {
   "cell_type": "markdown",
   "id": "4519902c",
   "metadata": {},
   "source": [
    "### Mini self-diagnostic\n",
    "If the anomaly column is `object` type or contains NaNs, revisit the conversion step above."
   ]
  },
  {
   "cell_type": "markdown",
   "id": "cd0ae586",
   "metadata": {},
   "source": [
    "## Step 3. Smooth with a 5-year rolling mean for context\n",
    "Short-term swings can distract from the long-term pattern. We'll add a rolling mean and compute anomaly change since 1880."
   ]
  },
  {
   "cell_type": "code",
   "execution_count": null,
   "id": "1907abc2",
   "metadata": {
    "execution": {
     "iopub.execute_input": "2025-09-20T17:45:24.648760Z",
     "iopub.status.busy": "2025-09-20T17:45:24.648427Z",
     "iopub.status.idle": "2025-09-20T17:45:24.667011Z",
     "shell.execute_reply": "2025-09-20T17:45:24.665854Z"
    }
   },
   "outputs": [],
   "source": [
    "annual_anomaly = annual_anomaly.sort_values(\"Year\").reset_index(drop=True)\n",
    "annual_anomaly[\"anomaly_5yr\"] = annual_anomaly[\"anomaly_c\"].rolling(window=5, center=True).mean()\n",
    "\n",
    "change_since_start = annual_anomaly[\"anomaly_c\"].iloc[-1] - annual_anomaly[\"anomaly_c\"].iloc[0]\n",
    "print(f\"Change from {annual_anomaly['Year'].iloc[0]} to {annual_anomaly['Year'].iloc[-1]}: {change_since_start:.2f} °C\")\n",
    "\n",
    "quick_diagnostics(annual_anomaly.tail(), name=\"recent anomalies\")\n"
   ]
  },
  {
   "cell_type": "markdown",
   "id": "475fe8c3",
   "metadata": {},
   "source": [
    "📝 **Micro-rubric reminder:** Reward yourself (or your learners) for documenting how smoothing changes the story, not just for finishing the plot."
   ]
  },
  {
   "cell_type": "markdown",
   "id": "dca06ea8",
   "metadata": {},
   "source": [
    "## Step 4. Draft your story scaffold\n",
    "Use the Claim → Evidence → Visual → Takeaway template. These strings feed directly into the chart and the caption block."
   ]
  },
  {
   "cell_type": "code",
   "execution_count": null,
   "id": "4ae69284",
   "metadata": {
    "execution": {
     "iopub.execute_input": "2025-09-20T17:45:24.671419Z",
     "iopub.status.busy": "2025-09-20T17:45:24.671034Z",
     "iopub.status.idle": "2025-09-20T17:45:24.677252Z",
     "shell.execute_reply": "2025-09-20T17:45:24.676205Z"
    }
   },
   "outputs": [],
   "source": [
    "TITLE = \"Global temperatures are nearly 1.3 °C warmer than the late 1800s\"\n",
    "SUBTITLE = \"NASA GISTEMP global land–ocean temperature anomaly relative to 1951–1980 baseline\"\n",
    "ANNOTATION = \"2024's anomaly is roughly {annual_anomaly['anomaly_c'].iloc[-1]:.2f} °C — more than double the warming seen in the mid-20th century.\"\n",
    "SOURCE = \"Source: NASA GISS Surface Temperature Analysis (GISTEMP v4)\"\n",
    "UNITS = \"Units: Temperature anomaly (°C) relative to 1951–1980\"\n",
    "\n",
    "check_story_fields(\n",
    "    TITLE=TITLE,\n",
    "    SUBTITLE=SUBTITLE,\n",
    "    ANNOTATION=ANNOTATION,\n",
    "    SOURCE=SOURCE,\n",
    "    UNITS=UNITS,\n",
    ")\n"
   ]
  },
  {
   "cell_type": "markdown",
   "id": "a403b636",
   "metadata": {},
   "source": [
    "## Step 5. Visualize with context and annotation\n",
    "We combine the raw annual anomalies with the rolling mean, highlight the most recent year, and annotate the headline takeaway."
   ]
  },
  {
   "cell_type": "code",
   "execution_count": null,
   "id": "f42202c4",
   "metadata": {
    "execution": {
     "iopub.execute_input": "2025-09-20T17:45:24.680124Z",
     "iopub.status.busy": "2025-09-20T17:45:24.679827Z",
     "iopub.status.idle": "2025-09-20T17:45:25.037460Z",
     "shell.execute_reply": "2025-09-20T17:45:25.035404Z"
    }
   },
   "outputs": [],
   "source": [
    "baseline_style()\n",
    "fig, ax = plt.subplots(figsize=(9, 5.5))\n",
    "ax.plot(\n",
    "    annual_anomaly[\"Year\"],\n",
    "    annual_anomaly[\"anomaly_c\"],\n",
    "    color=COLORBLIND_FRIENDLY[0],\n",
    "    linewidth=1.2,\n",
    "    label=\"Annual anomaly\"\n",
    ")\n",
    "ax.plot(\n",
    "    annual_anomaly[\"Year\"],\n",
    "    annual_anomaly[\"anomaly_5yr\"],\n",
    "    color=COLORBLIND_FRIENDLY[1],\n",
    "    linewidth=2.4,\n",
    "    label=\"5-year rolling mean\"\n",
    ")\n",
    "\n",
    "recent_year = annual_anomaly.iloc[-1]\n",
    "ax.scatter(recent_year[\"Year\"], recent_year[\"anomaly_c\"], color=COLORBLIND_FRIENDLY[2], zorder=5)\n",
    "ax.text(\n",
    "    recent_year[\"Year\"],\n",
    "    recent_year[\"anomaly_c\"] + 0.1,\n",
    "    ANNOTATION,\n",
    "    color=COLORBLIND_FRIENDLY[2],\n",
    "    fontsize=11,\n",
    "    ha=\"right\"\n",
    ")\n",
    "\n",
    "title_text = TITLE + \"\\n\" + SUBTITLE\n",
    "ax.set_title(title_text, loc=\"left\", pad=18)\n",
    "ax.set_ylabel(UNITS)\n",
    "ax.set_xlabel(\"Year\")\n",
    "ax.axhline(0, color=\"#555\", linewidth=1, linestyle=\"--\", alpha=0.6)\n",
    "ax.legend(frameon=False)\n",
    "ax.set_xlim(annual_anomaly[\"Year\"].min(), annual_anomaly[\"Year\"].max())\n",
    "\n",
    "caption_text = SOURCE + \"\\n\" + \"Claim → Evidence → Visual → Takeaway: Warming trend is clear, supported by NASA's century-long record. The chart uses colorblind-safe hues and avoids dual axes.\"\n",
    "fig.text(0.01, -0.08, caption_text, fontsize=10)\n",
    "plt.show()\n"
   ]
  },
  {
   "cell_type": "markdown",
   "id": "0bf6ac17",
   "metadata": {},
   "source": [
    "### Accessibility checklist\n",
    "- Color palette passes colorblind-friendly checks.\n",
    "- Fonts ≥ 10 pt for readability.\n",
    "- Annotation text explains why the highlighted point matters.\n",
    "- Units and source are explicit beneath the plot."
   ]
  },
  {
   "cell_type": "code",
   "execution_count": null,
   "id": "1a432471",
   "metadata": {
    "execution": {
     "iopub.execute_input": "2025-09-20T17:45:25.042510Z",
     "iopub.status.busy": "2025-09-20T17:45:25.042160Z",
     "iopub.status.idle": "2025-09-20T17:45:25.248807Z",
     "shell.execute_reply": "2025-09-20T17:45:25.247760Z"
    }
   },
   "outputs": [],
   "source": [
    "save_last_fig(\"day01_solution_plot.png\")\n"
   ]
  },
  {
   "cell_type": "markdown",
   "id": "97d0076c",
   "metadata": {},
   "source": [
    "## Step 6. Reflect on limitations and uncertainty\n",
    "- Baseline choice (1951–1980) affects the numeric anomaly but not the trend.\n",
    "- Data combine land stations and sea-surface records with known sparse coverage in early years.\n",
    "- Smoothing clarifies the long-term signal yet can hide abrupt events (e.g., volcanic eruptions).\n",
    "- Always cite NASA GISTEMP version and update date when sharing publicly."
   ]
  }
 ],
 "metadata": {
  "language_info": {
   "codemirror_mode": {
    "name": "ipython",
    "version": 3
   },
   "file_extension": ".py",
   "mimetype": "text/x-python",
   "name": "python",
   "nbconvert_exporter": "python",
   "pygments_lexer": "ipython3",
   "version": "3.11.12"
  }
 },
 "nbformat": 4,
 "nbformat_minor": 5
}