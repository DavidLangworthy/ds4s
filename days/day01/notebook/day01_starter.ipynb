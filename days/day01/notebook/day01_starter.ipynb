{
 "cells": [
  {
   "cell_type": "markdown",
   "id": "0b1714d0",
   "metadata": {},
   "source": [
    "## 🔗 Open This Notebook in Google Colab\n",
    "\n",
    "[![Open In Colab](https://colab.research.google.com/assets/colab-badge.svg)](https://colab.research.google.com/github/DavidLangworthy/ds4s/blob/main/days/day01/notebook/day01_starter.ipynb)"
   ]
  },
  {
   "cell_type": "markdown",
   "id": "a0ce885f",
   "metadata": {},
   "source": [
    "# 🌎 Day 1 – Tracking Global Temperature Change\n",
    "Welcome! Today you will build confidence exploring climate data one small step at a time."
   ]
  },
  {
   "cell_type": "markdown",
   "id": "2305c21d",
   "metadata": {},
   "source": [
    "## 🧾 Data Card – NASA GISTEMP Global Mean\n",
    "- **Source:** [NASA Goddard Institute for Space Studies (GISTEMP v4)](https://data.giss.nasa.gov/gistemp/)\n",
    "- **Temporal coverage:** 1880–present (annual).\n",
    "- **Units:** Global surface temperature anomaly in °C relative to 1951–1980 baseline.\n",
    "- **Update cadence:** Monthly. Last downloaded 2024-04.\n",
    "- **Method notes:** Combines land and sea temperature records with homogenization adjustments.\n",
    "- **Caveats:** Early years have wider uncertainty; anomalies use a historical baseline rather than absolute temperatures."
   ]
  },
  {
   "cell_type": "markdown",
   "id": "6a9e76cb",
   "metadata": {},
   "source": [
    "## 🧭 Story Scaffold\n",
    "Use this template as you work toward the final chart.\n",
    "- **Claim:** What change or pattern are you highlighting?\n",
    "- **Evidence:** Which columns and summary stats support it?\n",
    "- **Visual:** Which chart type and encodings communicate it clearly?\n",
    "- **Takeaway:** Why does it matter, and what uncertainty should viewers keep in mind?"
   ]
  },
  {
   "cell_type": "code",
   "execution_count": null,
   "id": "b7d10f28",
   "metadata": {},
   "outputs": [],
   "source": [
    "from __future__ import annotations\n",
    "\n",
    "from pathlib import Path\n",
    "import sys\n",
    "\n",
    "import matplotlib.pyplot as plt\n",
    "import pandas as pd\n",
    "\n",
    "for candidate in [Path.cwd(), Path.cwd().parent, Path.cwd().parent.parent]:\n",
    "    utils_path = candidate / \"utils.py\"\n",
    "    if utils_path.exists():\n",
    "        if str(candidate) not in sys.path:\n",
    "            sys.path.insert(0, str(candidate))\n",
    "        break\n",
    "else:\n",
    "    raise FileNotFoundError(\"Unable to locate utils.py. Did you download the full project?\")\n",
    "\n",
    "from utils import (\n",
    "    baseline_style,\n",
    "    diagnose_dataframe,\n",
    "    expect_rows_between,\n",
    "    load_data,\n",
    "    save_last_fig,\n",
    "    validate_columns,\n",
    "    validate_story_elements,\n",
    ")\n",
    "\n",
    "baseline_style()\n"
   ]
  },
  {
   "cell_type": "code",
   "execution_count": null,
   "id": "12d210be",
   "metadata": {},
   "outputs": [],
   "source": [
    "# Example: plotting a short time series with an annotation\n",
    "example_years = pd.Series(range(2018, 2025))\n",
    "example_values = pd.Series([0.42, 0.44, 0.47, 0.52, 0.61, 0.63, 0.72])\n",
    "example_df = pd.DataFrame({\"Year\": example_years, \"Anomaly\": example_values})\n",
    "\n",
    "fig, ax = plt.subplots(figsize=(6, 3))\n",
    "ax.plot(example_df[\"Year\"], example_df[\"Anomaly\"], marker=\"o\", color=\"#2ca02c\")\n",
    "ax.annotate(\n",
    "    \"Example annotation\",\n",
    "    xy=(example_df[\"Year\"].iloc[-1], example_df[\"Anomaly\"].iloc[-1]),\n",
    "    xytext=(2019.5, 0.75),\n",
    "    arrowprops={\"arrowstyle\": \"->\", \"color\": \"#2ca02c\"},\n",
    ")\n",
    "ax.set_title(\"Example: keep annotations concise\")\n",
    "ax.set_xlabel(\"Year\")\n",
    "ax.set_ylabel(\"Anomaly (°C)\")\n",
    "plt.close(fig)\n",
    "fig\n"
   ]
  },
  {
   "cell_type": "code",
   "execution_count": null,
   "id": "5cc6496f",
   "metadata": {},
   "outputs": [],
   "source": [
    "# Step 1 – Load the NASA temperature anomalies\n",
    "temperature_raw = load_data(\n",
    "    \"GLB.Ts+dSST.csv\",\n",
    "    skiprows=1,\n",
    "    usecols=[0, 13],\n",
    "    names=[\"Year\", \"TempAnomaly\"],\n",
    "    header=0,\n",
    ")\n",
    "\n",
    "# TODO: Load the GISTEMP dataset into temperature_raw using load_data\n"
   ]
  },
  {
   "cell_type": "markdown",
   "id": "ae808256",
   "metadata": {},
   "source": [
    "<details>\n",
    "<summary>Need a nudge loading the data?</summary>\n",
    "<ul>\n",
    "<li>Use <code>load_data</code> so the code works locally and in Colab.</li>\n",
    "<li>The annual mean lives in column index 13 of the CSV.</li>\n",
    "<li>Be sure to name the columns <code>Year</code> and <code>TempAnomaly</code>.</li>\n",
    "</ul>\n",
    "</details>"
   ]
  },
  {
   "cell_type": "code",
   "execution_count": null,
   "id": "9498d9e8",
   "metadata": {},
   "outputs": [],
   "source": [
    "# Step 2 – Clean and filter the table\n",
    "temperature_clean = (\n",
    "    temperature_raw.assign(\n",
    "        Year=lambda frame: pd.to_numeric(frame[\"Year\"], errors=\"coerce\"),\n",
    "        TempAnomaly=lambda frame: pd.to_numeric(frame[\"TempAnomaly\"], errors=\"coerce\"),\n",
    "    )\n",
    "    .dropna(subset=[\"Year\", \"TempAnomaly\"])\n",
    "    .astype({\"Year\": int})\n",
    "    .query(\"Year >= 1880\")\n",
    "    .reset_index(drop=True)\n",
    ")\n",
    "\n",
    "# TODO: Convert the Year and TempAnomaly columns to numeric and filter from 1880 onward\n"
   ]
  },
  {
   "cell_type": "markdown",
   "id": "aade4b18",
   "metadata": {},
   "source": [
    "<details>\n",
    "<summary>Need help cleaning?</summary>\n",
    "<ul>\n",
    "<li><code>pd.to_numeric(..., errors=\"coerce\")</code> turns bad strings into <code>NaN</code>.</li>\n",
    "<li>After coercing, drop rows with missing values.</li>\n",
    "<li>Limit the analysis to years 1880 and later for a consistent record.</li>\n",
    "</ul>\n",
    "</details>"
   ]
  },
  {
   "cell_type": "code",
   "execution_count": null,
   "id": "e50b09dc",
   "metadata": {},
   "outputs": [],
   "source": [
    "# Step 3 – Quick diagnostics\n",
    "diagnose_dataframe(temperature_clean, name=\"Global temperature anomalies\")\n",
    "validate_columns(temperature_clean, [\"Year\", \"TempAnomaly\"], name=\"temperature_clean\")\n",
    "expect_rows_between(temperature_clean, 140, 200, name=\"temperature_clean\")\n"
   ]
  },
  {
   "cell_type": "code",
   "execution_count": null,
   "id": "da94398e",
   "metadata": {},
   "outputs": [],
   "source": [
    "# Step 4 – Create a smoothed reference line\n",
    "temperature_with_trend = temperature_clean.assign(\n",
    "    Rolling5yr=lambda frame: frame[\"TempAnomaly\"].rolling(window=5, center=True).mean()\n",
    ")\n",
    "\n",
    "# TODO: Compute a centered 5-year rolling mean called Rolling5yr\n"
   ]
  },
  {
   "cell_type": "markdown",
   "id": "dfda6d3d",
   "metadata": {},
   "source": [
    "<details>\n",
    "<summary>Rolling mean hint</summary>\n",
    "<ul>\n",
    "<li>Start with <code>frame[\"TempAnomaly\"].rolling(window=5, center=True)</code>.</li>\n",
    "<li><code>.mean()</code> produces the smoothed series.</li>\n",
    "<li>Assign it into a new column named <code>Rolling5yr</code>.</li>\n",
    "</ul>\n",
    "</details>"
   ]
  },
  {
   "cell_type": "code",
   "execution_count": null,
   "id": "fc7cd4f7",
   "metadata": {},
   "outputs": [],
   "source": [
    "# Step 5 – Story metadata (fill these before plotting)\n",
    "TITLE = \"Global Surface Temperature Anomalies (1880–2024)\"\n",
    "SUBTITLE = \"NASA GISTEMP v4; baseline 1951–1980\"\n",
    "ANNOTATION = \"2023–2024 anomalies top the record by a large margin.\"\n",
    "SOURCE = \"NASA GISS (downloaded 2024-04-15)\"\n",
    "UNITS = \"°C relative to 1951–1980 average\"\n",
    "\n",
    "validate_story_elements(\n",
    "    {\n",
    "        \"TITLE\": TITLE,\n",
    "        \"SUBTITLE\": SUBTITLE,\n",
    "        \"ANNOTATION\": ANNOTATION,\n",
    "        \"SOURCE\": SOURCE,\n",
    "        \"UNITS\": UNITS,\n",
    "    }\n",
    ")\n",
    "\n",
    "# TODO: Customize the five storytelling strings so none are blank\n"
   ]
  },
  {
   "cell_type": "code",
   "execution_count": null,
   "id": "355b1e02",
   "metadata": {},
   "outputs": [],
   "source": [
    "# Step 6 – Build the annotated line chart\n",
    "fig, ax = plt.subplots(figsize=(10, 5))\n",
    "ax.plot(\n",
    "    temperature_with_trend[\"Year\"],\n",
    "    temperature_with_trend[\"TempAnomaly\"],\n",
    "    label=\"Annual anomaly\",\n",
    "    color=\"#d62728\",\n",
    "    marker=\"o\",\n",
    "    markersize=3,\n",
    ")\n",
    "ax.plot(\n",
    "    temperature_with_trend[\"Year\"],\n",
    "    temperature_with_trend[\"Rolling5yr\"],\n",
    "    label=\"5-year rolling average\",\n",
    "    color=\"#1f77b4\",\n",
    "    linewidth=2,\n",
    ")\n",
    "ax.axhline(0, color=\"#333333\", linestyle=\"--\", linewidth=1)\n",
    "\n",
    "latest = temperature_with_trend.dropna(subset=[\"TempAnomaly\"]).iloc[-1]\n",
    "ax.annotate(\n",
    "    ANNOTATION,\n",
    "    xy=(latest[\"Year\"], latest[\"TempAnomaly\"]),\n",
    "    xytext=(latest[\"Year\"] - 12, latest[\"TempAnomaly\"] + 0.4),\n",
    "    arrowprops={\"arrowstyle\": \"->\", \"color\": \"#444444\"},\n",
    "    fontsize=11,\n",
    ")\n",
    "\n",
    "ax.set_title(TITLE)\n",
    "ax.set_xlabel(f\"Year — {SUBTITLE}\")\n",
    "ax.set_ylabel(f\"Temperature anomaly ({UNITS})\")\n",
    "ax.legend()\n",
    "ax.text(0, -0.18, f\"Source: {SOURCE}\", transform=ax.transAxes)\n",
    "ax.set_ylim(\n",
    "    temperature_with_trend[\"TempAnomaly\"].min() - 0.4,\n",
    "    temperature_with_trend[\"TempAnomaly\"].max() + 0.4,\n",
    ")\n",
    "fig.tight_layout()\n",
    "temperature_fig = fig\n",
    "fig\n",
    "\n",
    "# TODO: Plot both the raw anomalies and the rolling mean with clear annotations\n"
   ]
  },
  {
   "cell_type": "code",
   "execution_count": null,
   "id": "ef68ba1d",
   "metadata": {},
   "outputs": [],
   "source": [
    "# Step 7 – Final review and (optional) save\n",
    "validate_story_elements(\n",
    "    {\n",
    "        \"TITLE\": TITLE,\n",
    "        \"SUBTITLE\": SUBTITLE,\n",
    "        \"ANNOTATION\": ANNOTATION,\n",
    "        \"SOURCE\": SOURCE,\n",
    "        \"UNITS\": UNITS,\n",
    "    }\n",
    ")\n",
    "save_last_fig(\"day01_global_temperature.png\", fig=temperature_fig)\n"
   ]
  }
 ],
 "metadata": {},
 "nbformat": 4,
 "nbformat_minor": 5
}