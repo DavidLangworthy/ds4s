{
 "cells": [
  {
   "cell_type": "markdown",
   "id": "54437903",
   "metadata": {},
   "source": [
    "# 🧭 Day 5 · Capstone Storyboard\n",
    "Students weave together the week’s skills to produce a polished CO₂ trend narrative with checkpoints for integrity and storytelling."
   ]
  },
  {
   "cell_type": "markdown",
   "id": "ecce997c",
   "metadata": {},
   "source": [
    "## 🔄 How to Use This Solution\n",
    "- Treat each loop as a milestone: prep data, construct baseline visual, then add narrative layers.\n",
    "- Encourage students to draft captions using the Claim → Evidence → Visual → Takeaway scaffold before final polish."
   ]
  },
  {
   "cell_type": "markdown",
   "id": "783e27da",
   "metadata": {},
   "source": [
    "> ### 🗂️ Data Card — Global CO₂ Emissions (Global Carbon Project)\n",
    "> - **Source:** Our World in Data compilation of Global Carbon Project historical emissions.\n",
    "> - **Temporal coverage:** 1750–2022.\n",
    "> - **Metric:** Annual fossil CO₂ emissions (million tonnes of CO₂).\n",
    "> - **Refresh cadence:** Annual update; retrieved January 2024.\n",
    "> - **Caveats:** Excludes land-use change emissions in this series; values are global aggregates.\n",
    "> - **Ethics & framing:** Emphasise cumulative responsibility and the difference between annual flow vs. cumulative stock."
   ]
  },
  {
   "cell_type": "code",
   "execution_count": null,
   "id": "1531c2ef",
   "metadata": {},
   "outputs": [],
   "source": [
    "\n",
    "from __future__ import annotations\n",
    "from pathlib import Path\n",
    "from typing import Mapping, Sequence\n",
    "\n",
    "import numpy as np\n",
    "import pandas as pd\n",
    "import seaborn as sns\n",
    "import matplotlib.pyplot as plt\n",
    "from IPython.display import display\n",
    "\n",
    "DATA_DIR = Path.cwd() / \"data\"\n",
    "PLOTS_DIR = Path.cwd() / \"plots\"\n",
    "PLOTS_DIR.mkdir(parents=True, exist_ok=True)\n",
    "\n",
    "sns.set_theme(style=\"whitegrid\", context=\"notebook\", palette=\"colorblind\")\n",
    "plt.rcParams.update({\n",
    "    \"figure.dpi\": 120,\n",
    "    \"axes.titlesize\": 18,\n",
    "    \"axes.labelsize\": 13,\n",
    "    \"axes.titleweight\": \"semibold\",\n",
    "    \"axes.grid\": True,\n",
    "})\n",
    "\n",
    "\n",
    "def baseline_style() -> None:\n",
    "    \"\"\"Reset plot style to the shared course defaults.\"\"\"\n",
    "    sns.set_theme(style=\"whitegrid\", context=\"notebook\", palette=\"colorblind\")\n",
    "    plt.rcParams.update({\n",
    "        \"axes.grid\": True,\n",
    "        \"axes.spines.top\": False,\n",
    "        \"axes.spines.right\": False,\n",
    "        \"figure.dpi\": 120,\n",
    "        \"font.size\": 12,\n",
    "    })\n",
    "\n",
    "\n",
    "def load_data(path: Path, *, read_kwargs: Mapping[str, object] | None = None) -> pd.DataFrame:\n",
    "    read_kwargs = dict(read_kwargs or {})\n",
    "    df = pd.read_csv(path, **read_kwargs)\n",
    "    print(f\"✅ Loaded {path.name} with shape {df.shape}\")\n",
    "    return df\n",
    "\n",
    "\n",
    "def validate_columns(df: pd.DataFrame, required: Sequence[str]) -> None:\n",
    "    missing = [col for col in required if col not in df.columns]\n",
    "    if missing:\n",
    "        raise ValueError(f\"Missing columns: {missing}\")\n",
    "    print(\"✅ Column check passed:\", \", \".join(required))\n",
    "\n",
    "\n",
    "def expect_rows_between(df: pd.DataFrame, lower: int, upper: int) -> None:\n",
    "    rows = len(df)\n",
    "    if not (lower <= rows <= upper):\n",
    "        raise ValueError(f\"Expected between {lower} and {upper} rows, got {rows}\")\n",
    "    print(f\"✅ Row count within expected range ({rows} rows)\")\n",
    "\n",
    "\n",
    "def quick_diagnose(df: pd.DataFrame, *, label: str = \"Data preview\", n: int = 5) -> None:\n",
    "    print(f\"\n",
    "🔍 {label}\")\n",
    "    display(df.head(n))\n",
    "    numeric = df.select_dtypes(include=\"number\")\n",
    "    if not numeric.empty:\n",
    "        display(numeric.describe().T)\n",
    "    nulls = df.isna().sum()\n",
    "    if nulls.any():\n",
    "        print(\"⚠️ Null values detected:\n",
    "\", nulls[nulls > 0])\n",
    "    else:\n",
    "        print(\"✅ No null values detected in this slice.\")\n",
    "\n",
    "\n",
    "def accessibility_check(ax: plt.Axes) -> None:\n",
    "    title_ok = bool(ax.get_title())\n",
    "    label_ok = bool(ax.get_xlabel()) and bool(ax.get_ylabel())\n",
    "    if not (title_ok and label_ok):\n",
    "        raise ValueError(\"Add a descriptive title and axis labels before proceeding.\")\n",
    "    xlabels = [tick.get_text() for tick in ax.get_xticklabels()]\n",
    "    if len(xlabels) > 12:\n",
    "        ax.tick_params(axis='x', labelrotation=35)\n",
    "    print(\"✅ Accessibility check: title, labels, and readable ticks confirmed.\")\n",
    "\n",
    "\n",
    "def annotate_latest_point(ax: plt.Axes, x: float, y: float, text: str) -> None:\n",
    "    ax.scatter([x], [y], color=ax.lines[0].get_color(), s=60, zorder=5)\n",
    "    ax.annotate(\n",
    "        text,\n",
    "        xy=(x, y),\n",
    "        xytext=(0.96, 0.85),\n",
    "        textcoords=\"axes fraction\",\n",
    "        ha=\"right\",\n",
    "        arrowprops={\"arrowstyle\": \"->\", \"color\": \"#333\"},\n",
    "        fontsize=11,\n",
    "    )\n",
    "\n",
    "\n",
    "def require_story_elements(story: Mapping[str, str]) -> None:\n",
    "    required = [\"claim\", \"evidence\", \"visual\", \"takeaway\", \"source\", \"units\"]\n",
    "    missing = [key for key in required if not story.get(key, \"\").strip()]\n",
    "    if missing:\n",
    "        raise ValueError(f\"Fill in the storytelling scaffold: missing {missing}\")\n",
    "    print(\"✅ Story scaffold complete.\")\n",
    "\n",
    "\n",
    "def save_last_fig(filename: str, fig: plt.Figure | None = None) -> None:\n",
    "    fig = fig or plt.gcf()\n",
    "    if not fig.axes:\n",
    "        raise ValueError(\"No Matplotlib figure found to save.\")\n",
    "    output_path = PLOTS_DIR / filename\n",
    "    fig.savefig(output_path, bbox_inches=\"tight\")\n",
    "    print(f\"💾 Figure saved to {output_path.relative_to(Path.cwd())}\")\n"
   ]
  },
  {
   "cell_type": "markdown",
   "id": "2dc96e2f",
   "metadata": {},
   "source": [
    "## Loop 1 · Load & Inspect\n",
    "Goal: load the CO₂ series, clean column names, and confirm coverage before deriving any metrics.\n",
    "\n",
    "✅ **You should see:** 273 rows (years 1750–2022) with no nulls."
   ]
  },
  {
   "cell_type": "code",
   "execution_count": null,
   "id": "99cf69b3",
   "metadata": {},
   "outputs": [],
   "source": [
    "\n",
    "baseline_style()\n",
    "\n",
    "co2 = load_data(DATA_DIR / \"global_co2.csv\")\n",
    "validate_columns(co2, [\"Year\", \"CO2\"])\n",
    "expect_rows_between(co2, 250, 300)\n",
    "quick_diagnose(co2.head(), label=\"CO₂ head\")\n",
    "quick_diagnose(co2.tail(), label=\"CO₂ tail\")\n",
    "\n",
    "co2 = co2.assign(Year=lambda df: df[\"Year\"].astype(int), co2_mt=lambda df: df[\"CO2\"].astype(float))\n"
   ]
  },
  {
   "cell_type": "markdown",
   "id": "379b1265",
   "metadata": {},
   "source": [
    "## Loop 2 · Derive Helper Metrics\n",
    "Goal: compute rolling means and cumulative totals to give students narrative options.\n",
    "\n",
    "✅ **You should see:** Columns for five-year rolling mean and cumulative emissions."
   ]
  },
  {
   "cell_type": "code",
   "execution_count": null,
   "id": "a021801c",
   "metadata": {},
   "outputs": [],
   "source": [
    "\n",
    "co2 = co2.assign(\n",
    "    co2_5yr_avg=lambda df: df[\"co2_mt\"].rolling(window=5, min_periods=1).mean(),\n",
    "    co2_cumulative=lambda df: df[\"co2_mt\"].cumsum(),\n",
    ")\n",
    "quick_diagnose(co2.tail(), label=\"Derived metrics tail\")\n"
   ]
  },
  {
   "cell_type": "markdown",
   "id": "cc1355cc",
   "metadata": {},
   "source": [
    "## Loop 3 · Final Story Figure\n",
    "Goal: produce a dual-panel figure highlighting annual emissions and cumulative load with full storytelling scaffold."
   ]
  },
  {
   "cell_type": "code",
   "execution_count": null,
   "id": "a24fa427",
   "metadata": {},
   "outputs": [],
   "source": [
    "\n",
    "TITLE = \"Global CO₂ Emissions Hit New Highs\"\n",
    "SUBTITLE = \"Annual fossil CO₂ emissions and cumulative total, 1750–2022\"\n",
    "SOURCE = \"Source: Global Carbon Project via Our World in Data (downloaded Jan 2024)\"\n",
    "UNITS = \"Million tonnes of CO₂\"\n",
    "\n",
    "story = {\n",
    "    \"claim\": \"Annual CO₂ emissions have grown exponentially, pushing the cumulative total past 1.7 trillion tonnes.\",\n",
    "    \"evidence\": f\"Emissions reached {co2.loc[co2['Year']==2022, 'co2_mt'].item():,.0f} Mt in 2022—over 70× higher than in 1850.\",\n",
    "    \"visual\": \"Dual-panel line chart showing annual emissions and cumulative total.\",\n",
    "    \"takeaway\": \"Stabilising climate requires bending the annual curve down; cumulative emissions already lock in significant warming.\",\n",
    "    \"source\": SOURCE,\n",
    "    \"units\": UNITS,\n",
    "}\n",
    "require_story_elements(story)\n",
    "\n",
    "fig, (ax1, ax2) = plt.subplots(2, 1, figsize=(12, 9), sharex=True)\n",
    "ax1.plot(co2[\"Year\"], co2[\"co2_mt\"], linewidth=2.2)\n",
    "ax1.set_ylabel(\"Annual emissions (Mt CO₂)\")\n",
    "annotate_latest_point(ax1, 2022, co2.loc[co2[\"Year\"] == 2022, \"co2_mt\"].item(), \"2022 high\")\n",
    "accessibility_check(ax1)\n",
    "\n",
    "ax2.plot(co2[\"Year\"], co2[\"co2_cumulative\"], linewidth=2.2, color=sns.color_palette()[1])\n",
    "ax2.set_ylabel(\"Cumulative emissions (Mt CO₂)\")\n",
    "ax2.set_xlabel(\"Year\")\n",
    "accessibility_check(ax2)\n",
    "\n",
    "fig.suptitle(f\"{TITLE}\n",
    "{SUBTITLE}\")\n",
    "fig.text(0.01, 0.01, SOURCE, fontsize=9, color=\"#555\")\n",
    "fig.tight_layout(rect=[0, 0.03, 1, 0.97])\n",
    "\n",
    "last_fig = fig\n",
    "plt.show()\n",
    "\n",
    "display(pd.DataFrame([story]).T.rename(columns={0: \"Story Scaffold\"}))\n"
   ]
  },
  {
   "cell_type": "markdown",
   "id": "8b729f86",
   "metadata": {},
   "source": [
    "## Loop 4 · Capstone Reflection\n",
    "Suggested prompts:\n",
    "- What policy levers target the annual curve vs. the cumulative curve?\n",
    "- How might you integrate a third panel (e.g., per capita emissions) as an extension?\n",
    "- Draft an accompanying narrative paragraph using Claim → Evidence → Visual → Takeaway."
   ]
  },
  {
   "cell_type": "code",
   "execution_count": null,
   "id": "827d0f84",
   "metadata": {},
   "outputs": [],
   "source": [
    "save_last_fig(\"day05_solution_plot.png\", fig=last_fig)"
   ]
  }
 ],
 "metadata": {
  "colab": {
   "authorship_tag": "ABX9TyNrPwOkZwNEizIssfpEdkJP",
   "provenance": []
  },
  "kernelspec": {
   "display_name": "Python 3",
   "name": "python3"
  },
  "language_info": {
   "name": "python"
  }
 },
 "nbformat": 4,
 "nbformat_minor": 5
}
