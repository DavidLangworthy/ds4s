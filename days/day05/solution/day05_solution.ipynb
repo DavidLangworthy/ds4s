{
 "cells": [
  {
   "cell_type": "markdown",
   "id": "a199fe2b",
   "metadata": {},
   "source": [
    "## 🔗 Open This Notebook in Google Colab\n",
    "\n",
    "[![Open In Colab](https://colab.research.google.com/assets/colab-badge.svg)](https://colab.research.google.com/github/DavidLangworthy/ds4s/blob/master/days/day05/notebook/day05_starter.ipynb)"
   ]
  },
  {
   "cell_type": "markdown",
   "id": "71136322",
   "metadata": {},
   "source": [
    "# 🔥 Day 5 – Capstone: CO₂ Emissions & Global Temperature\n",
    "### Connecting greenhouse gases to warming trends\n",
    "\n",
    "We will merge the global CO₂ record with temperature anomalies to tell a two-panel story about the drivers and impacts of climate change."
   ]
  },
  {
   "cell_type": "markdown",
   "id": "5c5632b7",
   "metadata": {},
   "source": [
    "#### Data card: CO₂ emissions & temperature anomalies\n",
    "* **Sources:** [Our World in Data – Global CO₂](https://ourworldindata.org/co2-and-greenhouse-gas-emissions) and [NASA GISTEMP](https://data.giss.nasa.gov/gistemp/).\n",
    "* **Temporal coverage:** CO₂ from 1750–2023; temperature anomalies from 1880–2023.\n",
    "* **Units:** CO₂ in gigatonnes; temperature anomalies in °C relative to 1951–1980.\n",
    "* **Refresh cadence:** Updated annually (CO₂) and monthly (GISTEMP); downloaded September 2024.\n",
    "* **Caveats:** Pre-1950 CO₂ estimates have higher uncertainty; anomalies are relative to a mid-20th-century baseline."
   ]
  },
  {
   "cell_type": "code",
   "execution_count": null,
   "id": "26c2cf69",
   "metadata": {},
   "outputs": [],
   "source": [
    "# Core imports and shared helpers\n",
    "from pathlib import Path\n",
    "\n",
    "import numpy as np\n",
    "import pandas as pd\n",
    "import matplotlib.pyplot as plt\n",
    "import seaborn as sns\n",
    "from IPython.display import Markdown, display\n",
    "\n",
    "import utils\n",
    "\n",
    "utils.baseline_style()\n"
   ]
  },
  {
   "cell_type": "markdown",
   "id": "541b2d47",
   "metadata": {},
   "source": [
    "## Step 1: Load both datasets\n",
    "Use the helper to pull the CO₂ series and the temperature anomalies, then inspect their shapes and key columns."
   ]
  },
  {
   "cell_type": "code",
   "execution_count": null,
   "id": "e2910ae8",
   "metadata": {},
   "outputs": [],
   "source": [
    "co2_raw = utils.load_data('global_co2.csv')\n",
    "temp_raw = utils.load_data('GLB.Ts+dSST.csv', skiprows=1)\n",
    "utils.diagnostics(co2_raw, 'Global CO₂ (raw)', expected_columns=['Year', 'CO2'], expected_row_range=(250, 300))\n",
    "utils.diagnostics(temp_raw, 'Temperature anomalies (raw)', expected_columns=['Year', 'J-D'], expected_row_range=(140, 200))\n"
   ]
  },
  {
   "cell_type": "markdown",
   "id": "bffe5d88",
   "metadata": {},
   "source": [
    "## Step 2: Tidy the temperature data\n",
    "Keep the annual mean (`J-D`), convert to numeric values, and restrict to the overlap with the CO₂ series."
   ]
  },
  {
   "cell_type": "code",
   "execution_count": null,
   "id": "7d970be8",
   "metadata": {},
   "outputs": [],
   "source": [
    "temp_annual = (\n",
    "    temp_raw[['Year', 'J-D']]\n",
    "    .rename(columns={'J-D': 'temp_anomaly_c'})\n",
    "    .assign(\n",
    "        Year=lambda df: pd.to_numeric(df['Year'], errors='coerce'),\n",
    "        temp_anomaly_c=lambda df: pd.to_numeric(df['temp_anomaly_c'], errors='coerce'),\n",
    "    )\n",
    "    .dropna()\n",
    "    .astype({'Year': 'int64'})\n",
    ")\n",
    "utils.diagnostics(temp_annual, 'Temperature anomalies (tidy)', expected_columns=['Year', 'temp_anomaly_c'], expected_row_range=(140, 200))\n"
   ]
  },
  {
   "cell_type": "markdown",
   "id": "29b6a6d9",
   "metadata": {},
   "source": [
    "## Step 3: Prepare the CO₂ series\n",
    "Convert the CO₂ column to numeric and limit to years with matching temperature data."
   ]
  },
  {
   "cell_type": "code",
   "execution_count": null,
   "id": "ea614ffd",
   "metadata": {},
   "outputs": [],
   "source": [
    "co2_clean = co2_raw.assign(\n",
    "    Year=lambda df: pd.to_numeric(df['Year'], errors='coerce').astype('Int64'),\n",
    "    CO2=lambda df: pd.to_numeric(df['CO2'], errors='coerce'),\n",
    ")\n",
    "co2_clean = co2_clean.dropna()\n",
    "utils.diagnostics(co2_clean, 'CO₂ (tidy)', expected_columns=['Year', 'CO2'], expected_row_range=(250, 300))\n"
   ]
  },
  {
   "cell_type": "markdown",
   "id": "373211a8",
   "metadata": {},
   "source": [
    "## Step 4: Merge the datasets and compute derived metrics\n",
    "Align the series on common years and calculate normalised versions for easier comparison."
   ]
  },
  {
   "cell_type": "code",
   "execution_count": null,
   "id": "8d9b7e2c",
   "metadata": {},
   "outputs": [],
   "source": [
    "merged = (\n",
    "    temp_annual.merge(co2_clean, on='Year', how='inner')\n",
    "    .query('Year >= 1880')\n",
    ")\n",
    "utils.diagnostics(\n",
    "    merged,\n",
    "    'Merged climate dataset',\n",
    "    expected_columns=['Year', 'temp_anomaly_c', 'CO2'],\n",
    "    expected_row_range=(120, 200),\n",
    ")\n"
   ]
  },
  {
   "cell_type": "markdown",
   "id": "e6d34c48",
   "metadata": {},
   "source": [
    "## Step 5: Build the capstone figure\n",
    "Combine a CO₂ trendline and a temperature anomaly panel, then add a scatter inset linking the two."
   ]
  },
  {
   "cell_type": "code",
   "execution_count": null,
   "id": "444187f8",
   "metadata": {},
   "outputs": [],
   "source": [
    "TITLE = 'Rising CO₂ emissions track the sharp increase in global temperatures'\n",
    "SUBTITLE = 'Global totals, 1880–2023'\n",
    "ANNOTATION = 'Since 1980, CO₂ emissions and temperature anomalies have both accelerated sharply.'\n",
    "SOURCE = 'Our World in Data (Global CO₂) & NASA GISTEMP'\n",
    "UNITS = 'Temperature anomaly (°C)'\n",
    "\n",
    "metadata = {\n",
    "    'title': TITLE,\n",
    "    'subtitle': SUBTITLE,\n",
    "    'annotation': ANNOTATION,\n",
    "    'source': SOURCE,\n",
    "    'units': UNITS,\n",
    "}\n",
    "utils.validate_story_elements(metadata)\n",
    "\n",
    "fig, (ax1, ax2) = plt.subplots(2, 1, figsize=(11, 10), sharex=True, gridspec_kw={'height_ratios': [2, 2]})\n",
    "\n",
    "ax1.plot(merged['Year'], merged['CO2'], color='#8c564b', linewidth=2.2)\n",
    "ax1.set_ylabel('CO₂ emissions (Gt)')\n",
    "ax1.set_title(TITLE, loc='left', pad=14)\n",
    "ax1.text(0, 1.02, SUBTITLE, transform=ax1.transAxes, fontsize=12, ha='left', va='bottom', color='#4f4f4f')\n",
    "ax1.grid(alpha=0.2)\n",
    "\n",
    "ax2.plot(merged['Year'], merged['temp_anomaly_c'], color='#1f77b4', linewidth=2.2, label='Annual anomaly')\n",
    "ax2.plot(\n",
    "    merged['Year'],\n",
    "    merged['temp_anomaly_c'].rolling(window=5, center=True).mean(),\n",
    "    color='#d62728',\n",
    "    linewidth=2.6,\n",
    "    label='5-year mean',\n",
    ")\n",
    "ax2.set_ylabel(UNITS)\n",
    "ax2.axhline(0, color='#666666', linestyle='--', linewidth=1)\n",
    "ax2.legend(loc='upper left', frameon=False)\n",
    "ax2.grid(alpha=0.2)\n",
    "\n",
    "ax2.text(\n",
    "    0,\n",
    "    -0.22,\n",
    "    f\"Source: {SOURCE}\",\n",
    "    transform=ax2.transAxes,\n",
    "    fontsize=10,\n",
    "    color='#555555',\n",
    ")\n",
    "\n",
    "inset_ax = fig.add_axes([0.62, 0.15, 0.32, 0.25])\n",
    "inset_ax.scatter(merged['CO2'], merged['temp_anomaly_c'], alpha=0.6, s=25, color='#3182bd')\n",
    "inset_ax.set_xlabel('CO₂ emissions (Gt)')\n",
    "inset_ax.set_ylabel('Temp anomaly (°C)')\n",
    "inset_ax.grid(alpha=0.2)\n",
    "\n",
    "inset_ax.annotate(\n",
    "    ANNOTATION,\n",
    "    xy=(merged['CO2'].iloc[-1], merged['temp_anomaly_c'].iloc[-1]),\n",
    "    xytext=(-120, 60),\n",
    "    textcoords='offset points',\n",
    "    arrowprops=dict(arrowstyle='->', color='#444444'),\n",
    "    fontsize=10,\n",
    "    ha='left',\n",
    "    va='bottom',\n",
    "    bbox=dict(boxstyle='round,pad=0.3', fc='white', ec='#777777', alpha=0.85),\n",
    ")\n",
    "\n",
    "plt.tight_layout()\n",
    "utils.save_last_fig('day05_solution_plot.png', fig=fig)\n"
   ]
  },
  {
   "cell_type": "code",
   "execution_count": null,
   "id": "453b10a5",
   "metadata": {},
   "outputs": [],
   "source": [
    "display(\n",
    "    Markdown(\n",
    "        utils.summarize_claim(\n",
    "            claim='CO₂ emissions and global temperatures are tightly linked.',\n",
    "            evidence='Both the emission curve and temperature anomalies rise sharply after 1950, with a strong positive relationship in the inset scatter.',\n",
    "            takeaway='Cutting greenhouse gases is essential to stabilise the climate; the data show no sign of the link weakening.',\n",
    "        )\n",
    "    )\n",
    ")\n"
   ]
  }
 ],
 "metadata": {
  "kernelspec": {
   "display_name": "Python 3",
   "language": "python",
   "name": "python3"
  },
  "language_info": {
   "name": "python",
   "version": "3.11"
  }
 },
 "nbformat": 4,
 "nbformat_minor": 5
}
