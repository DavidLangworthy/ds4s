{
 "cells": [
  {
   "cell_type": "markdown",
   "id": "20b764ab",
   "metadata": {},
   "source": [
    "## 🔗 Open This Notebook in Google Colab\n",
    "\n",
    "[![Open In Colab](https://colab.research.google.com/assets/colab-badge.svg)](https://colab.research.google.com/github/DavidLangworthy/ds4s/blob/master/days/day05/notebook/day05_starter.ipynb)"
   ]
  },
  {
   "cell_type": "markdown",
   "id": "056613b6",
   "metadata": {},
   "source": [
    "# 🔥 Day 5 – Capstone: Emissions and Temperature\n",
    "You now have a full storytelling toolkit. We will still move in tight loops: inspect each dataset, align them carefully, and build a final two-panel story that avoids dual-axis ambiguity."
   ]
  },
  {
   "cell_type": "markdown",
   "id": "7f82d4dc",
   "metadata": {},
   "source": [
    "## 🗂️ Data Card: CO₂ Emissions + Temperature Anomalies\n",
    "- **Sources:**\n",
    "  - Global CO₂ emissions from fossil fuels and cement production (Our World in Data, based on Global Carbon Project).\n",
    "  - NASA GISTEMP global surface temperature anomalies.\n",
    "- **Temporal coverage:** 1880–2022 (emissions start 1750 but overlap begins in 1880).\n",
    "- **Units:** CO₂ in gigatonnes per year; temperature anomaly in °C relative to 1951–1980.\n",
    "- **Last updated:** November 2024 downloads.\n",
    "- **Method notes:** Annual aggregates; emissions exclude land-use change. Temperature anomalies already cleaned in Day 1.\n",
    "- **Caveats:** Emissions data includes methodological revisions; temperature anomalies reflect global mean, not regional extremes.\n",
    "- **Integrity prompt:** Dual axes can mislead — commit to a layout (like small multiples) that keeps scales transparent."
   ]
  },
  {
   "cell_type": "markdown",
   "id": "41643172",
   "metadata": {},
   "source": [
    "## Story Scaffold Reminder\n",
    "- **Claim:** What relationship between emissions and warming do you want to highlight?\n",
    "- **Evidence:** Which decades or inflection points illustrate it?\n",
    "- **Visual:** How will you juxtapose the series without confusing scales?\n",
    "- **Takeaway:** Draft the closing message for your portfolio piece."
   ]
  },
  {
   "cell_type": "markdown",
   "id": "05bd7d1b",
   "metadata": {},
   "source": [
    "## Step 0 · Imports"
   ]
  },
  {
   "cell_type": "code",
   "execution_count": null,
   "id": "243bdf42",
   "metadata": {},
   "outputs": [],
   "source": [
    "import matplotlib.pyplot as plt\n",
    "import pandas as pd\n",
    "\n",
    "from days.utils import (\n",
    "    add_story_footer,\n",
    "    baseline_style,\n",
    "    check_story_metadata,\n",
    "    load_data,\n",
    "    quick_diagnostics,\n",
    "    save_last_fig,\n",
    ")\n",
    "\n",
    "baseline_style()"
   ]
  },
  {
   "cell_type": "markdown",
   "id": "deb30ae0",
   "metadata": {},
   "source": [
    "## Step 1 · Load each dataset"
   ]
  },
  {
   "cell_type": "code",
   "execution_count": null,
   "id": "e5fd1724",
   "metadata": {},
   "outputs": [],
   "source": [
    "co2 = load_data(\"data/global_co2.csv\")\n",
    "temperature = load_data(\n",
    "    \"data/GLB.Ts+dSST.csv\",\n",
    "    skiprows=1,\n",
    "    usecols=[\"Year\", \"J-D\"],\n",
    "    na_values=[\"***\"],\n",
    ").rename(columns={\"J-D\": \"TempAnomaly\"})\n",
    "temperature[\"TempAnomaly\"] = pd.to_numeric(temperature[\"TempAnomaly\"], errors=\"coerce\")\n",
    "co2.rename(columns={\"CO2\": \"CO2_Gt\"}, inplace=True)"
   ]
  },
  {
   "cell_type": "code",
   "execution_count": null,
   "id": "2c84bd95",
   "metadata": {},
   "outputs": [],
   "source": [
    "quick_diagnostics(\n",
    "    co2,\n",
    "    expected_columns=[\"Year\", \"CO2_Gt\"],\n",
    "    rows_between=(250, 350),\n",
    "    head_rows=5,\n",
    ")\n",
    "quick_diagnostics(\n",
    "    temperature,\n",
    "    expected_columns=[\"Year\", \"TempAnomaly\"],\n",
    "    rows_between=(140, 160),\n",
    "    head_rows=5,\n",
    ")"
   ]
  },
  {
   "cell_type": "markdown",
   "id": "0af54a00",
   "metadata": {},
   "source": [
    "## Step 2 · Align the time span and combine"
   ]
  },
  {
   "cell_type": "code",
   "execution_count": null,
   "id": "e09931bf",
   "metadata": {},
   "outputs": [],
   "source": [
    "merged = pd.merge(co2, temperature, on=\"Year\", how=\"inner\")\n",
    "merged = merged[merged[\"Year\"] >= 1880]\n",
    "merged = merged.dropna(subset=[\"CO2_Gt\", \"TempAnomaly\"])\n",
    "merged = merged.reset_index(drop=True)\n",
    "quick_diagnostics(\n",
    "    merged,\n",
    "    expected_columns=[\"Year\", \"CO2_Gt\", \"TempAnomaly\"],\n",
    "    rows_between=(140, 160),\n",
    "    head_rows=5,\n",
    ")\n",
    "print(\"Expected: overlapping 1880–2022 range with no missing values.\")"
   ]
  },
  {
   "cell_type": "markdown",
   "id": "f2737437",
   "metadata": {},
   "source": [
    "## Step 3 · Interim checkpoint\n",
    "Plot each series quickly to verify trends before crafting the final story layout.\n",
    "\n",
    "![Interim preview – emission and temperature lines.](../../plots/day05_solution_plot.png)"
   ]
  },
  {
   "cell_type": "code",
   "execution_count": null,
   "id": "3f865b0e",
   "metadata": {},
   "outputs": [],
   "source": [
    "fig, axes = plt.subplots(2, 1, figsize=(10, 6), sharex=True)\n",
    "axes[0].plot(merged[\"Year\"], merged[\"CO2_Gt\"], color=\"#444e86\")\n",
    "axes[0].set_ylabel(\"CO₂ emissions (Gt)\")\n",
    "axes[0].set_title(\"Draft: Emissions keep rising\")\n",
    "axes[1].plot(merged[\"Year\"], merged[\"TempAnomaly\"], color=\"#d1495b\")\n",
    "axes[1].set_ylabel(\"Temperature anomaly (°C)\")\n",
    "axes[1].set_xlabel(\"Year\")\n",
    "axes[1].set_title(\"Draft: Global temperature anomaly\")\n",
    "plt.tight_layout()\n",
    "plt.show()"
   ]
  },
  {
   "cell_type": "markdown",
   "id": "bcac167d",
   "metadata": {},
   "source": [
    "## Step 4 · Story metadata"
   ]
  },
  {
   "cell_type": "code",
   "execution_count": null,
   "id": "52fca296",
   "metadata": {},
   "outputs": [],
   "source": [
    "TITLE = \"Emissions climbed sixfold — and the planet warmed a full degree\"\n",
    "SUBTITLE = \"Global CO₂ emissions vs. temperature anomaly, 1880–2022\"\n",
    "ANNOTATION = \"Post-1950 industrial growth drives both the emissions surge and rapid warming.\"\n",
    "SOURCE = \"Sources: Global Carbon Project via OWID; NASA GISTEMP\"\n",
    "UNITS = \"Units: CO₂ (gigatonnes per year); temperature anomaly (°C vs. 1951–1980)\"\n",
    "\n",
    "check_story_metadata(\n",
    "    TITLE=TITLE,\n",
    "    SUBTITLE=SUBTITLE,\n",
    "    ANNOTATION=ANNOTATION,\n",
    "    SOURCE=SOURCE,\n",
    "    UNITS=UNITS,\n",
    ")"
   ]
  },
  {
   "cell_type": "markdown",
   "id": "7a72dc0b",
   "metadata": {},
   "source": [
    "## Step 5 · Rationale for avoiding dual axes\n",
    "Dual axes can imply a causal relationship where none is quantified and can mislead if scales are chosen arbitrarily. Small multiples (stacked panels with a shared x-axis) keep context while preserving trustworthy scales."
   ]
  },
  {
   "cell_type": "markdown",
   "id": "448a441a",
   "metadata": {},
   "source": [
    "## Step 6 · Final two-panel narrative"
   ]
  },
  {
   "cell_type": "code",
   "execution_count": null,
   "id": "09c44b02",
   "metadata": {},
   "outputs": [],
   "source": [
    "fig, (ax_top, ax_bottom) = plt.subplots(2, 1, figsize=(11, 7), sharex=True, gridspec_kw=dict(height_ratios=[2, 1]))\n",
    "ax_top.plot(merged[\"Year\"], merged[\"CO2_Gt\"], color=\"#3f37c9\", linewidth=2.3)\n",
    "ax_top.fill_between(merged[\"Year\"], 0, merged[\"CO2_Gt\"], color=\"#3f37c9\", alpha=0.15)\n",
    "ax_top.set_ylabel(\"CO₂ emissions (Gt)\")\n",
    "ax_top.set_title(f\"{TITLE}\n",
    "{SUBTITLE}\")\n",
    "ax_top.axvline(1950, color=\"#8d99ae\", linestyle=\"--\", linewidth=1)\n",
    "ax_top.annotate(\n",
    "    \"Great Acceleration\",\n",
    "    xy=(1950, merged.loc[merged[\"Year\"] == 1950, \"CO2_Gt\"].values[0]),\n",
    "    xytext=(1910, merged[\"CO2_Gt\"].max() * 0.6),\n",
    "    arrowprops=dict(arrowstyle=\"->\", color=\"#3f37c9\"),\n",
    "    fontsize=11,\n",
    "    color=\"#3f37c9\",\n",
    ")\n",
    "ax_bottom.plot(merged[\"Year\"], merged[\"TempAnomaly\"], color=\"#d1495b\", linewidth=2.3)\n",
    "ax_bottom.axhline(0, color=\"#8d99ae\", linestyle=\"--\", linewidth=1)\n",
    "ax_bottom.set_ylabel(\"Temp anomaly (°C)\")\n",
    "ax_bottom.set_xlabel(\"Year\")\n",
    "ax_bottom.annotate(\n",
    "    ANNOTATION,\n",
    "    xy=(1980, merged.loc[merged[\"Year\"] == 1980, \"TempAnomaly\"].values[0]),\n",
    "    xytext=(1890, merged[\"TempAnomaly\"].max()),\n",
    "    arrowprops=dict(arrowstyle=\"->\", color=\"#d1495b\"),\n",
    "    fontsize=11,\n",
    "    color=\"#d1495b\",\n",
    ")\n",
    "add_story_footer(ax_bottom, source=SOURCE, units=UNITS)\n",
    "plt.tight_layout(h_pad=2.5)\n",
    "plt.show()"
   ]
  },
  {
   "cell_type": "markdown",
   "id": "bf1d4fd8",
   "metadata": {},
   "source": [
    "## Step 7 · Interpret with the scaffold\n",
    "- **Claim:** Rapid post-1950 emission growth aligns with the steep rise in global temperature anomalies.\n",
    "- **Evidence:** Emissions jump from <10 Gt to >35 Gt, while the temperature panel shows +1 °C warming over the same window.\n",
    "- **Visual:** Stacked panels share the timeline, avoiding dual axes while keeping both stories visible.\n",
    "- **Takeaway:** “Industrial emissions surged after 1950 and the climate responded — limiting warming means bending the emissions curve down.”"
   ]
  },
  {
   "cell_type": "markdown",
   "id": "c3092cb8",
   "metadata": {},
   "source": [
    "### Limitations to note\n",
    "- Correlation is not causation; other forcings (aerosols, land use) also influence temperature.\n",
    "- Annual aggregates hide intra-annual variability.\n",
    "- Future work could add uncertainty bands or scenario projections to extend the story."
   ]
  },
  {
   "cell_type": "markdown",
   "id": "2da1e2cd",
   "metadata": {},
   "source": [
    "## Step 8 · Save the figure"
   ]
  },
  {
   "cell_type": "code",
   "execution_count": null,
   "id": "1ba20361",
   "metadata": {},
   "outputs": [],
   "source": [
    "save_last_fig(\"day05_solution_plot.png\")"
   ]
  }
 ],
 "metadata": {},
 "nbformat": 4,
 "nbformat_minor": 5
}
