{
 "cells": [
  {
   "cell_type": "markdown",
   "id": "20f03486",
   "metadata": {},
   "source": [
    "## 🔗 Open This Notebook in Google Colab\n",
    "\n",
    "[![Open In Colab](https://colab.research.google.com/assets/colab-badge.svg)](https://colab.research.google.com/github/DavidLangworthy/ds4s/blob/master/days/day05/notebook/day05_starter.ipynb)"
   ]
  },
  {
   "cell_type": "markdown",
   "id": "704d4418",
   "metadata": {},
   "source": [
    "# 🔥 Day 5 – Capstone: CO₂ Emissions & Global Temperature\n",
    "### Synthesizing multiple indicators into a climate storytelling dashboard\n",
    "\n",
    "Our final project combines global CO₂ emissions with NASA temperature anomalies to show how emissions growth\n",
    "aligns with warming. We'll reinforce the inspect → clean → visualize cadence, build a multi-panel figure, and\n",
    "articulate limitations of the evidence."
   ]
  },
  {
   "cell_type": "markdown",
   "id": "7e4cfd93",
   "metadata": {},
   "source": [
    "### 🗂️ Data card — Global CO₂ emissions & NASA temperature anomalies\n",
    "- **CO₂ Source:** Global Carbon Project (Our World in Data extract `global_co2.csv`)\n",
    "- **Temperature Source:** NASA GISTEMP v4 annual anomalies (`GLB.Ts+dSST.csv`)\n",
    "- **Temporal coverage:** 1900–2020 (years where both datasets overlap)\n",
    "- **Units:**\n",
    "  - CO₂ emissions: Gigatonnes of CO₂ per year\n",
    "  - Temperature anomaly: °C relative to the 1951–1980 baseline\n",
    "- **Collection notes:** Emissions include fossil fuels and cement; temperature anomalies use land & ocean blended series\n",
    "- **Caveats:** Recent years may revise; aerosols, land-use change, and natural variability also influence temperatures\n",
    "- **Mindful design:** Avoid misleading dual axes; align scales via separate panels and include uncertainty context."
   ]
  },
  {
   "cell_type": "markdown",
   "id": "092ba739",
   "metadata": {},
   "source": [
    "### 1. Set up the environment"
   ]
  },
  {
   "cell_type": "code",
   "execution_count": null,
   "id": "893f8dff",
   "metadata": {},
   "outputs": [],
   "source": [
    "import pandas as pd\n",
    "import numpy as np\n",
    "import matplotlib.pyplot as plt\n",
    "import seaborn as sns\n",
    "from IPython.display import display\n",
    "\n",
    "pd.options.display.float_format = \"{:.2f}\".format"
   ]
  },
  {
   "cell_type": "code",
   "execution_count": null,
   "id": "b5e78001",
   "metadata": {},
   "outputs": [],
   "source": [
    "# Shared helper utilities used throughout the week.\n",
    "from __future__ import annotations\n",
    "\n",
    "import warnings\n",
    "from pathlib import Path\n",
    "from typing import Iterable, Mapping\n",
    "\n",
    "import matplotlib.pyplot as plt\n",
    "import pandas as pd\n",
    "import seaborn as sns\n",
    "\n",
    "\n",
    "def resolve_data_dir(max_up: int = 5) -> Path:\n",
    "    \"\"\"Locate the project-level ``data`` directory regardless of execution location.\"\"\"\n",
    "    here = Path.cwd()\n",
    "    for _ in range(max_up + 1):\n",
    "        candidate = here / \"data\"\n",
    "        if candidate.exists():\n",
    "            return candidate\n",
    "        here = here.parent\n",
    "    raise FileNotFoundError(\n",
    "        \"Could not find a 'data' directory relative to this notebook.\n",
    "\"\n",
    "        \"If you are running in Colab, mount your drive or upload the data folder first.\"\n",
    "    )\n",
    "\n",
    "\n",
    "DATA_DIR = resolve_data_dir()\n",
    "PROJECT_ROOT = DATA_DIR.parent\n",
    "PLOTS_DIR = PROJECT_ROOT / \"plots\"\n",
    "PLOTS_DIR.mkdir(parents=True, exist_ok=True)\n",
    "\n",
    "\n",
    "def baseline_style() -> None:\n",
    "    \"\"\"Apply a consistent, high-contrast visual style that is colorblind-friendly.\"\"\"\n",
    "    sns.set_theme(style=\"whitegrid\", context=\"talk\", font_scale=0.9)\n",
    "    plt.rcParams.update(\n",
    "        {\n",
    "            \"figure.dpi\": 120,\n",
    "            \"axes.titlesize\": 16,\n",
    "            \"axes.labelsize\": 13,\n",
    "            \"legend.fontsize\": 11,\n",
    "            \"axes.titleweight\": \"semibold\",\n",
    "        }\n",
    "    )\n",
    "\n",
    "\n",
    "def load_data(filename: str | Path, **kwargs) -> pd.DataFrame:\n",
    "    \"\"\"Read a CSV file from the shared data directory and report its shape.\"\"\"\n",
    "    path = Path(filename)\n",
    "    if not path.exists():\n",
    "        path = DATA_DIR / filename\n",
    "    df = pd.read_csv(path, **kwargs)\n",
    "    print(f\"Loaded {path.name} with shape {df.shape}.\")\n",
    "    return df\n",
    "\n",
    "\n",
    "def validate_columns(df: pd.DataFrame, required: Iterable[str], *, context: str = \"\") -> None:\n",
    "    missing = [col for col in required if col not in df.columns]\n",
    "    if missing:\n",
    "        warnings.warn(\n",
    "            f\"Missing expected columns {missing} in {context or 'dataframe'}.\n",
    "\"\n",
    "            \"Double-check your renaming and loading steps before moving on.\"\n",
    "        )\n",
    "    else:\n",
    "        print(f\"✅ Columns look good: {list(required)}\")\n",
    "\n",
    "\n",
    "def expect_rows_between(df: pd.DataFrame, low: int, high: int, *, label: str = \"rows\") -> None:\n",
    "    count = len(df)\n",
    "    if not (low <= count <= high):\n",
    "        warnings.warn(\n",
    "            f\"{label} check: expected between {low:,} and {high:,} but found {count:,}.\"\n",
    "        )\n",
    "    else:\n",
    "        print(f\"✅ {label} check: {count:,} rows is within the expected range.\")\n",
    "\n",
    "\n",
    "def quick_diagnose(df: pd.DataFrame, *, sample: int = 3) -> None:\n",
    "    print(\"\n",
    "Preview of the current dataframe:\")\n",
    "    display(df.head(sample))\n",
    "    print(\"\n",
    "Null values by column:\")\n",
    "    print(df.isna().sum())\n",
    "\n",
    "\n",
    "def validate_story_fields(fields: Mapping[str, str]) -> None:\n",
    "    missing = [name for name, value in fields.items() if not str(value).strip()]\n",
    "    if missing:\n",
    "        warnings.warn(\n",
    "            \"The following story fields are blank: \" + \", \".join(missing) +\n",
    "            \"\n",
    "Fill them in so your chart has a clear narrative frame.\"\n",
    "        )\n",
    "    else:\n",
    "        print(\"✅ Narrative checklist complete.\")\n",
    "\n",
    "\n",
    "def save_last_fig(fig: plt.Figure | None, filename: str) -> Path | None:\n",
    "    if fig is None:\n",
    "        fig = plt.gcf()\n",
    "    if fig and getattr(fig, \"axes\", None):\n",
    "        output_path = PLOTS_DIR / filename\n",
    "        fig.savefig(output_path, dpi=300, bbox_inches=\"tight\")\n",
    "        print(f\"Saved figure to {output_path.relative_to(PROJECT_ROOT)}\")\n",
    "        return output_path\n",
    "    warnings.warn(\"No matplotlib figure available to save yet.\")\n",
    "    return None\n"
   ]
  },
  {
   "cell_type": "markdown",
   "id": "8063f03b",
   "metadata": {},
   "source": [
    "### 2. Load and inspect the CO₂ and temperature series\n",
    "Confirm columns, set year indices, and preview key values."
   ]
  },
  {
   "cell_type": "code",
   "execution_count": null,
   "id": "0b6ee724",
   "metadata": {},
   "outputs": [],
   "source": [
    "co2 = load_data(\"global_co2.csv\")\n",
    "validate_columns(co2, [\"Year\", \"CO2\"])\n",
    "quick_diagnose(co2.head())\n",
    "\n",
    "temp = load_data(\"GLB.Ts+dSST.csv\", skiprows=1)\n",
    "validate_columns(temp, [\"Year\", \"J-D\"], context=\"NASA table\")\n",
    "quick_diagnose(temp.iloc[:5, :5])"
   ]
  },
  {
   "cell_type": "markdown",
   "id": "50b54e1d",
   "metadata": {},
   "source": [
    "### 3. Clean and align the datasets\n",
    "Convert units, handle missing values, and join on the year index."
   ]
  },
  {
   "cell_type": "code",
   "execution_count": null,
   "id": "29f45390",
   "metadata": {},
   "outputs": [],
   "source": [
    "co2_clean = co2.assign(Year=lambda d: pd.to_numeric(d[\"Year\"], errors=\"coerce\")).dropna(subset=[\"Year\", \"CO2\"])\n",
    "co2_clean = co2_clean.set_index(\"Year\").sort_index()\n",
    "expect_rows_between(co2_clean, 170, 210, label=\"CO₂ yearly records\")\n",
    "\n",
    "temp_clean = (\n",
    "    temp[[\"Year\", \"J-D\"]]\n",
    "    .rename(columns={\"J-D\": \"temp_anomaly_c\"})\n",
    "    .assign(temp_anomaly_c=lambda d: pd.to_numeric(d[\"temp_anomaly_c\"], errors=\"coerce\"))\n",
    "    .dropna(subset=[\"temp_anomaly_c\"])\n",
    "    .set_index(\"Year\")\n",
    "    .sort_index()\n",
    ")\n",
    "expect_rows_between(temp_clean, 140, 150, label=\"temperature records\")\n",
    "\n",
    "merged = (\n",
    "    co2_clean.join(temp_clean, how=\"inner\")\n",
    "    .loc[1900:2020]\n",
    "    .assign(\n",
    "        co2_rolling=lambda d: d[\"CO2\"].rolling(window=5, min_periods=1).mean(),\n",
    "        temp_rolling=lambda d: d[\"temp_anomaly_c\"].rolling(window=5, min_periods=1).mean(),\n",
    "    )\n",
    ")\n",
    "quick_diagnose(merged.head())\n",
    "quick_diagnose(merged.tail())"
   ]
  },
  {
   "cell_type": "markdown",
   "id": "f2f79a90",
   "metadata": {},
   "source": [
    "### 4. Quantify relationships before plotting\n",
    "Compute descriptive statistics and the emissions–temperature correlation."
   ]
  },
  {
   "cell_type": "code",
   "execution_count": null,
   "id": "e78bbb08",
   "metadata": {},
   "outputs": [],
   "source": [
    "summary = merged[[\"CO2\", \"temp_anomaly_c\"]].describe()\n",
    "display(summary)\n",
    "corr = merged[\"CO2\"].corr(merged[\"temp_anomaly_c\"])\n",
    "print(f\"Pearson correlation (1900-2020): {corr:.2f}\")"
   ]
  },
  {
   "cell_type": "markdown",
   "id": "a4633cd3",
   "metadata": {},
   "source": [
    "### 5. Define the storytelling frame\n",
    "Lock in the narrative scaffolding to guide the visualization design."
   ]
  },
  {
   "cell_type": "code",
   "execution_count": null,
   "id": "b12a188c",
   "metadata": {},
   "outputs": [],
   "source": [
    "TITLE = \"Emissions and temperatures climbed together in the 20th century\"\n",
    "SUBTITLE = \"Global fossil CO₂ emissions vs. NASA temperature anomalies (1900–2020)\"\n",
    "ANNOTATION = \"Rolling averages smooth short-term variability; scatter compares paired years\"\n",
    "SOURCE = \"Sources: Global Carbon Project, NASA GISTEMP v4\"\n",
    "UNITS = \"CO₂ (Gt) & temperature anomaly (°C)\"\n",
    "\n",
    "validate_story_fields({\n",
    "    \"TITLE\": TITLE,\n",
    "    \"SUBTITLE\": SUBTITLE,\n",
    "    \"ANNOTATION\": ANNOTATION,\n",
    "    \"SOURCE\": SOURCE,\n",
    "    \"UNITS\": UNITS,\n",
    "})"
   ]
  },
  {
   "cell_type": "markdown",
   "id": "771458ff",
   "metadata": {},
   "source": [
    "### 6. Build the multi-panel figure\n",
    "Use coordinated subplots instead of dual axes to keep scales interpretable."
   ]
  },
  {
   "cell_type": "code",
   "execution_count": null,
   "id": "4d31c56f",
   "metadata": {},
   "outputs": [],
   "source": [
    "baseline_style()\n",
    "\n",
    "fig, axes = plt.subplots(3, 1, figsize=(12, 12), sharex=True, gridspec_kw={\"height_ratios\": [1, 1, 0.8]})\n",
    "\n",
    "ax1 = axes[0]\n",
    "ax1.plot(merged.index, merged[\"CO2\"], color=\"#595959\", label=\"Annual CO₂ (Gt)\")\n",
    "ax1.plot(merged.index, merged[\"co2_rolling\"], color=\"#0072B2\", linewidth=2.5, label=\"5-year average\")\n",
    "ax1.set_ylabel(\"CO₂ emissions (Gt)\")\n",
    "ax1.legend(loc=\"upper left\", frameon=False)\n",
    "ax1.set_title(TITLE, loc=\"left\")\n",
    "ax1.text(0.01, 0.05, SUBTITLE, transform=ax1.transAxes, fontsize=11, ha=\"left\")\n",
    "\n",
    "ax2 = axes[1]\n",
    "ax2.plot(merged.index, merged[\"temp_anomaly_c\"], color=\"#CC79A7\", label=\"Annual anomaly (°C)\")\n",
    "ax2.plot(merged.index, merged[\"temp_rolling\"], color=\"#D55E00\", linewidth=2.5, label=\"5-year average\")\n",
    "ax2.axhline(0, color=\"#666666\", linestyle=\"--\", linewidth=1)\n",
    "ax2.set_ylabel(\"Temperature anomaly (°C)\")\n",
    "ax2.legend(loc=\"upper left\", frameon=False)\n",
    "\n",
    "ax3 = axes[2]\n",
    "scatter = ax3.scatter(\n",
    "    merged[\"CO2\"],\n",
    "    merged[\"temp_anomaly_c\"],\n",
    "    c=merged.index,\n",
    "    cmap=\"viridis\",\n",
    "    edgecolor=\"white\",\n",
    "    linewidth=0.5,\n",
    ")\n",
    "ax3.set_xlabel(\"CO₂ emissions (Gt)\")\n",
    "ax3.set_ylabel(\"Temperature anomaly (°C)\")\n",
    "ax3.set_title(\"Paired annual values\")\n",
    "cbar = fig.colorbar(scatter, ax=ax3, orientation=\"horizontal\", pad=0.25)\n",
    "cbar.set_label(\"Year\")\n",
    "\n",
    "last_year = merged.index.max()\n",
    "last_row = merged.loc[last_year]\n",
    "ax1.annotate(\n",
    "    f\"{last_year}: {last_row['CO2']:.1f} Gt\",\n",
    "    xy=(last_year, last_row[\"CO2\"]),\n",
    "    xytext=(last_year - 25, last_row[\"CO2\"] - 10),\n",
    "    arrowprops=dict(arrowstyle=\"->\", color=\"#333333\"),\n",
    ")\n",
    "ax2.annotate(\n",
    "    f\"{last_year}: {last_row['temp_anomaly_c']:+.2f}°C\",\n",
    "    xy=(last_year, last_row[\"temp_anomaly_c\"]),\n",
    "    xytext=(last_year - 25, last_row[\"temp_anomaly_c\"] + 0.5),\n",
    "    arrowprops=dict(arrowstyle=\"->\", color=\"#333333\"),\n",
    ")\n",
    "\n",
    "fig.tight_layout()\n",
    "fig.subplots_adjust(bottom=0.15)\n",
    "fig.text(0.01, 0.02, f\"{SOURCE} · {ANNOTATION}\", fontsize=10, ha=\"left\")\n",
    "\n",
    "plt.show()\n",
    "final_fig_path = save_last_fig(fig, \"day05_solution_plot.png\")"
   ]
  },
  {
   "cell_type": "markdown",
   "id": "fe40682e",
   "metadata": {},
   "source": [
    "### 7. Interpret responsibly\n",
    "- **Key takeaway:** Fossil CO₂ emissions have more than tripled since 1950, and global temperatures now sit over 1°C above the mid-20th-century baseline.\n",
    "- **Uncertainty & caveats:** Correlation does not capture lagged climate feedbacks or non-CO₂ forcings; data revisions may adjust the most recent years.\n",
    "- **What this visualization cannot tell us:** Regional impacts, the role of aerosols, and emissions by sector require additional datasets; communicate these caveats when presenting the story."
   ]
  },
  {
   "cell_type": "markdown",
   "id": "b5b77159",
   "metadata": {},
   "source": [
    "### 8. Process micro-rubric\n",
    "| Step | Evidence of completion |\n",
    "| --- | --- |\n",
    "| Data loaded & validated | CO₂ and temperature columns confirmed, year alignment checked |\n",
    "| Cleaning documented | Rolling averages computed, merged dataset inspected |\n",
    "| Story frame filled | Narrative checklist completed before visualization |\n",
    "| Visualization reviewed | Multi-panel layout replaces dual axes; annotations and colorbar included |\n",
    "| Reflection written | Takeaway, uncertainty, and limitations clearly stated |"
   ]
  }
 ],
 "metadata": {
  "colab": {
   "provenance": []
  },
  "kernelspec": {
   "display_name": "Python 3",
   "name": "python3"
  },
  "language_info": {
   "name": "python"
  }
 },
 "nbformat": 4,
 "nbformat_minor": 5
}