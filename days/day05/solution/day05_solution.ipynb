{
 "cells": [
  {
   "cell_type": "markdown",
   "id": "264e40fb",
   "metadata": {},
   "source": [
    "## 🔗 Open This Notebook in Google Colab\n",
    "\n",
    "[![Open In Colab](https://colab.research.google.com/assets/colab-badge.svg)](https://colab.research.google.com/github/DavidLangworthy/ds4s/blob/master/days/day05/solution/day05_solution.ipynb)"
   ]
  },
  {
   "cell_type": "markdown",
   "id": "24880beb",
   "metadata": {},
   "source": [
    "# 🔥 Day 5 – Capstone: Linking CO₂ Emissions and Warming\n",
    "### Guided loops: align → check → model → narrate\n",
    "\n",
    "The capstone pulls every habit together. You’ll align two flagship climate datasets, validate the overlap, build a polished dual-axis figure, and narrate the evidence connecting fossil emissions to global temperature rise."
   ]
  },
  {
   "cell_type": "markdown",
   "id": "bdae0182",
   "metadata": {},
   "source": [
    "## 📇 Data Card — Global CO₂ & NASA Temperature Anomalies\n",
    "- **CO₂ Source**: Our World in Data / Global Carbon Project (global fossil CO₂ emissions).\n",
    "- **Temperature Source**: NASA GISTEMP v4 global surface temperature anomalies.\n",
    "- **Temporal coverage**: CO₂ (1900–2022), Temperature (1880–2024).\n",
    "- **Units**: CO₂ in gigatonnes/year; temperature anomaly in °C relative to 1951–1980 baseline.\n",
    "- **Processing notes**: Align on annual `Year`, drop rows with missing values, rescale axes separately.\n",
    "- **Last updated**: CO₂ download October 2024; GISTEMP January 2025 release.\n",
    "- **Caveats**: CO₂ excludes land-use change; temperature anomalies are global averages (regional extremes smoothed).\n",
    "\n",
    "> 🔎 **What this visualization cannot tell us**: Precise causality, short-term variability drivers, or uncertainty bands. Pair with context about climate sensitivity and non-CO₂ forcings."
   ]
  },
  {
   "cell_type": "markdown",
   "id": "44b241d7",
   "metadata": {},
   "source": [
    "## 🗺️ Workflow Map\n",
    "1. **Setup & helpers**.\n",
    "2. **Load** each dataset with quick inspections.\n",
    "3. **Clean & align** overlapping years.\n",
    "4. **Story scaffold** for chart metadata.\n",
    "5. **Visualise** dual-axis figure with annotations and accessibility notes.\n",
    "6. **Reflect** on narrative, uncertainty, and next analytical steps."
   ]
  },
  {
   "cell_type": "markdown",
   "id": "fe484a9e",
   "metadata": {},
   "source": [
    "## Step 0 · Imports, style, and diagnostics"
   ]
  },
  {
   "cell_type": "code",
   "execution_count": null,
   "id": "e74c8fbf",
   "metadata": {},
   "outputs": [],
   "source": [
    "\n",
    "from pathlib import Path\n",
    "from textwrap import dedent\n",
    "\n",
    "import pandas as pd\n",
    "import matplotlib.pyplot as plt\n",
    "import seaborn as sns\n",
    "from IPython.display import Image, display\n",
    "\n",
    "sns.set_theme(style=\"whitegrid\")\n",
    "plt.rcParams.update({\n",
    "    \"axes.titlesize\": 18,\n",
    "    \"axes.labelsize\": 13,\n",
    "    \"axes.titleweight\": \"bold\",\n",
    "    \"figure.titlesize\": 20,\n",
    "    \"xtick.labelsize\": 11,\n",
    "    \"ytick.labelsize\": 11,\n",
    "})\n",
    "\n",
    "\n",
    "def baseline_style():\n",
    "    \"\"\"Reset the Matplotlib/Seaborn style so every figure starts consistent.\"\"\"\n",
    "    sns.set_theme(style=\"whitegrid\")\n",
    "    plt.rcParams.update({\n",
    "        \"axes.titlesize\": 18,\n",
    "        \"axes.labelsize\": 13,\n",
    "        \"axes.titleweight\": \"bold\",\n",
    "        \"figure.titlesize\": 20,\n",
    "        \"xtick.labelsize\": 11,\n",
    "        \"ytick.labelsize\": 11,\n",
    "        \"legend.title_fontsize\": 12,\n",
    "        \"legend.fontsize\": 11,\n",
    "    })\n",
    "    return plt\n",
    "\n",
    "\n",
    "def quick_peek(df, expected_columns=None, sample=3, label=\"DataFrame\"):\n",
    "    \"\"\"Print a friendly snapshot so students can self-diagnose issues quickly.\"\"\"\n",
    "    print(f\"\n",
    "🔍 {label} preview\")\n",
    "    print(df.head(sample))\n",
    "    print(f\"Rows: {len(df):,} | Columns: {list(df.columns)}\")\n",
    "    if expected_columns:\n",
    "        missing = [col for col in expected_columns if col not in df.columns]\n",
    "        if missing:\n",
    "            print(f\"⚠️ Missing column(s): {missing}\")\n",
    "        else:\n",
    "            print(\"✅ Columns match the expectation.\")\n",
    "    return df\n",
    "\n",
    "\n",
    "def expect_rows_between(df, low, high, label=\"row count\"):\n",
    "    rows = len(df)\n",
    "    if low <= rows <= high:\n",
    "        print(f\"✅ {label.title()} looks right: {rows:,}.\")\n",
    "    else:\n",
    "        print(f\"⚠️ {label.title()} looks off: {rows:,}. Expected between {low:,} and {high:,}.\")\n",
    "    return rows\n",
    "\n",
    "\n",
    "def validate_story_elements(elements):\n",
    "    missing = [key for key, value in elements.items() if not value or not str(value).strip()]\n",
    "    if missing:\n",
    "        print(f\"⚠️ Please fill in these storytelling fields: {', '.join(missing)}\")\n",
    "    else:\n",
    "        print(\"✅ Story scaffold is ready — every element is filled in.\")\n",
    "    return elements\n",
    "\n",
    "\n",
    "def save_last_fig(filename, fig=None, dpi=300):\n",
    "    \"\"\"Save the latest Matplotlib figure with consistent export settings.\"\"\"\n",
    "    output_path = Path.cwd() / filename\n",
    "    output_path.parent.mkdir(parents=True, exist_ok=True)\n",
    "    if fig is None:\n",
    "        fig = plt.gcf()\n",
    "    if fig and getattr(fig, \"axes\", None):\n",
    "        fig.savefig(output_path, dpi=dpi, bbox_inches=\"tight\")\n",
    "        print(f\"💾 Saved figure to {output_path}\")\n",
    "    else:\n",
    "        print(\"⚠️ No figure detected to save.\")\n",
    "    return output_path\n",
    "\n",
    "baseline_style()\n"
   ]
  },
  {
   "cell_type": "markdown",
   "id": "111acec7",
   "metadata": {},
   "source": [
    "## Step 1 · Load CO₂ and temperature series"
   ]
  },
  {
   "cell_type": "code",
   "execution_count": null,
   "id": "fd48c80f",
   "metadata": {},
   "outputs": [],
   "source": [
    "\n",
    "data_dir = Path.cwd() / \"data\"\n",
    "\n",
    "co2_df = pd.read_csv(data_dir / \"global_co2.csv\")\n",
    "co2_df = co2_df.rename(columns={\"Year\": \"Year\", \"CO2\": \"CO2\"})\n",
    "quick_peek(co2_df, expected_columns=[\"Year\", \"CO2\"], label=\"Global CO₂ emissions\")\n",
    "\n",
    "temp_raw = pd.read_csv(\n",
    "    data_dir / \"GLB.Ts+dSST.csv\",\n",
    "    skiprows=1,\n",
    "    usecols=[0, 13],\n",
    "    names=[\"Year\", \"TempAnomaly\"],\n",
    "    header=0,\n",
    ")\n",
    "temp_raw[\"TempAnomaly\"] = pd.to_numeric(temp_raw[\"TempAnomaly\"], errors=\"coerce\")\n",
    "quick_peek(temp_raw, expected_columns=[\"Year\", \"TempAnomaly\"], label=\"NASA temperature anomalies\")\n"
   ]
  },
  {
   "cell_type": "markdown",
   "id": "a263869d",
   "metadata": {},
   "source": [
    "### Self-diagnostic: overlapping year range"
   ]
  },
  {
   "cell_type": "code",
   "execution_count": null,
   "id": "d9fa4192",
   "metadata": {},
   "outputs": [],
   "source": [
    "\n",
    "co2_years = set(co2_df[\"Year\"].dropna().astype(int))\n",
    "temp_years = set(temp_raw[\"Year\"].dropna().astype(int))\n",
    "overlap_years = sorted(co2_years & temp_years)\n",
    "print(f\"Overlap spans {overlap_years[0]} → {overlap_years[-1]} ({len(overlap_years)} years)\")\n"
   ]
  },
  {
   "cell_type": "markdown",
   "id": "ffa3acf9",
   "metadata": {},
   "source": [
    "## Step 2 · Merge, tidy, and create checkpoints"
   ]
  },
  {
   "cell_type": "code",
   "execution_count": null,
   "id": "f57ce88e",
   "metadata": {},
   "outputs": [],
   "source": [
    "\n",
    "merged = co2_df.merge(temp_raw, on=\"Year\", how=\"inner\").dropna()\n",
    "merged = merged[(merged[\"Year\"] >= overlap_years[0]) & (merged[\"Year\"] <= overlap_years[-1])]\n",
    "merged = merged.sort_values(\"Year\").reset_index(drop=True)\n",
    "expect_rows_between(merged, 110, 125, label=\"aligned years\")\n",
    "quick_peek(merged, label=\"Merged CO₂ + temperature table\")\n"
   ]
  },
  {
   "cell_type": "markdown",
   "id": "4212fa5b",
   "metadata": {},
   "source": [
    "### Progress anchor"
   ]
  },
  {
   "cell_type": "code",
   "execution_count": null,
   "id": "7b708b31",
   "metadata": {},
   "outputs": [],
   "source": [
    "display(Image(filename=str(Path.cwd() / 'plots' / 'day05_solution_plot.png')), width=420)"
   ]
  },
  {
   "cell_type": "markdown",
   "id": "dac08e44",
   "metadata": {},
   "source": [
    "## Step 3 · Story-first chart checklist"
   ]
  },
  {
   "cell_type": "code",
   "execution_count": null,
   "id": "0f41dd85",
   "metadata": {},
   "outputs": [],
   "source": [
    "\n",
    "latest_year = int(merged[\"Year\"].iloc[-1])\n",
    "TITLE = \"Rising CO₂ Emissions Track with Rising Global Temperatures\"\n",
    "SUBTITLE = f\"Global fossil CO₂ (Gt/year) and NASA temperature anomaly (°C), {merged['Year'].iloc[0]}–{latest_year}\"\n",
    "ANNOTATION = f\"{latest_year}: CO₂ = {merged['CO2'].iloc[-1]:.1f} Gt, Temp anomaly = {merged['TempAnomaly'].iloc[-1]:.2f} °C\"\n",
    "SOURCE = \"Global Carbon Project via OWID; NASA GISTEMP v4\"\n",
    "UNITS = \"CO₂ (gigatonnes per year) & temperature anomaly (°C vs. 1951–1980 baseline)\"\n",
    "ACCESSIBILITY_NOTES = \"Dual-axis line chart with contrasting colors, clear legends, 0-baseline grid, and annotation for latest year.\"\n",
    "\n",
    "validate_story_elements({\n",
    "    \"TITLE\": TITLE,\n",
    "    \"SUBTITLE\": SUBTITLE,\n",
    "    \"ANNOTATION\": ANNOTATION,\n",
    "    \"SOURCE\": SOURCE,\n",
    "    \"UNITS\": UNITS,\n",
    "    \"ACCESSIBILITY_NOTES\": ACCESSIBILITY_NOTES,\n",
    "})\n"
   ]
  },
  {
   "cell_type": "markdown",
   "id": "554cd870",
   "metadata": {},
   "source": [
    "## Step 4 · Build the dual-axis capstone figure"
   ]
  },
  {
   "cell_type": "code",
   "execution_count": null,
   "id": "19ebf1f0",
   "metadata": {},
   "outputs": [],
   "source": [
    "\n",
    "baseline_style()\n",
    "\n",
    "fig, ax1 = plt.subplots(figsize=(12, 6))\n",
    "\n",
    "ax1.plot(merged[\"Year\"], merged[\"CO2\"], color=\"#6c757d\", linewidth=2.4, label=\"CO₂ emissions\")\n",
    "ax1.fill_between(merged[\"Year\"], merged[\"CO2\"], color=\"#6c757d\", alpha=0.15)\n",
    "ax1.set_ylabel(\"CO₂ emissions (Gt/year)\", color=\"#6c757d\")\n",
    "ax1.tick_params(axis=\"y\", labelcolor=\"#6c757d\")\n",
    "\n",
    "ax2 = ax1.twinx()\n",
    "ax2.plot(merged[\"Year\"], merged[\"TempAnomaly\"], color=\"#d62728\", linewidth=2.4, label=\"Temperature anomaly\")\n",
    "ax2.scatter(merged[\"Year\"][::10], merged[\"TempAnomaly\"][::10], color=\"#d62728\", s=35)\n",
    "ax2.set_ylabel(\"Temperature anomaly (°C)\", color=\"#d62728\")\n",
    "ax2.tick_params(axis=\"y\", labelcolor=\"#d62728\")\n",
    "\n",
    "ax1.set_xlabel(\"Year\")\n",
    "ax1.set_title(f\"{TITLE}\n",
    "{SUBTITLE}\", loc=\"left\")\n",
    "ax1.grid(alpha=0.3)\n",
    "\n",
    "ax2.annotate(\n",
    "    ANNOTATION,\n",
    "    xy=(latest_year, merged[\"TempAnomaly\"].iloc[-1]),\n",
    "    xytext=(latest_year - 25, merged[\"TempAnomaly\"].iloc[-1] + 0.3),\n",
    "    arrowprops=dict(arrowstyle=\"->\", color=\"#d62728\"),\n",
    "    bbox=dict(boxstyle=\"round,pad=0.3\", fc=\"white\", ec=\"#bbbbbb\"),\n",
    ")\n",
    "\n",
    "ax1.text(0.01, -0.2, f\"Source: {SOURCE}\", transform=ax1.transAxes, fontsize=10, color=\"#4f4f4f\")\n",
    "ax1.text(0.01, -0.27, f\"Notes: {ACCESSIBILITY_NOTES}\", transform=ax1.transAxes, fontsize=10, color=\"#4f4f4f\")\n",
    "\n",
    "fig.tight_layout()\n",
    "plt.show()\n"
   ]
  },
  {
   "cell_type": "markdown",
   "id": "97f0becd",
   "metadata": {},
   "source": [
    "### Export checkpoint"
   ]
  },
  {
   "cell_type": "code",
   "execution_count": null,
   "id": "ac327472",
   "metadata": {},
   "outputs": [],
   "source": [
    "save_last_fig('plots/day05_solution_plot.png')"
   ]
  },
  {
   "cell_type": "markdown",
   "id": "0bec7745",
   "metadata": {},
   "source": [
    "## Step 5 · Reflect on synthesis and next steps\n",
    "- **Claim → Evidence → Visual → Takeaway**:\n",
    "  - **Claim**: Human-caused CO₂ emissions have risen dramatically and align with the observed warming trend.\n",
    "  - **Evidence**: Dual-axis figure shows emissions climbing from ~5 to >35 Gt while anomalies increase ~1 °C.\n",
    "  - **Visual**: Accessible dual-axis line chart with annotation and clear source notes.\n",
    "  - **Takeaway**: Mitigation requires bending the CO₂ curve; the climate system is responding to cumulative emissions.\n",
    "- **Limitations**: Dual axes can mislead if scales are manipulated—call out that both axes start at zero with transparent units.\n",
    "- **Potential misreads**: This chart does not prove causality; pair with physics-based explanations.\n",
    "- **Next questions**: How do other greenhouse gases contribute? What happens when plotting cumulative emissions vs temperature?"
   ]
  },
  {
   "cell_type": "markdown",
   "id": "b844b36e",
   "metadata": {},
   "source": [
    "## Process quality checklist\n",
    "✅ Loaded both flagship datasets • ✅ Confirmed overlapping years • ✅ Completed story scaffold • ✅ Built annotated dual-axis figure • ✅ Reflected on narrative, ethics, and follow-up analyses."
   ]
  }
 ],
 "metadata": {
  "colab": {
   "authorship_tag": "ABX9TyNrPwOkZwNEizIssfpEdkJP",
   "provenance": []
  },
  "kernelspec": {
   "display_name": "Python 3",
   "name": "python3"
  },
  "language_info": {
   "name": "python"
  }
 },
 "nbformat": 4,
 "nbformat_minor": 5
}
