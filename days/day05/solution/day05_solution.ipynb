{
 "cells": [
  {
   "cell_type": "markdown",
   "id": "fb3048b0",
   "metadata": {},
   "source": [
    "## 🔗 Open This Notebook in Google Colab\n",
    "\n",
    "[![Open In Colab](https://colab.research.google.com/assets/colab-badge.svg)](https://colab.research.google.com/github/DavidLangworthy/ds4s/blob/master/Day%205_%20Capstone.ipynb)"
   ]
  },
  {
   "cell_type": "markdown",
   "id": "6146388a",
   "metadata": {},
   "source": [
    "# 🌐 Day 5 – Capstone: Linking CO₂ Emissions and Temperature\n",
    "\n",
    "The final day blends everything: multi-dataset joins, rigorous diagnostics, thoughtful visualization, and storytelling polish. Students build a stacked dashboard linking historical **CO₂ emissions** and **temperature anomalies**."
   ]
  },
  {
   "cell_type": "markdown",
   "id": "19b9b617",
   "metadata": {},
   "source": [
    "> **Teacher sidebar — pacing & differentiation**  \n",
    "> • Timing: ~60 minutes including share-out.  \n",
    "> • Suggested checkpoints: after the merge (confirm overlapping years) and after the stacked figure.  \n",
    "> • Differentiation: fast finishers can add annotations for policy milestones; others can rely on the provided scaffold and spend extra time on interpretation.\n",
    "\n",
    "## 🗺️ Roadmap for Today\n",
    "\n",
    "Loop | Focus | What success looks like\n",
    "--- | --- | ---\n",
    "0 | Story scaffold | Claim + annotation locked in\n",
    "1 | Load | Clean CO₂ + temperature tables\n",
    "2 | Merge & diagnose | Shared timeline, correlations computed\n",
    "3 | Visualize | Stacked plots with consistent styling & context\n",
    "4 | Interpret & save | Capstone narrative articulated"
   ]
  },
  {
   "cell_type": "markdown",
   "id": "4a0164fd",
   "metadata": {},
   "source": [
    "## 🗂️ Data Cards — Global CO₂ & NASA Temperature Anomalies\n",
    "\n",
    "- **CO₂ emissions**: Global fossil CO₂ from Our World in Data (based on Global Carbon Project). Units: gigatonnes of CO₂ per year.  \n",
    "- **Temperature anomalies**: NASA GISTEMP v4 annual global mean relative to 1951–1980. Units: °C anomaly.  \n",
    "- **Temporal coverage**: CO₂ (1750–2022), temperature (1880–2024).  \n",
    "- **Caveats**: CO₂ excludes land-use change uncertainty in early years; anomalies reflect deviations from baseline, not absolute temperature.  \n",
    "- **Update cadence**: Annual updates (GCP in November, NASA in January).\n",
    "\n",
    "> 🎯 **Integrity cue**: Avoid misleading dual axes. Use aligned subplots or normalized series and discuss what we can (trend alignment) and cannot (direct causality) claim."
   ]
  },
  {
   "cell_type": "code",
   "execution_count": null,
   "id": "f5879895",
   "metadata": {},
   "outputs": [],
   "source": [
    "# Shared utilities for the DS4S course notebooks\n",
    "        from pathlib import Path\n",
    "        import pandas as pd\n",
    "        import numpy as np\n",
    "        import matplotlib.pyplot as plt\n",
    "        from IPython.display import display\n",
    "\n",
    "        plt.style.use('seaborn-v0_8-whitegrid')\n",
    "        plt.rcParams.update({\n",
    "            'figure.dpi': 120,\n",
    "            'axes.titlesize': 16,\n",
    "            'axes.labelsize': 13,\n",
    "            'axes.titlepad': 12,\n",
    "            'figure.figsize': (10, 5),\n",
    "        })\n",
    "\n",
    "\n",
    "        def load_csv(path: Path, **read_kwargs) -> pd.DataFrame:\n",
    "            '''Load a CSV and report the basic shape.'''\n",
    "            df = pd.read_csv(path, **read_kwargs)\n",
    "            print(f\"✅ Loaded {path.name} with {df.shape[0]:,} rows and {df.shape[1]} columns\")\n",
    "            return df\n",
    "\n",
    "\n",
    "        def validate_columns(df: pd.DataFrame, required):\n",
    "            missing = [col for col in required if col not in df.columns]\n",
    "            if missing:\n",
    "                raise ValueError(f\"Missing columns: {missing}\")\n",
    "            print(f\"✅ Columns present: {', '.join(required)}\")\n",
    "\n",
    "\n",
    "        def expect_rows_between(df: pd.DataFrame, low: int, high: int):\n",
    "            rows = df.shape[0]\n",
    "            if not (low <= rows <= high):\n",
    "                raise ValueError(f\"Row count {rows} outside expected range {low}-{high}\")\n",
    "            print(f\"✅ Row count {rows} within expected {low}-{high}\")\n",
    "\n",
    "\n",
    "        def quick_snapshot(df: pd.DataFrame, name: str, n: int = 3):\n",
    "            print(f\"\n",
    "{name} snapshot → shape={df.shape}\")\n",
    "            print(\"Columns:\", list(df.columns))\n",
    "            print(\"Nulls:\n",
    "\", df.isna().sum())\n",
    "            display(df.head(n))\n",
    "\n",
    "\n",
    "        def ensure_story_elements(title: str, subtitle: str, annotation: str, source: str, units: str):\n",
    "            fields = {\n",
    "                'TITLE': title,\n",
    "                'SUBTITLE': subtitle,\n",
    "                'ANNOTATION': annotation,\n",
    "                'SOURCE': source,\n",
    "                'UNITS': units,\n",
    "            }\n",
    "            missing = [key for key, value in fields.items() if not str(value).strip()]\n",
    "            if missing:\n",
    "                raise ValueError(f\"Please complete these storytelling fields: {', '.join(missing)}\")\n",
    "            print(\"✅ Story scaffold complete →\", \", \".join(f\"{k}: {v}\" for k, v in fields.items()))\n",
    "            return fields\n",
    "\n",
    "\n",
    "        def save_last_fig(filename: str):\n",
    "            plots_dir = Path.cwd() / \"plots\"\n",
    "            plots_dir.mkdir(parents=True, exist_ok=True)\n",
    "            fig = plt.gcf()\n",
    "            if not fig.axes:\n",
    "                raise RuntimeError(\"Run the plotting cell before saving.\")\n",
    "            output_path = plots_dir / filename\n",
    "            fig.savefig(output_path, dpi=300, bbox_inches='tight')\n",
    "            print(f\"📁 Saved figure to {output_path}\")\n",
    "\n",
    "\n",
    "        def save_plotly_fig(fig, filename: str):\n",
    "            plots_dir = Path.cwd() / \"plots\"\n",
    "            plots_dir.mkdir(parents=True, exist_ok=True)\n",
    "            output_path = plots_dir / filename\n",
    "            fig.write_html(str(output_path))\n",
    "            print(f\"📁 Saved interactive figure to {output_path}\")"
   ]
  },
  {
   "cell_type": "markdown",
   "id": "2f60ddc8",
   "metadata": {},
   "source": [
    "## 🔁 Loop 0 — Story scaffold (3 min)"
   ]
  },
  {
   "cell_type": "code",
   "execution_count": null,
   "id": "22ee6dfe",
   "metadata": {},
   "outputs": [],
   "source": [
    "TITLE = \"CO₂ Emissions and Global Temperatures Rise Together\"\n",
    "SUBTITLE = \"Global CO₂ emissions (Gt) and NASA temperature anomalies (°C), 1900–2022\"\n",
    "ANNOTATION = \"Since 1960, emissions tripled and temperature anomalies climbed above +1.1 °C.\"\n",
    "SOURCE = \"Our World in Data (Global Carbon Project 2023) & NASA GISTEMP v4 (Jan 2024)\"\n",
    "UNITS = \"CO₂ (Gt) + Temperature anomaly (°C)\"\n",
    "\n",
    "story_fields = ensure_story_elements(TITLE, SUBTITLE, ANNOTATION, SOURCE, UNITS)"
   ]
  },
  {
   "cell_type": "markdown",
   "id": "88d1becb",
   "metadata": {},
   "source": [
    "## 🔁 Loop 1 — Load the datasets (8 min)"
   ]
  },
  {
   "cell_type": "code",
   "execution_count": null,
   "id": "aa34a295",
   "metadata": {},
   "outputs": [],
   "source": [
    "data_dir = Path.cwd() / \"data\"\n",
    "co2 = load_csv(data_dir / \"global_co2.csv\")\n",
    "validate_columns(co2, [\"Year\", \"CO2\"])\n",
    "co2[\"Year\"] = co2[\"Year\"].astype(int)\n",
    "expect_rows_between(co2, 200, 300)\n",
    "\n",
    "nasa = load_csv(\n",
    "    data_dir / \"GLB.Ts+dSST.csv\",\n",
    "    skiprows=1,\n",
    "    usecols=[\"Year\", \"J-D\"],\n",
    ")\n",
    "validate_columns(nasa, [\"Year\", \"J-D\"])\n",
    "nasa = nasa.rename(columns={\"J-D\": \"TempAnomaly\"})\n",
    "nasa[\"TempAnomaly\"] = pd.to_numeric(nasa[\"TempAnomaly\"], errors=\"coerce\")\n",
    "nasa = nasa.dropna()\n",
    "nasa[\"Year\"] = nasa[\"Year\"].astype(int)\n",
    "quick_snapshot(co2.tail(), name=\"CO₂ tail\")\n",
    "quick_snapshot(nasa.tail(), name=\"NASA anomalies tail\")"
   ]
  },
  {
   "cell_type": "markdown",
   "id": "75ce8ffb",
   "metadata": {},
   "source": [
    "## 🔁 Loop 2 — Merge & diagnose (10 min)"
   ]
  },
  {
   "cell_type": "code",
   "execution_count": null,
   "id": "51952909",
   "metadata": {},
   "outputs": [],
   "source": [
    "merged = (\n",
    "    co2.merge(nasa, on=\"Year\", how=\"inner\")\n",
    "    .query(\"Year >= 1900\")\n",
    "    .reset_index(drop=True)\n",
    ")\n",
    "expect_rows_between(merged, 120, 150)\n",
    "quick_snapshot(merged.head(), name=\"Merged head\")\n",
    "trend_corr = merged[\"CO2\"].corr(merged[\"TempAnomaly\"], method=\"pearson\")\n",
    "print(\"Pearson correlation (CO₂ vs anomaly): {:.2f}\".format(trend_corr))"
   ]
  },
  {
   "cell_type": "markdown",
   "id": "1ce96b5e",
   "metadata": {},
   "source": [
    "## 🔁 Loop 3 — Visualize (15 min)\n",
    "\n",
    "Build stacked plots with shared x-axis to emphasize co-trending without dual-axis confusion."
   ]
  },
  {
   "cell_type": "code",
   "execution_count": null,
   "id": "32d390a2",
   "metadata": {},
   "outputs": [],
   "source": [
    "fig, (ax1, ax2) = plt.subplots(2, 1, sharex=True, figsize=(10, 8))\n",
    "fig.suptitle(TITLE, fontsize=18, y=0.97)\n",
    "\n",
    "ax1.fill_between(merged[\"Year\"], merged[\"CO2\"], color=\"#6baed6\", alpha=0.6)\n",
    "ax1.plot(merged[\"Year\"], merged[\"CO2\"], color=\"#2171b5\", linewidth=2)\n",
    "ax1.set_ylabel(\"CO₂ emissions (Gt)\")\n",
    "ax1.set_title(SUBTITLE, fontsize=12, loc=\"left\", color=\"#555555\")\n",
    "ax1.grid(True, axis=\"y\", linestyle=\"--\", alpha=0.4)\n",
    "\n",
    "ax2.plot(merged[\"Year\"], merged[\"TempAnomaly\"], color=\"#d62728\", linewidth=2)\n",
    "ax2.axhline(0, color=\"#444444\", linestyle=\"--\", linewidth=1)\n",
    "ax2.set_ylabel(\"Temperature anomaly (°C)\")\n",
    "ax2.set_xlabel(\"Year\")\n",
    "ax2.grid(True, axis=\"y\", linestyle=\"--\", alpha=0.4)\n",
    "\n",
    "latest = merged.iloc[-1]\n",
    "ax2.annotate(\n",
    "    ANNOTATION,\n",
    "    xy=(latest[\"Year\"], latest[\"TempAnomaly\"]),\n",
    "    xytext=(latest[\"Year\"] - 25, latest[\"TempAnomaly\"] + 0.4),\n",
    "    arrowprops=dict(arrowstyle=\"->\", color=\"#333333\"),\n",
    "    bbox=dict(boxstyle=\"round,pad=0.3\", fc=\"white\", ec=\"#555555\"),\n",
    ")\n",
    "fig.text(\n",
    "    0.01,\n",
    "    0.01,\n",
    "    f\"{SOURCE} | Units: {UNITS}\",\n",
    "    fontsize=10,\n",
    "    color=\"#555555\",\n",
    ")\n",
    "plt.tight_layout(rect=[0, 0.03, 1, 0.96])\n",
    "plt.show()"
   ]
  },
  {
   "cell_type": "code",
   "execution_count": null,
   "id": "77df160f",
   "metadata": {},
   "outputs": [],
   "source": [
    "print(\"Merged rows plotted:\", merged.shape[0])\n",
    "assert merged.shape[0] == len(ax1.lines[0].get_xdata())"
   ]
  },
  {
   "cell_type": "markdown",
   "id": "0f6cc52d",
   "metadata": {},
   "source": [
    "## 🔁 Loop 4 — Interpret & save (10 min)"
   ]
  },
  {
   "cell_type": "code",
   "execution_count": null,
   "id": "1646e383",
   "metadata": {},
   "outputs": [],
   "source": [
    "from IPython.display import Markdown\n",
    "\n",
    "claim = \"The climate response mirrors the CO₂ surge of the fossil-fuel era.\"\n",
    "evidence = (\n",
    "    \"CO₂ emissions climb from ~6 Gt in 1900 to over 36 Gt today, while anomalies swing from near 0 to +1.2 °C (correlation ≈ {:.2f}).\".format(trend_corr)\n",
    ")\n",
    "visual = \"Stacked Matplotlib plots with shared x-axis (CO₂ fill, temperature line).\"\n",
    "takeaway = \"Aligned axes keep the comparison honest; students should caution that correlation supports, but does not solely prove, causation.\"\n",
    "Markdown(\n",
    "    f\"\"\"\n",
    "| Claim | Evidence | Visual | Takeaway |\n",
    "| --- | --- | --- | --- |\n",
    "| {claim} | {evidence} | {visual} | {takeaway} |\n",
    "\"\"\"\n",
    ")"
   ]
  },
  {
   "cell_type": "markdown",
   "id": "99b0fa35",
   "metadata": {},
   "source": [
    "## 💾 Save the figure for the teacher dashboard"
   ]
  },
  {
   "cell_type": "code",
   "execution_count": null,
   "id": "3307b953",
   "metadata": {},
   "outputs": [],
   "source": [
    "save_last_fig(\"day05_solution_plot.png\")"
   ]
  },
  {
   "cell_type": "markdown",
   "id": "a3576c01",
   "metadata": {},
   "source": [
    "## ✅ Exit Ticket\n",
    "\n",
    "- What policy milestone would you annotate on this chart and why?  \n",
    "- How could you adapt this view to explore per-capita emissions?  \n",
    "- Which uncertainties should we mention when presenting this story to the public?"
   ]
  }
 ],
 "metadata": {},
 "nbformat": 4,
 "nbformat_minor": 5
}