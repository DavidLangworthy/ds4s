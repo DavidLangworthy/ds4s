{
 "cells": [
  {
   "cell_type": "markdown",
   "id": "c78368b3",
   "metadata": {},
   "source": [
    "## 🔗 Open This Notebook in Google Colab\n",
    "\n",
    "[![Open In Colab](https://colab.research.google.com/assets/colab-badge.svg)](https://colab.research.google.com/github/DavidLangworthy/ds4s/blob/main/days/day05/notebook/day05_starter.ipynb)"
   ]
  },
  {
   "cell_type": "markdown",
   "id": "87ce07c0",
   "metadata": {},
   "source": [
    "# 🔥 Day 5 – Capstone: CO₂, Warming, and the Human Story\n",
    "Bring everything together by aligning emissions with temperature change and narrating the stakes."
   ]
  },
  {
   "cell_type": "markdown",
   "id": "3fed57dd",
   "metadata": {},
   "source": [
    "## 🧾 Data Card – CO₂ Emissions & Surface Temperature\n",
    "- **Sources:** [Global Carbon Project](https://www.globalcarbonproject.org/) (global CO₂) and [NASA GISTEMP v4](https://data.giss.nasa.gov/gistemp/).\n",
    "- **Temporal coverage:** 1850–2023 (annual).\n",
    "- **Units:** CO₂ emissions in billion tonnes; temperature anomaly in °C relative to 1951–1980.\n",
    "- **Update cadence:** Updated annually each spring.\n",
    "- **Method notes:** Emissions combine fossil fuel and cement sources; anomalies average land and ocean temperatures.\n",
    "- **Caveats:** Early years have higher uncertainty; CO₂ excludes land-use change; comparing different units requires careful scaling."
   ]
  },
  {
   "cell_type": "markdown",
   "id": "063b0c44",
   "metadata": {},
   "source": [
    "## 🧭 Story Scaffold\n",
    "- **Claim:** How tightly do emissions and warming track each other post-1950?\n",
    "- **Evidence:** Rate of change, divergence, and policy milestones.\n",
    "- **Visual:** Indexed dual-line chart with annotations and key milestones.\n",
    "- **Takeaway:** Stress the causal link but note uncertainties and mitigation opportunities."
   ]
  },
  {
   "cell_type": "code",
   "execution_count": null,
   "id": "823f3b3b",
   "metadata": {},
   "outputs": [],
   "source": [
    "from __future__ import annotations\n",
    "\n",
    "from pathlib import Path\n",
    "import sys\n",
    "\n",
    "import matplotlib.pyplot as plt\n",
    "import pandas as pd\n",
    "\n",
    "for candidate in [Path.cwd(), Path.cwd().parent, Path.cwd().parent.parent]:\n",
    "    utils_path = candidate / \"utils.py\"\n",
    "    if utils_path.exists():\n",
    "        if str(candidate) not in sys.path:\n",
    "            sys.path.insert(0, str(candidate))\n",
    "        break\n",
    "else:\n",
    "    raise FileNotFoundError(\"Unable to locate utils.py. Did you download the full project?\")\n",
    "\n",
    "from utils import (\n",
    "    baseline_style,\n",
    "    diagnose_dataframe,\n",
    "    expect_rows_between,\n",
    "    load_data,\n",
    "    save_last_fig,\n",
    "    validate_columns,\n",
    "    validate_story_elements,\n",
    ")\n",
    "\n",
    "baseline_style()\n"
   ]
  },
  {
   "cell_type": "code",
   "execution_count": null,
   "id": "f85b4b3d",
   "metadata": {},
   "outputs": [],
   "source": [
    "# Example: aligning two time series on a common baseline\n",
    "example = pd.DataFrame(\n",
    "    {\n",
    "        \"Year\": [2000, 2001, 2002],\n",
    "        \"SeriesA\": [10, 12, 15],\n",
    "        \"SeriesB\": [100, 120, 150],\n",
    "    }\n",
    ")\n",
    "base_year = 2000\n",
    "normalized = example.set_index(\"Year\") / example.set_index(\"Year\").loc[base_year]\n",
    "normalized\n"
   ]
  },
  {
   "cell_type": "code",
   "execution_count": null,
   "id": "b55050ad",
   "metadata": {},
   "outputs": [],
   "source": [
    "# Step 1 – Load global temperature and CO₂ datasets\n",
    "temperature_raw = load_data(\n",
    "    \"GLB.Ts+dSST.csv\",\n",
    "    skiprows=1,\n",
    "    usecols=[0, 13],\n",
    "    names=[\"Year\", \"TempAnomaly\"],\n",
    "    header=0,\n",
    ")\n",
    "co2_raw = load_data(\"global_co2.csv\")\n",
    "\n",
    "# --- Starter Notebook elide: load both the NASA temperature file and the CO₂ dataset ---\n"
   ]
  },
  {
   "cell_type": "markdown",
   "id": "a4a98f87",
   "metadata": {},
   "source": [
    "<details>\n",
    "<summary>Loading hint</summary>\n",
    "<ul>\n",
    "<li>Use <code>load_data</code> for both files.</li>\n",
    "<li>The temperature CSV needs <code>skiprows</code> and <code>usecols</code> to target the annual mean column.</li>\n",
    "</ul>\n",
    "</details>"
   ]
  },
  {
   "cell_type": "code",
   "execution_count": null,
   "id": "781a6e70",
   "metadata": {},
   "outputs": [],
   "source": [
    "# Step 2 – Clean the temperature series\n",
    "temperature = (\n",
    "    temperature_raw.assign(\n",
    "        Year=lambda df: pd.to_numeric(df[\"Year\"], errors=\"coerce\"),\n",
    "        TempAnomaly=lambda df: pd.to_numeric(df[\"TempAnomaly\"], errors=\"coerce\"),\n",
    "    )\n",
    "    .dropna()\n",
    "    .astype({\"Year\": int})\n",
    "    .query(\"Year >= 1950\")\n",
    ")\n",
    "\n",
    "# --- Starter Notebook elide: coerce numeric values, drop missing rows, and filter from 1950 onward ---\n"
   ]
  },
  {
   "cell_type": "code",
   "execution_count": null,
   "id": "59e6a639",
   "metadata": {},
   "outputs": [],
   "source": [
    "# Step 3 – Clean the CO₂ emissions series\n",
    "co2_clean = co2_raw.rename(columns={\"Annual CO2 emissions\": \"CO2\", \"co2\": \"CO2\"})\n",
    "if \"CO2\" not in co2_clean.columns:\n",
    "    raise ValueError(\"Expected a CO2 column in the emissions dataset.\")\n",
    "co2 = (\n",
    "    co2_clean[[\"Year\", \"CO2\"]]\n",
    "    .rename(columns={\"CO2\": \"CO2_gt\"})\n",
    "    .dropna()\n",
    "    .query(\"Year >= 1950\")\n",
    ")\n",
    "co2[\"CO2_gt\"] = pd.to_numeric(co2[\"CO2_gt\"], errors=\"coerce\")\n",
    "co2 = co2.dropna()\n",
    "co2[\"Year\"] = co2[\"Year\"].astype(int)\n",
    "\n",
    "# --- Starter Notebook elide: rename the emissions column to CO2_gt and focus on post-1950 data ---\n"
   ]
  },
  {
   "cell_type": "markdown",
   "id": "30e0bfbe",
   "metadata": {},
   "source": [
    "<details>\n",
    "<summary>Cleaning hint</summary>\n",
    "<ul>\n",
    "<li>Rename <code>\"Annual CO2 emissions\"</code> to something shorter.</li>\n",
    "<li>Filter to the years that overlap with the temperature record (≥1950).</li>\n",
    "<li>Drop rows with missing data after coercing to numeric.</li>\n",
    "</ul>\n",
    "</details>"
   ]
  },
  {
   "cell_type": "code",
   "execution_count": null,
   "id": "fb687c1e",
   "metadata": {},
   "outputs": [],
   "source": [
    "# Step 4 – Merge and run diagnostics\n",
    "climate = temperature.merge(co2, on=\"Year\", how=\"inner\")\n",
    "diagnose_dataframe(climate, name=\"Temperature & CO2 (post-1950)\")\n",
    "validate_columns(climate, [\"Year\", \"TempAnomaly\", \"CO2_gt\"], name=\"climate\")\n",
    "expect_rows_between(climate, 60, 80, name=\"climate\")\n"
   ]
  },
  {
   "cell_type": "code",
   "execution_count": null,
   "id": "e6bbf110",
   "metadata": {},
   "outputs": [],
   "source": [
    "# Step 5 – Normalize series for a shared axis\n",
    "baseline_year = 1960\n",
    "if baseline_year not in climate[\"Year\"].values:\n",
    "    raise ValueError(f\"Baseline year {baseline_year} missing; choose a year present in the merged data.\")\n",
    "baseline_values = climate.set_index(\"Year\").loc[baseline_year]\n",
    "\n",
    "climate[\"Temp_index\"] = climate[\"TempAnomaly\"] - baseline_values[\"TempAnomaly\"]\n",
    "climate[\"CO2_index\"] = climate[\"CO2_gt\"] / baseline_values[\"CO2_gt\"]\n",
    "climate.head()\n",
    "\n",
    "# --- Starter Notebook elide: compute Temp_index (relative to 1960) and CO2_index (ratio to 1960) ---\n"
   ]
  },
  {
   "cell_type": "markdown",
   "id": "a6ea626d",
   "metadata": {},
   "source": [
    "<details>\n",
    "<summary>Indexing hint</summary>\n",
    "<ul>\n",
    "<li>Set the dataframe index to <code>Year</code> so you can look up <code>baseline_year</code>.</li>\n",
    "<li>Subtract the baseline temperature to express change relative to 1960.</li>\n",
    "<li>Divide emissions by the 1960 value to create a growth index.</li>\n",
    "</ul>\n",
    "</details>"
   ]
  },
  {
   "cell_type": "code",
   "execution_count": null,
   "id": "7f4a46e6",
   "metadata": {},
   "outputs": [],
   "source": [
    "# Step 6 – Story metadata strings\n",
    "TITLE = \"Emissions and Warming Rose Together\"\n",
    "SUBTITLE = \"Global CO₂ emissions vs. surface temperature anomaly (indexed to 1960)\"\n",
    "ANNOTATION = \"Post-1990 emissions flatten briefly, but temperatures keep climbing.\"\n",
    "SOURCE = \"Global Carbon Project & NASA GISTEMP (downloaded 2024-04-15)\"\n",
    "UNITS = \"CO₂ index (1960=1) and temperature change since 1960 (°C)\"\n",
    "\n",
    "validate_story_elements(\n",
    "    {\n",
    "        \"TITLE\": TITLE,\n",
    "        \"SUBTITLE\": SUBTITLE,\n",
    "        \"ANNOTATION\": ANNOTATION,\n",
    "        \"SOURCE\": SOURCE,\n",
    "        \"UNITS\": UNITS,\n",
    "    }\n",
    ")\n",
    "\n",
    "# --- Starter Notebook elide: edit the storytelling metadata ---\n"
   ]
  },
  {
   "cell_type": "code",
   "execution_count": null,
   "id": "16ffe01d",
   "metadata": {},
   "outputs": [],
   "source": [
    "# Step 7 – Build the capstone chart\n",
    "fig, ax = plt.subplots(figsize=(11, 6))\n",
    "ax.plot(climate[\"Year\"], climate[\"Temp_index\"], color=\"#d62728\", linewidth=2.5, label=\"Temperature change (°C vs 1960)\")\n",
    "ax.plot(climate[\"Year\"], climate[\"CO2_index\"], color=\"#1f77b4\", linewidth=2.5, label=\"CO₂ emissions (index, 1960=1)\")\n",
    "ax.axhline(0, color=\"#555555\", linestyle=\"--\", linewidth=1)\n",
    "ax.set_title(TITLE)\n",
    "ax.set_xlabel(f\"Year — {SUBTITLE}\")\n",
    "ax.set_ylabel(UNITS)\n",
    "ax.legend(loc=\"upper left\")\n",
    "ax.text(0.01, -0.2, f\"Source: {SOURCE}\", transform=ax.transAxes)\n",
    "annotation_year = 1992 if 1992 in climate[\"Year\"].values else int(climate[\"Year\"].iloc[-1])\n",
    "ax.annotate(\n",
    "    ANNOTATION,\n",
    "    xy=(annotation_year, climate.set_index(\"Year\").loc[annotation_year, \"CO2_index\"]),\n",
    "    xytext=(1975, climate[\"CO2_index\"].max() + 0.2),\n",
    "    arrowprops={\"arrowstyle\": \"->\", \"color\": \"#333333\"},\n",
    "    fontsize=11,\n",
    ")\n",
    "fig.tight_layout()\n",
    "capstone_fig = fig\n",
    "fig\n",
    "\n",
    "# --- Starter Notebook elide: plot both indexed series with a shared axis and annotation ---\n"
   ]
  },
  {
   "cell_type": "code",
   "execution_count": null,
   "id": "5c3d0f84",
   "metadata": {},
   "outputs": [],
   "source": [
    "# Step 8 – Final validation and save option\n",
    "validate_story_elements(\n",
    "    {\n",
    "        \"TITLE\": TITLE,\n",
    "        \"SUBTITLE\": SUBTITLE,\n",
    "        \"ANNOTATION\": ANNOTATION,\n",
    "        \"SOURCE\": SOURCE,\n",
    "        \"UNITS\": UNITS,\n",
    "    }\n",
    ")\n",
    "save_last_fig(\"day05_capstone_climate.png\", fig=capstone_fig)\n"
   ]
  }
 ],
 "metadata": {},
 "nbformat": 4,
 "nbformat_minor": 5
}
