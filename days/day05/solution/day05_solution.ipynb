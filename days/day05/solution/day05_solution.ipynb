{
 "cells": [
  {
   "cell_type": "markdown",
   "id": "63373fea",
   "metadata": {},
   "source": [
    "## 🔗 Open This Notebook in Google Colab\n",
    "\n",
    "[![Open In Colab](https://colab.research.google.com/assets/colab-badge.svg)](https://colab.research.google.com/github/DavidLangworthy/ds4s/blob/master/Day%205_%20Capstone%20%E2%80%93%20CO%E2%82%82%20%26%20Climate.ipynb)"
   ]
  },
  {
   "cell_type": "markdown",
   "id": "189922b9",
   "metadata": {},
   "source": [
    "# 🔥 Day 5 – Capstone: CO₂ Emissions & Temperature\n",
    "### Synthesize the week with a polished story, safeguards, and reflection\n",
    "\n",
    "This capstone still honors the learn → do → check rhythm, but you now orchestrate multiple datasets to tell the human-caused climate story.\n",
    "\n",
    "---\n",
    "\n",
    "## 🧠 Learning Rhythm\n",
    "- 🔁 Six loops: setup, load emissions, load temperature, align indices, visualize, reflect.\n",
    "- 🧪 Diagnostics emphasize unit integrity and correlation checks to avoid misleading comparisons.\n",
    "- 🧱 Scaffold encourages building a narrative with claims, evidence, and limitations.\n",
    "\n",
    "> **Teacher Sidecar**: Budget 70 minutes. Have students submit the filled scaffold (claim/evidence/visual/takeaway) plus exported figure for quick assessment.\n",
    "\n",
    "## 📇 Data Card — Global CO₂ & Temperature\n",
    "- **Sources**: Our World in Data global CO₂ (2023 release) and NASA GISTEMP temperature anomalies.\n",
    "- **Temporal coverage**: 1900–2023 (annual).\n",
    "- **Metrics**: CO₂ emissions (gigatonnes/year) and temperature anomaly (°C vs. 1951–1980 baseline).\n",
    "- **Last updated**: January 2024.\n",
    "- **Caveats**: NASA anomalies are preliminary for the latest year; dual-axis charts must clearly label units to avoid misinterpretation.\n",
    "\n",
    "## 🧵 Story Scaffold (Claim → Evidence → Visual → Takeaway)\n",
    "- **Claim**: Rising CO₂ emissions track closely with global temperature anomalies.\n",
    "- **Evidence to gather**: Joint dataset with both metrics aligned by year.\n",
    "- **Visual plan**: Dual-axis line chart with explicit axis labeling and annotation for recent highs.\n",
    "- **Takeaway**: Human-driven emissions and temperature rise move together, underscoring the urgency of mitigation.\n"
   ]
  },
  {
   "cell_type": "code",
   "execution_count": null,
   "id": "1c728163",
   "metadata": {},
   "outputs": [],
   "source": [
    "\n",
    "from __future__ import annotations\n",
    "\n",
    "from pathlib import Path\n",
    "from typing import Any, Mapping, Sequence\n",
    "\n",
    "import matplotlib.pyplot as plt\n",
    "import numpy as np\n",
    "import pandas as pd\n",
    "import seaborn as sns\n",
    "from IPython.display import display\n",
    "\n",
    "DATA_DIR = Path.cwd() / \"data\"\n",
    "\n",
    "sns.set_theme(style=\"whitegrid\", font_scale=1.1)\n",
    "plt.rcParams.update({\n",
    "    \"axes.titlesize\": 16,\n",
    "    \"axes.labelsize\": 13,\n",
    "    \"axes.grid\": True,\n",
    "    \"figure.figsize\": (11, 6),\n",
    "    \"figure.dpi\": 120,\n",
    "})\n",
    "\n",
    "def ping_environment(packages: Mapping[str, object]) -> None:\n",
    "    \"\"\"Print library versions so teachers can confirm the runtime.\"\"\"\n",
    "    for label, module in packages.items():\n",
    "        version = getattr(module, \"__version__\", \"built-in\")\n",
    "        print(f\"{label}: {version}\")\n",
    "    print(\"Environment check complete ✅\")\n",
    "\n",
    "def load_data(file_name: str, /, **kwargs) -> pd.DataFrame:\n",
    "    \"\"\"Load a CSV from the shared data folder with a friendly status message.\"\"\"\n",
    "    path = DATA_DIR / file_name\n",
    "    if not path.exists():\n",
    "        raise FileNotFoundError(f\"Expected data file at {path}\")\n",
    "    df = pd.read_csv(path, **kwargs)\n",
    "    print(f\"Loaded {file_name} → shape {df.shape}\")\n",
    "    return df\n",
    "\n",
    "def validate_columns(df: pd.DataFrame, required: Sequence[str]) -> pd.DataFrame:\n",
    "    missing = [col for col in required if col not in df.columns]\n",
    "    if missing:\n",
    "        raise ValueError(f\"Missing expected columns: {missing}\")\n",
    "    print(f\"Columns validated ✅ {list(required)}\")\n",
    "    return df\n",
    "\n",
    "def expect_rows_between(df: pd.DataFrame, lower: int, upper: int, label: str = \"rows\") -> pd.DataFrame:\n",
    "    n_rows = len(df)\n",
    "    if not (lower <= n_rows <= upper):\n",
    "        raise ValueError(\n",
    "            f\"Unexpected {label}: {n_rows} (expected between {lower} and {upper})\"\n",
    "        )\n",
    "    print(f\"{label.capitalize()} check ✅ {n_rows} (expected {lower}-{upper})\")\n",
    "    return df\n",
    "\n",
    "def quick_peek(df: pd.DataFrame, n: int = 5) -> pd.DataFrame:\n",
    "    \"\"\"Display a head preview and NA counts for formative assessment.\"\"\"\n",
    "    display(df.head(n))\n",
    "    print(\"Null values per column:\")\n",
    "    print(df.isna().sum())\n",
    "    return df\n",
    "\n",
    "def ensure_metadata(**metadata: str) -> None:\n",
    "    blanks = [key for key, value in metadata.items() if not str(value).strip()]\n",
    "    if blanks:\n",
    "        raise ValueError(f\"Please fill in metadata fields: {blanks}\")\n",
    "    print(\"Story metadata looks great ✅\")\n",
    "\n",
    "def annotate_source(ax: plt.Axes, *, source: str, units: str) -> plt.Axes:\n",
    "    ax.text(\n",
    "        0.0,\n",
    "        -0.22,\n",
    "        f\"Source: {source}\n",
    "Units: {units}\",\n",
    "        transform=ax.transAxes,\n",
    "        ha=\"left\",\n",
    "        fontsize=10,\n",
    "    )\n",
    "    return ax\n",
    "\n",
    "def _resolve_fig(fig: Any | None) -> Any:\n",
    "    if fig is not None:\n",
    "        return fig\n",
    "    if plt.get_fignums():\n",
    "        return plt.gcf()\n",
    "    return None\n",
    "\n",
    "def save_last_fig(fig: Any | None, filename: str) -> Path:\n",
    "    plots_dir = Path.cwd() / \"plots\"\n",
    "    plots_dir.mkdir(parents=True, exist_ok=True)\n",
    "    resolved = _resolve_fig(fig)\n",
    "    if resolved is None:\n",
    "        raise ValueError(\"No recent figure detected.\")\n",
    "\n",
    "    output_path = plots_dir / filename\n",
    "\n",
    "    if hasattr(resolved, \"savefig\"):\n",
    "        resolved.savefig(output_path, dpi=300, bbox_inches=\"tight\")\n",
    "        print(f\"Saved figure to {output_path}\")\n",
    "        return output_path\n",
    "\n",
    "    if hasattr(resolved, \"write_image\"):\n",
    "        try:\n",
    "            resolved.write_image(str(output_path))\n",
    "            print(f\"Saved figure to {output_path}\")\n",
    "            return output_path\n",
    "        except Exception as exc:\n",
    "            html_path = output_path.with_suffix(\".html\")\n",
    "            resolved.write_html(str(html_path))\n",
    "            print(f\"Saved interactive figure to {html_path} (fallback: {exc})\")\n",
    "            return html_path\n",
    "\n",
    "    raise ValueError(\"Don't know how to export this figure type.\")\n"
   ]
  },
  {
   "cell_type": "markdown",
   "id": "533a7136",
   "metadata": {},
   "source": [
    "## 🔁 Loop 1 · Confirm the setup\n",
    "*Goal: Ensure pandas and Matplotlib are ready for the capstone analysis.*"
   ]
  },
  {
   "cell_type": "code",
   "execution_count": null,
   "id": "a0a063b1",
   "metadata": {},
   "outputs": [],
   "source": [
    "ping_environment({\"pandas\": pd, \"matplotlib\": plt, \"seaborn\": sns})\n",
    "assert DATA_DIR.exists(), f\"Data directory missing: {DATA_DIR}\"\n",
    "print(f\"Data files available: {len(list(DATA_DIR.glob('*')))} items\")"
   ]
  },
  {
   "cell_type": "markdown",
   "id": "4b529578",
   "metadata": {},
   "source": [
    "## 🔁 Loop 2 · Load global CO₂ emissions\n",
    "*Goal: Inspect the emissions series and validate expected ranges.*"
   ]
  },
  {
   "cell_type": "code",
   "execution_count": null,
   "id": "415fed2b",
   "metadata": {},
   "outputs": [],
   "source": [
    "co2 = load_data(\"global_co2.csv\")\n",
    "validate_columns(co2, [\"Year\", \"CO2\"])\n",
    "co2 = co2.set_index(\"Year\").sort_index()\n",
    "expect_rows_between(co2, 160, 190, label=\"CO₂ annual rows\")\n",
    "print(\"CO₂ range (Gt):\", co2[\"CO2\"].min(), \"→\", co2[\"CO2\"].max())\n",
    "quick_peek(co2.tail())\n"
   ]
  },
  {
   "cell_type": "markdown",
   "id": "337719c6",
   "metadata": {},
   "source": [
    "## 🔁 Loop 3 · Load NASA temperature anomalies\n",
    "*Goal: Bring in the temperature series with matching structure.*"
   ]
  },
  {
   "cell_type": "code",
   "execution_count": null,
   "id": "36262184",
   "metadata": {},
   "outputs": [],
   "source": [
    "temp = load_data(\"GLB.Ts+dSST.csv\", skiprows=1, usecols=[\"Year\", \"J-D\"], na_values=[\"***\"])\n",
    "validate_columns(temp, [\"Year\", \"J-D\"])\n",
    "temp = temp.rename(columns={\"J-D\": \"TempAnomaly\"}).dropna()\n",
    "temp[\"TempAnomaly\"] = pd.to_numeric(temp[\"TempAnomaly\"], errors=\"coerce\")\n",
    "temp = temp.set_index(\"Year\").sort_index()\n",
    "expect_rows_between(temp, 140, 190, label=\"temperature annual rows\")\n",
    "print(\"Temperature anomaly range (°C):\", temp[\"TempAnomaly\"].min(), \"→\", temp[\"TempAnomaly\"].max())\n",
    "quick_peek(temp.tail())\n"
   ]
  },
  {
   "cell_type": "markdown",
   "id": "721126c9",
   "metadata": {},
   "source": [
    "## 🔁 Loop 4 · Align and diagnose the merged dataset\n",
    "*Goal: Combine on year, forward-fill diagnostics, and confirm alignment.*"
   ]
  },
  {
   "cell_type": "code",
   "execution_count": null,
   "id": "b5180c29",
   "metadata": {},
   "outputs": [],
   "source": [
    "climate = co2.join(temp, how=\"inner\")\n",
    "expect_rows_between(climate, 120, 190, label=\"aligned years\")\n",
    "print(\"Merged shape:\", climate.shape)\n",
    "print(climate.tail())\n",
    "correlation = climate[\"CO2\"].corr(climate[\"TempAnomaly\"])\n",
    "print(f\"Pearson correlation (CO₂ vs Temp anomaly): {correlation:.2f}\")\n",
    "assert correlation > 0.8, \"We expect a strong positive correlation over the full record.\"\n"
   ]
  },
  {
   "cell_type": "markdown",
   "id": "a77f9761",
   "metadata": {},
   "source": [
    "## 🔁 Loop 5 · Visualize with story-first metadata\n",
    "*Goal: Build a dual-axis chart with explicit labeling and annotation.*"
   ]
  },
  {
   "cell_type": "code",
   "execution_count": null,
   "id": "1473e6d0",
   "metadata": {},
   "outputs": [],
   "source": [
    "TITLE = \"CO₂ Emissions and Global Temperature Rise Move Together\"\n",
    "SUBTITLE = \"Global totals, 1900–2023\"\n",
    "ANNOTATION = \"Both metrics reach record highs in the 2010s and 2020s.\"\n",
    "SOURCE = \"Our World in Data (CO₂) + NASA GISTEMP (temperature)\"\n",
    "UNITS = \"CO₂: gigatonnes/year; Temp: °C anomaly vs 1951–1980\"\n",
    "\n",
    "ensure_metadata(TITLE=TITLE, SUBTITLE=SUBTITLE, ANNOTATION=ANNOTATION, SOURCE=SOURCE, UNITS=UNITS)\n",
    "\n",
    "fig, ax1 = plt.subplots(figsize=(11, 6))\n",
    "ax1.plot(climate.index, climate[\"CO2\"], color=\"#1f77b4\", linewidth=2.5, label=\"CO₂ emissions\")\n",
    "ax1.set_xlabel(\"Year\")\n",
    "ax1.set_ylabel(\"CO₂ emissions (Gt/year)\", color=\"#1f77b4\")\n",
    "ax1.tick_params(axis=\"y\", labelcolor=\"#1f77b4\")\n",
    "\n",
    "ax2 = ax1.twinx()\n",
    "ax2.plot(climate.index, climate[\"TempAnomaly\"], color=\"#d62728\", linewidth=2.5, label=\"Temperature anomaly\")\n",
    "ax2.set_ylabel(\"Temperature anomaly (°C)\", color=\"#d62728\")\n",
    "ax2.tick_params(axis=\"y\", labelcolor=\"#d62728\")\n",
    "\n",
    "ax1.set_title(f\"{TITLE}\n",
    "{SUBTITLE}\")\n",
    "ax1.grid(True, which=\"major\", axis=\"both\", linestyle=\"--\", alpha=0.4)\n",
    "\n",
    "last_year = climate.index.max()\n",
    "ax1.annotate(\n",
    "    f\"{last_year}: {climate.loc[last_year, 'CO2']:.1f} Gt\",\n",
    "    xy=(last_year, climate.loc[last_year, \"CO2\"]),\n",
    "    xytext=(last_year - 20, climate.loc[last_year, \"CO2\"] + 5),\n",
    "    arrowprops=dict(arrowstyle=\"->\", color=\"#1f77b4\"),\n",
    "    color=\"#1f77b4\",\n",
    "    bbox=dict(boxstyle=\"round,pad=0.3\", fc=\"white\", ec=\"#1f77b4\"),\n",
    ")\n",
    "ax2.annotate(\n",
    "    f\"{last_year}: {climate.loc[last_year, 'TempAnomaly']:.2f} °C\",\n",
    "    xy=(last_year, climate.loc[last_year, \"TempAnomaly\"]),\n",
    "    xytext=(last_year - 35, climate.loc[last_year, \"TempAnomaly\"] + 0.3),\n",
    "    arrowprops=dict(arrowstyle=\"->\", color=\"#d62728\"),\n",
    "    color=\"#d62728\",\n",
    "    bbox=dict(boxstyle=\"round,pad=0.3\", fc=\"white\", ec=\"#d62728\"),\n",
    ")\n",
    "ax1.text(\n",
    "    climate.index.min() + 5,\n",
    "    climate[\"CO2\"].min() + 10,\n",
    "    ANNOTATION,\n",
    "    fontsize=11,\n",
    "    color=\"#333333\",\n",
    "    bbox=dict(boxstyle=\"round,pad=0.4\", facecolor=\"white\", alpha=0.85),\n",
    ")\n",
    "annotate_source(ax1, source=SOURCE, units=UNITS)\n",
    "fig.tight_layout()\n",
    "plt.show()\n"
   ]
  },
  {
   "cell_type": "markdown",
   "id": "e4c7f986",
   "metadata": {},
   "source": [
    "## 🔁 Loop 6 · Interpret and self-check\n",
    "*Goal: Quantify the change and prepare the capstone narrative.*"
   ]
  },
  {
   "cell_type": "code",
   "execution_count": null,
   "id": "2307ffe0",
   "metadata": {},
   "outputs": [],
   "source": [
    "base_period = climate.loc[1900:1910]\n",
    "recent_period = climate.loc[2013:2023]\n",
    "co2_change = recent_period[\"CO2\"].mean() - base_period[\"CO2\"].mean()\n",
    "temp_change = recent_period[\"TempAnomaly\"].mean() - base_period[\"TempAnomaly\"].mean()\n",
    "print(f\"Average CO₂ increase vs. early 1900s: {co2_change:.1f} Gt/year\")\n",
    "print(f\"Average temperature increase vs. early 1900s: {temp_change:.2f} °C\")\n",
    "assert co2_change > 25, \"Expect CO₂ to rise by dozens of gigatonnes.\"\n",
    "assert temp_change > 1.0, \"Expect temperature anomaly to exceed +1 °C.\"\n"
   ]
  },
  {
   "cell_type": "markdown",
   "id": "c361b4f0",
   "metadata": {},
   "source": [
    "### 🧾 Claim → Evidence → Visual → Takeaway (filled)\n",
    "- **Claim**: Human-driven CO₂ emissions and global temperatures rise in tandem.\n",
    "- **Evidence**: Strong Pearson correlation plus mean increases computed above.\n",
    "- **Visual**: Dual-axis chart with annotated recent highs and transparent metadata.\n",
    "- **Takeaway**: Mitigating emissions is essential to slow further warming.\n",
    "\n",
    "> **Limitation prompt**: Dual axes can confuse; consider normalizing both series or plotting anomalies on a shared index for alternate presentations.\n",
    "\n",
    "---\n",
    "\n",
    "### 💾 Save your work\n",
    "Export the figure for your portfolio or presentation.\n"
   ]
  },
  {
   "cell_type": "code",
   "execution_count": null,
   "id": "bc17df55",
   "metadata": {},
   "outputs": [],
   "source": [
    "save_last_fig(fig, \"day05_solution_plot.png\")"
   ]
  }
 ],
 "metadata": {
  "colab": {
   "authorship_tag": "ABX9TyNrPwOkZwNEizIssfpEdkJP",
   "provenance": []
  },
  "kernelspec": {
   "display_name": "Python 3",
   "name": "python3"
  },
  "language_info": {
   "name": "python"
  }
 },
 "nbformat": 4,
 "nbformat_minor": 0
}
