{
 "cells": [
  {
   "cell_type": "markdown",
   "id": "47b54edc",
   "metadata": {},
   "source": [
    "## 🔗 Open This Notebook in Google Colab\n",
    "\n",
    "[![Open In Colab](https://colab.research.google.com/assets/colab-badge.svg)](https://colab.research.google.com/github/DavidLangworthy/ds4s/blob/main/days/day05/notebook/day05_starter.ipynb)"
   ]
  },
  {
   "cell_type": "markdown",
   "id": "1191b4df",
   "metadata": {},
   "source": [
    "# 🌐 Day 5 – Capstone: Carbon Emissions and Global Temperature\n",
    "\n",
    "For the final lab you will bring together emissions and temperature anomalies to explain how human activity drives warming."
   ]
  },
  {
   "cell_type": "markdown",
   "id": "d44c88ca",
   "metadata": {},
   "source": [
    "### Data Card — Emissions and Temperature\n",
    "\n",
    "| Dataset | File | Units | Coverage | Caveats |\n",
    "| --- | --- | --- | --- | --- |\n",
    "| Global CO₂ emissions | `data/global_co2.csv` | Gigatonnes CO₂ | 1750–2023 (annual) | Recent estimates may be revised when inventories update. |\n",
    "| NASA GISTEMP anomalies | `data/GLB.Ts+dSST.csv` | °C anomaly vs. 1951–1980 | 1880–2024 (annual) | Later years provisional; anomalies relative to baseline. |\n",
    "| Integration | Inner join on Year | 1880–2023 overlap | Aligns only the shared years for a consistent view. |\n",
    "| Caveats | — | — | — | Emissions dataset excludes land-use change; temperature anomalies include combined land/ocean record. |\n"
   ]
  },
  {
   "cell_type": "markdown",
   "id": "69ac9cba",
   "metadata": {},
   "source": [
    "### Step 1 · Imports and helpers\n",
    "\n",
    "We will use pandas and Matplotlib to build the final dual-axis story."
   ]
  },
  {
   "cell_type": "code",
   "execution_count": null,
   "id": "5146fc12",
   "metadata": {},
   "outputs": [],
   "source": [
    "import pandas as pd\n",
    "import matplotlib.pyplot as plt\n",
    "\n",
    "from utils import (\n",
    "    baseline_style,\n",
    "    expect_rows_between,\n",
    "    load_csv,\n",
    "    quick_check,\n",
    "    save_last_fig,\n",
    "    validate_columns,\n",
    "    validate_story_elements,\n",
    ")\n",
    "\n",
    "baseline_style()\n"
   ]
  },
  {
   "cell_type": "markdown",
   "id": "a3ef0311",
   "metadata": {},
   "source": [
    "### Step 2 · Load emissions and temperature datasets\n",
    "\n",
    "Use the shared helper so GitHub can fetch the CSVs if they are missing locally."
   ]
  },
  {
   "cell_type": "code",
   "execution_count": null,
   "id": "1ea10bde",
   "metadata": {},
   "outputs": [],
   "source": [
    "co2 = load_csv(\"data/global_co2.csv\")\n",
    "temperatures = load_csv(\"data/GLB.Ts+dSST.csv\", read_csv_kwargs=dict(skiprows=1))\n",
    "quick_check(co2.head(), name=\"CO2 preview\")\n",
    "quick_check(temperatures.head(), name=\"Temperature preview\")\n"
   ]
  },
  {
   "cell_type": "markdown",
   "id": "7dae7aa5",
   "metadata": {},
   "source": [
    "### Step 3 · Clean and align the columns we need\n",
    "\n",
    "Focus on the overlapping years and convert numeric fields properly."
   ]
  },
  {
   "cell_type": "code",
   "execution_count": null,
   "id": "d328bba2",
   "metadata": {},
   "outputs": [],
   "source": [
    "co2 = co2.rename(columns={\"CO2\": \"CO2_Gt\"})\n",
    "validate_columns(co2, [\"Year\", \"CO2_Gt\"])\n",
    "co2[\"CO2_Gt\"] = pd.to_numeric(co2[\"CO2_Gt\"], errors=\"coerce\")\n",
    "\n",
    "temps = (\n",
    "    temperatures[[\"Year\", \"J-D\"]]\n",
    "    .rename(columns={\"J-D\": \"TempAnomaly\"})\n",
    "    .assign(TempAnomaly=lambda df: pd.to_numeric(df[\"TempAnomaly\"], errors=\"coerce\"))\n",
    "    .dropna(subset=[\"TempAnomaly\"])\n",
    ")\n",
    "validate_columns(temps, [\"Year\", \"TempAnomaly\"])\n"
   ]
  },
  {
   "cell_type": "markdown",
   "id": "910c4ed3",
   "metadata": {},
   "source": [
    "### Step 4 · Merge the datasets and run diagnostics\n",
    "\n",
    "Check the joined range and ensure there are no gaps."
   ]
  },
  {
   "cell_type": "code",
   "execution_count": null,
   "id": "eecf2fe2",
   "metadata": {},
   "outputs": [],
   "source": [
    "merged = co2.merge(temps, on=\"Year\", how=\"inner\")\n",
    "merged = merged.dropna()\n",
    "expect_rows_between(merged, minimum=100, maximum=150)\n",
    "quick_check(merged.head(), name=\"Merged head\")\n",
    "quick_check(merged.tail(), name=\"Merged tail\")\n"
   ]
  },
  {
   "cell_type": "markdown",
   "id": "50cd2f0f",
   "metadata": {},
   "source": [
    "### Step 5 · Prepare rolling averages for smoother context\n",
    "\n",
    "A 5-year mean helps highlight the long-term co-movement."
   ]
  },
  {
   "cell_type": "code",
   "execution_count": null,
   "id": "30c74ece",
   "metadata": {},
   "outputs": [],
   "source": [
    "merged = merged.assign(\n",
    "    CO2_rolling=lambda df: df[\"CO2_Gt\"].rolling(window=5, min_periods=1).mean(),\n",
    "    Temp_rolling=lambda df: df[\"TempAnomaly\"].rolling(window=5, min_periods=1).mean(),\n",
    ")\n",
    "quick_check(merged.tail(), name=\"Merged with rolling\")\n"
   ]
  },
  {
   "cell_type": "markdown",
   "id": "17905bd5",
   "metadata": {},
   "source": [
    "### Step 6 · Story checklist\n",
    "\n",
    "Craft the final narrative before plotting."
   ]
  },
  {
   "cell_type": "code",
   "execution_count": null,
   "id": "74048689",
   "metadata": {},
   "outputs": [],
   "source": [
    "story = {\n",
    "    \"title\": \"Emissions and Temperatures Rise in Lockstep\",\n",
    "    \"subtitle\": \"Global CO₂ emissions (gigatonnes) vs. NASA temperature anomalies (°C)\",\n",
    "    \"annotation\": \"Both metrics accelerate sharply after 1950, underscoring fossil fuel dependence.\",\n",
    "    \"source\": \"Global Carbon Project & NASA GISS (downloaded 2025-01)\",\n",
    "    \"units\": \"Gigatonnes CO₂ / °C anomaly\",\n",
    "}\n",
    "validate_story_elements(story)\n"
   ]
  },
  {
   "cell_type": "markdown",
   "id": "7f935ccb",
   "metadata": {},
   "source": [
    "### Step 7 · Dual-axis plot with safeguards\n",
    "\n",
    "Use contrasting colours and matching annotations so the two axes are unambiguous."
   ]
  },
  {
   "cell_type": "code",
   "execution_count": null,
   "id": "4ee54ec0",
   "metadata": {},
   "outputs": [],
   "source": [
    "fig, ax_co2 = plt.subplots(figsize=(11, 6))\n",
    "ax_temp = ax_co2.twinx()\n",
    "\n",
    "ax_co2.plot(merged[\"Year\"], merged[\"CO2_Gt\"], color=\"#495057\", linewidth=1.2, alpha=0.5, label=\"CO₂ emissions (annual)\")\n",
    "ax_co2.plot(merged[\"Year\"], merged[\"CO2_rolling\"], color=\"#212529\", linewidth=2.2, label=\"CO₂ emissions (5-year mean)\")\n",
    "ax_co2.set_ylabel(\"CO₂ emissions (Gt)\", color=\"#212529\")\n",
    "ax_co2.tick_params(axis=\"y\", labelcolor=\"#212529\")\n",
    "\n",
    "ax_temp.plot(merged[\"Year\"], merged[\"TempAnomaly\"], color=\"#e85d04\", linewidth=1.2, alpha=0.4, label=\"Temperature anomaly (annual)\")\n",
    "ax_temp.plot(merged[\"Year\"], merged[\"Temp_rolling\"], color=\"#d00000\", linewidth=2.2, label=\"Temperature anomaly (5-year mean)\")\n",
    "ax_temp.set_ylabel(\"Temperature anomaly (°C)\", color=\"#d00000\")\n",
    "ax_temp.tick_params(axis=\"y\", labelcolor=\"#d00000\")\n",
    "\n",
    "ax_co2.set_title(f\"{story['title']}\\n{story['subtitle']}\", pad=16)\n",
    "ax_co2.set_xlabel(\"Year\")\n",
    "ax_co2.grid(alpha=0.3)\n",
    "ax_co2.text(0.01, -0.18, f\"Source: {story['source']}\", transform=ax_co2.transAxes, fontsize=9, ha=\"left\")\n",
    "\n",
    "ax_temp.annotate(\n",
    "    story[\"annotation\"],\n",
    "    xy=(1960, merged.loc[merged[\"Year\"] == 1960, \"Temp_rolling\"].iloc[0]),\n",
    "    xytext=(1900, merged[\"Temp_rolling\"].max()),\n",
    "    arrowprops=dict(arrowstyle=\"->\", color=\"#d00000\"),\n",
    "    fontsize=11,\n",
    "    color=\"#d00000\",\n",
    ")\n",
    "\n",
    "lines = ax_co2.get_lines() + ax_temp.get_lines()\n",
    "labels = [line.get_label() for line in lines]\n",
    "ax_co2.legend(lines, labels, loc=\"upper left\")\n",
    "plt.tight_layout()\n",
    "plt.show()\n"
   ]
  },
  {
   "cell_type": "markdown",
   "id": "24ee6b0e",
   "metadata": {},
   "source": [
    "### Step 8 · Export the figure for archival use\n",
    "\n",
    "This keeps the final capstone visual high resolution for assessment."
   ]
  },
  {
   "cell_type": "code",
   "execution_count": null,
   "id": "2b4d6db2",
   "metadata": {},
   "outputs": [],
   "source": [
    "save_last_fig(fig, \"plots/day05_solution_dual_axis.png\")\n"
   ]
  },
  {
   "cell_type": "markdown",
   "id": "3ce0299b",
   "metadata": {},
   "source": [
    "### Step 9 · Reflection prompts\n",
    "\n",
    "- How would you explain this chart to someone unfamiliar with climate science?\n",
    "- Which diagnostics gave you confidence in the merged dataset?\n",
    "- Note one uncertainty or caveat to mention alongside your story."
   ]
  }
 ],
 "metadata": {
  "kernelspec": {
   "display_name": "Python 3",
   "language": "python",
   "name": "python3"
  }
 },
 "nbformat": 4,
 "nbformat_minor": 5
}