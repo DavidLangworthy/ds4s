{
 "cells": [
  {
   "cell_type": "markdown",
   "id": "d064f2a5",
   "metadata": {},
   "source": [
    "## 🔗 Open This Notebook in Google Colab\n",
    "\n",
    "[![Open In Colab](https://colab.research.google.com/assets/colab-badge.svg)](https://colab.research.google.com/github/DavidLangworthy/ds4s/blob/master/days/day05/starter/day05_starter.ipynb)"
   ]
  },
  {
   "cell_type": "markdown",
   "id": "7c65d206",
   "metadata": {},
   "source": [
    "# 🌍 Day 5 – Capstone: CO₂ Emissions & Global Temperature\n",
    "### Synthesizing multiple visuals into a climate narrative\n",
    "\n",
    "Final day! You'll integrate emissions and temperature records, design a multi-panel figure, and practice the full storytelling workflow from claim to takeaway. Every panel has built-in checks so you can iterate confidently."
   ]
  },
  {
   "cell_type": "markdown",
   "id": "dd6656f9",
   "metadata": {},
   "source": [
    "### Data card — CO₂ emissions + temperature anomalies\n",
    "- **Sources:** [Our World in Data – Global CO₂ emissions](https://ourworldindata.org/co2-emissions) and [NASA GISTEMP temperature anomalies](https://data.giss.nasa.gov/gistemp)\n",
    "- **Temporal coverage:** CO₂: 1750–2023; Temperature anomalies: 1880–present\n",
    "- **Units:** CO₂ in billion tonnes (GtCO₂); temperature anomaly in °C relative to 1951–1980 baseline\n",
    "- **Processing notes:** NASA file includes header rows and `***` placeholders for missing values; we reuse the tidy process from Day 1.\n",
    "- **Caveats:** Emissions series excludes land-use change before 1850; early-year temperature data less certain. Align overlapping years before comparing."
   ]
  },
  {
   "cell_type": "markdown",
   "id": "412490c0",
   "metadata": {},
   "source": [
    "### Preview: today's capstone figure\n",
    "A three-panel visualization: (1) CO₂ trend, (2) temperature anomaly trend, (3) scatter linking the two, each with annotations and shared storytelling scaffold."
   ]
  },
  {
   "cell_type": "code",
   "execution_count": null,
   "id": "21e8eeef",
   "metadata": {
    "execution": {
     "iopub.execute_input": "2025-09-20T17:45:40.364841Z",
     "iopub.status.busy": "2025-09-20T17:45:40.364537Z",
     "iopub.status.idle": "2025-09-20T17:45:41.758664Z",
     "shell.execute_reply": "2025-09-20T17:45:41.757179Z"
    }
   },
   "outputs": [],
   "source": [
    "from pathlib import Path\n",
    "from warnings import warn\n",
    "\n",
    "import numpy as np\n",
    "import pandas as pd\n",
    "from urllib.error import HTTPError, URLError\n",
    "from urllib.request import urlopen\n",
    "import matplotlib.pyplot as plt\n",
    "from IPython.display import Image, display\n",
    "\n",
    "CANDIDATES = [Path.cwd(), *Path.cwd().parents]\n",
    "for candidate in CANDIDATES:\n",
    "    if (candidate / \"data\").exists():\n",
    "        PROJECT_ROOT = candidate\n",
    "        break\n",
    "else:\n",
    "    raise FileNotFoundError(\"Couldn't find the project root containing a data/ folder.\")\n",
    "\n",
    "DATA_DIR = PROJECT_ROOT / \"data\"\n",
    "RAW_DATA_BASE = \"https://raw.githubusercontent.com/DavidLangworthy/ds4s/master/data\"\n",
    "PLOTS_DIR = PROJECT_ROOT / \"plots\"\n",
    "PLOTS_DIR.mkdir(exist_ok=True)\n",
    "\n",
    "plt.rcParams.update({\n",
    "    \"figure.dpi\": 120,\n",
    "    \"axes.titlesize\": 14,\n",
    "    \"axes.labelsize\": 11,\n",
    "    \"xtick.labelsize\": 10,\n",
    "    \"ytick.labelsize\": 10,\n",
    "    \"axes.grid\": True,\n",
    "    \"grid.alpha\": 0.25,\n",
    "})\n",
    "\n",
    "COLORBLIND_FRIENDLY = [\"#2E86AB\", \"#F18F01\", \"#A23B72\", \"#C73E1D\", \"#2EC4B6\", \"#33673B\"]\n",
    "\n",
    "if (PLOTS_DIR / \"day05_solution_plot.png\").exists():\n",
    "    display(Image(filename=PLOTS_DIR / \"day05_solution_plot.png\", width=420))\n",
    "else:\n",
    "    print(\"Preview image not found; continue with the workflow.\")\n",
    "\n",
    "\n",
    "def load_data(csv_name: str, **read_kwargs) -> pd.DataFrame:\n",
    "    path = DATA_DIR / csv_name\n",
    "    if not path.exists():\n",
    "        url = f\"{RAW_DATA_BASE}/{csv_name}\"\n",
    "        print(f\"Local file not found. Downloading {csv_name} from GitHub…\")\n",
    "        try:\n",
    "            with urlopen(url, timeout=30) as response:\n",
    "                data = response.read()\n",
    "        except HTTPError as exc:\n",
    "            raise FileNotFoundError(\n",
    "                f\"Could not retrieve {csv_name} from {url} (status {exc.code}).\"\n",
    "            ) from exc\n",
    "        except URLError as exc:\n",
    "            raise FileNotFoundError(\n",
    "                f\"Could not retrieve {csv_name} from {url} ({exc.reason}).\"\n",
    "            ) from exc\n",
    "        path.parent.mkdir(parents=True, exist_ok=True)\n",
    "        path.write_bytes(data)\n",
    "    df = pd.read_csv(path, **read_kwargs)\n",
    "    print(f\"Loaded {csv_name} → {df.shape[0]:,} rows × {df.shape[1]} columns.\")\n",
    "    return df\n",
    "\n",
    "def validate_columns(df: pd.DataFrame, required: list[str]) -> None:\n",
    "    missing = [col for col in required if col not in df.columns]\n",
    "    if missing:\n",
    "        warn(f\"Missing columns: {missing}\")\n",
    "    else:\n",
    "        print(\"✅ Columns look good:\", required)\n",
    "\n",
    "\n",
    "def expect_rows_between(df: pd.DataFrame, lower: int, upper: int) -> None:\n",
    "    rows = len(df)\n",
    "    if rows < lower or rows > upper:\n",
    "        warn(f\"Row count {rows:,} outside the expected range ({lower:,}–{upper:,}).\")\n",
    "    else:\n",
    "        print(f\"✅ Row count within expected range ({rows:,}).\")\n",
    "\n",
    "\n",
    "def quick_diagnostics(df: pd.DataFrame, name: str = \"DataFrame\") -> None:\n",
    "    print(f\"--- Quick check for {name} ---\")\n",
    "    print(\"Shape:\", df.shape)\n",
    "    print(\"Columns:\", list(df.columns))\n",
    "    print(\"Missing values:\", df.isna().sum())\n",
    "    display(df.head())\n",
    "\n",
    "\n",
    "def check_story_fields(**fields) -> None:\n",
    "    empty = [key for key, value in fields.items() if not str(value).strip()]\n",
    "    if empty:\n",
    "        warn(f\"These storytelling fields still need text: {', '.join(empty)}\")\n",
    "    else:\n",
    "        print(\"✅ Story scaffolding complete. Ready for the capstone plot!\")\n",
    "\n",
    "\n",
    "def baseline_style():\n",
    "    plt.style.use(\"seaborn-v0_8-whitegrid\")\n",
    "    plt.rcParams[\"axes.facecolor\"] = \"#F8FAFC\"\n",
    "\n",
    "\n",
    "def save_last_fig(filename: str) -> None:\n",
    "    path = PLOTS_DIR / filename\n",
    "    plt.savefig(path, dpi=300, bbox_inches=\"tight\")\n",
    "    print(f\"Figure saved to {path.relative_to(PROJECT_ROOT)}\")\n"
   ]
  },
  {
   "cell_type": "markdown",
   "id": "b59cb72a",
   "metadata": {},
   "source": [
    "## Step 1. Load CO₂ emissions and temperature anomalies\n",
    "We reuse the helper utilities from earlier days and perform immediate diagnostics."
   ]
  },
  {
   "cell_type": "markdown",
   "id": "632e6d64",
   "metadata": {},
   "source": [
    "### Mini example: sanity-checking source tables\n",
    "Use a one-row DataFrame to preview the schema for emissions and temperature data."
   ]
  },
  {
   "cell_type": "code",
   "execution_count": null,
   "id": "36a125a3",
   "metadata": {},
   "outputs": [],
   "source": [
    "import pandas as pd\n",
    "demo_co2 = pd.DataFrame({\"Year\": [2020], \"Annual CO2 emissions\": [35.7]})\n",
    "demo_temp = pd.DataFrame({\"Year\": [2020], \"anomaly_c\": [1.02]})\n",
    "quick_diagnostics(demo_co2, name=\"demo CO2\")\n",
    "quick_diagnostics(demo_temp, name=\"demo temperature\")\n"
   ]
  },
  {
   "cell_type": "code",
   "execution_count": null,
   "id": "6f971dc0",
   "metadata": {
    "execution": {
     "iopub.execute_input": "2025-09-20T17:45:41.762276Z",
     "iopub.status.busy": "2025-09-20T17:45:41.761844Z",
     "iopub.status.idle": "2025-09-20T17:45:41.815694Z",
     "shell.execute_reply": "2025-09-20T17:45:41.814522Z"
    }
   },
   "outputs": [],
   "source": [
    "co2 = load_data(\"global_co2.csv\")\n",
    "quick_diagnostics(co2.head(), name=\"CO2 preview\")\n",
    "\n",
    "temp_raw = load_data(\"GLB.Ts+dSST.csv\", skiprows=1, na_values=\"***\")\n",
    "quick_diagnostics(temp_raw.head(), name=\"Temp raw preview\")\n"
   ]
  },
  {
   "cell_type": "markdown",
   "id": "c39588ac",
   "metadata": {},
   "source": [
    "✅ **Checkpoint:** CO₂ should include yearly totals in gigatonnes; the temperature dataset should match the structure from Day 1."
   ]
  },
  {
   "cell_type": "markdown",
   "id": "7a1761d8",
   "metadata": {},
   "source": [
    "## Step 2. Tidy each dataset\n",
    "Convert to numeric types, focus on overlapping years, and compute rolling context metrics."
   ]
  },
  {
   "cell_type": "markdown",
   "id": "c78f2e05",
   "metadata": {},
   "source": [
    "### Mini example: numeric casting and rolling means\n",
    "Try the type conversion and rolling window on tiny values first."
   ]
  },
  {
   "cell_type": "code",
   "execution_count": null,
   "id": "73fb76e2",
   "metadata": {},
   "outputs": [],
   "source": [
    "import pandas as pd\n",
    "tiny = pd.DataFrame({\"Year\": [2018, 2019, 2020], \"co2_gt\": [34.7, 35.1, 34.8]})\n",
    "tiny[\"co2_gt\"] = pd.to_numeric(tiny[\"co2_gt\"])\n",
    "tiny[\"co2_3yr\"] = tiny[\"co2_gt\"].rolling(window=3, min_periods=1).mean()\n",
    "print(tiny)\n"
   ]
  },
  {
   "cell_type": "code",
   "execution_count": null,
   "id": "2b2ed355",
   "metadata": {
    "execution": {
     "iopub.execute_input": "2025-09-20T17:45:41.818993Z",
     "iopub.status.busy": "2025-09-20T17:45:41.818585Z",
     "iopub.status.idle": "2025-09-20T17:45:41.858948Z",
     "shell.execute_reply": "2025-09-20T17:45:41.857170Z"
    }
   },
   "outputs": [],
   "source": [
    "co2[\"Year\"] = co2[\"Year\"].astype(int)\n",
    "co2[\"CO2\"] = co2[\"CO2\"].astype(float)\n",
    "co2_recent = co2.query(\"Year >= 1850\").copy()\n",
    "co2_recent[\"co2_5yr\"] = co2_recent[\"CO2\"].rolling(window=5, center=True).mean()\n",
    "\n",
    "annual_temp = (\n",
    "    temp_raw[[\"Year\", \"J-D\"]]\n",
    "    .rename(columns={\"J-D\": \"anomaly_c\"})\n",
    "    .dropna()\n",
    ")\n",
    "annual_temp[\"Year\"] = annual_temp[\"Year\"].astype(int)\n",
    "annual_temp[\"anomaly_c\"] = pd.to_numeric(annual_temp[\"anomaly_c\"], errors=\"coerce\")\n",
    "annual_temp = annual_temp.dropna()\n",
    "annual_temp[\"anomaly_5yr\"] = annual_temp[\"anomaly_c\"].rolling(window=5, center=True).mean()\n",
    "\n",
    "expect_rows_between(co2_recent, 150, 200)\n",
    "expect_rows_between(annual_temp, 120, 200)\n",
    "quick_diagnostics(co2_recent.tail(), name=\"Recent CO2\")\n",
    "quick_diagnostics(annual_temp.tail(), name=\"Recent temperature\")\n"
   ]
  },
  {
   "cell_type": "markdown",
   "id": "1e18d61b",
   "metadata": {},
   "source": [
    "### Mini self-diagnostic\n",
    "If the rolling mean is `NaN` everywhere, check that you sorted by year before applying `rolling`."
   ]
  },
  {
   "cell_type": "markdown",
   "id": "3ced006a",
   "metadata": {},
   "source": [
    "## Step 3. Combine datasets for the scatter panel\n",
    "We'll join on the overlapping year range and compute normalized series for annotation context."
   ]
  },
  {
   "cell_type": "markdown",
   "id": "2bafa263",
   "metadata": {},
   "source": [
    "### Mini example: aligning emissions and temperature\n",
    "See how an inner join keeps only years present in both tables."
   ]
  },
  {
   "cell_type": "code",
   "execution_count": null,
   "id": "ec190001",
   "metadata": {},
   "outputs": [],
   "source": [
    "import pandas as pd\n",
    "co2 = pd.DataFrame({\"Year\": [2019, 2020], \"co2_gt\": [35.1, 34.8]})\n",
    "temp = pd.DataFrame({\"Year\": [2020, 2021], \"anomaly_c\": [1.02, 1.10]})\n",
    "merged = co2.merge(temp, on=\"Year\", how=\"inner\")\n",
    "print(merged)\n"
   ]
  },
  {
   "cell_type": "code",
   "execution_count": null,
   "id": "15a9285a",
   "metadata": {
    "execution": {
     "iopub.execute_input": "2025-09-20T17:45:41.862998Z",
     "iopub.status.busy": "2025-09-20T17:45:41.862674Z",
     "iopub.status.idle": "2025-09-20T17:45:41.903206Z",
     "shell.execute_reply": "2025-09-20T17:45:41.901634Z"
    }
   },
   "outputs": [],
   "source": [
    "combined = co2_recent.merge(annual_temp, on=\"Year\", how=\"inner\")\n",
    "\n",
    "co2_baseline = combined[\"CO2\"].iloc[0]\n",
    "temp_baseline = combined[\"anomaly_c\"].iloc[0]\n",
    "\n",
    "combined = combined.assign(\n",
    "    co2_index=lambda df: df[\"CO2\"] / co2_baseline if co2_baseline else np.nan,\n",
    "    temp_index=lambda df: df[\"anomaly_c\"] / temp_baseline if temp_baseline else np.nan\n",
    ")\n",
    "\n",
    "quick_diagnostics(combined.tail(), name=\"Combined tail\")\n",
    "print(\"Combined range:\", combined[\"Year\"].min(), \"to\", combined[\"Year\"].max())\n"
   ]
  },
  {
   "cell_type": "markdown",
   "id": "0cc6dc8b",
   "metadata": {},
   "source": [
    "✅ **Expectation check:** The merged dataset should span 1880 onward with ~140 rows."
   ]
  },
  {
   "cell_type": "markdown",
   "id": "a4b92b44",
   "metadata": {},
   "source": [
    "## Step 4. Craft the capstone story scaffold\n",
    "Complete the Claim → Evidence → Visual → Takeaway strings before plotting."
   ]
  },
  {
   "cell_type": "markdown",
   "id": "ea3a60e5",
   "metadata": {},
   "source": [
    "### Mini example: capstone storytelling kit\n",
    "Draft the narrative beats before arranging the panels."
   ]
  },
  {
   "cell_type": "code",
   "execution_count": null,
   "id": "da97d82f",
   "metadata": {},
   "outputs": [],
   "source": [
    "demo_story = {\n",
    "    \"TITLE\": \"Emissions and warming march upward together\",\n",
    "    \"SUBTITLE\": \"Global totals and anomalies, 1880–2023\",\n",
    "    \"ANNOTATION\": \"Post-1950 growth accelerates both curves.\",\n",
    "    \"SOURCE\": \"Sources: OWID; NASA GISTEMP\",\n",
    "    \"UNITS\": \"Units: Gt CO₂; °C anomaly\",\n",
    "}\n",
    "for key, value in demo_story.items():\n",
    "    print(f\"{key}: {value}\")\n"
   ]
  },
  {
   "cell_type": "code",
   "execution_count": null,
   "id": "54b4bfb5",
   "metadata": {
    "execution": {
     "iopub.execute_input": "2025-09-20T17:45:41.907854Z",
     "iopub.status.busy": "2025-09-20T17:45:41.907418Z",
     "iopub.status.idle": "2025-09-20T17:45:41.916708Z",
     "shell.execute_reply": "2025-09-20T17:45:41.914661Z"
    }
   },
   "outputs": [],
   "source": [
    "TITLE = \"Burning carbon has tracked a near-linear rise in global temperature\"\n",
    "SUBTITLE = \"Global CO₂ emissions, temperature anomalies, and their relationship (1850–2023)\"\n",
    "ANNOTATION = \"Emissions have quadrupled since 1950 while temperature anomalies climbed past 1.2 °C.\"\n",
    "SOURCE = \"Sources: Our World in Data (Global CO₂) & NASA GISTEMP\"\n",
    "UNITS = \"Units: GtCO₂ per year; temperature anomaly (°C)\"\n",
    "\n",
    "check_story_fields(\n",
    "    TITLE=TITLE,\n",
    "    SUBTITLE=SUBTITLE,\n",
    "    ANNOTATION=ANNOTATION,\n",
    "    SOURCE=SOURCE,\n",
    "    UNITS=UNITS,\n",
    ")\n"
   ]
  },
  {
   "cell_type": "markdown",
   "id": "315d070a",
   "metadata": {},
   "source": [
    "## Step 5. Assemble the multi-panel figure\n",
    "We use Matplotlib's GridSpec to align three panels with a shared caption and annotations."
   ]
  },
  {
   "cell_type": "markdown",
   "id": "f63181cd",
   "metadata": {},
   "source": [
    "### Mini example: arranging subplots with GridSpec\n",
    "This toy layout shows how rows and columns map to axes positions."
   ]
  },
  {
   "cell_type": "code",
   "execution_count": null,
   "id": "b5e5a77e",
   "metadata": {},
   "outputs": [],
   "source": [
    "import matplotlib.pyplot as plt\n",
    "from matplotlib.gridspec import GridSpec\n",
    "fig = plt.figure(figsize=(6, 4))\n",
    "gs = GridSpec(2, 2, height_ratios=[2, 1])\n",
    "ax1 = fig.add_subplot(gs[0, :])\n",
    "ax2 = fig.add_subplot(gs[1, 0])\n",
    "ax3 = fig.add_subplot(gs[1, 1])\n",
    "ax1.set_title(\"Panel A placeholder\")\n",
    "ax2.set_title(\"Panel B placeholder\")\n",
    "ax3.set_title(\"Panel C placeholder\")\n",
    "plt.tight_layout()\n",
    "plt.show()\n"
   ]
  },
  {
   "cell_type": "code",
   "execution_count": null,
   "id": "46cd152a",
   "metadata": {
    "execution": {
     "iopub.execute_input": "2025-09-20T17:45:41.921157Z",
     "iopub.status.busy": "2025-09-20T17:45:41.920724Z",
     "iopub.status.idle": "2025-09-20T17:45:42.830012Z",
     "shell.execute_reply": "2025-09-20T17:45:42.828995Z"
    }
   },
   "outputs": [],
   "source": [
    "baseline_style()\n",
    "fig = plt.figure(figsize=(12, 10))\n",
    "from matplotlib.gridspec import GridSpec\n",
    "\n",
    "gs = GridSpec(3, 2, height_ratios=[1, 1, 1.1], width_ratios=[1, 1], hspace=0.3)\n",
    "\n",
    "ax1 = fig.add_subplot(gs[0, :])\n",
    "ax1.plot(co2_recent[\"Year\"], co2_recent[\"CO2\"], color=COLORBLIND_FRIENDLY[0], linewidth=2, label=\"CO₂ emissions\")\n",
    "ax1.plot(co2_recent[\"Year\"], co2_recent[\"co2_5yr\"], color=COLORBLIND_FRIENDLY[1], linewidth=2.5, label=\"5-year mean\")\n",
    "ax1.set_ylabel(\"GtCO₂ per year\")\n",
    "ax1.set_title(\"A. Global CO₂ emissions\", loc=\"left\")\n",
    "ax1.legend(frameon=False)\n",
    "\n",
    "ax2 = fig.add_subplot(gs[1, :])\n",
    "ax2.plot(annual_temp[\"Year\"], annual_temp[\"anomaly_c\"], color=COLORBLIND_FRIENDLY[2], linewidth=2, label=\"Temperature anomaly\")\n",
    "ax2.plot(annual_temp[\"Year\"], annual_temp[\"anomaly_5yr\"], color=COLORBLIND_FRIENDLY[3], linewidth=2.5, label=\"5-year mean\")\n",
    "ax2.axhline(0, color=\"#475569\", linestyle=\"--\", linewidth=1)\n",
    "ax2.set_ylabel(\"Anomaly (°C)\")\n",
    "ax2.set_title(\"B. Global temperature anomalies\", loc=\"left\")\n",
    "ax2.legend(frameon=False)\n",
    "\n",
    "ax3 = fig.add_subplot(gs[2, 0])\n",
    "ax3.scatter(combined[\"CO2\"], combined[\"anomaly_c\"], color=COLORBLIND_FRIENDLY[4], alpha=0.7, s=35)\n",
    "coef = np.polyfit(combined[\"CO2\"], combined[\"anomaly_c\"], deg=1)\n",
    "line_x = np.linspace(combined[\"CO2\"].min(), combined[\"CO2\"].max(), 200)\n",
    "ax3.plot(line_x, np.polyval(coef, line_x), color=\"#1f2937\", linewidth=2, label=\"Trend\")\n",
    "ax3.set_xlabel(\"CO₂ emissions (Gt)\")\n",
    "ax3.set_ylabel(\"Temp anomaly (°C)\")\n",
    "ax3.set_title(\"C. Emissions vs. temperature\", loc=\"left\")\n",
    "ax3.legend(frameon=False)\n",
    "\n",
    "ax4 = fig.add_subplot(gs[2, 1])\n",
    "ax4.plot(combined[\"Year\"], combined[\"co2_index\"], label=\"CO₂ index (vs. 1880)\", color=COLORBLIND_FRIENDLY[0])\n",
    "ax4.plot(combined[\"Year\"], combined[\"temp_index\"], label=\"Temp index (vs. 1880)\", color=COLORBLIND_FRIENDLY[2])\n",
    "ax4.axhline(1, color=\"#94a3b8\", linestyle=\":\", linewidth=1)\n",
    "ax4.set_xlabel(\"Year\")\n",
    "ax4.set_ylabel(\"Index (1880 = 1)\")\n",
    "ax4.set_title(\"D. Relative change since 1880\", loc=\"left\")\n",
    "ax4.legend(frameon=False)\n",
    "\n",
    "title_text = TITLE + \"\\n\" + SUBTITLE\n",
    "fig.suptitle(title_text, x=0.05, y=0.97, ha=\"left\", fontsize=18)\n",
    "caption_text = SOURCE + \"\\n\" + \"Claim → Evidence → Visual → Takeaway: Emissions growth and rising temperatures move in lockstep — reinforcing the need to cut CO₂ to stabilize climate.\"\n",
    "fig.text(0.05, 0.02, caption_text, fontsize=10, ha=\"left\")\n",
    "fig.text(0.67, 0.34, ANNOTATION, fontsize=11, color=\"#1f2937\")\n",
    "plt.show()\n"
   ]
  },
  {
   "cell_type": "markdown",
   "id": "23b61233",
   "metadata": {},
   "source": [
    "### Accessibility checklist\n",
    "- Distinct, colorblind-safe palette across panels.\n",
    "- Each axis labeled with units; scatter uses gridlines to aid interpretation.\n",
    "- Caption consolidates sources and narrative.\n",
    "- Annotation positioned to avoid overlapping data points."
   ]
  },
  {
   "cell_type": "code",
   "execution_count": null,
   "id": "4fdcef7d",
   "metadata": {
    "execution": {
     "iopub.execute_input": "2025-09-20T17:45:42.836330Z",
     "iopub.status.busy": "2025-09-20T17:45:42.835970Z",
     "iopub.status.idle": "2025-09-20T17:45:43.045548Z",
     "shell.execute_reply": "2025-09-20T17:45:43.044381Z"
    }
   },
   "outputs": [],
   "source": [
    "save_last_fig(\"day05_solution_plot.png\")\n"
   ]
  },
  {
   "cell_type": "markdown",
   "id": "18c08b86",
   "metadata": {},
   "source": [
    "## Step 6. Capstone reflection prompts\n",
    "- What additional evidence (e.g., sea-level rise, extreme weather) would strengthen this story?\n",
    "- How might you adapt the narrative for policymakers vs. general audiences?\n",
    "- Which assumptions should be surfaced (data revisions, historical uncertainties, attribution science)?\n",
    "- Encourage learners to outline their own Claim → Evidence → Visual → Takeaway for a new sustainability topic."
   ]
  }
 ],
 "metadata": {
  "language_info": {
   "codemirror_mode": {
    "name": "ipython",
    "version": 3
   },
   "file_extension": ".py",
   "mimetype": "text/x-python",
   "name": "python",
   "nbconvert_exporter": "python",
   "pygments_lexer": "ipython3",
   "version": "3.11.12"
  }
 },
 "nbformat": 4,
 "nbformat_minor": 5
}