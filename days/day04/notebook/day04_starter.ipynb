{
 "cells": [
  {
   "cell_type": "markdown",
   "id": "86c97300",
   "metadata": {},
   "source": [
    "## 🔗 Open This Notebook in Google Colab\n",
    "\n",
    "[![Open In Colab](https://colab.research.google.com/assets/colab-badge.svg)](https://colab.research.google.com/github/DavidLangworthy/ds4s/blob/master/days/day04/starter/day04_starter.ipynb)"
   ]
  },
  {
   "cell_type": "markdown",
   "id": "2b8e677a",
   "metadata": {},
   "source": [
    "# 🌳 Day 4 – Biodiversity & Deforestation Mapping\n",
    "### Spotting forest loss hotspots with choropleths\n",
    "\n",
    "Maps introduce new storytelling responsibilities: projection choices, color scales, and geospatial joins. Today you'll calculate forest cover change and build a choropleth that highlights where biodiversity risk is highest. Each step includes diagnostics so you can trust the final map."
   ]
  },
  {
   "cell_type": "markdown",
   "id": "b6071c02",
   "metadata": {},
   "source": [
    "### Data card — World Bank Forest Area (% of land area)\n",
    "- **Source:** [World Bank – Forest area (% of land area)](https://data.worldbank.org/indicator/AG.LND.FRST.ZS)\n",
    "- **Temporal coverage:** 1990–2022 (annual)\n",
    "- **Geographic coverage:** Countries and regional aggregates\n",
    "- **Units:** Percent of land area covered by forest\n",
    "- **Processing notes:** Dataset already long-form with columns for country, ISO code, year, and forest percent. Some small territories have missing values.\n",
    "- **Caveats:** Forest cover alone doesn't capture biodiversity quality; plantations can inflate percentages. Year-to-year revisions can occur as satellite estimates improve."
   ]
  },
  {
   "cell_type": "markdown",
   "id": "05c5c45c",
   "metadata": {},
   "source": [
    "### Preview: today's target map\n",
    "You'll create a choropleth showing forest cover change since 1990, plus a supporting bar chart for the top five losses."
   ]
  },
  {
   "cell_type": "code",
   "execution_count": null,
   "id": "2d62fcf2",
   "metadata": {
    "execution": {
     "iopub.execute_input": "2025-09-20T17:45:35.352222Z",
     "iopub.status.busy": "2025-09-20T17:45:35.351800Z",
     "iopub.status.idle": "2025-09-20T17:45:36.969758Z",
     "shell.execute_reply": "2025-09-20T17:45:36.967934Z"
    }
   },
   "outputs": [],
   "source": [
    "from pathlib import Path\n",
    "from warnings import warn\n",
    "\n",
    "import pandas as pd\n",
    "from urllib.error import HTTPError, URLError\n",
    "from urllib.request import urlopen\n",
    "import matplotlib.pyplot as plt\n",
    "import plotly.express as px\n",
    "from IPython.display import Image, display\n",
    "\n",
    "CANDIDATES = [Path.cwd(), *Path.cwd().parents]\n",
    "for candidate in CANDIDATES:\n",
    "    if (candidate / \"data\").exists():\n",
    "        PROJECT_ROOT = candidate\n",
    "        break\n",
    "else:\n",
    "    raise FileNotFoundError(\"Couldn't find the project root containing a data/ folder.\")\n",
    "\n",
    "DATA_DIR = PROJECT_ROOT / \"data\"\n",
    "RAW_DATA_BASE = \"https://raw.githubusercontent.com/DavidLangworthy/ds4s/master/data\"\n",
    "PLOTS_DIR = PROJECT_ROOT / \"plots\"\n",
    "PLOTS_DIR.mkdir(exist_ok=True)\n",
    "\n",
    "plt.rcParams.update({\n",
    "    \"figure.dpi\": 110,\n",
    "    \"axes.titlesize\": 16,\n",
    "    \"axes.labelsize\": 12,\n",
    "    \"xtick.labelsize\": 11,\n",
    "    \"ytick.labelsize\": 11,\n",
    "    \"axes.grid\": True,\n",
    "    \"grid.alpha\": 0.25,\n",
    "})\n",
    "\n",
    "COLORBLIND_FRIENDLY = [\"#2E86AB\", \"#F18F01\", \"#A23B72\", \"#C73E1D\", \"#2EC4B6\", \"#33673B\"]\n",
    "\n",
    "if (PLOTS_DIR / \"day04_solution_plot.png\").exists():\n",
    "    display(Image(filename=PLOTS_DIR / \"day04_solution_plot.png\", width=420))\n",
    "else:\n",
    "    print(\"Preview image not found; continue with the workflow.\")\n",
    "\n",
    "\n",
    "def load_data(csv_name: str, **read_kwargs) -> pd.DataFrame:\n",
    "    path = DATA_DIR / csv_name\n",
    "    if not path.exists():\n",
    "        url = f\"{RAW_DATA_BASE}/{csv_name}\"\n",
    "        print(f\"Local file not found. Downloading {csv_name} from GitHub…\")\n",
    "        try:\n",
    "            with urlopen(url, timeout=30) as response:\n",
    "                data = response.read()\n",
    "        except HTTPError as exc:\n",
    "            raise FileNotFoundError(\n",
    "                f\"Could not retrieve {csv_name} from {url} (status {exc.code}).\"\n",
    "            ) from exc\n",
    "        except URLError as exc:\n",
    "            raise FileNotFoundError(\n",
    "                f\"Could not retrieve {csv_name} from {url} ({exc.reason}).\"\n",
    "            ) from exc\n",
    "        path.parent.mkdir(parents=True, exist_ok=True)\n",
    "        path.write_bytes(data)\n",
    "    df = pd.read_csv(path, **read_kwargs)\n",
    "    print(f\"Loaded {csv_name} → {df.shape[0]:,} rows × {df.shape[1]} columns.\")\n",
    "    return df\n",
    "\n",
    "def validate_columns(df: pd.DataFrame, required: list[str]) -> None:\n",
    "    missing = [col for col in required if col not in df.columns]\n",
    "    if missing:\n",
    "        warn(f\"Missing columns: {missing}\")\n",
    "    else:\n",
    "        print(\"✅ Columns look good:\", required)\n",
    "\n",
    "\n",
    "def expect_rows_between(df: pd.DataFrame, lower: int, upper: int) -> None:\n",
    "    rows = len(df)\n",
    "    if rows < lower or rows > upper:\n",
    "        warn(f\"Row count {rows:,} outside the expected range ({lower:,}–{upper:,}).\")\n",
    "    else:\n",
    "        print(f\"✅ Row count within expected range ({rows:,}).\")\n",
    "\n",
    "\n",
    "def quick_diagnostics(df: pd.DataFrame, name: str = \"DataFrame\") -> None:\n",
    "    print(f\"--- Quick check for {name} ---\")\n",
    "    print(\"Shape:\", df.shape)\n",
    "    print(\"Columns:\", list(df.columns))\n",
    "    print(\"Missing values:\", df.isna().sum())\n",
    "    display(df.head())\n",
    "\n",
    "\n",
    "def check_story_fields(**fields) -> None:\n",
    "    empty = [key for key, value in fields.items() if not str(value).strip()]\n",
    "    if empty:\n",
    "        warn(f\"These storytelling fields still need text: {', '.join(empty)}\")\n",
    "    else:\n",
    "        print(\"✅ Story scaffolding complete. Ready to map!\")\n",
    "\n",
    "\n",
    "def baseline_style():\n",
    "    plt.style.use(\"seaborn-v0_8-whitegrid\")\n",
    "    plt.rcParams[\"axes.facecolor\"] = \"#F8FAFC\"\n",
    "\n",
    "\n",
    "def save_last_fig(filename: str) -> None:\n",
    "    path = PLOTS_DIR / filename\n",
    "    plt.savefig(path, dpi=300, bbox_inches=\"tight\")\n",
    "    print(f\"Figure saved to {path.relative_to(PROJECT_ROOT)}\")\n",
    "\n",
    "\n",
    "def save_plotly_map(fig, filename: str) -> None:\n",
    "    html_path = PLOTS_DIR / filename\n",
    "    fig.write_html(html_path)\n",
    "    print(f\"Interactive map saved to {html_path.relative_to(PROJECT_ROOT)} (open in browser).\")\n"
   ]
  },
  {
   "cell_type": "markdown",
   "id": "0d6ccfd4",
   "metadata": {},
   "source": [
    "## Step 1. Load the forest area dataset\n",
    "We'll confirm the columns and inspect a quick sample."
   ]
  },
  {
   "cell_type": "markdown",
   "id": "776283f9",
   "metadata": {},
   "source": [
    "### Mini example: previewing forest data\n",
    "A one-row sample shows the schema before you load the full indicator."
   ]
  },
  {
   "cell_type": "code",
   "execution_count": null,
   "id": "cde86f70",
   "metadata": {},
   "outputs": [],
   "source": [
    "import pandas as pd\n",
    "demo_forest = pd.DataFrame({\n",
    "    \"Country Name\": [\"Example\"],\n",
    "    \"Country Code\": [\"EXM\"],\n",
    "    \"1990\": [55.0],\n",
    "    \"2022\": [48.0],\n",
    "})\n",
    "quick_diagnostics(demo_forest, name=\"demo forest cover\")\n"
   ]
  },
  {
   "cell_type": "code",
   "execution_count": null,
   "id": "8ff5d8d7",
   "metadata": {
    "execution": {
     "iopub.execute_input": "2025-09-20T17:45:36.974641Z",
     "iopub.status.busy": "2025-09-20T17:45:36.973886Z",
     "iopub.status.idle": "2025-09-20T17:45:37.028871Z",
     "shell.execute_reply": "2025-09-20T17:45:37.027705Z"
    }
   },
   "outputs": [],
   "source": [
    "forest = load_data(\"forest_area_long.csv\")\n",
    "validate_columns(forest, [\"Country Name\", \"Country Code\", \"Year\", \"ForestPercent\"])\n",
    "expect_rows_between(forest, 5_000, 10_000)\n",
    "quick_diagnostics(forest.head(), name=\"forest preview\")\n"
   ]
  },
  {
   "cell_type": "markdown",
   "id": "c490f7be",
   "metadata": {},
   "source": [
    "✅ **Checkpoint:** Forest coverage should range roughly 0–90%. Values above 100 indicate an upstream issue."
   ]
  },
  {
   "cell_type": "markdown",
   "id": "24a0de02",
   "metadata": {},
   "source": [
    "## Step 2. Calculate change since 1990\n",
    "We'll compare each country's latest observation to its 1990 baseline."
   ]
  },
  {
   "cell_type": "markdown",
   "id": "5aa1fbc4",
   "metadata": {},
   "source": [
    "### Mini example: computing change from a baseline\n",
    "Test the subtraction logic with tiny numbers before scaling up."
   ]
  },
  {
   "cell_type": "code",
   "execution_count": null,
   "id": "6491f2b8",
   "metadata": {},
   "outputs": [],
   "source": [
    "import pandas as pd\n",
    "mini = pd.DataFrame({\"Country Code\": [\"EXM\"], \"forest_pct_1990\": [55.0], \"forest_pct_latest\": [48.0]})\n",
    "mini[\"change_pct\"] = mini[\"forest_pct_latest\"] - mini[\"forest_pct_1990\"]\n",
    "print(mini)\n"
   ]
  },
  {
   "cell_type": "code",
   "execution_count": null,
   "id": "e0c82391",
   "metadata": {
    "execution": {
     "iopub.execute_input": "2025-09-20T17:45:37.032592Z",
     "iopub.status.busy": "2025-09-20T17:45:37.032233Z",
     "iopub.status.idle": "2025-09-20T17:45:37.073084Z",
     "shell.execute_reply": "2025-09-20T17:45:37.071679Z"
    }
   },
   "outputs": [],
   "source": [
    "baseline_year = 1990\n",
    "comparison_year = 2022\n",
    "\n",
    "baseline = forest.query(\"Year == @baseline_year\")[[\n",
    "    \"Country Name\", \"Country Code\", \"ForestPercent\"\n",
    "]].rename(columns={\"ForestPercent\": \"forest_pct_1990\"})\n",
    "\n",
    "recent = forest.query(\"Year == @comparison_year\")[[\n",
    "    \"Country Name\", \"Country Code\", \"ForestPercent\"\n",
    "]].rename(columns={\"ForestPercent\": \"forest_pct_recent\"})\n",
    "\n",
    "change = (\n",
    "    baseline.merge(recent, on=[\"Country Name\", \"Country Code\"], how=\"inner\")\n",
    "    .assign(change_pct=lambda df: df[\"forest_pct_recent\"] - df[\"forest_pct_1990\"])\n",
    ")\n",
    "\n",
    "change = change.dropna(subset=[\"forest_pct_1990\", \"forest_pct_recent\"])\n",
    "quick_diagnostics(change.sort_values(\"change_pct\").head(5), name=\"largest declines\")\n",
    "quick_diagnostics(change.sort_values(\"change_pct\", ascending=False).head(5), name=\"largest gains\")\n"
   ]
  },
  {
   "cell_type": "markdown",
   "id": "c334a3f1",
   "metadata": {},
   "source": [
    "### Mini self-diagnostic\n",
    "If most `change_pct` values are `NaN`, double-check that both years exist in the dataset."
   ]
  },
  {
   "cell_type": "markdown",
   "id": "ffeda7d2",
   "metadata": {},
   "source": [
    "## Step 3. Prepare mapping inputs and supporting bar chart data\n",
    "We'll keep only country-level codes (no aggregates) and identify the top five losses for a secondary chart."
   ]
  },
  {
   "cell_type": "markdown",
   "id": "ab4941ac",
   "metadata": {},
   "source": [
    "### Mini example: sorting and slicing for top losses\n",
    "Here's how to pick the largest declines for a supporting bar chart."
   ]
  },
  {
   "cell_type": "code",
   "execution_count": null,
   "id": "123d7a7a",
   "metadata": {},
   "outputs": [],
   "source": [
    "import pandas as pd\n",
    "changes = pd.DataFrame({\n",
    "    \"Country Name\": [\"A\", \"B\", \"C\"],\n",
    "    \"change_pct\": [-15, -8, 3],\n",
    "})\n",
    "worst_loss = changes.sort_values(\"change_pct\").head(2)\n",
    "print(worst_loss)\n"
   ]
  },
  {
   "cell_type": "code",
   "execution_count": null,
   "id": "8ba2ae4f",
   "metadata": {
    "execution": {
     "iopub.execute_input": "2025-09-20T17:45:37.076796Z",
     "iopub.status.busy": "2025-09-20T17:45:37.076371Z",
     "iopub.status.idle": "2025-09-20T17:45:37.096093Z",
     "shell.execute_reply": "2025-09-20T17:45:37.094783Z"
    }
   },
   "outputs": [],
   "source": [
    "country_change = change[~change[\"Country Code\"].str.contains(\"^X\", na=False)]\n",
    "country_change = country_change[country_change[\"Country Code\"].notna()]\n",
    "\n",
    "expect_rows_between(country_change, 150, 250)\n",
    "\n",
    "worst_losses = country_change.nsmallest(5, \"change_pct\").assign(\n",
    "    loss_abs=lambda df: df[\"forest_pct_1990\"] - df[\"forest_pct_recent\"]\n",
    ")\n",
    "quick_diagnostics(worst_losses, name=\"Top five losses\")\n"
   ]
  },
  {
   "cell_type": "markdown",
   "id": "f17cb408",
   "metadata": {},
   "source": [
    "✅ **Expectation check:** `loss_abs` should be positive for the worst-loss table. If not, verify the subtraction order."
   ]
  },
  {
   "cell_type": "markdown",
   "id": "54c24be0",
   "metadata": {},
   "source": [
    "## Step 4. Story scaffold for the map\n",
    "Capture the narrative before rendering the visuals."
   ]
  },
  {
   "cell_type": "markdown",
   "id": "a8053692",
   "metadata": {},
   "source": [
    "### Mini example: story scaffold fields\n",
    "State the claim, highlight the location, and keep sources explicit."
   ]
  },
  {
   "cell_type": "code",
   "execution_count": null,
   "id": "32c200c1",
   "metadata": {},
   "outputs": [],
   "source": [
    "demo_story = {\n",
    "    \"TITLE\": \"Forest cover is shrinking in Exampleland\",\n",
    "    \"SUBTITLE\": \"Change in share of land area forested, 1990–2022\",\n",
    "    \"ANNOTATION\": \"Losses concentrate near the coasts.\",\n",
    "    \"SOURCE\": \"Source: Imaginary Forestry Watch\",\n",
    "    \"UNITS\": \"Units: Percentage points\",\n",
    "}\n",
    "for key, value in demo_story.items():\n",
    "    print(f\"{key}: {value}\")\n"
   ]
  },
  {
   "cell_type": "code",
   "execution_count": null,
   "id": "e2d90a76",
   "metadata": {
    "execution": {
     "iopub.execute_input": "2025-09-20T17:45:37.099777Z",
     "iopub.status.busy": "2025-09-20T17:45:37.099417Z",
     "iopub.status.idle": "2025-09-20T17:45:37.106793Z",
     "shell.execute_reply": "2025-09-20T17:45:37.105614Z"
    }
   },
   "outputs": [],
   "source": [
    "TITLE = \"Tropical nations lost over 20 percentage points of forest cover since 1990\"\n",
    "SUBTITLE = f\"Change in share of land covered by forest, {baseline_year}–{comparison_year}\"\n",
    "ANNOTATION = \"Brazil and Indonesia dominate the global loss tally, underscoring biodiversity pressure in the tropics.\"\n",
    "SOURCE = \"Source: World Bank Forest area (% of land area)\"\n",
    "UNITS = \"Units: Percentage point change in forest cover\"\n",
    "\n",
    "check_story_fields(\n",
    "    TITLE=TITLE,\n",
    "    SUBTITLE=SUBTITLE,\n",
    "    ANNOTATION=ANNOTATION,\n",
    "    SOURCE=SOURCE,\n",
    "    UNITS=UNITS,\n",
    ")\n"
   ]
  },
  {
   "cell_type": "markdown",
   "id": "de0d6ab7",
   "metadata": {},
   "source": [
    "## Step 5. Build the choropleth map and supporting bar chart\n",
    "We'll use Plotly for the map (interactive in Colab) and Matplotlib for the bar chart. Both include a caption that reinforces the claim."
   ]
  },
  {
   "cell_type": "code",
   "execution_count": null,
   "id": "ef509f85",
   "metadata": {
    "execution": {
     "iopub.execute_input": "2025-09-20T17:45:37.111072Z",
     "iopub.status.busy": "2025-09-20T17:45:37.110644Z",
     "iopub.status.idle": "2025-09-20T17:45:37.682371Z",
     "shell.execute_reply": "2025-09-20T17:45:37.681121Z"
    }
   },
   "outputs": [],
   "source": [
    "fig_map = px.choropleth(\n",
    "    country_change,\n",
    "    locations=\"Country Code\",\n",
    "    color=\"change_pct\",\n",
    "    hover_name=\"Country Name\",\n",
    "    color_continuous_scale=\"RdYlGn\",\n",
    "    range_color=(-30, 10),\n",
    "    labels={\"change_pct\": \"Change (pct pts)\"},\n",
    "    title=f\"{TITLE}<br>{SUBTITLE}\"\n",
    ")\n",
    "fig_map.update_layout(\n",
    "    coloraxis_colorbar=dict(title=\"Pct pts\"),\n",
    "    margin=dict(l=0, r=0, t=60, b=0),\n",
    "    annotations=[\n",
    "        dict(\n",
    "            text=f\"{SOURCE}<br>Claim → Evidence → Visual → Takeaway: Forest loss concentrates in equatorial countries; map avoids dual axes and uses perceptually ordered colors.\",\n",
    "            x=0.01,\n",
    "            y=-0.12,\n",
    "            xanchor=\"left\",\n",
    "            yanchor=\"top\",\n",
    "            showarrow=False,\n",
    "            font=dict(size=11)\n",
    "        )\n",
    "    ]\n",
    ")\n",
    "fig_map.update_coloraxes(colorscale=[\n",
    "    [0.0, \"#7f0000\"],\n",
    "    [0.5, \"#fef9ef\"],\n",
    "    [1.0, \"#145A32\"]\n",
    "])\n",
    "\n",
    "baseline_style()\n",
    "fig, ax = plt.subplots(figsize=(7.5, 4.5))\n",
    "ax.barh(worst_losses[\"Country Name\"], worst_losses[\"loss_abs\"], color=COLORBLIND_FRIENDLY[3])\n",
    "ax.invert_yaxis()\n",
    "ax.set_xlabel(\"Percentage point loss since 1990\")\n",
    "ax.set_title(\"Top five forest cover losses\")\n",
    "for i, value in enumerate(worst_losses[\"loss_abs\"]):\n",
    "    ax.text(value + 0.5, i, f\"{value:.1f}\", va=\"center\")\n",
    "\n",
    "caption_text = \"This supporting chart reinforces the countries highlighted on the map.\"\n",
    "fig.text(0.01, -0.08, caption_text, fontsize=10)\n",
    "plt.show()\n"
   ]
  },
  {
   "cell_type": "markdown",
   "id": "ff5031c1",
   "metadata": {},
   "source": [
    "### Accessibility checklist\n",
    "- Diverging color scale centered near zero with descriptive legend.\n",
    "- Choropleth caption documents source and methodological caveats.\n",
    "- Bar chart uses horizontal layout for long country names.\n",
    "- Annotation encourages discussion of what the map cannot show (e.g., forest quality)."
   ]
  },
  {
   "cell_type": "code",
   "execution_count": null,
   "id": "d230ac66",
   "metadata": {
    "execution": {
     "iopub.execute_input": "2025-09-20T17:45:37.686251Z",
     "iopub.status.busy": "2025-09-20T17:45:37.685863Z",
     "iopub.status.idle": "2025-09-20T17:45:38.178667Z",
     "shell.execute_reply": "2025-09-20T17:45:38.177417Z"
    }
   },
   "outputs": [],
   "source": [
    "save_plotly_map(fig_map, \"day04_solution_map.html\")\n",
    "save_last_fig(\"day04_solution_bar.png\")\n"
   ]
  },
  {
   "cell_type": "markdown",
   "id": "4397c0c2",
   "metadata": {},
   "source": [
    "## Step 6. Reflect on spatial uncertainty and teaching moves\n",
    "- Encourage learners to question data gaps (gray countries) and consider why some regions lack updates.\n",
    "- Discuss how a choropleth hides within-country variation and why finer-scale data might alter the story.\n",
    "- Prompt students to brainstorm responsible calls-to-action based on the map rather than sensational claims.\n",
    "- Suggest extension: pair the map with biodiversity or protected area datasets in the capstone."
   ]
  }
 ],
 "metadata": {
  "language_info": {
   "codemirror_mode": {
    "name": "ipython",
    "version": 3
   },
   "file_extension": ".py",
   "mimetype": "text/x-python",
   "name": "python",
   "nbconvert_exporter": "python",
   "pygments_lexer": "ipython3",
   "version": "3.11.12"
  }
 },
 "nbformat": 4,
 "nbformat_minor": 5
}