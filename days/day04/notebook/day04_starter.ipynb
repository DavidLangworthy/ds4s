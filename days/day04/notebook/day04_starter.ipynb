{
 "cells": [
  {
   "cell_type": "markdown",
   "id": "26f9f3ba",
   "metadata": {},
   "source": [
    "## 🔗 Open This Notebook in Google Colab\n",
    "\n",
    "[![Open In Colab](https://colab.research.google.com/assets/colab-badge.svg)](https://colab.research.google.com/github/DavidLangworthy/ds4s/blob/main/days/day04/notebook/day04_starter.ipynb)"
   ]
  },
  {
   "cell_type": "markdown",
   "id": "59d4e172",
   "metadata": {},
   "source": [
    "# 🌍 Day 4 – Mapping Forest Change\n",
    "Let's turn long-table data into a map that shows where forests are shrinking or rebounding."
   ]
  },
  {
   "cell_type": "markdown",
   "id": "3cdb1bee",
   "metadata": {},
   "source": [
    "## 🧾 Data Card – World Bank Forest Area\n",
    "- **Source:** [World Bank – Forest area (% of land area)](https://data.worldbank.org/indicator/AG.LND.FRST.ZS).\n",
    "- **Temporal coverage:** 1990–2021 (annual).\n",
    "- **Units:** Percent of land area covered by forest.\n",
    "- **Update cadence:** Annual, based on FAO Global Forest Resources Assessment.\n",
    "- **Method notes:** Derived from FAO country reports; includes natural forests and plantations.\n",
    "- **Caveats:** Small countries may show volatility due to rounding; some territories share aggregate codes."
   ]
  },
  {
   "cell_type": "markdown",
   "id": "e11f6ba9",
   "metadata": {},
   "source": [
    "## 🧭 Story Scaffold\n",
    "- **Claim:** Which regions have lost or gained forest cover since 1990?\n",
    "- **Evidence:** Percent point change and baseline levels.\n",
    "- **Visual:** Choropleth map highlighting change with an accessible color scale.\n",
    "- **Takeaway:** Emphasize that percentages hide absolute area differences and that reporting methods vary."
   ]
  },
  {
   "cell_type": "code",
   "execution_count": null,
   "id": "269b0596",
   "metadata": {},
   "outputs": [],
   "source": [
    "from __future__ import annotations\n",
    "\n",
    "from pathlib import Path\n",
    "import sys\n",
    "\n",
    "import pandas as pd\n",
    "import plotly.express as px\n",
    "\n",
    "for candidate in [Path.cwd(), Path.cwd().parent, Path.cwd().parent.parent]:\n",
    "    utils_path = candidate / \"utils.py\"\n",
    "    if utils_path.exists():\n",
    "        if str(candidate) not in sys.path:\n",
    "            sys.path.insert(0, str(candidate))\n",
    "        break\n",
    "else:\n",
    "    raise FileNotFoundError(\"Unable to locate utils.py. Did you download the full project?\")\n",
    "\n",
    "from utils import (\n",
    "    diagnose_dataframe,\n",
    "    expect_rows_between,\n",
    "    load_data,\n",
    "    save_last_fig,\n",
    "    validate_columns,\n",
    "    validate_story_elements,\n",
    ")\n"
   ]
  },
  {
   "cell_type": "code",
   "execution_count": null,
   "id": "756ec367",
   "metadata": {},
   "outputs": [],
   "source": [
    "# Example: simple choropleth with placeholder data\n",
    "example_df = pd.DataFrame(\n",
    "    {\n",
    "        \"Country Code\": [\"USA\", \"BRA\", \"IDN\"],\n",
    "        \"Change\": [-5.0, -8.2, -3.4],\n",
    "    }\n",
    ")\n",
    "fig = px.choropleth(example_df, locations=\"Country Code\", color=\"Change\", color_continuous_scale=\"Earth\")\n",
    "fig.update_layout(title=\"Example: change in forest cover (percent points)\")\n",
    "fig\n"
   ]
  },
  {
   "cell_type": "code",
   "execution_count": null,
   "id": "901f6716",
   "metadata": {},
   "outputs": [],
   "source": [
    "# Step 1 – Load the forest area dataset\n",
    "forest = load_data(\"forest_area_long.csv\")\n",
    "\n",
    "# TODO: Load the forest_area_long.csv file into a dataframe\n"
   ]
  },
  {
   "cell_type": "markdown",
   "id": "4c4b398e",
   "metadata": {},
   "source": [
    "<details>\n",
    "<summary>Loading hint</summary>\n",
    "<ul>\n",
    "<li>Call <code>load_data</code> with the filename inside the <code>data</code> folder.</li>\n",
    "<li>Store the result in a descriptive variable such as <code>forest</code>.</li>\n",
    "</ul>\n",
    "</details>"
   ]
  },
  {
   "cell_type": "code",
   "execution_count": null,
   "id": "e206290d",
   "metadata": {},
   "outputs": [],
   "source": [
    "# Step 2 – Filter to the baseline and latest years\n",
    "forest_focus = forest[forest[\"Year\"].isin([1990, 2020])].copy()\n",
    "forest_focus[\"Year\"] = forest_focus[\"Year\"].astype(int)\n",
    "\n",
    "# TODO: Keep only rows for 1990 and 2020, ensuring Year is numeric\n"
   ]
  },
  {
   "cell_type": "markdown",
   "id": "68a665be",
   "metadata": {},
   "source": [
    "<details>\n",
    "<summary>Filtering hint</summary>\n",
    "<ul>\n",
    "<li>Use <code>.isin([1990, 2020])</code> to grab specific years.</li>\n",
    "<li><code>astype(int)</code> keeps the year column tidy for grouping.</li>\n",
    "</ul>\n",
    "</details>"
   ]
  },
  {
   "cell_type": "code",
   "execution_count": null,
   "id": "7ef57b3f",
   "metadata": {},
   "outputs": [],
   "source": [
    "# Step 3 – Compute change between 1990 and 2020\n",
    "forest_change = (\n",
    "    forest_focus\n",
    "    .pivot(index=[\"Country Name\", \"Country Code\"], columns=\"Year\", values=\"ForestPercent\")\n",
    "    .rename(columns={1990: \"percent_1990\", 2020: \"percent_2020\"})\n",
    "    .dropna()\n",
    ")\n",
    "forest_change[\"change_pp\"] = forest_change[\"percent_2020\"] - forest_change[\"percent_1990\"]\n",
    "forest_change = forest_change.reset_index()\n",
    "\n",
    "# TODO: Pivot to wide format, rename, drop missing rows, and compute change_pp\n"
   ]
  },
  {
   "cell_type": "markdown",
   "id": "d37c334f",
   "metadata": {},
   "source": [
    "<details>\n",
    "<summary>Pivot hint</summary>\n",
    "<ul>\n",
    "<li>Use <code>.pivot(..., columns=\"Year\")</code> to get separate 1990 and 2020 columns.</li>\n",
    "<li>Rename the columns for clarity.</li>\n",
    "<li>Subtract 1990 from 2020 to get a percent-point change column.</li>\n",
    "</ul>\n",
    "</details>"
   ]
  },
  {
   "cell_type": "code",
   "execution_count": null,
   "id": "2c339a41",
   "metadata": {},
   "outputs": [],
   "source": [
    "# Step 4 – Diagnostics\n",
    "diagnose_dataframe(forest_change, name=\"Forest change (1990–2020)\")\n",
    "validate_columns(forest_change, [\"Country Name\", \"Country Code\", \"percent_1990\", \"percent_2020\", \"change_pp\"], name=\"forest_change\")\n",
    "expect_rows_between(forest_change, 180, 220, name=\"forest_change\")\n"
   ]
  },
  {
   "cell_type": "code",
   "execution_count": null,
   "id": "e814f962",
   "metadata": {},
   "outputs": [],
   "source": [
    "# Step 5 – Bucket countries into change categories\n",
    "bins = [-100, -20, -10, 0, 10, 100]\n",
    "labels = [\"Severe loss\", \"Moderate loss\", \"Slight loss\", \"Slight gain\", \"Moderate gain\"]\n",
    "forest_change[\"change_bucket\"] = pd.cut(forest_change[\"change_pp\"], bins=bins, labels=labels)\n",
    "forest_change.head()\n"
   ]
  },
  {
   "cell_type": "code",
   "execution_count": null,
   "id": "2280affb",
   "metadata": {},
   "outputs": [],
   "source": [
    "# Step 6 – Story metadata strings\n",
    "TITLE = \"Three Decades of Forest Change\"\n",
    "SUBTITLE = \"Percent-point change in forest area, 1990–2020 (World Bank)\"\n",
    "ANNOTATION = \"Large losses cluster in the Amazon basin and Southeast Asia.\"\n",
    "SOURCE = \"World Bank, FAO FRA (downloaded 2024-04-15)\"\n",
    "UNITS = \"Percent-point change in forest area\"\n",
    "\n",
    "validate_story_elements(\n",
    "    {\n",
    "        \"TITLE\": TITLE,\n",
    "        \"SUBTITLE\": SUBTITLE,\n",
    "        \"ANNOTATION\": ANNOTATION,\n",
    "        \"SOURCE\": SOURCE,\n",
    "        \"UNITS\": UNITS,\n",
    "    }\n",
    ")\n",
    "\n",
    "# TODO: Customize the metadata strings for your map\n"
   ]
  },
  {
   "cell_type": "code",
   "execution_count": null,
   "id": "a3c0e704",
   "metadata": {},
   "outputs": [],
   "source": [
    "# Step 7 – Choropleth map of forest change\n",
    "fig = px.choropleth(\n",
    "    forest_change,\n",
    "    locations=\"Country Code\",\n",
    "    color=\"change_pp\",\n",
    "    color_continuous_scale=\"BrBG\",\n",
    "    range_color=(-25, 15),\n",
    "    hover_name=\"Country Name\",\n",
    "    hover_data={\"change_pp\": ':.1f', \"percent_1990\": ':.1f', \"percent_2020\": ':.1f'},\n",
    ")\n",
    "fig.update_layout(\n",
    "    title=TITLE,\n",
    "    coloraxis_colorbar_title=UNITS,\n",
    "    margin=dict(l=0, r=0, t=60, b=0),\n",
    "    annotations=[\n",
    "        dict(\n",
    "            x=0.5,\n",
    "            y=-0.08,\n",
    "            xref=\"paper\",\n",
    "            yref=\"paper\",\n",
    "            text=f\"Source: {SOURCE} — {ANNOTATION}\",\n",
    "            showarrow=False,\n",
    "        )\n",
    "    ],\n",
    ")\n",
    "forest_map = fig\n",
    "fig\n",
    "\n",
    "# TODO: Configure the choropleth with clear color limits and annotations\n"
   ]
  },
  {
   "cell_type": "code",
   "execution_count": null,
   "id": "67d666f5",
   "metadata": {},
   "outputs": [],
   "source": [
    "# Step 8 – Final validation and save option\n",
    "validate_story_elements(\n",
    "    {\n",
    "        \"TITLE\": TITLE,\n",
    "        \"SUBTITLE\": SUBTITLE,\n",
    "        \"ANNOTATION\": ANNOTATION,\n",
    "        \"SOURCE\": SOURCE,\n",
    "        \"UNITS\": UNITS,\n",
    "    }\n",
    ")\n",
    "save_last_fig(\"day04_forest_change.png\", fig=forest_map)\n"
   ]
  }
 ],
 "metadata": {},
 "nbformat": 4,
 "nbformat_minor": 5
}