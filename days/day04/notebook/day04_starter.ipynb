{
 "cells": [
  {
   "cell_type": "markdown",
   "id": "3fd4c545",
   "metadata": {},
   "source": [
    "## 🔗 Open This Notebook in Google Colab\n",
    "\n",
    "[![Open In Colab](https://colab.research.google.com/assets/colab-badge.svg)](https://colab.research.google.com/github/DavidLangworthy/ds4s/blob/main/days/day04/notebook/day04_starter.ipynb)"
   ]
  },
  {
   "cell_type": "markdown",
   "id": "c975d18c",
   "metadata": {},
   "source": [
    "# 🌍 Day 4 – Mapping Forest Change and Habitat Pressure\n",
    "\n",
    "Today you will transform a long-format forest cover dataset into static and animated maps that illustrate biodiversity risk."
   ]
  },
  {
   "cell_type": "markdown",
   "id": "145a9315",
   "metadata": {},
   "source": [
    "### Data Card — World Bank Forest Area (% of land)\n",
    "\n",
    "| Field | Details |\n",
    "| --- | --- |\n",
    "| Source | World Bank World Development Indicators (`AG.LND.FRST.ZS`) |\n",
    "| File | `data/forest_area_long.csv` |\n",
    "| Temporal coverage | 1990–2020 |\n",
    "| Spatial coverage | Countries (ISO-3) plus regional aggregates |\n",
    "| Units | Percent of land area covered by forest |\n",
    "| Last updated | November 2024 data release |\n",
    "| Caveats | Regional aggregates remain; filter to ISO codes to avoid double counting. Values may be revised retroactively. |\n"
   ]
  },
  {
   "cell_type": "markdown",
   "id": "ff88d92c",
   "metadata": {},
   "source": [
    "### Step 1 · Imports and helpers\n",
    "\n",
    "We will rely on Plotly for mapping and pandas for wrangling."
   ]
  },
  {
   "cell_type": "code",
   "execution_count": null,
   "id": "12f9090a",
   "metadata": {},
   "outputs": [],
   "source": [
    "import pandas as pd\n",
    "import plotly.express as px\n",
    "\n",
    "from utils import (\n",
    "    expect_rows_between,\n",
    "    load_csv,\n",
    "    quick_check,\n",
    "    save_plotly_fig,\n",
    "    validate_columns,\n",
    "    validate_story_elements,\n",
    ")\n"
   ]
  },
  {
   "cell_type": "markdown",
   "id": "d59a888d",
   "metadata": {},
   "source": [
    "### Step 2 · Load the forest dataset and inspect the shape\n",
    "\n",
    "Confirm the expected columns before filtering."
   ]
  },
  {
   "cell_type": "code",
   "execution_count": null,
   "id": "d144ded3",
   "metadata": {},
   "outputs": [],
   "source": [
    "forest_raw = load_csv(\"data/forest_area_long.csv\")\n",
    "quick_check(forest_raw.head(), name=\"Forest preview\")\n",
    "validate_columns(forest_raw, [\"Country Name\", \"Country Code\", \"Year\", \"ForestPercent\"])\n"
   ]
  },
  {
   "cell_type": "markdown",
   "id": "a34e79da",
   "metadata": {},
   "source": [
    "### Step 3 · Focus on country-level rows\n",
    "\n",
    "Filter to ISO-style codes and ensure the numeric types are clean."
   ]
  },
  {
   "cell_type": "code",
   "execution_count": null,
   "id": "a1083f7f",
   "metadata": {},
   "outputs": [],
   "source": [
    "forest_countries = forest_raw[forest_raw[\"Country Code\"].str.fullmatch(r\"[A-Z]{3}\")].copy()\n",
    "forest_countries[\"Year\"] = forest_countries[\"Year\"].astype(int)\n",
    "forest_countries[\"ForestPercent\"] = pd.to_numeric(forest_countries[\"ForestPercent\"], errors=\"coerce\")\n",
    "forest_countries = forest_countries.dropna(subset=[\"ForestPercent\"])\n",
    "expect_rows_between(forest_countries, minimum=4000, maximum=6000)\n",
    "quick_check(forest_countries.tail(), name=\"Country forest data\")\n"
   ]
  },
  {
   "cell_type": "markdown",
   "id": "6134f6c6",
   "metadata": {},
   "source": [
    "### Step 4 · Build a data slice for a single year (static map)\n",
    "\n",
    "Pick a recent year to help students anchor the animation."
   ]
  },
  {
   "cell_type": "code",
   "execution_count": null,
   "id": "d40ccab2",
   "metadata": {},
   "outputs": [],
   "source": [
    "latest_year = 2020\n",
    "forest_latest = forest_countries[forest_countries[\"Year\"] == latest_year]\n",
    "expect_rows_between(forest_latest, minimum=180, maximum=210)\n",
    "quick_check(forest_latest.head(), name=f\"Forest cover {latest_year}\")\n"
   ]
  },
  {
   "cell_type": "markdown",
   "id": "94b594a4",
   "metadata": {},
   "source": [
    "### Step 5 · Prepare story scaffolding\n",
    "\n",
    "The same checklist reinforces intentional titles and annotations."
   ]
  },
  {
   "cell_type": "code",
   "execution_count": null,
   "id": "37d56fd1",
   "metadata": {},
   "outputs": [],
   "source": [
    "story = {\n",
    "    \"title\": \"Forests Shrink in Key Biodiversity Hotspots\",\n",
    "    \"subtitle\": f\"Share of land area covered by forest, {latest_year}\",\n",
    "    \"annotation\": \"Amazon basin countries show <55% forest cover despite vast rainforests.\",\n",
    "    \"source\": \"World Bank WDI AG.LND.FRST.ZS (retrieved 2024-11)\",\n",
    "    \"units\": \"% of land area\",\n",
    "}\n",
    "validate_story_elements(story)\n"
   ]
  },
  {
   "cell_type": "markdown",
   "id": "52293f9e",
   "metadata": {},
   "source": [
    "### Step 6 · Static choropleth for the latest year\n",
    "\n",
    "Expect tropical regions to appear darkest green; arid regions lighter."
   ]
  },
  {
   "cell_type": "code",
   "execution_count": null,
   "id": "70e04e15",
   "metadata": {},
   "outputs": [],
   "source": [
    "fig_static = px.choropleth(\n",
    "    forest_latest,\n",
    "    locations=\"Country Code\",\n",
    "    color=\"ForestPercent\",\n",
    "    hover_name=\"Country Name\",\n",
    "    color_continuous_scale=\"Greens\",\n",
    "    range_color=[0, 100],\n",
    "    labels={\"ForestPercent\": story[\"units\"]},\n",
    "    title=f\"{story['title']} — {story['subtitle']}\",\n",
    ")\n",
    "fig_static.update_layout(margin=dict(l=0, r=0, t=60, b=0))\n",
    "fig_static.show()\n"
   ]
  },
  {
   "cell_type": "markdown",
   "id": "a25d66d6",
   "metadata": {},
   "source": [
    "### Step 7 · Animated choropleth over time\n",
    "\n",
    "The animation slider should reveal declines in South America and Southeast Asia."
   ]
  },
  {
   "cell_type": "code",
   "execution_count": null,
   "id": "38b0a93a",
   "metadata": {},
   "outputs": [],
   "source": [
    "fig_animated = px.choropleth(\n",
    "    forest_countries,\n",
    "    locations=\"Country Code\",\n",
    "    color=\"ForestPercent\",\n",
    "    hover_name=\"Country Name\",\n",
    "    animation_frame=\"Year\",\n",
    "    color_continuous_scale=\"Greens\",\n",
    "    range_color=[0, 100],\n",
    "    labels={\"ForestPercent\": story[\"units\"]},\n",
    "    title=\"Forest cover (% of land) by country, 1990–2020\",\n",
    ")\n",
    "fig_animated.update_layout(margin=dict(l=0, r=0, t=60, b=0))\n",
    "fig_animated.show()\n"
   ]
  },
  {
   "cell_type": "markdown",
   "id": "da5d4b6a",
   "metadata": {},
   "source": [
    "### Step 8 · Export the animation HTML for archiving\n",
    "\n",
    "The HTML retains interactivity without embedding heavy JSON in the notebook."
   ]
  },
  {
   "cell_type": "code",
   "execution_count": null,
   "id": "52155f95",
   "metadata": {},
   "outputs": [],
   "source": [
    "save_plotly_fig(fig_animated, \"plots/day04_solution_forest.html\")\n"
   ]
  },
  {
   "cell_type": "markdown",
   "id": "33e99bd0",
   "metadata": {},
   "source": [
    "### Step 9 · Reflection prompts\n",
    "\n",
    "- Where do you observe the steepest declines, and what biodiversity impacts follow?\n",
    "- How could you annotate the animation to highlight tipping points?\n",
    "- Note at least one limitation (e.g., tree plantations counted as forest)."
   ]
  }
 ],
 "metadata": {
  "kernelspec": {
   "display_name": "Python 3",
   "language": "python",
   "name": "python3"
  }
 },
 "nbformat": 4,
 "nbformat_minor": 5
}