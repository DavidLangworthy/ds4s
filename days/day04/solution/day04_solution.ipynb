{
 "cells": [
  {
   "cell_type": "markdown",
   "id": "e48faf78",
   "metadata": {},
   "source": [
    "## 🔗 Open This Notebook in Google Colab\n",
    "\n",
    "[![Open In Colab](https://colab.research.google.com/assets/colab-badge.svg)](https://colab.research.google.com/github/DavidLangworthy/ds4s/blob/master/days/day04/notebook/day04_starter.ipynb)"
   ]
  },
  {
   "cell_type": "markdown",
   "id": "ab6e278a",
   "metadata": {},
   "source": [
    "# 🌳 Day 4 – Biodiversity & Deforestation Mapping\n",
    "### Visualizing forest cover change on a global choropleth map\n",
    "\n",
    "Today we work with geospatial time-series data to spotlight where forest cover is shrinking or rebounding.\n",
    "You'll practice validating geocodes, computing change metrics, and producing an animated map that supports\n",
    "thoughtful conservation storytelling."
   ]
  },
  {
   "cell_type": "markdown",
   "id": "aab4988b",
   "metadata": {},
   "source": [
    "### 🗂️ Data card — World Bank forest area (% of land area)\n",
    "- **Source:** World Bank World Development Indicators, indicator `AG.LND.FRST.ZS`\n",
    "- **Temporal coverage:** 1990–2021 (annual)\n",
    "- **Geography:** Countries and territories with ISO3 country codes\n",
    "- **Units:** Percent of total land area covered by forest\n",
    "- **Collection notes:** Forest includes natural and planted stands of trees of at least 5 meters tall; data harmonized across FAO submissions\n",
    "- **Caveats:** Estimates rely on national reporting; some countries interpolate between survey years; excludes tree crops outside forest definitions\n",
    "- **Mindful design:** Use a perceptually uniform color scale, provide context for the baseline year, and avoid implying causality from a single map."
   ]
  },
  {
   "cell_type": "markdown",
   "id": "3f317eb3",
   "metadata": {},
   "source": [
    "### 1. Set up the environment"
   ]
  },
  {
   "cell_type": "code",
   "execution_count": null,
   "id": "461a90b2",
   "metadata": {},
   "outputs": [],
   "source": [
    "import pandas as pd\n",
    "import numpy as np\n",
    "import plotly.express as px\n",
    "from IPython.display import display\n",
    "import matplotlib.pyplot as plt  # for save_last_fig compatibility if needed\n",
    "\n",
    "pd.options.display.float_format = \"{:.2f}\".format"
   ]
  },
  {
   "cell_type": "code",
   "execution_count": null,
   "id": "86f449d4",
   "metadata": {},
   "outputs": [],
   "source": [
    "# Shared helper utilities used throughout the week.\n",
    "from __future__ import annotations\n",
    "\n",
    "import warnings\n",
    "from pathlib import Path\n",
    "from typing import Iterable, Mapping\n",
    "\n",
    "import matplotlib.pyplot as plt\n",
    "import pandas as pd\n",
    "import seaborn as sns\n",
    "\n",
    "\n",
    "def resolve_data_dir(max_up: int = 5) -> Path:\n",
    "    \"\"\"Locate the project-level ``data`` directory regardless of execution location.\"\"\"\n",
    "    here = Path.cwd()\n",
    "    for _ in range(max_up + 1):\n",
    "        candidate = here / \"data\"\n",
    "        if candidate.exists():\n",
    "            return candidate\n",
    "        here = here.parent\n",
    "    raise FileNotFoundError(\n",
    "        \"Could not find a 'data' directory relative to this notebook.\n",
    "\"\n",
    "        \"If you are running in Colab, mount your drive or upload the data folder first.\"\n",
    "    )\n",
    "\n",
    "\n",
    "DATA_DIR = resolve_data_dir()\n",
    "PROJECT_ROOT = DATA_DIR.parent\n",
    "PLOTS_DIR = PROJECT_ROOT / \"plots\"\n",
    "PLOTS_DIR.mkdir(parents=True, exist_ok=True)\n",
    "\n",
    "\n",
    "def baseline_style() -> None:\n",
    "    \"\"\"Apply a consistent, high-contrast visual style that is colorblind-friendly.\"\"\"\n",
    "    sns.set_theme(style=\"whitegrid\", context=\"talk\", font_scale=0.9)\n",
    "    plt.rcParams.update(\n",
    "        {\n",
    "            \"figure.dpi\": 120,\n",
    "            \"axes.titlesize\": 16,\n",
    "            \"axes.labelsize\": 13,\n",
    "            \"legend.fontsize\": 11,\n",
    "            \"axes.titleweight\": \"semibold\",\n",
    "        }\n",
    "    )\n",
    "\n",
    "\n",
    "def load_data(filename: str | Path, **kwargs) -> pd.DataFrame:\n",
    "    \"\"\"Read a CSV file from the shared data directory and report its shape.\"\"\"\n",
    "    path = Path(filename)\n",
    "    if not path.exists():\n",
    "        path = DATA_DIR / filename\n",
    "    df = pd.read_csv(path, **kwargs)\n",
    "    print(f\"Loaded {path.name} with shape {df.shape}.\")\n",
    "    return df\n",
    "\n",
    "\n",
    "def validate_columns(df: pd.DataFrame, required: Iterable[str], *, context: str = \"\") -> None:\n",
    "    missing = [col for col in required if col not in df.columns]\n",
    "    if missing:\n",
    "        warnings.warn(\n",
    "            f\"Missing expected columns {missing} in {context or 'dataframe'}.\n",
    "\"\n",
    "            \"Double-check your renaming and loading steps before moving on.\"\n",
    "        )\n",
    "    else:\n",
    "        print(f\"✅ Columns look good: {list(required)}\")\n",
    "\n",
    "\n",
    "def expect_rows_between(df: pd.DataFrame, low: int, high: int, *, label: str = \"rows\") -> None:\n",
    "    count = len(df)\n",
    "    if not (low <= count <= high):\n",
    "        warnings.warn(\n",
    "            f\"{label} check: expected between {low:,} and {high:,} but found {count:,}.\"\n",
    "        )\n",
    "    else:\n",
    "        print(f\"✅ {label} check: {count:,} rows is within the expected range.\")\n",
    "\n",
    "\n",
    "def quick_diagnose(df: pd.DataFrame, *, sample: int = 3) -> None:\n",
    "    print(\"\n",
    "Preview of the current dataframe:\")\n",
    "    display(df.head(sample))\n",
    "    print(\"\n",
    "Null values by column:\")\n",
    "    print(df.isna().sum())\n",
    "\n",
    "\n",
    "def validate_story_fields(fields: Mapping[str, str]) -> None:\n",
    "    missing = [name for name, value in fields.items() if not str(value).strip()]\n",
    "    if missing:\n",
    "        warnings.warn(\n",
    "            \"The following story fields are blank: \" + \", \".join(missing) +\n",
    "            \"\n",
    "Fill them in so your chart has a clear narrative frame.\"\n",
    "        )\n",
    "    else:\n",
    "        print(\"✅ Narrative checklist complete.\")\n",
    "\n",
    "\n",
    "def save_last_fig(fig: plt.Figure | None, filename: str) -> Path | None:\n",
    "    if fig is None:\n",
    "        fig = plt.gcf()\n",
    "    if fig and getattr(fig, \"axes\", None):\n",
    "        output_path = PLOTS_DIR / filename\n",
    "        fig.savefig(output_path, dpi=300, bbox_inches=\"tight\")\n",
    "        print(f\"Saved figure to {output_path.relative_to(PROJECT_ROOT)}\")\n",
    "        return output_path\n",
    "    warnings.warn(\"No matplotlib figure available to save yet.\")\n",
    "    return None\n"
   ]
  },
  {
   "cell_type": "markdown",
   "id": "69fd9d34",
   "metadata": {},
   "source": [
    "### 2. Load and inspect the forest dataset\n",
    "Confirm expected columns and look at a few records before deeper analysis."
   ]
  },
  {
   "cell_type": "code",
   "execution_count": null,
   "id": "9779048c",
   "metadata": {},
   "outputs": [],
   "source": [
    "forest = load_data(\"forest_area_long.csv\")\n",
    "validate_columns(forest, [\"Country Name\", \"Country Code\", \"Year\", \"ForestPercent\"])\n",
    "expect_rows_between(forest, 6000, 7000, label=\"country-year records\")\n",
    "quick_diagnose(forest.head())"
   ]
  },
  {
   "cell_type": "markdown",
   "id": "4eadacd5",
   "metadata": {},
   "source": [
    "### 3. Focus on the modern era and compute change metrics\n",
    "Filter to 1990 onward, compute 5-year rolling medians, and calculate change between 1990 and 2020."
   ]
  },
  {
   "cell_type": "code",
   "execution_count": null,
   "id": "dcd18929",
   "metadata": {},
   "outputs": [],
   "source": [
    "forest_recent = forest[forest[\"Year\"] >= 1990].copy()\n",
    "forest_recent[\"forest_pct_rolling\"] = (\n",
    "    forest_recent.sort_values([\"Country Code\", \"Year\"])\n",
    "    .groupby(\"Country Code\")[\"ForestPercent\"]\n",
    "    .transform(lambda s: s.rolling(window=5, min_periods=1).median())\n",
    ")\n",
    "\n",
    "baseline = forest_recent[forest_recent[\"Year\"] == 1990][[\"Country Code\", \"ForestPercent\"]]\n",
    "latest = forest_recent[forest_recent[\"Year\"] == 2020][[\"Country Code\", \"ForestPercent\"]]\n",
    "change = (\n",
    "    baseline.merge(latest, on=\"Country Code\", suffixes=(\"_1990\", \"_2020\"))\n",
    "    .assign(forest_change=lambda d: d[\"ForestPercent_2020\"] - d[\"ForestPercent_1990\"])\n",
    ")\n",
    "quick_diagnose(change.head())"
   ]
  },
  {
   "cell_type": "markdown",
   "id": "a2029ec3",
   "metadata": {},
   "source": [
    "### 4. Define the storytelling frame\n",
    "Clarify the narrative elements so the choropleth focuses attention on the right message."
   ]
  },
  {
   "cell_type": "code",
   "execution_count": null,
   "id": "3a62da38",
   "metadata": {},
   "outputs": [],
   "source": [
    "TITLE = \"Forest cover is declining in key biodiversity hotspots\"\n",
    "SUBTITLE = \"Percent of land area classified as forest, 1990–2020\"\n",
    "ANNOTATION = \"Slider reveals regional trajectories; call out countries with steep losses\"\n",
    "SOURCE = \"Source: World Bank World Development Indicators\"\n",
    "UNITS = \"Forest area (% of land area)\"\n",
    "\n",
    "validate_story_fields({\n",
    "    \"TITLE\": TITLE,\n",
    "    \"SUBTITLE\": SUBTITLE,\n",
    "    \"ANNOTATION\": ANNOTATION,\n",
    "    \"SOURCE\": SOURCE,\n",
    "    \"UNITS\": UNITS,\n",
    "})"
   ]
  },
  {
   "cell_type": "markdown",
   "id": "72e2e716",
   "metadata": {},
   "source": [
    "### 5. Build the animated choropleth\n",
    "Use a sequential green-to-brown scale, include a diverging change tooltip, and annotate usage guidance."
   ]
  },
  {
   "cell_type": "code",
   "execution_count": null,
   "id": "1de0b1e0",
   "metadata": {},
   "outputs": [],
   "source": [
    "forest_for_plot = forest_recent.merge(\n",
    "    change[[\"Country Code\", \"forest_change\"]], on=\"Country Code\", how=\"left\"\n",
    ")\n",
    "\n",
    "fig = px.choropleth(\n",
    "    forest_for_plot,\n",
    "    locations=\"Country Code\",\n",
    "    color=\"forest_pct_rolling\",\n",
    "    hover_name=\"Country Name\",\n",
    "    hover_data={\n",
    "        \"Year\": True,\n",
    "        \"ForestPercent\": \":.1f\",\n",
    "        \"forest_pct_rolling\": \":.1f\",\n",
    "        \"forest_change\": \":.1f\",\n",
    "    },\n",
    "    animation_frame=\"Year\",\n",
    "    color_continuous_scale=[\"#8FBC8F\", \"#2E8B57\", \"#A0522D\"],\n",
    "    range_color=[0, 80],\n",
    "    title=f\"{TITLE}<br><sup>{SUBTITLE}</sup>\",\n",
    ")\n",
    "fig.update_layout(\n",
    "    coloraxis_colorbar=dict(title=UNITS),\n",
    "    margin=dict(l=0, r=0, t=80, b=0),\n",
    "    annotations=[\n",
    "        dict(\n",
    "            text=f\"{ANNOTATION}<br>{SOURCE}\",\n",
    "            x=0,\n",
    "            y=-0.12,\n",
    "            xref=\"paper\",\n",
    "            yref=\"paper\",\n",
    "            showarrow=False,\n",
    "            align=\"left\",\n",
    "        )\n",
    "    ],\n",
    ")\n",
    "fig.update_traces(marker_line_width=0.2, marker_line_color=\"#222222\")\n",
    "fig.show()\n",
    "\n",
    "html_path = (PROJECT_ROOT / \"plots\" / \"day04_solution_map.html\")\n",
    "fig.write_html(html_path)\n",
    "print(f\"Saved interactive map to {html_path.relative_to(PROJECT_ROOT)}\")"
   ]
  },
  {
   "cell_type": "markdown",
   "id": "84cdbf8b",
   "metadata": {},
   "source": [
    "### 6. Interpret responsibly\n",
    "- **Key takeaway:** Large swaths of South America and Southeast Asia lost more than 5 percentage points of forest cover since 1990, while parts of Europe stabilized or grew forests.\n",
    "- **Uncertainty & caveats:** National reporting standards vary; some apparent gains come from plantation expansion, not native forest recovery; choropleths can hide subnational variation.\n",
    "- **What this map cannot tell us:** Drivers of change (logging, fire, policy) and biodiversity quality require complementary datasets; consider pairing the map with time-series charts and qualitative context."
   ]
  },
  {
   "cell_type": "markdown",
   "id": "c7f996b9",
   "metadata": {},
   "source": [
    "### 7. Process micro-rubric\n",
    "| Step | Evidence of completion |\n",
    "| --- | --- |\n",
    "| Data loaded & validated | Country codes, years, and forest percent columns confirmed |\n",
    "| Cleaning documented | Rolling medians and 1990→2020 change computed with diagnostics |\n",
    "| Story frame filled | Title, subtitle, annotation, source, units prepared pre-visualization |\n",
    "| Visualization reviewed | Color scale, hover data, and annotations align with ethical mapping guidance |\n",
    "| Reflection written | Takeaway, caveats, and limitations articulated |"
   ]
  }
 ],
 "metadata": {
  "colab": {
   "provenance": []
  },
  "kernelspec": {
   "display_name": "Python 3",
   "name": "python3"
  },
  "language_info": {
   "name": "python"
  }
 },
 "nbformat": 4,
 "nbformat_minor": 5
}