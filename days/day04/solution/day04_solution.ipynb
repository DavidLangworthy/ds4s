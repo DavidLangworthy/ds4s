{
 "cells": [
  {
   "cell_type": "markdown",
   "id": "51e3c7f2",
   "metadata": {},
   "source": [
    "## 🔗 Open This Notebook in Google Colab\n",
    "\n",
    "[![Open In Colab](https://colab.research.google.com/assets/colab-badge.svg)](https://colab.research.google.com/github/DavidLangworthy/ds4s/blob/master/Day%204%20%E2%80%93%20Mapping%20Biodiversity%20%26%20Deforestation.ipynb)"
   ]
  },
  {
   "cell_type": "markdown",
   "id": "e32a27fe",
   "metadata": {},
   "source": [
    "# 🌍 Day 4 · Mapping Forest Change\n",
    "\n",
    "Maps demand extra care: projections, color scales, and annotations can all shift how the story lands. We'll keep the loop tight—load, tidy, inspect, and then animate the map with clear guardrails."
   ]
  },
  {
   "cell_type": "markdown",
   "id": "e066081a",
   "metadata": {},
   "source": [
    "## 🗂️ Data Card · World Bank Forest Area\n",
    "| Field | Details |\n",
    "| --- | --- |\n",
    "| Source | [World Bank – Forest area (% of land area)](https://data.worldbank.org/indicator/AG.LND.FRST.ZS) |\n",
    "| Temporal coverage | 1990–2021 |\n",
    "| Geographic scope | Countries and World Bank regions |\n",
    "| Units | Percent of land area covered by forest |\n",
    "| Update cadence | Annual |\n",
    "| Caveats | Administrative boundaries may shift; some small territories missing; satellite revisions occasionally update historical values. |\n",
    "| What this chart cannot show | Forest quality (primary vs. plantation), biodiversity, or drivers of change. Pair with qualitative case studies for context. |"
   ]
  },
  {
   "cell_type": "code",
   "execution_count": null,
   "id": "ceed7e64",
   "metadata": {},
   "outputs": [],
   "source": [
    "# 🔁 Shared scaffolds used across DS4S notebooks\n",
    "from __future__ import annotations\n",
    "\n",
    "import warnings\n",
    "from pathlib import Path\n",
    "\n",
    "import matplotlib.pyplot as plt\n",
    "import numpy as np\n",
    "import pandas as pd\n",
    "\n",
    "plt.rcParams.update({\n",
    "    \"figure.dpi\": 120,\n",
    "    \"axes.facecolor\": \"#f8f9fb\",\n",
    "    \"axes.grid\": True,\n",
    "    \"grid.alpha\": 0.25,\n",
    "    \"grid.linestyle\": \"--\",\n",
    "    \"axes.titlesize\": 18,\n",
    "    \"axes.labelsize\": 12,\n",
    "    \"axes.titleweight\": \"bold\",\n",
    "    \"legend.frameon\": False,\n",
    "    \"legend.fontsize\": 11,\n",
    "    \"font.family\": \"DejaVu Sans\",\n",
    "})\n",
    "\n",
    "def quick_diagnostics(df: pd.DataFrame, dataset_name: str, *, expected_columns: list[str] | None = None, expected_rows: tuple[int, int] | None = None) -> None:\n",
    "    \"\"\"Print lightweight diagnostics without stopping execution.\"\"\"\n",
    "    print(f\"\\n🔍 {dataset_name}\")\n",
    "    print(f\"Shape: {df.shape}\")\n",
    "    print(f\"Columns: {list(df.columns)}\")\n",
    "    if expected_columns is not None:\n",
    "        missing = [col for col in expected_columns if col not in df.columns]\n",
    "        if missing:\n",
    "            warnings.warn(f\"Missing expected columns: {missing}\")\n",
    "    if expected_rows is not None:\n",
    "        low, high = expected_rows\n",
    "        if not (low <= len(df) <= high):\n",
    "            warnings.warn(f\"Row count {len(df)} outside expected range {expected_rows}\")\n",
    "        else:\n",
    "            print(f\"Row count within expected range {expected_rows}.\")\n",
    "    print(\"Null counts:\")\n",
    "    print(df.isna().sum())\n",
    "    print(\"Preview:\")\n",
    "    print(df.head())\n",
    "    print(\"-\" * 60)\n",
    "\n",
    "def expect_value_range(series: pd.Series, *, lower: float | None = None, upper: float | None = None, context: str = \"\") -> None:\n",
    "    \"\"\"Warn when values fall outside an expected numeric window.\"\"\"\n",
    "    label = context or series.name or \"series\"\n",
    "    if lower is not None and float(series.min()) < lower:\n",
    "        warnings.warn(f\"{label}: minimum {series.min():.3f} is below expected {lower}\")\n",
    "    if upper is not None and float(series.max()) > upper:\n",
    "        warnings.warn(f\"{label}: maximum {series.max():.3f} is above expected {upper}\")\n",
    "    print(f\"{label}: {series.min():.3f} → {series.max():.3f}\")\n",
    "\n",
    "def validate_story_elements(*, title: str, subtitle: str, annotation: str, source: str, units: str) -> None:\n",
    "    \"\"\"Confirm the storytelling scaffold is filled before plotting.\"\"\"\n",
    "    elements = {\n",
    "        \"TITLE\": title,\n",
    "        \"SUBTITLE\": subtitle,\n",
    "        \"ANNOTATION\": annotation,\n",
    "        \"SOURCE\": source,\n",
    "        \"UNITS\": units,\n",
    "    }\n",
    "    missing = [key for key, value in elements.items() if not str(value).strip()]\n",
    "    if missing:\n",
    "        warnings.warn(f\"Please fill these storytelling fields: {', '.join(missing)}\")\n",
    "    else:\n",
    "        print(\"👍 Story scaffold complete.\")\n",
    "\n",
    "def baseline_style(ax: plt.Axes | None = None) -> plt.Axes:\n",
    "    \"\"\"Standardise axes styling for consistency across notebooks.\"\"\"\n",
    "    ax = ax or plt.gca()\n",
    "    for spine in [\"top\", \"right\"]:\n",
    "        ax.spines[spine].set_visible(False)\n",
    "    ax.set_facecolor(\"#ffffff\")\n",
    "    return ax\n",
    "\n",
    "def save_last_visual(fig, filename: str, *, subfolder: str = \"plots\") -> None:\n",
    "    \"\"\"Persist the most recent Matplotlib or Plotly figure without failing the run.\"\"\"\n",
    "    plots_dir = Path.cwd() / subfolder\n",
    "    plots_dir.mkdir(parents=True, exist_ok=True)\n",
    "    output_path = plots_dir / filename\n",
    "    try:\n",
    "        if hasattr(fig, \"write_image\"):\n",
    "            fig.write_image(str(output_path))\n",
    "        elif hasattr(fig, \"savefig\"):\n",
    "            fig.savefig(output_path, dpi=300, bbox_inches=\"tight\")\n",
    "        else:\n",
    "            warnings.warn(\"Figure type not supported for export; skipping save.\")\n",
    "            return\n",
    "        print(f\"Saved visual to {output_path}\")\n",
    "    except Exception as exc:\n",
    "        warnings.warn(f\"Plot export skipped: {exc}\")\n"
   ]
  },
  {
   "cell_type": "markdown",
   "id": "21e80c44",
   "metadata": {},
   "source": [
    "## Step 1 · Load the long-format forest table\n",
    "Read the prepared CSV and confirm the expected columns are present."
   ]
  },
  {
   "cell_type": "code",
   "execution_count": null,
   "id": "2cc7f304",
   "metadata": {},
   "outputs": [],
   "source": [
    "data_dir = Path.cwd() / \"data\"\n",
    "df_forest = pd.read_csv(data_dir / \"forest_area_long.csv\")\n",
    "\n",
    "quick_diagnostics(\n",
    "    df_forest,\n",
    "    \"Forest area long table\",\n",
    "    expected_columns=[\"Country Name\", \"Country Code\", \"Year\", \"ForestPercent\"],\n",
    "    expected_rows=(8000, 9000),\n",
    ")\n"
   ]
  },
  {
   "cell_type": "markdown",
   "id": "d9c8520a",
   "metadata": {},
   "source": [
    "## Step 2 · Prepare numeric fields\n",
    "Ensure the year is numeric and sort the table. These checks keep the animation timeline consistent."
   ]
  },
  {
   "cell_type": "code",
   "execution_count": null,
   "id": "b1546052",
   "metadata": {},
   "outputs": [],
   "source": [
    "df_forest[\"Year\"] = df_forest[\"Year\"].astype(int)\n",
    "df_forest = df_forest.sort_values([\"Country Code\", \"Year\"]).reset_index(drop=True)\n",
    "\n",
    "quick_diagnostics(\n",
    "    df_forest,\n",
    "    \"Forest table after type cleaning\",\n",
    "    expected_columns=[\"Country Name\", \"Country Code\", \"Year\", \"ForestPercent\"],\n",
    "    expected_rows=(8000, 9000),\n",
    ")\n",
    "expect_value_range(df_forest[\"ForestPercent\"], lower=0, upper=100, context=\"ForestPercent (%)\")\n"
   ]
  },
  {
   "cell_type": "markdown",
   "id": "9c47c9cd",
   "metadata": {},
   "source": [
    "## Step 3 · Spot-check latest year values\n",
    "Grab the most recent snapshot to see which countries are at the extremes. This doubles as a formative assessment opportunity."
   ]
  },
  {
   "cell_type": "code",
   "execution_count": null,
   "id": "af07e3cf",
   "metadata": {},
   "outputs": [],
   "source": [
    "latest_year = df_forest[\"Year\"].max()\n",
    "df_latest = df_forest[df_forest[\"Year\"] == latest_year]\n",
    "print(f\"Latest year: {latest_year}\")\n",
    "print(df_latest.sort_values(\"ForestPercent\", ascending=False).head())\n",
    "print(df_latest.sort_values(\"ForestPercent\").head())\n"
   ]
  },
  {
   "cell_type": "markdown",
   "id": "03f349ad",
   "metadata": {},
   "source": [
    "### Expected map preview\n",
    "Compare your animation to the reference frame below. Colors should trend from deep greens (high coverage) to pale shades (low coverage)."
   ]
  },
  {
   "cell_type": "markdown",
   "id": "7a7c2430",
   "metadata": {},
   "source": [
    "![Preview of the finished map](../../../plots/day04_solution_plot.png)"
   ]
  },
  {
   "cell_type": "markdown",
   "id": "b4ee607f",
   "metadata": {},
   "source": [
    "## Step 4 · Render the animated choropleth\n",
    "Use a colorblind-safe sequential palette, add clear titles, and include a caption that notes limitations."
   ]
  },
  {
   "cell_type": "code",
   "execution_count": null,
   "id": "1bca5d6d",
   "metadata": {},
   "outputs": [],
   "source": [
    "import plotly.express as px\n",
    "\n",
    "TITLE = \"Forest cover is shrinking fastest across tropical regions\"\n",
    "SUBTITLE = \"Share of land area that is forested, 1990–2021 (World Bank)\"\n",
    "ANNOTATION = \"Large losses appear in parts of South America, Southeast Asia, and Central Africa; some temperate countries show gradual gains.\"\n",
    "SOURCE = \"Source: World Bank forest area (% of land area), processed for DS4S (downloaded 2025-01-05)\"\n",
    "UNITS = \"Forest area (% of land area)\"\n",
    "\n",
    "validate_story_elements(\n",
    "    title=TITLE,\n",
    "    subtitle=SUBTITLE,\n",
    "    annotation=ANNOTATION,\n",
    "    source=SOURCE,\n",
    "    units=UNITS,\n",
    ")\n",
    "\n",
    "fig_forest = px.choropleth(\n",
    "    df_forest,\n",
    "    locations=\"Country Code\",\n",
    "    color=\"ForestPercent\",\n",
    "    hover_name=\"Country Name\",\n",
    "    animation_frame=\"Year\",\n",
    "    color_continuous_scale=\"YlGn\",\n",
    "    range_color=[0, 100],\n",
    "    labels={\"ForestPercent\": UNITS},\n",
    "    template=\"plotly_white\",\n",
    ")\n",
    "\n",
    "fig_forest.update_layout(\n",
    "    title=dict(text=f\"{TITLE}<br><sup>{SUBTITLE}</sup>\", x=0, font=dict(size=22)),\n",
    "    margin=dict(l=20, r=20, t=100, b=40),\n",
    "    coloraxis_colorbar=dict(title=UNITS),\n",
    ")\n",
    "\n",
    "fig_forest.update_geos(\n",
    "    showcountries=True,\n",
    "    showcoastlines=False,\n",
    "    showframe=False,\n",
    "    projection_type=\"natural earth\",\n",
    ")\n",
    "\n",
    "fig_forest.add_annotation(\n",
    "    xref=\"paper\",\n",
    "    yref=\"paper\",\n",
    "    x=0.01,\n",
    "    y=-0.20,\n",
    "    text=f\"{ANNOTATION}<br>{SOURCE} · Units: {UNITS}\",\n",
    "    showarrow=False,\n",
    "    align=\"left\",\n",
    "    font=dict(size=12, color=\"#555555\"),\n",
    ")\n",
    "\n",
    "fig_forest.show()\n"
   ]
  },
  {
   "cell_type": "code",
   "execution_count": null,
   "id": "8f13967b",
   "metadata": {},
   "outputs": [],
   "source": [
    "save_last_visual(fig_forest, \"day04_solution_plot.png\")"
   ]
  },
  {
   "cell_type": "markdown",
   "id": "4bd8a395",
   "metadata": {},
   "source": [
    "## 🔍 Reflection & limitations\n",
    "- Animated choropleths can overwhelm—pause on key frames and ask students what design choice might mislead (e.g., uneven time gaps, missing small islands).\n",
    "- Emphasise that percent cover hides forest quality; encourage notes about biodiversity, indigenous stewardship, and carbon density.\n",
    "- Invite discussion on uncertainties: how might different satellite algorithms shift these values?"
   ]
  }
 ],
 "metadata": {
  "colab": {
   "provenance": []
  },
  "kernelspec": {
   "display_name": "Python 3",
   "name": "python3"
  },
  "language_info": {
   "name": "python"
  }
 },
 "nbformat": 4,
 "nbformat_minor": 5
}
