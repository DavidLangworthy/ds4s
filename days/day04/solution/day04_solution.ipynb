{
 "cells": [
  {
   "cell_type": "markdown",
   "id": "3ada2d8f",
   "metadata": {},
   "source": [
    "## 🔗 Open This Notebook in Google Colab\n",
    "\n",
    "[![Open In Colab](https://colab.research.google.com/assets/colab-badge.svg)](https://colab.research.google.com/github/DavidLangworthy/ds4s/blob/master/days/day04/solution/day04_solution.ipynb)"
   ]
  },
  {
   "cell_type": "markdown",
   "id": "dbd52098",
   "metadata": {},
   "source": [
    "# 🌍 Day 4 – Mapping Forest Change and Biodiversity Pressure\n",
    "### Guided loops: validate → map → animate → interpret\n",
    "\n",
    "Today’s loops focus on geospatial storytelling. We’ll load a long-form forest dataset, check for plausible ranges, build a baseline choropleth, then extend it into an animation that reveals regional forest loss over three decades."
   ]
  },
  {
   "cell_type": "markdown",
   "id": "5c0240b0",
   "metadata": {},
   "source": [
    "## 📇 Data Card — World Bank Forest Area (% of Land)\n",
    "- **Source**: FAO & World Bank World Development Indicators (downloaded January 2024).\n",
    "- **Temporal coverage**: 1990–2021, annual values for countries and regions.\n",
    "- **Units**: Percent of land area covered by forest (0–100).\n",
    "- **Processing notes**: Data reshaped to long format with ISO3 codes; regional aggregates included.\n",
    "- **Last updated**: December 2023 WDI refresh.\n",
    "- **Caveats**: Forest definition follows FAO (≥0.5 ha with trees >5m); natural vs plantation forests are not distinguished. Aggregated regions need to be filtered for country-level analysis.\n",
    "\n",
    "> 🔎 **What this map cannot tell us**: Biodiversity quality, sub-national hotspots, or drivers (logging vs fire vs agriculture). Complement with qualitative context before policy decisions."
   ]
  },
  {
   "cell_type": "markdown",
   "id": "3ea66693",
   "metadata": {},
   "source": [
    "## 🗺️ Workflow Map\n",
    "1. **Setup & helpers**.\n",
    "2. **Load & inspect** the long-form dataset.\n",
    "3. **Filter** to ISO-coded countries and confirm ranges.\n",
    "4. **Story scaffold** for map metadata and ethics.\n",
    "5. **Visualise** static baseline + animated timeline with Plotly.\n",
    "6. **Reflect** on uncertainty, color choices, and interpretation limits."
   ]
  },
  {
   "cell_type": "markdown",
   "id": "270a81fd",
   "metadata": {},
   "source": [
    "## Step 0 · Imports, style, and diagnostics"
   ]
  },
  {
   "cell_type": "code",
   "execution_count": null,
   "id": "134cfaa7",
   "metadata": {},
   "outputs": [],
   "source": [
    "\n",
    "from pathlib import Path\n",
    "from textwrap import dedent\n",
    "\n",
    "import pandas as pd\n",
    "import matplotlib.pyplot as plt\n",
    "import seaborn as sns\n",
    "from IPython.display import Image, display\n",
    "\n",
    "sns.set_theme(style=\"whitegrid\")\n",
    "plt.rcParams.update({\n",
    "    \"axes.titlesize\": 18,\n",
    "    \"axes.labelsize\": 13,\n",
    "    \"axes.titleweight\": \"bold\",\n",
    "    \"figure.titlesize\": 20,\n",
    "    \"xtick.labelsize\": 11,\n",
    "    \"ytick.labelsize\": 11,\n",
    "})\n",
    "\n",
    "\n",
    "def baseline_style():\n",
    "    \"\"\"Reset the Matplotlib/Seaborn style so every figure starts consistent.\"\"\"\n",
    "    sns.set_theme(style=\"whitegrid\")\n",
    "    plt.rcParams.update({\n",
    "        \"axes.titlesize\": 18,\n",
    "        \"axes.labelsize\": 13,\n",
    "        \"axes.titleweight\": \"bold\",\n",
    "        \"figure.titlesize\": 20,\n",
    "        \"xtick.labelsize\": 11,\n",
    "        \"ytick.labelsize\": 11,\n",
    "        \"legend.title_fontsize\": 12,\n",
    "        \"legend.fontsize\": 11,\n",
    "    })\n",
    "    return plt\n",
    "\n",
    "\n",
    "def quick_peek(df, expected_columns=None, sample=3, label=\"DataFrame\"):\n",
    "    \"\"\"Print a friendly snapshot so students can self-diagnose issues quickly.\"\"\"\n",
    "    print(f\"\n",
    "🔍 {label} preview\")\n",
    "    print(df.head(sample))\n",
    "    print(f\"Rows: {len(df):,} | Columns: {list(df.columns)}\")\n",
    "    if expected_columns:\n",
    "        missing = [col for col in expected_columns if col not in df.columns]\n",
    "        if missing:\n",
    "            print(f\"⚠️ Missing column(s): {missing}\")\n",
    "        else:\n",
    "            print(\"✅ Columns match the expectation.\")\n",
    "    return df\n",
    "\n",
    "\n",
    "def expect_rows_between(df, low, high, label=\"row count\"):\n",
    "    rows = len(df)\n",
    "    if low <= rows <= high:\n",
    "        print(f\"✅ {label.title()} looks right: {rows:,}.\")\n",
    "    else:\n",
    "        print(f\"⚠️ {label.title()} looks off: {rows:,}. Expected between {low:,} and {high:,}.\")\n",
    "    return rows\n",
    "\n",
    "\n",
    "def validate_story_elements(elements):\n",
    "    missing = [key for key, value in elements.items() if not value or not str(value).strip()]\n",
    "    if missing:\n",
    "        print(f\"⚠️ Please fill in these storytelling fields: {', '.join(missing)}\")\n",
    "    else:\n",
    "        print(\"✅ Story scaffold is ready — every element is filled in.\")\n",
    "    return elements\n",
    "\n",
    "\n",
    "def save_last_fig(filename, fig=None, dpi=300):\n",
    "    \"\"\"Save the latest Matplotlib figure with consistent export settings.\"\"\"\n",
    "    output_path = Path.cwd() / filename\n",
    "    output_path.parent.mkdir(parents=True, exist_ok=True)\n",
    "    if fig is None:\n",
    "        fig = plt.gcf()\n",
    "    if fig and getattr(fig, \"axes\", None):\n",
    "        fig.savefig(output_path, dpi=dpi, bbox_inches=\"tight\")\n",
    "        print(f\"💾 Saved figure to {output_path}\")\n",
    "    else:\n",
    "        print(\"⚠️ No figure detected to save.\")\n",
    "    return output_path\n",
    "\n",
    "baseline_style()\n"
   ]
  },
  {
   "cell_type": "markdown",
   "id": "293a7977",
   "metadata": {},
   "source": [
    "## Step 1 · Load the long-form forest dataset\n",
    "**Micro-task**: read the CSV, inspect the first rows, and note column names."
   ]
  },
  {
   "cell_type": "code",
   "execution_count": null,
   "id": "382263a9",
   "metadata": {},
   "outputs": [],
   "source": [
    "\n",
    "data_dir = Path.cwd() / \"data\"\n",
    "forest_df = pd.read_csv(data_dir / \"forest_area_long.csv\")\n",
    "quick_peek(forest_df, expected_columns=[\"Country Name\", \"Country Code\", \"Year\", \"ForestPercent\"], label=\"Forest area raw table\")\n"
   ]
  },
  {
   "cell_type": "markdown",
   "id": "37fab63f",
   "metadata": {},
   "source": [
    "### Sanity checks: year range and percent bounds"
   ]
  },
  {
   "cell_type": "code",
   "execution_count": null,
   "id": "fa6e7a91",
   "metadata": {},
   "outputs": [],
   "source": [
    "\n",
    "min_year, max_year = forest_df[\"Year\"].min(), forest_df[\"Year\"].max()\n",
    "print(f\"🗓️ Years covered: {min_year} → {max_year}\")\n",
    "if min_year > 1990 or max_year < 2021:\n",
    "    print(\"⚠️ Expected coverage of 1990–2021. Check the CSV path or filters.\")\n",
    "else:\n",
    "    print(\"✅ Year range matches the data card.\")\n",
    "\n",
    "min_pct, max_pct = forest_df[\"ForestPercent\"].min(), forest_df[\"ForestPercent\"].max()\n",
    "print(f\"🌲 Forest percent range: {min_pct:.2f} → {max_pct:.2f}\")\n",
    "if min_pct < 0 or max_pct > 100:\n",
    "    print(\"⚠️ Percent values outside 0–100. Investigate outliers before mapping.\")\n",
    "else:\n",
    "    print(\"✅ Percent values fall within 0–100.\")\n"
   ]
  },
  {
   "cell_type": "markdown",
   "id": "4eac3f97",
   "metadata": {},
   "source": [
    "## Step 2 · Filter to ISO3 countries\n",
    "Regional aggregates can distort the map; keep ISO codes only."
   ]
  },
  {
   "cell_type": "code",
   "execution_count": null,
   "id": "5d349847",
   "metadata": {},
   "outputs": [],
   "source": [
    "\n",
    "def is_iso(code: str) -> bool:\n",
    "    return isinstance(code, str) and len(code) == 3 and code.isalpha()\n",
    "\n",
    "forest_countries = forest_df[forest_df[\"Country Code\"].apply(is_iso)].copy()\n",
    "expect_rows_between(forest_countries, 5000, 6000, label=\"country-year rows\")\n",
    "quick_peek(forest_countries, label=\"Filtered country records\")\n"
   ]
  },
  {
   "cell_type": "markdown",
   "id": "9ce9303c",
   "metadata": {},
   "source": [
    "### Progress anchor"
   ]
  },
  {
   "cell_type": "code",
   "execution_count": null,
   "id": "9a29f68e",
   "metadata": {},
   "outputs": [],
   "source": [
    "display(Image(filename=str(Path.cwd() / 'plots' / 'day04_solution_plot.png')), width=420)"
   ]
  },
  {
   "cell_type": "markdown",
   "id": "670f1467",
   "metadata": {},
   "source": [
    "## Step 3 · Story-first map checklist"
   ]
  },
  {
   "cell_type": "code",
   "execution_count": null,
   "id": "a0376387",
   "metadata": {},
   "outputs": [],
   "source": [
    "\n",
    "TITLE = \"Forest Cover Has Fallen Sharply in Key Biodiversity Hotspots\"\n",
    "SUBTITLE = \"Share of national land area covered by forest, 1990–2021\"\n",
    "ANNOTATION = \"Watch tropical regions in the Amazon, Congo Basin, and Southeast Asia thin over time.\"\n",
    "SOURCE = \"World Bank WDI (FAO Forest Resources Assessment, 2023 update)\"\n",
    "UNITS = \"Forest area (% of land area)\"\n",
    "ACCESSIBILITY_NOTES = \"Sequential 'Greens' palette with fixed 0–100 scale; animation labeled by year; includes source footnote.\"\n",
    "\n",
    "validate_story_elements({\n",
    "    \"TITLE\": TITLE,\n",
    "    \"SUBTITLE\": SUBTITLE,\n",
    "    \"ANNOTATION\": ANNOTATION,\n",
    "    \"SOURCE\": SOURCE,\n",
    "    \"UNITS\": UNITS,\n",
    "    \"ACCESSIBILITY_NOTES\": ACCESSIBILITY_NOTES,\n",
    "})\n"
   ]
  },
  {
   "cell_type": "markdown",
   "id": "108a000c",
   "metadata": {},
   "source": [
    "## Step 4 · Build static and animated maps with Plotly"
   ]
  },
  {
   "cell_type": "code",
   "execution_count": null,
   "id": "83ca3a21",
   "metadata": {},
   "outputs": [],
   "source": [
    "\n",
    "import plotly.express as px\n",
    "\n",
    "latest_year = int(forest_countries[\"Year\"].max())\n",
    "latest_snapshot = forest_countries[forest_countries[\"Year\"] == latest_year]\n",
    "\n",
    "fig_static = px.choropleth(\n",
    "    latest_snapshot,\n",
    "    locations=\"Country Code\",\n",
    "    color=\"ForestPercent\",\n",
    "    hover_name=\"Country Name\",\n",
    "    color_continuous_scale=\"Greens\",\n",
    "    range_color=[0, 100],\n",
    "    labels={\"ForestPercent\": \"Forest area (%)\"},\n",
    "    title=f\"{TITLE}<br><sup>{SUBTITLE} — {latest_year}</sup>\",\n",
    ")\n",
    "fig_static.update_layout(\n",
    "    margin=dict(l=0, r=0, t=80, b=0),\n",
    "    coloraxis_colorbar=dict(title=\"% forest\"),\n",
    "    annotations=[\n",
    "        dict(\n",
    "            text=f\"Source: {SOURCE} | Notes: {ACCESSIBILITY_NOTES}\",\n",
    "            x=0,\n",
    "            y=-0.1,\n",
    "            showarrow=False,\n",
    "            xref=\"paper\",\n",
    "            yref=\"paper\",\n",
    "            font=dict(size=11, color=\"#4f4f4f\"),\n",
    "            align=\"left\",\n",
    "        )\n",
    "    ],\n",
    ")\n",
    "\n",
    "fig_animation = px.choropleth(\n",
    "    forest_countries,\n",
    "    locations=\"Country Code\",\n",
    "    color=\"ForestPercent\",\n",
    "    hover_name=\"Country Name\",\n",
    "    animation_frame=\"Year\",\n",
    "    color_continuous_scale=\"Greens\",\n",
    "    range_color=[0, 100],\n",
    "    labels={\"ForestPercent\": \"Forest area (%)\"},\n",
    "    title=f\"{TITLE}<br><sup>{SUBTITLE}</sup>\",\n",
    ")\n",
    "fig_animation.update_layout(\n",
    "    margin=dict(l=0, r=0, t=80, b=0),\n",
    "    coloraxis_colorbar=dict(title=\"% forest\"),\n",
    ")\n",
    "fig_animation.add_annotation(\n",
    "    dict(\n",
    "        text=ANNOTATION,\n",
    "        x=0.01,\n",
    "        y=0.05,\n",
    "        xref=\"paper\",\n",
    "        yref=\"paper\",\n",
    "        showarrow=False,\n",
    "        bgcolor=\"rgba(255,255,255,0.8)\",\n",
    "        font=dict(size=11, color=\"#264653\"),\n",
    "        align=\"left\",\n",
    "    )\n",
    ")\n",
    "\n",
    "fig_static.show()\n",
    "fig_animation.show()\n"
   ]
  },
  {
   "cell_type": "markdown",
   "id": "c82cef89",
   "metadata": {},
   "source": [
    "### Export checkpoint"
   ]
  },
  {
   "cell_type": "code",
   "execution_count": null,
   "id": "164502d3",
   "metadata": {},
   "outputs": [],
   "source": [
    "\n",
    "plots_dir = Path.cwd() / \"plots\"\n",
    "plots_dir.mkdir(parents=True, exist_ok=True)\n",
    "try:\n",
    "    fig_animation.write_html(str(plots_dir / \"day04_solution_map.html\"))\n",
    "    fig_static.write_image(str(plots_dir / \"day04_solution_plot.png\"))\n",
    "    print(\"💾 Saved animated map HTML and static PNG to plots/\")\n",
    "except Exception as exc:\n",
    "    print(\"⚠️ Export step warning:\", exc)\n"
   ]
  },
  {
   "cell_type": "markdown",
   "id": "08ee41b0",
   "metadata": {},
   "source": [
    "## Step 5 · Reflect on interpretation, integrity, and uncertainty\n",
    "- **Claim → Evidence → Visual → Takeaway**:\n",
    "  - **Claim**: Forest cover is shrinking fastest in tropical biodiversity hotspots, while some temperate countries gain cover.\n",
    "  - **Evidence**: Animated choropleth shows Amazon, Congo Basin, and Southeast Asia shifting from dark to pale green; Europe thickens modestly.\n",
    "  - **Visual**: Static snapshot plus animation with consistent scale and annotation.\n",
    "  - **Takeaway**: Habitat loss is spatially concentrated and ongoing, underscoring the need for targeted conservation.\n",
    "- **Limitations**: National averages hide sub-national variation; FAO definitions include plantations.\n",
    "- **Potential misreads**: Sequential palette may imply linear change—highlight that percent points can mask absolute area differences.\n",
    "- **Next questions**: Which policies reversed trends in nations with gains? How do forest changes align with biodiversity loss metrics?"
   ]
  },
  {
   "cell_type": "markdown",
   "id": "54858bc0",
   "metadata": {},
   "source": [
    "## Process quality checklist\n",
    "✅ Loaded and validated long-form data • ✅ Filtered ISO-coded countries • ✅ Completed story scaffold • ✅ Built static + animated maps with clear metadata • ✅ Reflected on spatial uncertainty and integrity."
   ]
  }
 ],
 "metadata": {
  "colab": {
   "authorship_tag": "ABX9TyN8y8JtiwEZi8snEMLuPS4n",
   "provenance": []
  },
  "kernelspec": {
   "display_name": "Python 3",
   "name": "python3"
  },
  "language_info": {
   "codemirror_mode": {
    "name": "ipython",
    "version": 3
   },
   "file_extension": ".py",
   "mimetype": "text/x-python",
   "name": "python",
   "nbconvert_exporter": "python",
   "pygments_lexer": "ipython3",
   "version": "3.13.3"
  }
 },
 "nbformat": 4,
 "nbformat_minor": 5
}
