{
 "cells": [
  {
   "cell_type": "markdown",
   "id": "c9c7547d",
   "metadata": {},
   "source": [
    "## 🔗 Open This Notebook in Google Colab\n",
    "\n",
    "[![Open In Colab](https://colab.research.google.com/assets/colab-badge.svg)](https://colab.research.google.com/github/DavidLangworthy/ds4s/blob/master/days/day04/notebook/day04_starter.ipynb)"
   ]
  },
  {
   "cell_type": "markdown",
   "id": "a1b0325c",
   "metadata": {},
   "source": [
    "# 🌳 Day 4 – Biodiversity & Deforestation Mapping\n",
    "### Spotting forest loss hotspots with choropleth maps\n",
    "\n",
    "We will quantify how forest cover has changed since 1990 and visualise the shifts with an accessible, colourblind-safe map."
   ]
  },
  {
   "cell_type": "markdown",
   "id": "06b90472",
   "metadata": {},
   "source": [
    "#### Data card: World Bank – Forest area (% of land area)\n",
    "* **Source:** [World Bank Indicators](https://data.worldbank.org/indicator/AG.LND.FRST.ZS) based on FAO Forest Resources Assessment.\n",
    "* **Temporal coverage:** 1990–2022.\n",
    "* **Units:** Percent of land area covered by forest.\n",
    "* **Refresh cadence:** Updated annually; downloaded September 2024.\n",
    "* **Caveats:** Regional aggregates are included; some small territories have missing years."
   ]
  },
  {
   "cell_type": "code",
   "execution_count": null,
   "id": "07c64599",
   "metadata": {},
   "outputs": [],
   "source": [
    "# Core imports and shared helpers\n",
    "from pathlib import Path\n",
    "\n",
    "import numpy as np\n",
    "import pandas as pd\n",
    "import matplotlib.pyplot as plt\n",
    "import seaborn as sns\n",
    "import plotly.express as px\n",
    "from IPython.display import Markdown, display\n",
    "\n",
    "import utils\n",
    "\n",
    "utils.baseline_style()\n"
   ]
  },
  {
   "cell_type": "markdown",
   "id": "ec91d6b5",
   "metadata": {},
   "source": [
    "## Step 1: Load and inspect the forest coverage table\n",
    "The dataset is already tidy: one row per country per year. We'll still run diagnostics to confirm the structure."
   ]
  },
  {
   "cell_type": "code",
   "execution_count": null,
   "id": "608b47b0",
   "metadata": {},
   "outputs": [],
   "source": [
    "forest = utils.load_data('forest_area_long.csv')\n",
    "utils.diagnostics(\n",
    "    forest,\n",
    "    'Forest area share (raw)',\n",
    "    expected_columns=['Country Name', 'Country Code', 'Year', 'ForestPercent'],\n",
    "    expected_row_range=(6000, 9000),\n",
    ")\n"
   ]
  },
  {
   "cell_type": "markdown",
   "id": "1d719607",
   "metadata": {},
   "source": [
    "## Step 2: Filter to countries with complete 1990 and 2020 data\n",
    "We need both endpoints to compute change. Drop aggregates and keep country codes with exactly three letters."
   ]
  },
  {
   "cell_type": "code",
   "execution_count": null,
   "id": "719975d3",
   "metadata": {},
   "outputs": [],
   "source": [
    "country_forest = forest[forest['Country Code'].str.len() == 3]\n",
    "paired_years = country_forest[country_forest['Year'].isin([1990, 2020])]\n",
    "utils.diagnostics(\n",
    "    paired_years,\n",
    "    'Forest percent (1990 vs 2020)',\n",
    "    expected_columns=['Country Name', 'Country Code', 'Year', 'ForestPercent'],\n",
    "    expected_row_range=(3500, 4500),\n",
    ")\n"
   ]
  },
  {
   "cell_type": "markdown",
   "id": "21d8869f",
   "metadata": {},
   "source": [
    "## Step 3: Calculate absolute and percentage change\n",
    "Pivot the paired data so each country has 1990 and 2020 columns, then compute the change values."
   ]
  },
  {
   "cell_type": "code",
   "execution_count": null,
   "id": "d48c4c23",
   "metadata": {},
   "outputs": [],
   "source": [
    "change_table = (\n",
    "    paired_years.pivot_table(\n",
    "        index='Country Code',\n",
    "        columns='Year',\n",
    "        values='ForestPercent',\n",
    "    )\n",
    "    .rename(columns={1990: 'forest_1990', 2020: 'forest_2020'})\n",
    ")\n",
    "change_table = change_table.dropna()\n",
    "change_table = change_table.assign(\n",
    "    change_pct=lambda df: df['forest_2020'] - df['forest_1990'],\n",
    "    pct_change_rel=lambda df: (df['forest_2020'] - df['forest_1990']) / df['forest_1990'] * 100,\n",
    ")\n",
    "change_table = change_table.merge(\n",
    "    paired_years[['Country Code', 'Country Name']].drop_duplicates(),\n",
    "    left_index=True,\n",
    "    right_on='Country Code',\n",
    "    how='left',\n",
    ")\n",
    "utils.diagnostics(\n",
    "    change_table,\n",
    "    'Forest change summary',\n",
    "    expected_columns=['Country Code', 'forest_1990', 'forest_2020', 'change_pct'],\n",
    "    expected_row_range=(150, 220),\n",
    ")\n"
   ]
  },
  {
   "cell_type": "markdown",
   "id": "c94e76d6",
   "metadata": {},
   "source": [
    "## Step 4: Prepare the map-ready dataframe\n",
    "Keep the columns we need and ensure the change metrics are numeric."
   ]
  },
  {
   "cell_type": "code",
   "execution_count": null,
   "id": "d2aa52f1",
   "metadata": {},
   "outputs": [],
   "source": [
    "map_data = change_table[['Country Code', 'Country Name', 'forest_1990', 'forest_2020', 'change_pct', 'pct_change_rel']].copy()\n",
    "map_data = map_data.assign(\n",
    "    forest_1990=lambda df: df['forest_1990'].round(1),\n",
    "    forest_2020=lambda df: df['forest_2020'].round(1),\n",
    "    change_pct=lambda df: df['change_pct'].round(1),\n",
    "    pct_change_rel=lambda df: df['pct_change_rel'].round(1),\n",
    ")\n",
    "utils.diagnostics(\n",
    "    map_data,\n",
    "    'Map dataset',\n",
    "    expected_columns=['Country Code', 'Country Name', 'change_pct'],\n",
    "    expected_row_range=(150, 220),\n",
    ")\n"
   ]
  },
  {
   "cell_type": "markdown",
   "id": "46bff292",
   "metadata": {},
   "source": [
    "## Step 5: Build the choropleth map with story metadata\n",
    "Use a diverging colour scale centred on zero so gains and losses are equally visible."
   ]
  },
  {
   "cell_type": "code",
   "execution_count": null,
   "id": "0a0638ce",
   "metadata": {},
   "outputs": [],
   "source": [
    "TITLE = 'Tropical regions have lost the most forest cover since 1990'\n",
    "SUBTITLE = 'Change in forest area (% of land area), 1990 to 2020'\n",
    "ANNOTATION = 'Brazil, Bolivia, and Indonesia show steep declines; parts of Europe record modest gains.'\n",
    "SOURCE = 'World Bank (AG.LND.FRST.ZS) via FAO Forest Resources Assessment'\n",
    "UNITS = 'Percentage point change in forest cover'\n",
    "\n",
    "metadata = {\n",
    "    'title': TITLE,\n",
    "    'subtitle': SUBTITLE,\n",
    "    'annotation': ANNOTATION,\n",
    "    'source': SOURCE,\n",
    "    'units': UNITS,\n",
    "}\n",
    "utils.validate_story_elements(metadata)\n",
    "\n",
    "fig = px.choropleth(\n",
    "    map_data,\n",
    "    locations='Country Code',\n",
    "    color='change_pct',\n",
    "    hover_name='Country Name',\n",
    "    color_continuous_scale='RdYlGn',\n",
    "    color_continuous_midpoint=0,\n",
    "    hover_data={\n",
    "        'forest_1990': True,\n",
    "        'forest_2020': True,\n",
    "        'change_pct': True,\n",
    "        'pct_change_rel': True,\n",
    "    },\n",
    "    labels={'change_pct': 'Change (percentage points)'},\n",
    "    title=TITLE,\n",
    ")\n",
    "fig.update_layout(\n",
    "    margin=dict(l=40, r=40, t=90, b=40),\n",
    "    coloraxis_colorbar=dict(title='pp change'),\n",
    "    template='plotly_white',\n",
    ")\n",
    "fig.add_annotation(\n",
    "    text=ANNOTATION,\n",
    "    x=0.02,\n",
    "    y=-0.18,\n",
    "    xref='paper',\n",
    "    yref='paper',\n",
    "    align='left',\n",
    "    showarrow=False,\n",
    "    font=dict(size=12),\n",
    "    bgcolor='rgba(255,255,255,0.9)',\n",
    "    bordercolor='#555555',\n",
    "    borderwidth=1,\n",
    ")\n",
    "fig.add_annotation(\n",
    "    text=f\"Source: {SOURCE}\",\n",
    "    x=0.0,\n",
    "    y=-0.24,\n",
    "    xref='paper',\n",
    "    yref='paper',\n",
    "    showarrow=False,\n",
    "    align='left',\n",
    "    font=dict(size=10, color='#555555'),\n",
    ")\n",
    "fig.show()\n",
    "utils.save_last_fig('day04_solution_map.html', fig=fig)\n"
   ]
  },
  {
   "cell_type": "code",
   "execution_count": null,
   "id": "cccf9f10",
   "metadata": {},
   "outputs": [],
   "source": [
    "display(\n",
    "    Markdown(\n",
    "        utils.summarize_claim(\n",
    "            claim='Forest loss is concentrated in tropical countries.',\n",
    "            evidence='The map highlights double-digit percentage-point declines across South America and Southeast Asia.',\n",
    "            takeaway='Protecting biodiversity hinges on targeted conservation and sustainable land policies in tropical nations.',\n",
    "        )\n",
    "    )\n",
    ")\n"
   ]
  }
 ],
 "metadata": {
  "kernelspec": {
   "display_name": "Python 3",
   "language": "python",
   "name": "python3"
  },
  "language_info": {
   "name": "python",
   "version": "3.11"
  }
 },
 "nbformat": 4,
 "nbformat_minor": 5
}
