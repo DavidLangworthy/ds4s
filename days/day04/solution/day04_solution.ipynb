{
 "cells": [
  {
   "cell_type": "markdown",
   "id": "2e741428",
   "metadata": {},
   "source": [
    "## 🔗 Open This Notebook in Google Colab\n",
    "\n",
    "[![Open In Colab](https://colab.research.google.com/assets/colab-badge.svg)](https://colab.research.google.com/github/DavidLangworthy/ds4s/blob/master/Day%204_%20Mapping%20Forests.ipynb)"
   ]
  },
  {
   "cell_type": "markdown",
   "id": "be81950f",
   "metadata": {},
   "source": [
    "# 🌲 Day 4 – Mapping Global Forest Change\n",
    "\n",
    "We move from plots to maps, animating three decades of forest cover change. Today’s emphasis is on geographic integrity, clear color scales, and articulating what the map **can** and **cannot** prove."
   ]
  },
  {
   "cell_type": "markdown",
   "id": "0b64fa1b",
   "metadata": {},
   "source": [
    "> **Teacher sidebar — pacing & differentiation**  \n",
    "> • Timing: ~55 minutes (story scaffold + four loops + reflection).  \n",
    "> • Checkpoint: after the diagnostic summary, ensure `Year` is numeric and no missing `Country Code`.  \n",
    "> • Differentiation: stretch learners can add regional filters or small multiples; scaffolders can pre-filter to a subset of continents.\n",
    "\n",
    "## 🗺️ Roadmap for Today\n",
    "\n",
    "Loop | Focus | What success looks like\n",
    "--- | --- | ---\n",
    "0 | Story scaffold | Title + annotation lock in the narrative\n",
    "1 | Load & validate | Forest dataset columns confirmed, years typed\n",
    "2 | Diagnostics | Null checks & range expectations (0–100%)\n",
    "3 | Visualize | Choropleth animation with ethical framing\n",
    "4 | Interpret & save | Written takeaway + exported HTML map"
   ]
  },
  {
   "cell_type": "markdown",
   "id": "620f1877",
   "metadata": {},
   "source": [
    "## 🗂️ Data Card — World Bank Forest Area (% of Land Area)\n",
    "\n",
    "- **Source**: World Bank World Development Indicators (AG.LND.FRST.ZS).  \n",
    "- **Temporal coverage**: 1990 – 2020 (annual).  \n",
    "- **Units**: Percent of land area covered by forest.  \n",
    "- **Method notes**: Based on FAO Global Forest Resources Assessments; combines national reports with remote sensing.  \n",
    "- **Caveats**: Some small nations report infrequently; natural vs plantation forests are not distinguished.  \n",
    "- **Update cadence**: Every five years historically, now annual updates.\n",
    "\n",
    "> 🎯 **Integrity cue**: Avoid implying deforestation causes. Use annotations to note uncertainties and regional context."
   ]
  },
  {
   "cell_type": "code",
   "execution_count": null,
   "id": "ba10cbb8",
   "metadata": {},
   "outputs": [],
   "source": [
    "# Shared utilities for the DS4S course notebooks\n",
    "        from pathlib import Path\n",
    "        import pandas as pd\n",
    "        import numpy as np\n",
    "        import matplotlib.pyplot as plt\n",
    "        from IPython.display import display\n",
    "        import plotly.express as px\n",
    "\n",
    "        plt.style.use('seaborn-v0_8-whitegrid')\n",
    "        plt.rcParams.update({\n",
    "            'figure.dpi': 120,\n",
    "            'axes.titlesize': 16,\n",
    "            'axes.labelsize': 13,\n",
    "            'axes.titlepad': 12,\n",
    "            'figure.figsize': (10, 5),\n",
    "        })\n",
    "\n",
    "\n",
    "        def load_csv(path: Path, **read_kwargs) -> pd.DataFrame:\n",
    "            '''Load a CSV and report the basic shape.'''\n",
    "            df = pd.read_csv(path, **read_kwargs)\n",
    "            print(f\"✅ Loaded {path.name} with {df.shape[0]:,} rows and {df.shape[1]} columns\")\n",
    "            return df\n",
    "\n",
    "\n",
    "        def validate_columns(df: pd.DataFrame, required):\n",
    "            missing = [col for col in required if col not in df.columns]\n",
    "            if missing:\n",
    "                raise ValueError(f\"Missing columns: {missing}\")\n",
    "            print(f\"✅ Columns present: {', '.join(required)}\")\n",
    "\n",
    "\n",
    "        def expect_rows_between(df: pd.DataFrame, low: int, high: int):\n",
    "            rows = df.shape[0]\n",
    "            if not (low <= rows <= high):\n",
    "                raise ValueError(f\"Row count {rows} outside expected range {low}-{high}\")\n",
    "            print(f\"✅ Row count {rows} within expected {low}-{high}\")\n",
    "\n",
    "\n",
    "        def quick_snapshot(df: pd.DataFrame, name: str, n: int = 3):\n",
    "            print(f\"\n",
    "{name} snapshot → shape={df.shape}\")\n",
    "            print(\"Columns:\", list(df.columns))\n",
    "            print(\"Nulls:\n",
    "\", df.isna().sum())\n",
    "            display(df.head(n))\n",
    "\n",
    "\n",
    "        def ensure_story_elements(title: str, subtitle: str, annotation: str, source: str, units: str):\n",
    "            fields = {\n",
    "                'TITLE': title,\n",
    "                'SUBTITLE': subtitle,\n",
    "                'ANNOTATION': annotation,\n",
    "                'SOURCE': source,\n",
    "                'UNITS': units,\n",
    "            }\n",
    "            missing = [key for key, value in fields.items() if not str(value).strip()]\n",
    "            if missing:\n",
    "                raise ValueError(f\"Please complete these storytelling fields: {', '.join(missing)}\")\n",
    "            print(\"✅ Story scaffold complete →\", \", \".join(f\"{k}: {v}\" for k, v in fields.items()))\n",
    "            return fields\n",
    "\n",
    "\n",
    "        def save_last_fig(filename: str):\n",
    "            plots_dir = Path.cwd() / \"plots\"\n",
    "            plots_dir.mkdir(parents=True, exist_ok=True)\n",
    "            fig = plt.gcf()\n",
    "            if not fig.axes:\n",
    "                raise RuntimeError(\"Run the plotting cell before saving.\")\n",
    "            output_path = plots_dir / filename\n",
    "            fig.savefig(output_path, dpi=300, bbox_inches='tight')\n",
    "            print(f\"📁 Saved figure to {output_path}\")\n",
    "\n",
    "\n",
    "        def save_plotly_fig(fig, filename: str):\n",
    "            plots_dir = Path.cwd() / \"plots\"\n",
    "            plots_dir.mkdir(parents=True, exist_ok=True)\n",
    "            output_path = plots_dir / filename\n",
    "            fig.write_html(str(output_path))\n",
    "            print(f\"📁 Saved interactive figure to {output_path}\")"
   ]
  },
  {
   "cell_type": "markdown",
   "id": "5c7a8e59",
   "metadata": {},
   "source": [
    "## 🔁 Loop 0 — Story scaffold (3 min)"
   ]
  },
  {
   "cell_type": "code",
   "execution_count": null,
   "id": "b7f24d55",
   "metadata": {},
   "outputs": [],
   "source": [
    "TITLE = \"Forest Cover Is Shrinking in Key Regions\"\n",
    "SUBTITLE = \"Share of land area covered by forest, 1990–2020\"\n",
    "ANNOTATION = \"Amazon countries lost >5 percentage points of forest cover since 1990.\"\n",
    "SOURCE = \"World Bank WDI (AG.LND.FRST.ZS), processed 2024\"\n",
    "UNITS = \"Forest area (% of land area)\"\n",
    "\n",
    "story_fields = ensure_story_elements(TITLE, SUBTITLE, ANNOTATION, SOURCE, UNITS)"
   ]
  },
  {
   "cell_type": "markdown",
   "id": "385e2a0b",
   "metadata": {},
   "source": [
    "## 🔁 Loop 1 — Load & validate (8 min)"
   ]
  },
  {
   "cell_type": "code",
   "execution_count": null,
   "id": "eda40c49",
   "metadata": {},
   "outputs": [],
   "source": [
    "data_dir = Path.cwd() / \"data\"\n",
    "forest = load_csv(data_dir / \"forest_area_long.csv\")\n",
    "validate_columns(forest, [\"Country Name\", \"Country Code\", \"Year\", \"ForestPercent\"])\n",
    "forest[\"Year\"] = forest[\"Year\"].astype(int)\n",
    "expect_rows_between(forest, 5000, 6000)\n",
    "quick_snapshot(forest.head(), name=\"Forest data head\")"
   ]
  },
  {
   "cell_type": "markdown",
   "id": "eacf6c17",
   "metadata": {},
   "source": [
    "## 🔁 Loop 2 — Diagnostics (6 min)\n",
    "\n",
    "Ensure percentages stay between 0 and 100, and note any missing codes before mapping."
   ]
  },
  {
   "cell_type": "code",
   "execution_count": null,
   "id": "6e5e0fef",
   "metadata": {},
   "outputs": [],
   "source": [
    "assert forest[\"ForestPercent\"].between(0, 100).all(), \"Forest percent must remain within 0–100%.\"\n",
    "null_codes = forest[forest[\"Country Code\"].isna()]\n",
    "print(\"Rows with missing codes:\", null_codes.shape[0])\n",
    "quick_snapshot(forest.groupby(\"Year\")[\"ForestPercent\"].mean().reset_index().tail(), name=\"Global mean forest % by year\")"
   ]
  },
  {
   "cell_type": "markdown",
   "id": "11552a67",
   "metadata": {},
   "source": [
    "## 🔁 Loop 3 — Visualize (12 min)\n",
    "\n",
    "Animate forest change with a consistent color scale and explicit annotation text."
   ]
  },
  {
   "cell_type": "code",
   "execution_count": null,
   "id": "e21352ea",
   "metadata": {},
   "outputs": [],
   "source": [
    "fig = px.choropleth(\n",
    "    forest,\n",
    "    locations=\"Country Code\",\n",
    "    color=\"ForestPercent\",\n",
    "    hover_name=\"Country Name\",\n",
    "    animation_frame=\"Year\",\n",
    "    color_continuous_scale=\"YlGn\",\n",
    "    range_color=[0, 80],\n",
    "    title=f\"{TITLE}<br><sup>{SUBTITLE}</sup>\",\n",
    "    labels={\"ForestPercent\": UNITS},\n",
    ")\n",
    "fig.update_layout(\n",
    "    margin=dict(l=20, r=20, t=80, b=20),\n",
    "    coloraxis_colorbar=dict(title=\"Forest %\"),\n",
    ")\n",
    "fig.add_annotation(\n",
    "    text=ANNOTATION,\n",
    "    x=0.02,\n",
    "    y=0.02,\n",
    "    xref=\"paper\",\n",
    "    yref=\"paper\",\n",
    "    showarrow=False,\n",
    "    bgcolor=\"rgba(255,255,255,0.85)\",\n",
    "    bordercolor=\"#444\",\n",
    ")\n",
    "fig"
   ]
  },
  {
   "cell_type": "code",
   "execution_count": null,
   "id": "861cbf72",
   "metadata": {},
   "outputs": [],
   "source": [
    "print(\"Animation frames:\", len(fig.frames))\n",
    "assert len(fig.frames) == forest[\"Year\"].nunique()"
   ]
  },
  {
   "cell_type": "markdown",
   "id": "f248a8cd",
   "metadata": {},
   "source": [
    "## 🔁 Loop 4 — Interpret & save (8 min)"
   ]
  },
  {
   "cell_type": "code",
   "execution_count": null,
   "id": "f4b3f110",
   "metadata": {},
   "outputs": [],
   "source": [
    "from IPython.display import Markdown\n",
    "\n",
    "claim = \"Forest cover declined in parts of South America and Southeast Asia despite global stability.\"\n",
    "evidence = (\n",
    "    \"The animation shows forest percentages falling by >5 points in Amazon nations while Europe stays near 35%.\"\n",
    ")\n",
    "visual = \"Plotly choropleth animation with annotation of Amazon losses.\"\n",
    "takeaway = \"Maps highlight where change happens, but we need ground truth to attribute causes (logging, agriculture, fire).\"\n",
    "Markdown(\n",
    "    f\"\"\"\n",
    "| Claim | Evidence | Visual | Takeaway |\n",
    "| --- | --- | --- | --- |\n",
    "| {claim} | {evidence} | {visual} | {takeaway} |\n",
    "\"\"\"\n",
    ")"
   ]
  },
  {
   "cell_type": "markdown",
   "id": "0cb9dd4c",
   "metadata": {},
   "source": [
    "## 💾 Save the figure for the teacher dashboard"
   ]
  },
  {
   "cell_type": "code",
   "execution_count": null,
   "id": "00c2fc25",
   "metadata": {},
   "outputs": [],
   "source": [
    "save_plotly_fig(fig, \"day04_solution_map.html\")"
   ]
  },
  {
   "cell_type": "markdown",
   "id": "f3f2fa1b",
   "metadata": {},
   "source": [
    "## ✅ Exit Ticket\n",
    "\n",
    "- Which region changed the most in the animation?  \n",
    "- What forest dynamics are hidden by percent-of-land metrics?  \n",
    "- How would you adapt this map for colorblind accessibility (palette, annotations)?"
   ]
  }
 ],
 "metadata": {},
 "nbformat": 4,
 "nbformat_minor": 5
}