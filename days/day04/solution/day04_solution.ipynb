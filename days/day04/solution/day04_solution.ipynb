{
 "cells": [
  {
   "cell_type": "markdown",
   "id": "01d51beb",
   "metadata": {},
   "source": [
    "## 🔗 Open This Notebook in Google Colab\n",
    "\n",
    "[![Open In Colab](https://colab.research.google.com/assets/colab-badge.svg)](https://colab.research.google.com/github/DavidLangworthy/ds4s/blob/master/days/day04/notebook/day04_starter.ipynb)"
   ]
  },
  {
   "cell_type": "markdown",
   "id": "566d6dbc",
   "metadata": {},
   "source": [
    "# 🌍 Day 4 – Mapping Forest Change\n",
    "Today’s learn–do loop adds spatial thinking: we will inspect the forest-cover data, build a static map as a checkpoint, then animate the story across three decades."
   ]
  },
  {
   "cell_type": "markdown",
   "id": "ec484458",
   "metadata": {},
   "source": [
    "## 🗂️ Data Card: Global Forest Cover\n",
    "- **Source:** World Bank (World Development Indicators), compiled from FAO Global Forest Resources Assessment.\n",
    "- **Temporal coverage:** 1990–2020, annual.\n",
    "- **Units:** Percentage of land area covered by forest per country (%).\n",
    "- **Last updated:** 2024 data release (downloaded Nov 2024).\n",
    "- **Method notes:** ISO-3 country codes with long-format year column; interpolated values for some small states.\n",
    "- **Caveats:** Aggregated regions exist (e.g., “Africa Eastern and Southern”) — filter to ISO codes when mapping. Percentages do not reveal forest quality or biodiversity richness.\n",
    "- **Integrity prompt:** Colour scales can over-emphasise small changes; commit to a perceptually uniform palette and keep the range fixed at 0–100%."
   ]
  },
  {
   "cell_type": "markdown",
   "id": "c4eb67f1",
   "metadata": {},
   "source": [
    "## Story Scaffold Reminder\n",
    "- **Claim:** Which regional pattern or trend in forest change matters most?\n",
    "- **Evidence:** Which years, countries, or deltas support that claim?\n",
    "- **Visual:** How do palette, animation speed, and titles keep interpretation honest?\n",
    "- **Takeaway:** Draft the conservation message you want viewers to repeat."
   ]
  },
  {
   "cell_type": "markdown",
   "id": "00b3678b",
   "metadata": {},
   "source": [
    "## Step 0 · Imports"
   ]
  },
  {
   "cell_type": "code",
   "execution_count": null,
   "id": "11ff4b82",
   "metadata": {},
   "outputs": [],
   "source": [
    "import pandas as pd\n",
    "import plotly.express as px\n",
    "\n",
    "from days.utils import (\n",
    "    check_story_metadata,\n",
    "    load_data,\n",
    "    plots_directory,\n",
    "    quick_diagnostics,\n",
    ")"
   ]
  },
  {
   "cell_type": "markdown",
   "id": "c589994e",
   "metadata": {},
   "source": [
    "## Step 1 · Load and inspect the dataset"
   ]
  },
  {
   "cell_type": "code",
   "execution_count": null,
   "id": "9b075277",
   "metadata": {},
   "outputs": [],
   "source": [
    "forest = load_data(\"data/forest_area_long.csv\")\n",
    "quick_diagnostics(\n",
    "    forest,\n",
    "    expected_columns=[\"Country Name\", \"Country Code\", \"Year\", \"ForestPercent\"],\n",
    "    rows_between=(6000, 7000),\n",
    ")\n",
    "print(\"Expected: 31 years × ~215 countries ≈ 6650 rows.\")"
   ]
  },
  {
   "cell_type": "markdown",
   "id": "816f9645",
   "metadata": {},
   "source": [
    "## Step 2 · Filter to ISO-coded countries and ensure numeric years"
   ]
  },
  {
   "cell_type": "code",
   "execution_count": null,
   "id": "8853daa1",
   "metadata": {},
   "outputs": [],
   "source": [
    "country_rows = forest[\"Country Code\"].str.len() == 3\n",
    "forest_countries = forest.loc[country_rows].copy()\n",
    "forest_countries[\"Year\"] = forest_countries[\"Year\"].astype(int)\n",
    "quick_diagnostics(\n",
    "    forest_countries.head(10),\n",
    "    expected_columns=[\"Country Name\", \"Country Code\", \"Year\", \"ForestPercent\"],\n",
    "    rows_between=(6000, 6500),\n",
    "    head_rows=5,\n",
    ")\n",
    "print(\"Check: ISO-3 codes only; Year column is int.\")"
   ]
  },
  {
   "cell_type": "markdown",
   "id": "c00acb6c",
   "metadata": {},
   "source": [
    "## Step 3 · Interim static map\n",
    "Before animating, confirm the geography renders correctly with a single year snapshot.\n",
    "\n",
    "![Interim preview – world map shaded by forest cover.](../../plots/day04_solution_plot.png)"
   ]
  },
  {
   "cell_type": "code",
   "execution_count": null,
   "id": "b1ca94cd",
   "metadata": {},
   "outputs": [],
   "source": [
    "latest_year = forest_countries[\"Year\"].max()\n",
    "fig_static = px.choropleth(\n",
    "    forest_countries.query(\"Year == @latest_year\"),\n",
    "    locations=\"Country Code\",\n",
    "    color=\"ForestPercent\",\n",
    "    hover_name=\"Country Name\",\n",
    "    color_continuous_scale=\"YlGn\",\n",
    "    range_color=[0, 100],\n",
    "    labels={\"ForestPercent\": \"Forest cover (%)\"},\n",
    "    title=f\"Draft: Global forest cover in {latest_year}\",\n",
    ")\n",
    "fig_static.show(renderer=\"notebook\")"
   ]
  },
  {
   "cell_type": "markdown",
   "id": "2da4044e",
   "metadata": {},
   "source": [
    "## Step 4 · Story metadata"
   ]
  },
  {
   "cell_type": "code",
   "execution_count": null,
   "id": "1291dba6",
   "metadata": {},
   "outputs": [],
   "source": [
    "TITLE = \"Forest cover is declining in key biodiversity hotspots\"\n",
    "SUBTITLE = \"Share of land area covered by forest, 1990–2020\"\n",
    "ANNOTATION = \"Amazon and Southeast Asian countries lose >5 percentage points of forest in three decades.\"\n",
    "SOURCE = \"Source: FAO Global Forest Resources Assessment via World Bank WDI\"\n",
    "UNITS = \"Units: Forest area as % of national land area\"\n",
    "\n",
    "check_story_metadata(\n",
    "    TITLE=TITLE,\n",
    "    SUBTITLE=SUBTITLE,\n",
    "    ANNOTATION=ANNOTATION,\n",
    "    SOURCE=SOURCE,\n",
    "    UNITS=UNITS,\n",
    ")"
   ]
  },
  {
   "cell_type": "markdown",
   "id": "d3430e2f",
   "metadata": {},
   "source": [
    "## Step 5 · Animated choropleth story\n",
    "Animate across years, keep colour scales consistent, and add annotations that draw attention to rapid loss regions."
   ]
  },
  {
   "cell_type": "code",
   "execution_count": null,
   "id": "1292181b",
   "metadata": {},
   "outputs": [],
   "source": [
    "fig = px.choropleth(\n",
    "    forest_countries,\n",
    "    locations=\"Country Code\",\n",
    "    color=\"ForestPercent\",\n",
    "    hover_name=\"Country Name\",\n",
    "    animation_frame=\"Year\",\n",
    "    color_continuous_scale=\"YlGn\",\n",
    "    range_color=[0, 100],\n",
    "    labels={\"ForestPercent\": \"Forest cover (%)\"},\n",
    "    title=f\"{TITLE}<br><sup>{SUBTITLE}</sup>\",\n",
    "    template=\"plotly_white\",\n",
    ")\n",
    "fig.update_layout(\n",
    "    margin=dict(l=0, r=0, t=80, b=20),\n",
    "    coloraxis_colorbar=dict(title=\"Forest %\"),\n",
    "    updatemenus=[\n",
    "        dict(\n",
    "            type=\"buttons\",\n",
    "            showactive=False,\n",
    "            buttons=[dict(label=\"Play\", method=\"animate\", args=[None])],\n",
    "        )\n",
    "    ],\n",
    "    sliders=[\n",
    "        dict(\n",
    "            currentvalue=dict(prefix=\"Year: \"),\n",
    "            transition=dict(duration=500),\n",
    "        )\n",
    "    ],\n",
    "    annotations=[\n",
    "        dict(\n",
    "            text=ANNOTATION,\n",
    "            x=0.01,\n",
    "            y=0.02,\n",
    "            xref=\"paper\",\n",
    "            yref=\"paper\",\n",
    "            showarrow=False,\n",
    "            align=\"left\",\n",
    "            bgcolor=\"rgba(255,255,255,0.85)\",\n",
    "            bordercolor=\"#2b8a3e\",\n",
    "            borderwidth=1,\n",
    "            font=dict(size=12),\n",
    "        ),\n",
    "        dict(\n",
    "            text=f\"{SOURCE} · {UNITS}\",\n",
    "            x=0.5,\n",
    "            y=-0.08,\n",
    "            xref=\"paper\",\n",
    "            yref=\"paper\",\n",
    "            showarrow=False,\n",
    "            font=dict(size=11, color=\"#444444\"),\n",
    "        ),\n",
    "    ],\n",
    ")\n",
    "fig.show(renderer=\"notebook\")"
   ]
  },
  {
   "cell_type": "markdown",
   "id": "b072a47b",
   "metadata": {},
   "source": [
    "## Step 6 · Interpret with the scaffold\n",
    "- **Claim:** Tropical regions with mega-biodiversity continue to lose forest cover.\n",
    "- **Evidence:** Brazil, Indonesia, and the Congo Basin visibly darken over the animation; only a handful of countries (e.g., China, parts of Europe) gain cover.\n",
    "- **Visual:** A fixed colour scale and annotated callout ensure viewers compare like with like across time.\n",
    "- **Takeaway:** “Protecting biodiversity means slowing forest loss in the Amazon and Southeast Asia — the map shows the hotspots still shrinking.”"
   ]
  },
  {
   "cell_type": "markdown",
   "id": "4dc07187",
   "metadata": {},
   "source": [
    "### Limitations to note\n",
    "- Percent cover does not measure forest quality; plantation expansion can mask biodiversity loss.\n",
    "- Country-level aggregation hides subnational differences; consider pairing with region-level or deforestation-rate data.\n",
    "- Animation speed may overwhelm some viewers; offer a static before–after comparison for accessibility."
   ]
  },
  {
   "cell_type": "markdown",
   "id": "5775a371",
   "metadata": {},
   "source": [
    "## Step 7 · Export the interactive map"
   ]
  },
  {
   "cell_type": "code",
   "execution_count": null,
   "id": "add489a5",
   "metadata": {},
   "outputs": [],
   "source": [
    "export_path = plots_directory() / \"day04_solution_plot.html\"\n",
    "fig.write_html(str(export_path))\n",
    "print(f\"💾 Saved interactive figure to {export_path}\")"
   ]
  }
 ],
 "metadata": {},
 "nbformat": 4,
 "nbformat_minor": 5
}
