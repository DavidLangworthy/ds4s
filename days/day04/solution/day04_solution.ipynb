{
 "cells": [
  {
   "cell_type": "markdown",
   "id": "17ba1a22",
   "metadata": {},
   "source": [
    "## 🔗 Open This Notebook in Google Colab\n",
    "\n",
    "[![Open In Colab](https://colab.research.google.com/assets/colab-badge.svg)](https://colab.research.google.com/github/DavidLangworthy/ds4s/blob/master/Day%204%20%E2%80%93%20Forests%20%26%20Biodiversity%20Maps.ipynb)"
   ]
  },
  {
   "cell_type": "markdown",
   "id": "c06a0e80",
   "metadata": {},
   "source": [
    "# 🌲 Day 4 – Mapping Forest Change\n",
    "### Animate deforestation and regrowth with an ethical mapping checklist\n",
    "\n",
    "We maintain the same rhythm—bite-sized loops with immediate validation—while moving to a geographic story about forest cover.\n",
    "\n",
    "---\n",
    "\n",
    "## 🧠 Learning Rhythm\n",
    "- 🔁 Five loops: setup, load forest data, tidy, validate, map.\n",
    "- 🧪 Guardrails catch missing ISO codes or impossible percentages before Plotly renders.\n",
    "- 🗺️ Accessibility reminders include color scale guidance and annotation prompts.\n",
    "\n",
    "> **Teacher Sidecar**: Allocate ~60 minutes. Encourage students to pause after Loop 4 to interpret the diagnostics before hitting play on the animation.\n",
    "\n",
    "## 📇 Data Card — World Bank Forest Area (% of Land)\n",
    "- **Source**: World Bank World Development Indicators, curated for this course.\n",
    "- **Temporal coverage**: 1990–2020 (annual).\n",
    "- **Metric**: Forest area as a percentage of a country’s total land area.\n",
    "- **Last updated**: September 2023 download.\n",
    "- **Caveats**: Some small territories lack recent updates; values above 100% indicate data entry issues and should be filtered.\n",
    "\n",
    "## 🧵 Story Scaffold (Claim → Evidence → Visual → Takeaway)\n",
    "- **Claim**: Tropical regions show the steepest forest loss since 1990, while temperate zones remain comparatively stable.\n",
    "- **Evidence to gather**: Country-level forest percentage over time with consistent ISO3 codes.\n",
    "- **Visual plan**: Plotly choropleth animation with colorblind-safe palette and annotation for key hotspots.\n",
    "- **Takeaway**: Deforestation is uneven; policy and enforcement matter regionally.\n"
   ]
  },
  {
   "cell_type": "code",
   "execution_count": null,
   "id": "952f5b84",
   "metadata": {},
   "outputs": [],
   "source": [
    "\n",
    "from __future__ import annotations\n",
    "\n",
    "from pathlib import Path\n",
    "from typing import Any, Mapping, Sequence\n",
    "\n",
    "import matplotlib.pyplot as plt\n",
    "import numpy as np\n",
    "import pandas as pd\n",
    "import seaborn as sns\n",
    "from IPython.display import display\n",
    "\n",
    "DATA_DIR = Path.cwd() / \"data\"\n",
    "\n",
    "sns.set_theme(style=\"whitegrid\", font_scale=1.1)\n",
    "plt.rcParams.update({\n",
    "    \"axes.titlesize\": 16,\n",
    "    \"axes.labelsize\": 13,\n",
    "    \"axes.grid\": True,\n",
    "    \"figure.figsize\": (11, 6),\n",
    "    \"figure.dpi\": 120,\n",
    "})\n",
    "\n",
    "def ping_environment(packages: Mapping[str, object]) -> None:\n",
    "    \"\"\"Print library versions so teachers can confirm the runtime.\"\"\"\n",
    "    for label, module in packages.items():\n",
    "        version = getattr(module, \"__version__\", \"built-in\")\n",
    "        print(f\"{label}: {version}\")\n",
    "    print(\"Environment check complete ✅\")\n",
    "\n",
    "def load_data(file_name: str, /, **kwargs) -> pd.DataFrame:\n",
    "    \"\"\"Load a CSV from the shared data folder with a friendly status message.\"\"\"\n",
    "    path = DATA_DIR / file_name\n",
    "    if not path.exists():\n",
    "        raise FileNotFoundError(f\"Expected data file at {path}\")\n",
    "    df = pd.read_csv(path, **kwargs)\n",
    "    print(f\"Loaded {file_name} → shape {df.shape}\")\n",
    "    return df\n",
    "\n",
    "def validate_columns(df: pd.DataFrame, required: Sequence[str]) -> pd.DataFrame:\n",
    "    missing = [col for col in required if col not in df.columns]\n",
    "    if missing:\n",
    "        raise ValueError(f\"Missing expected columns: {missing}\")\n",
    "    print(f\"Columns validated ✅ {list(required)}\")\n",
    "    return df\n",
    "\n",
    "def expect_rows_between(df: pd.DataFrame, lower: int, upper: int, label: str = \"rows\") -> pd.DataFrame:\n",
    "    n_rows = len(df)\n",
    "    if not (lower <= n_rows <= upper):\n",
    "        raise ValueError(\n",
    "            f\"Unexpected {label}: {n_rows} (expected between {lower} and {upper})\"\n",
    "        )\n",
    "    print(f\"{label.capitalize()} check ✅ {n_rows} (expected {lower}-{upper})\")\n",
    "    return df\n",
    "\n",
    "def quick_peek(df: pd.DataFrame, n: int = 5) -> pd.DataFrame:\n",
    "    \"\"\"Display a head preview and NA counts for formative assessment.\"\"\"\n",
    "    display(df.head(n))\n",
    "    print(\"Null values per column:\")\n",
    "    print(df.isna().sum())\n",
    "    return df\n",
    "\n",
    "def ensure_metadata(**metadata: str) -> None:\n",
    "    blanks = [key for key, value in metadata.items() if not str(value).strip()]\n",
    "    if blanks:\n",
    "        raise ValueError(f\"Please fill in metadata fields: {blanks}\")\n",
    "    print(\"Story metadata looks great ✅\")\n",
    "\n",
    "def annotate_source(ax: plt.Axes, *, source: str, units: str) -> plt.Axes:\n",
    "    ax.text(\n",
    "        0.0,\n",
    "        -0.22,\n",
    "        f\"Source: {source}\n",
    "Units: {units}\",\n",
    "        transform=ax.transAxes,\n",
    "        ha=\"left\",\n",
    "        fontsize=10,\n",
    "    )\n",
    "    return ax\n",
    "\n",
    "def _resolve_fig(fig: Any | None) -> Any:\n",
    "    if fig is not None:\n",
    "        return fig\n",
    "    if plt.get_fignums():\n",
    "        return plt.gcf()\n",
    "    return None\n",
    "\n",
    "def save_last_fig(fig: Any | None, filename: str) -> Path:\n",
    "    plots_dir = Path.cwd() / \"plots\"\n",
    "    plots_dir.mkdir(parents=True, exist_ok=True)\n",
    "    resolved = _resolve_fig(fig)\n",
    "    if resolved is None:\n",
    "        raise ValueError(\"No recent figure detected.\")\n",
    "\n",
    "    output_path = plots_dir / filename\n",
    "\n",
    "    if hasattr(resolved, \"savefig\"):\n",
    "        resolved.savefig(output_path, dpi=300, bbox_inches=\"tight\")\n",
    "        print(f\"Saved figure to {output_path}\")\n",
    "        return output_path\n",
    "\n",
    "    if hasattr(resolved, \"write_image\"):\n",
    "        try:\n",
    "            resolved.write_image(str(output_path))\n",
    "            print(f\"Saved figure to {output_path}\")\n",
    "            return output_path\n",
    "        except Exception as exc:\n",
    "            html_path = output_path.with_suffix(\".html\")\n",
    "            resolved.write_html(str(html_path))\n",
    "            print(f\"Saved interactive figure to {html_path} (fallback: {exc})\")\n",
    "            return html_path\n",
    "\n",
    "    raise ValueError(\"Don't know how to export this figure type.\")\n"
   ]
  },
  {
   "cell_type": "markdown",
   "id": "e6f61fe5",
   "metadata": {},
   "source": [
    "## 🔁 Loop 1 · Confirm the setup\n",
    "*Goal: Check Plotly availability and confirm data files exist.*"
   ]
  },
  {
   "cell_type": "code",
   "execution_count": null,
   "id": "6e9b2d06",
   "metadata": {},
   "outputs": [],
   "source": [
    "import plotly.express as px\n",
    "ping_environment({\"pandas\": pd, \"plotly\": px})\n",
    "assert DATA_DIR.exists(), f\"Data directory missing: {DATA_DIR}\"\n",
    "print(f\"Data files available: {len(list(DATA_DIR.glob('*')))} items\")"
   ]
  },
  {
   "cell_type": "markdown",
   "id": "15edfde7",
   "metadata": {},
   "source": [
    "## 🔁 Loop 2 · Load the forest cover dataset\n",
    "*Goal: Read the tidy long-form table and preview its structure.*"
   ]
  },
  {
   "cell_type": "code",
   "execution_count": null,
   "id": "86172ece",
   "metadata": {},
   "outputs": [],
   "source": [
    "forest_long = load_data(\"forest_area_long.csv\")\n",
    "validate_columns(forest_long, [\"Country Name\", \"Country Code\", \"Year\", \"ForestPercent\"])\n",
    "expect_rows_between(forest_long, 7000, 9000, label=\"country-year rows\")\n",
    "quick_peek(forest_long.sample(5, random_state=2))\n"
   ]
  },
  {
   "cell_type": "markdown",
   "id": "35347f0e",
   "metadata": {},
   "source": [
    "## 🔁 Loop 3 · Clean and constrain values\n",
    "*Goal: Ensure numeric types, valid year range, and realistic percentages.*"
   ]
  },
  {
   "cell_type": "code",
   "execution_count": null,
   "id": "980beff8",
   "metadata": {},
   "outputs": [],
   "source": [
    "forest_long[\"Year\"] = pd.to_numeric(forest_long[\"Year\"], errors=\"coerce\")\n",
    "forest_long[\"ForestPercent\"] = pd.to_numeric(forest_long[\"ForestPercent\"], errors=\"coerce\")\n",
    "forest_clean = forest_long.dropna(subset=[\"Year\", \"ForestPercent\", \"Country Code\"])\n",
    "forest_clean = forest_clean[(forest_clean[\"Year\"].between(1990, 2020)) & (forest_clean[\"ForestPercent\"].between(0, 100))]\n",
    "expect_rows_between(forest_clean, 6000, 8500, label=\"valid country-year rows\")\n",
    "print(f\"Countries represented: {forest_clean['Country Code'].nunique()}\")\n",
    "print(f\"Year span: {int(forest_clean['Year'].min())}–{int(forest_clean['Year'].max())}\")\n"
   ]
  },
  {
   "cell_type": "markdown",
   "id": "264b957e",
   "metadata": {},
   "source": [
    "## 🔁 Loop 4 · Prep summary slices for quick comparisons\n",
    "*Goal: Provide checkpoints teachers can use to discuss trends before mapping.*"
   ]
  },
  {
   "cell_type": "code",
   "execution_count": null,
   "id": "13a2a8d8",
   "metadata": {},
   "outputs": [],
   "source": [
    "latest_year = forest_clean[\"Year\"].max()\n",
    "latest_slice = forest_clean[forest_clean[\"Year\"] == latest_year]\n",
    "print(f\"{latest_year} median forest percent: {latest_slice['ForestPercent'].median():.1f}%\")\n",
    "print(\"Top 5 forested countries:\")\n",
    "print(latest_slice.sort_values(\"ForestPercent\", ascending=False).head(5)[[\"Country Name\", \"ForestPercent\"]])\n",
    "print(\"Lowest 5 forested countries:\")\n",
    "print(latest_slice.sort_values(\"ForestPercent\").head(5)[[\"Country Name\", \"ForestPercent\"]])\n"
   ]
  },
  {
   "cell_type": "markdown",
   "id": "89ec1979",
   "metadata": {},
   "source": [
    "## 🔁 Loop 5 · Build the animated choropleth\n",
    "*Goal: Apply metadata, ethical color choices, and annotations.*"
   ]
  },
  {
   "cell_type": "code",
   "execution_count": null,
   "id": "7874dc66",
   "metadata": {},
   "outputs": [],
   "source": [
    "TITLE = \"Tropical Forest Loss Has Outpaced Temperate Regions\"\n",
    "SUBTITLE = \"Forest area as a share of land area, 1990–2020\"\n",
    "ANNOTATION = \"Watch Brazil, Indonesia, and Congo Basin countries for steep declines.\"\n",
    "SOURCE = \"World Bank WDI (September 2023 download)\"\n",
    "UNITS = \"Percent of land area covered by forest\"\n",
    "\n",
    "ensure_metadata(TITLE=TITLE, SUBTITLE=SUBTITLE, ANNOTATION=ANNOTATION, SOURCE=SOURCE, UNITS=UNITS)\n",
    "\n",
    "fig = px.choropleth(\n",
    "    forest_clean,\n",
    "    locations=\"Country Code\",\n",
    "    color=\"ForestPercent\",\n",
    "    hover_name=\"Country Name\",\n",
    "    animation_frame=\"Year\",\n",
    "    color_continuous_scale=\"YlGn\",\n",
    "    range_color=[0, 100],\n",
    ")\n",
    "fig.update_layout(\n",
    "    title={\"text\": f\"{TITLE}<br><sup>{SUBTITLE}</sup>\", \"x\": 0.02, \"xanchor\": \"left\"},\n",
    "    coloraxis_colorbar=dict(title=\"Forest %\", ticksuffix=\"%\"),\n",
    ")\n",
    "fig.add_annotation(\n",
    "    text=ANNOTATION,\n",
    "    xref=\"paper\",\n",
    "    yref=\"paper\",\n",
    "    x=0.02,\n",
    "    y=0.92,\n",
    "    showarrow=False,\n",
    "    align=\"left\",\n",
    "    bgcolor=\"rgba(255,255,255,0.85)\",\n",
    "    bordercolor=\"#333333\",\n",
    "    borderwidth=1,\n",
    "    font=dict(size=12),\n",
    ")\n",
    "fig.add_annotation(\n",
    "    text=f\"Source: {SOURCE}<br>Units: {UNITS}\",\n",
    "    xref=\"paper\",\n",
    "    yref=\"paper\",\n",
    "    x=0.0,\n",
    "    y=-0.12,\n",
    "    showarrow=False,\n",
    "    align=\"left\",\n",
    "    font=dict(size=11, color=\"#444444\"),\n",
    ")\n",
    "fig.show()\n"
   ]
  },
  {
   "cell_type": "markdown",
   "id": "c04f64b8",
   "metadata": {},
   "source": [
    "## 🔁 Loop 6 · Interpret and self-check\n",
    "*Goal: Quantify deforestation hotspots for discussion prompts.*"
   ]
  },
  {
   "cell_type": "code",
   "execution_count": null,
   "id": "b3ead457",
   "metadata": {},
   "outputs": [],
   "source": [
    "forest_baseline = forest_clean[forest_clean[\"Year\"] == 1990]\n",
    "forest_latest = forest_clean[forest_clean[\"Year\"] == forest_clean[\"Year\"].max()]\n",
    "merged = forest_baseline.merge(forest_latest, on=\"Country Code\", suffixes=(\"_1990\", \"_latest\"))\n",
    "merged[\"delta\"] = merged[\"ForestPercent_latest\"] - merged[\"ForestPercent_1990\"]\n",
    "worst_decline = merged.nsmallest(5, \"delta\")[[\"Country Name_1990\", \"delta\"]]\n",
    "print(\"Largest declines since 1990 (percentage points):\")\n",
    "print(worst_decline.rename(columns={\"Country Name_1990\": \"Country\"}))\n",
    "assert worst_decline[\"delta\"].min() < -15, \"Expect at least one double-digit decline.\"\n"
   ]
  },
  {
   "cell_type": "markdown",
   "id": "3b9c726f",
   "metadata": {},
   "source": [
    "### 🧾 Claim → Evidence → Visual → Takeaway (filled)\n",
    "- **Claim**: Tropical forest regions face sharper declines than temperate ones.\n",
    "- **Evidence**: Decline table above plus the animated map highlighting Brazil, Indonesia, and Congo Basin losses.\n",
    "- **Visual**: Choropleth animation with enforced metadata, color guidance, and annotation prompts.\n",
    "- **Takeaway**: Forest policy impacts are region-specific—conservation wins and losses coexist.\n",
    "\n",
    "> **Limitation prompt**: Percent cover hides absolute area differences; combine with hectares lost for a fuller story.\n",
    "\n",
    "---\n",
    "\n",
    "### 💾 Save your work\n",
    "Run the next cell to export the interactive figure reference.\n"
   ]
  },
  {
   "cell_type": "code",
   "execution_count": null,
   "id": "28cee54d",
   "metadata": {},
   "outputs": [],
   "source": [
    "save_last_fig(fig, \"day04_solution_plot.png\")"
   ]
  }
 ],
 "metadata": {
  "colab": {
   "authorship_tag": "ABX9TyN8y8JtiwEZi8snEMLuPS4n",
   "provenance": []
  },
  "kernelspec": {
   "display_name": "Python 3",
   "name": "python3"
  },
  "language_info": {
   "codemirror_mode": {
    "name": "ipython",
    "version": 3
   },
   "file_extension": ".py",
   "mimetype": "text/x-python",
   "name": "python",
   "nbconvert_exporter": "python",
   "pygments_lexer": "ipython3",
   "version": "3.13.3"
  }
 },
 "nbformat": 4,
 "nbformat_minor": 0
}
