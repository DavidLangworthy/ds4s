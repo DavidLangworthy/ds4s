{
 "cells": [
  {
   "cell_type": "markdown",
   "id": "c7e6e255",
   "metadata": {},
   "source": [
    "## 🔗 Open This Notebook in Google Colab\n",
    "\n",
    "[![Open In Colab](https://colab.research.google.com/assets/colab-badge.svg)](https://colab.research.google.com/github/DavidLangworthy/ds4s/blob/master/days/day03/notebook/day03_starter.ipynb)"
   ]
  },
  {
   "cell_type": "markdown",
   "id": "9586bbb7",
   "metadata": {},
   "source": [
    "# 💨 Day 3 – Pollution and Public Health\n",
    "### Linking PM2.5 exposure with economic capacity\n",
    "\n",
    "We will combine air-pollution exposure data with GDP per capita to explore how economic resources intersect with clean air."
   ]
  },
  {
   "cell_type": "markdown",
   "id": "0ca35db0",
   "metadata": {},
   "source": [
    "#### Data card: World Bank – PM2.5 exposure & GDP per capita\n",
    "* **Sources:** [World Bank Indicators](https://data.worldbank.org/) (EN.ATM.PM25.MC.M3 and NY.GDP.PCAP.CD).\n",
    "* **Temporal coverage:** 1990–2023 for most countries.\n",
    "* **Units:** PM2.5 in micrograms/m³; GDP per capita in current US$.\n",
    "* **Refresh cadence:** Updated annually; downloaded September 2024.\n",
    "* **Caveats:** Some countries have missing years; regional aggregates are included and should be filtered out."
   ]
  },
  {
   "cell_type": "code",
   "execution_count": null,
   "id": "12858531",
   "metadata": {},
   "outputs": [],
   "source": [
    "# Core imports and shared helpers\n",
    "from pathlib import Path\n",
    "\n",
    "import numpy as np\n",
    "import pandas as pd\n",
    "import matplotlib.pyplot as plt\n",
    "import seaborn as sns\n",
    "from IPython.display import Markdown, display\n",
    "\n",
    "import utils\n",
    "\n",
    "utils.baseline_style()\n"
   ]
  },
  {
   "cell_type": "markdown",
   "id": "d70f2b84",
   "metadata": {},
   "source": [
    "## Step 1: Load the PM2.5 and GDP tables\n",
    "The helper will download the CSVs if they are missing locally. Each file is structured with metadata columns followed by one column per year."
   ]
  },
  {
   "cell_type": "code",
   "execution_count": null,
   "id": "0cec9c5b",
   "metadata": {},
   "outputs": [],
   "source": [
    "# Example: convert a wide-to-long layout on a toy table\n",
    "toy = pd.DataFrame({'Country Code': ['AAA'], 'Country Name': ['Example'], '2020': [1.2], '2021': [1.3]})\n",
    "toy_long = toy.melt(id_vars=['Country Code', 'Country Name'], var_name='Year', value_name='Value')\n",
    "utils.diagnostics(toy_long, 'Toy long format', expected_columns=['Country Code', 'Country Name', 'Year', 'Value'], expected_row_range=(2, 2))\n"
   ]
  },
  {
   "cell_type": "code",
   "execution_count": null,
   "id": "36ff68e0",
   "metadata": {},
   "outputs": [],
   "source": [
    "pm25_raw = utils.load_data('pm25_exposure.csv')\n",
    "gdp_raw = utils.load_data('gdp_per_country.csv')\n",
    "utils.diagnostics(pm25_raw, 'PM2.5 exposure (raw)', expected_columns=['Country Name', 'Country Code', 'Indicator Name'], expected_row_range=(250, 300))\n",
    "utils.diagnostics(gdp_raw, 'GDP per capita (raw)', expected_columns=['Country Name', 'Country Code', 'Indicator Name'], expected_row_range=(250, 300))\n"
   ]
  },
  {
   "cell_type": "markdown",
   "id": "9d29af63",
   "metadata": {},
   "source": [
    "## Step 2: Reshape the wide tables into tidy format\n",
    "Melt both datasets so that each row represents a single country–year observation, then convert the numeric fields."
   ]
  },
  {
   "cell_type": "code",
   "execution_count": null,
   "id": "b1057d39",
   "metadata": {},
   "outputs": [],
   "source": [
    "id_vars = ['Country Name', 'Country Code']\n",
    "\n",
    "pm25_long = (\n",
    "    pm25_raw[id_vars + [col for col in pm25_raw.columns if col.isdigit()]]\n",
    "    .melt(id_vars=id_vars, var_name='Year', value_name='pm25')\n",
    "    .assign(\n",
    "        Year=lambda df: pd.to_numeric(df['Year'], errors='coerce'),\n",
    "        pm25=lambda df: pd.to_numeric(df['pm25'], errors='coerce'),\n",
    "    )\n",
    ")\n",
    "gdp_long = (\n",
    "    gdp_raw[id_vars + [col for col in gdp_raw.columns if col.isdigit()]]\n",
    "    .melt(id_vars=id_vars, var_name='Year', value_name='gdp_per_capita')\n",
    "    .assign(\n",
    "        Year=lambda df: pd.to_numeric(df['Year'], errors='coerce'),\n",
    "        gdp_per_capita=lambda df: pd.to_numeric(df['gdp_per_capita'], errors='coerce'),\n",
    "    )\n",
    ")\n",
    "\n",
    "utils.diagnostics(pm25_long, 'PM2.5 tidy', expected_columns=['Country Name', 'Country Code', 'Year', 'pm25'], expected_row_range=(15000, 20000))\n",
    "utils.diagnostics(gdp_long, 'GDP tidy', expected_columns=['Country Name', 'Country Code', 'Year', 'gdp_per_capita'], expected_row_range=(15000, 20000))\n"
   ]
  },
  {
   "cell_type": "markdown",
   "id": "d1991d78",
   "metadata": {},
   "source": [
    "## Step 3: Join the datasets and filter to recent years\n",
    "We focus on 2021 to minimise pandemic-era volatility while keeping the latest complete data."
   ]
  },
  {
   "cell_type": "code",
   "execution_count": null,
   "id": "ef6a923b",
   "metadata": {},
   "outputs": [],
   "source": [
    "merged = (\n",
    "    pm25_long.merge(\n",
    "        gdp_long[['Country Code', 'Year', 'gdp_per_capita']],\n",
    "        on=['Country Code', 'Year'],\n",
    "        how='inner',\n",
    "    )\n",
    "    .dropna(subset=['pm25', 'gdp_per_capita'])\n",
    ")\n",
    "merged = merged[(merged['Year'] == 2021) & (merged['pm25'] > 0) & (merged['gdp_per_capita'] > 0)]\n",
    "merged = merged[merged['Country Code'].str.len() == 3]\n",
    "utils.diagnostics(merged, 'PM2.5 vs GDP (2021)', expected_columns=['Country Name', 'Country Code', 'Year', 'pm25', 'gdp_per_capita'], expected_row_range=(120, 220))\n"
   ]
  },
  {
   "cell_type": "markdown",
   "id": "081df6f1",
   "metadata": {},
   "source": [
    "## Step 4: Add helper columns for the regression-friendly plot\n",
    "Log-transform GDP for readability and flag a few notable countries to annotate."
   ]
  },
  {
   "cell_type": "code",
   "execution_count": null,
   "id": "55c0b812",
   "metadata": {},
   "outputs": [],
   "source": [
    "notable_countries = ['USA', 'CHN', 'IND', 'NOR', 'NGA']\n",
    "plot_data = merged.assign(\n",
    "    log_gdp=lambda df: np.log10(df['gdp_per_capita']),\n",
    "    country_label=lambda df: np.where(df['Country Code'].isin(notable_countries), df['Country Name'], ''),\n",
    ")\n",
    "utils.diagnostics(plot_data, 'Plot dataset', expected_columns=['pm25', 'gdp_per_capita', 'log_gdp'], expected_row_range=(120, 220))\n"
   ]
  },
  {
   "cell_type": "markdown",
   "id": "d1f83efe",
   "metadata": {},
   "source": [
    "## Step 5: Build the annotated scatter plot\n",
    "Follow the claim → evidence → visual → takeaway scaffold and ensure the story metadata is complete before plotting."
   ]
  },
  {
   "cell_type": "code",
   "execution_count": null,
   "id": "53445b96",
   "metadata": {},
   "outputs": [],
   "source": [
    "TITLE = 'High PM2.5 exposure clusters in countries with lower economic resources'\n",
    "SUBTITLE = 'PM2.5 exposure vs. GDP per capita, 2021 (log scale)'\n",
    "ANNOTATION = 'China and India face elevated pollution even as incomes rise; Norway enjoys clean air at high income.'\n",
    "SOURCE = 'World Bank Indicators (EN.ATM.PM25.MC.M3, NY.GDP.PCAP.CD)'\n",
    "UNITS = 'PM2.5 exposure (µg/m³)'\n",
    "\n",
    "metadata = {\n",
    "    'title': TITLE,\n",
    "    'subtitle': SUBTITLE,\n",
    "    'annotation': ANNOTATION,\n",
    "    'source': SOURCE,\n",
    "    'units': UNITS,\n",
    "}\n",
    "utils.validate_story_elements(metadata)\n",
    "\n",
    "fig, ax = plt.subplots(figsize=(10, 6))\n",
    "sns.regplot(\n",
    "    data=plot_data,\n",
    "    x='log_gdp',\n",
    "    y='pm25',\n",
    "    scatter_kws={'alpha': 0.6, 's': 70, 'color': '#1f77b4'},\n",
    "    line_kws={'color': '#d62728', 'linewidth': 2},\n",
    "    ax=ax,\n",
    ")\n",
    "\n",
    "for _, row in plot_data[plot_data['country_label'] != ''].iterrows():\n",
    "    ax.text(\n",
    "        row['log_gdp'] + 0.02,\n",
    "        row['pm25'],\n",
    "        row['country_label'],\n",
    "        fontsize=10,\n",
    "        ha='left',\n",
    "        va='center',\n",
    "    )\n",
    "\n",
    "utils.apply_story_template(ax, title=TITLE, subtitle=SUBTITLE, source=SOURCE, units=UNITS)\n",
    "ax.set_xlabel('GDP per capita (log₁₀ US$)')\n",
    "ax.set_ylabel(UNITS)\n",
    "\n",
    "ax.annotate(\n",
    "    ANNOTATION,\n",
    "    xy=(plot_data['log_gdp'].median(), plot_data['pm25'].quantile(0.75)),\n",
    "    xycoords='data',\n",
    "    xytext=(20, -80),\n",
    "    textcoords='offset points',\n",
    "    arrowprops=dict(arrowstyle='->', color='#444444'),\n",
    "    fontsize=11,\n",
    "    ha='left',\n",
    "    va='top',\n",
    "    bbox=dict(boxstyle='round,pad=0.3', fc='white', ec='#555555', alpha=0.85),\n",
    ")\n",
    "\n",
    "plt.tight_layout()\n",
    "utils.save_last_fig('day03_solution_plot.png')\n"
   ]
  },
  {
   "cell_type": "code",
   "execution_count": null,
   "id": "0b406411",
   "metadata": {},
   "outputs": [],
   "source": [
    "display(\n",
    "    Markdown(\n",
    "        utils.summarize_claim(\n",
    "            claim='Cleaner air is strongly correlated with higher economic capacity.',\n",
    "            evidence='The regression line slopes downward: wealthier countries generally report lower PM2.5 exposure.',\n",
    "            takeaway='Communities with fewer resources face compounded risks—less capacity to mitigate pollution and greater exposure.',\n",
    "        )\n",
    "    )\n",
    ")\n"
   ]
  }
 ],
 "metadata": {
  "kernelspec": {
   "display_name": "Python 3",
   "language": "python",
   "name": "python3"
  },
  "language_info": {
   "name": "python",
   "version": "3.11"
  }
 },
 "nbformat": 4,
 "nbformat_minor": 5
}
