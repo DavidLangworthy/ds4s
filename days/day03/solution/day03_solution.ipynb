{
 "cells": [
  {
   "cell_type": "markdown",
   "id": "e0263deb",
   "metadata": {},
   "source": [
    "## 🔗 Open This Notebook in Google Colab\n",
    "\n",
    "[![Open In Colab](https://colab.research.google.com/assets/colab-badge.svg)](https://colab.research.google.com/github/DavidLangworthy/ds4s/blob/master/days/day03/notebook/day03_starter.ipynb)"
   ]
  },
  {
   "cell_type": "markdown",
   "id": "f6184eb7",
   "metadata": {},
   "source": [
    "# 🫁 Day 3 – Pollution and Public Health\n",
    "### Linking particulate exposure with national income levels\n",
    "\n",
    "Today we blend two World Bank indicators to explore how fine particulate pollution (PM₂.₅) relates to a country's\n",
    "economic resources. You'll practice joining datasets, running quick diagnostics, and designing a scatter plot that\n",
    "communicates both correlation and uncertainty."
   ]
  },
  {
   "cell_type": "markdown",
   "id": "bc2b9741",
   "metadata": {},
   "source": [
    "### 🗂️ Data card — World Bank PM₂.₅ exposure and GDP per capita\n",
    "- **Sources:** World Bank Sustainable Development Indicators (downloaded 2024-12)\n",
    "- **Temporal coverage:** 1990–2021 (annual) — today we focus on 2019 to avoid pandemic disruptions\n",
    "- **Geography:** Countries and territories with consistent World Bank reporting\n",
    "- **Units:**\n",
    "  - PM₂.₅ exposure: population-weighted annual mean concentration (µg/m³)\n",
    "  - GDP per capita: constant 2015 US dollars\n",
    "- **Collection notes:** PM₂.₅ estimates come from satellite retrievals and ground monitors blended via statistical models\n",
    "- **Caveats:** Some small states lack GDP data; pollution values may have large confidence intervals; values are annual averages, not peaks\n",
    "- **Mindful design:** Use log scaling carefully and label axis units prominently to avoid misinterpretation."
   ]
  },
  {
   "cell_type": "markdown",
   "id": "f78c7b3d",
   "metadata": {},
   "source": [
    "### 1. Set up the environment"
   ]
  },
  {
   "cell_type": "code",
   "execution_count": null,
   "id": "6797aa13",
   "metadata": {},
   "outputs": [],
   "source": [
    "import pandas as pd\n",
    "import numpy as np\n",
    "import matplotlib.pyplot as plt\n",
    "import seaborn as sns\n",
    "import plotly.express as px\n",
    "from IPython.display import display\n",
    "\n",
    "pd.options.display.float_format = \"{:.2f}\".format"
   ]
  },
  {
   "cell_type": "code",
   "execution_count": null,
   "id": "ed6bf3fb",
   "metadata": {},
   "outputs": [],
   "source": [
    "# Shared helper utilities used throughout the week.\n",
    "from __future__ import annotations\n",
    "\n",
    "import warnings\n",
    "from pathlib import Path\n",
    "from typing import Iterable, Mapping\n",
    "\n",
    "import matplotlib.pyplot as plt\n",
    "import pandas as pd\n",
    "import seaborn as sns\n",
    "\n",
    "\n",
    "def resolve_data_dir(max_up: int = 5) -> Path:\n",
    "    \"\"\"Locate the project-level ``data`` directory regardless of execution location.\"\"\"\n",
    "    here = Path.cwd()\n",
    "    for _ in range(max_up + 1):\n",
    "        candidate = here / \"data\"\n",
    "        if candidate.exists():\n",
    "            return candidate\n",
    "        here = here.parent\n",
    "    raise FileNotFoundError(\n",
    "        \"Could not find a 'data' directory relative to this notebook.\n",
    "\"\n",
    "        \"If you are running in Colab, mount your drive or upload the data folder first.\"\n",
    "    )\n",
    "\n",
    "\n",
    "DATA_DIR = resolve_data_dir()\n",
    "PROJECT_ROOT = DATA_DIR.parent\n",
    "PLOTS_DIR = PROJECT_ROOT / \"plots\"\n",
    "PLOTS_DIR.mkdir(parents=True, exist_ok=True)\n",
    "\n",
    "\n",
    "def baseline_style() -> None:\n",
    "    \"\"\"Apply a consistent, high-contrast visual style that is colorblind-friendly.\"\"\"\n",
    "    sns.set_theme(style=\"whitegrid\", context=\"talk\", font_scale=0.9)\n",
    "    plt.rcParams.update(\n",
    "        {\n",
    "            \"figure.dpi\": 120,\n",
    "            \"axes.titlesize\": 16,\n",
    "            \"axes.labelsize\": 13,\n",
    "            \"legend.fontsize\": 11,\n",
    "            \"axes.titleweight\": \"semibold\",\n",
    "        }\n",
    "    )\n",
    "\n",
    "\n",
    "def load_data(filename: str | Path, **kwargs) -> pd.DataFrame:\n",
    "    \"\"\"Read a CSV file from the shared data directory and report its shape.\"\"\"\n",
    "    path = Path(filename)\n",
    "    if not path.exists():\n",
    "        path = DATA_DIR / filename\n",
    "    df = pd.read_csv(path, **kwargs)\n",
    "    print(f\"Loaded {path.name} with shape {df.shape}.\")\n",
    "    return df\n",
    "\n",
    "\n",
    "def validate_columns(df: pd.DataFrame, required: Iterable[str], *, context: str = \"\") -> None:\n",
    "    missing = [col for col in required if col not in df.columns]\n",
    "    if missing:\n",
    "        warnings.warn(\n",
    "            f\"Missing expected columns {missing} in {context or 'dataframe'}.\n",
    "\"\n",
    "            \"Double-check your renaming and loading steps before moving on.\"\n",
    "        )\n",
    "    else:\n",
    "        print(f\"✅ Columns look good: {list(required)}\")\n",
    "\n",
    "\n",
    "def expect_rows_between(df: pd.DataFrame, low: int, high: int, *, label: str = \"rows\") -> None:\n",
    "    count = len(df)\n",
    "    if not (low <= count <= high):\n",
    "        warnings.warn(\n",
    "            f\"{label} check: expected between {low:,} and {high:,} but found {count:,}.\"\n",
    "        )\n",
    "    else:\n",
    "        print(f\"✅ {label} check: {count:,} rows is within the expected range.\")\n",
    "\n",
    "\n",
    "def quick_diagnose(df: pd.DataFrame, *, sample: int = 3) -> None:\n",
    "    print(\"\n",
    "Preview of the current dataframe:\")\n",
    "    display(df.head(sample))\n",
    "    print(\"\n",
    "Null values by column:\")\n",
    "    print(df.isna().sum())\n",
    "\n",
    "\n",
    "def validate_story_fields(fields: Mapping[str, str]) -> None:\n",
    "    missing = [name for name, value in fields.items() if not str(value).strip()]\n",
    "    if missing:\n",
    "        warnings.warn(\n",
    "            \"The following story fields are blank: \" + \", \".join(missing) +\n",
    "            \"\n",
    "Fill them in so your chart has a clear narrative frame.\"\n",
    "        )\n",
    "    else:\n",
    "        print(\"✅ Narrative checklist complete.\")\n",
    "\n",
    "\n",
    "def save_last_fig(fig: plt.Figure | None, filename: str) -> Path | None:\n",
    "    if fig is None:\n",
    "        fig = plt.gcf()\n",
    "    if fig and getattr(fig, \"axes\", None):\n",
    "        output_path = PLOTS_DIR / filename\n",
    "        fig.savefig(output_path, dpi=300, bbox_inches=\"tight\")\n",
    "        print(f\"Saved figure to {output_path.relative_to(PROJECT_ROOT)}\")\n",
    "        return output_path\n",
    "    warnings.warn(\"No matplotlib figure available to save yet.\")\n",
    "    return None\n"
   ]
  },
  {
   "cell_type": "markdown",
   "id": "1a4ea591",
   "metadata": {},
   "source": [
    "### 2. Load and preview the indicators\n",
    "We read both wide-form datasets and confirm the key identifier columns exist before subsetting to 2019."
   ]
  },
  {
   "cell_type": "code",
   "execution_count": null,
   "id": "1dcca43f",
   "metadata": {},
   "outputs": [],
   "source": [
    "pm25 = load_data(\"pm25_exposure.csv\")\n",
    "gdp = load_data(\"gdp_per_country.csv\")\n",
    "\n",
    "validate_columns(pm25, [\"Country Name\", \"Country Code\"])\n",
    "validate_columns(gdp, [\"Country Name\", \"Country Code\"])\n",
    "quick_diagnose(pm25.iloc[:, :6])\n",
    "quick_diagnose(gdp.iloc[:, :6])"
   ]
  },
  {
   "cell_type": "markdown",
   "id": "de391a57",
   "metadata": {},
   "source": [
    "### 3. Slice the 2019 data and tidy the columns\n",
    "We select 2019 values, rename columns, merge on country code, and drop rows without both indicators."
   ]
  },
  {
   "cell_type": "code",
   "execution_count": null,
   "id": "798b09ed",
   "metadata": {},
   "outputs": [],
   "source": [
    "pm25_2019 = (\n",
    "    pm25[[\"Country Name\", \"Country Code\", \"2019\"]]\n",
    "    .rename(columns={\"2019\": \"pm25_ug_m3\"})\n",
    ")\n",
    "gdp_2019 = (\n",
    "    gdp[[\"Country Name\", \"Country Code\", \"2019\"]]\n",
    "    .rename(columns={\"2019\": \"gdp_per_capita_usd\"})\n",
    ")\n",
    "\n",
    "merged = (\n",
    "    pm25_2019\n",
    "    .merge(gdp_2019, on=[\"Country Name\", \"Country Code\"], how=\"inner\")\n",
    "    .dropna()\n",
    ")\n",
    "expect_rows_between(merged, 170, 190, label=\"countries with both metrics\")\n",
    "quick_diagnose(merged.head())"
   ]
  },
  {
   "cell_type": "markdown",
   "id": "e2d2c5f6",
   "metadata": {},
   "source": [
    "### 4. Engineer helper fields for analysis\n",
    "Compute log-scale values, quartile groups, and quick summary statistics to understand the distribution."
   ]
  },
  {
   "cell_type": "code",
   "execution_count": null,
   "id": "db107743",
   "metadata": {},
   "outputs": [],
   "source": [
    "merged[\"log_gdp\"] = np.log10(merged[\"gdp_per_capita_usd\"])\n",
    "merged[\"gdp_group\"] = pd.qcut(\n",
    "    merged[\"gdp_per_capita_usd\"],\n",
    "    q=4,\n",
    "    labels=[\"Lowest income\", \"Lower-middle\", \"Upper-middle\", \"Highest income\"],\n",
    ")\n",
    "\n",
    "summary_stats = merged[[\"pm25_ug_m3\", \"gdp_per_capita_usd\"]].describe()\n",
    "display(summary_stats)\n",
    "print(\"Correlation (Pearson): {:.2f}\".format(merged[\"pm25_ug_m3\"].corr(merged[\"gdp_per_capita_usd\"])))\n",
    "quick_diagnose(merged.sample(5))"
   ]
  },
  {
   "cell_type": "markdown",
   "id": "64c5d2af",
   "metadata": {},
   "source": [
    "### 5. Define the storytelling frame\n",
    "Set the narrative scaffold before plotting so our visual decisions support the claim."
   ]
  },
  {
   "cell_type": "code",
   "execution_count": null,
   "id": "5ec4cda4",
   "metadata": {},
   "outputs": [],
   "source": [
    "TITLE = \"Wealthier countries breathe cleaner air\"\n",
    "SUBTITLE = \"Population-weighted PM₂.₅ exposure vs. GDP per capita (2019)\"\n",
    "ANNOTATION = \"Each marker is a country; trendline highlights the negative relationship\"\n",
    "SOURCE = \"Source: World Bank SDI (downloaded Dec 2024)\"\n",
    "UNITS = \"PM₂.₅ concentration (µg/m³) vs. GDP per capita (2015 USD)\"\n",
    "\n",
    "validate_story_fields({\n",
    "    \"TITLE\": TITLE,\n",
    "    \"SUBTITLE\": SUBTITLE,\n",
    "    \"ANNOTATION\": ANNOTATION,\n",
    "    \"SOURCE\": SOURCE,\n",
    "    \"UNITS\": UNITS,\n",
    "})"
   ]
  },
  {
   "cell_type": "markdown",
   "id": "d0b1961b",
   "metadata": {},
   "source": [
    "### 6. Build the interactive scatter plot\n",
    "Use Plotly Express for hoverable context, log-scale the x-axis, and add an OLS trendline for reference."
   ]
  },
  {
   "cell_type": "code",
   "execution_count": null,
   "id": "7fc7ac40",
   "metadata": {},
   "outputs": [],
   "source": [
    "fig = px.scatter(\n",
    "    merged,\n",
    "    x=\"gdp_per_capita_usd\",\n",
    "    y=\"pm25_ug_m3\",\n",
    "    color=\"gdp_group\",\n",
    "    hover_name=\"Country Name\",\n",
    "    hover_data={\n",
    "        \"gdp_per_capita_usd\": \":.0f\",\n",
    "        \"pm25_ug_m3\": \":.1f\",\n",
    "    },\n",
    "    log_x=True,\n",
    "    labels={\n",
    "        \"gdp_per_capita_usd\": \"GDP per capita (2015 USD, log scale)\",\n",
    "        \"pm25_ug_m3\": \"PM₂.₅ exposure (µg/m³)\",\n",
    "        \"gdp_group\": \"Income quartile\",\n",
    "    },\n",
    "    title=f\"{TITLE}<br><sup>{SUBTITLE}</sup>\",\n",
    "    trendline=\"ols\",\n",
    "    trendline_color_override=\"#333333\",\n",
    "    color_discrete_sequence=px.colors.qualitative.Safe,\n",
    ")\n",
    "fig.update_layout(\n",
    "    legend_title_text=\"Income group\",\n",
    "    margin=dict(l=60, r=40, t=90, b=60),\n",
    "    template=\"plotly_white\",\n",
    "    annotations=[\n",
    "        dict(\n",
    "            text=f\"{ANNOTATION}<br>{SOURCE}\",\n",
    "            x=0,\n",
    "            y=-0.22,\n",
    "            xref=\"paper\",\n",
    "            yref=\"paper\",\n",
    "            showarrow=False,\n",
    "            align=\"left\",\n",
    "        )\n",
    "    ],\n",
    ")\n",
    "fig.show()\n",
    "\n",
    "html_path = (PROJECT_ROOT / \"plots\" / \"day03_solution_plot.html\")\n",
    "fig.write_html(html_path)\n",
    "print(f\"Saved interactive figure to {html_path.relative_to(PROJECT_ROOT)}\")"
   ]
  },
  {
   "cell_type": "markdown",
   "id": "02149450",
   "metadata": {},
   "source": [
    "### 7. Interpret responsibly\n",
    "- **Key takeaway:** Higher-income countries generally record lower PM₂.₅ exposure, though several wealthier nations still sit above the WHO guideline of 5 µg/m³.\n",
    "- **Uncertainty & caveats:** Trendline assumes a linear log relationship and ignores policy lags; satellite-derived pollution estimates carry uncertainties, especially in regions with sparse monitors.\n",
    "- **What this plot cannot tell us:** It omits population size, pollution sources, and within-country inequality; pair it with time-series or policy data to understand causal drivers."
   ]
  },
  {
   "cell_type": "markdown",
   "id": "453a0803",
   "metadata": {},
   "source": [
    "### 8. Process micro-rubric\n",
    "| Step | Evidence of completion |\n",
    "| --- | --- |\n",
    "| Data loaded & validated | Column checks completed for PM₂.₅ and GDP tables |\n",
    "| Cleaning documented | 2019 slice merged with nulls removed and diagnostics logged |\n",
    "| Story frame filled | Title, subtitle, annotation, source, units finalized before plotting |\n",
    "| Visualization reviewed | Log scaling, color palette, legend, and annotation verified |\n",
    "| Reflection written | Takeaway, uncertainty, and limitations clearly stated |"
   ]
  }
 ],
 "metadata": {
  "colab": {
   "provenance": []
  },
  "kernelspec": {
   "display_name": "Python 3",
   "name": "python3"
  },
  "language_info": {
   "name": "python"
  }
 },
 "nbformat": 4,
 "nbformat_minor": 5
}