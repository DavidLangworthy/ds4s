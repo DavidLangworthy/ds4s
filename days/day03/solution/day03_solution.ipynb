{
 "cells": [
  {
   "cell_type": "markdown",
   "id": "33aeb890",
   "metadata": {},
   "source": [
    "## 🔗 Open This Notebook in Google Colab\n",
    "\n",
    "[![Open In Colab](https://colab.research.google.com/assets/colab-badge.svg)](https://colab.research.google.com/github/DavidLangworthy/ds4s/blob/main/days/day03/notebook/day03_starter.ipynb)"
   ]
  },
  {
   "cell_type": "markdown",
   "id": "2921bbad",
   "metadata": {},
   "source": [
    "# 🌫️ Day 3 – Pollution, Prosperity, and Public Health\n",
    "\n",
    "Today’s goal is to understand who breathes the dirtiest air and why. You will merge two World Bank indicators, stress-test the combined dataset, and build an interactive chart that invites exploration."
   ]
  },
  {
   "cell_type": "markdown",
   "id": "be033b06",
   "metadata": {},
   "source": [
    "### Data Card — World Bank Indicators (2019 focus year)\n",
    "\n",
    "| Dataset | File | Units | Coverage | Caveats |\n",
    "| --- | --- | --- | --- | --- |\n",
    "| PM2.5 exposure | `data/pm25_exposure.csv` | µg/m³ (annual mean) | Countries & aggregates, 1990–2023 | Some small-island states have missing years; values are rounded. |\n",
    "| GDP per capita | `data/gdp_per_country.csv` | Current USD | Countries & aggregates, 1960–2023 | Currency in current dollars; economic shocks can skew year-to-year comparisons. |\n",
    "| Selected year | 2019 | — | Global | Most countries report pre-pandemic; 2020–2021 shifts are excluded. |\n",
    "| Caveats | — | — | — | Regional aggregates remain in the files; filter to country codes to avoid double counting. |\n"
   ]
  },
  {
   "cell_type": "markdown",
   "id": "656a4ad5",
   "metadata": {},
   "source": [
    "### Step 1 · Imports and helpers\n",
    "\n",
    "Plotly drives the interactive visual; pandas handles wrangling."
   ]
  },
  {
   "cell_type": "code",
   "execution_count": null,
   "id": "0e794f6a",
   "metadata": {},
   "outputs": [],
   "source": [
    "import pandas as pd\n",
    "import plotly.express as px\n",
    "\n",
    "from utils import (\n",
    "    expect_rows_between,\n",
    "    load_csv,\n",
    "    quick_check,\n",
    "    save_plotly_fig,\n",
    "    validate_columns,\n",
    "    validate_story_elements,\n",
    ")\n"
   ]
  },
  {
   "cell_type": "markdown",
   "id": "eee648e4",
   "metadata": {},
   "source": [
    "### Step 2 · Load the two indicator tables\n",
    "\n",
    "Grab the wide-format CSVs; we will pick out the 2019 columns next."
   ]
  },
  {
   "cell_type": "code",
   "execution_count": null,
   "id": "12dc65d9",
   "metadata": {},
   "outputs": [],
   "source": [
    "pm25_raw = load_csv(\"data/pm25_exposure.csv\")\n",
    "gdp_raw = load_csv(\"data/gdp_per_country.csv\")\n",
    "quick_check(pm25_raw.head(), name=\"PM2.5 preview\")\n",
    "quick_check(gdp_raw.head(), name=\"GDP preview\")\n"
   ]
  },
  {
   "cell_type": "markdown",
   "id": "a28e09ca",
   "metadata": {},
   "source": [
    "<details>\n",
    "<summary>Need a nudge?</summary>\n",
    "\n",
    "- Look for the `2019` column; each dataset stores one column per year.\n",
    "- The column names use spaces and parentheses—keep them intact when selecting.\n",
    "\n",
    "</details>"
   ]
  },
  {
   "cell_type": "markdown",
   "id": "5f8f4cbd",
   "metadata": {},
   "source": [
    "### Step 3 · Isolate 2019 values and clean up column names\n",
    "\n",
    "Convert to numeric and drop placeholder strings like `..` or blanks."
   ]
  },
  {
   "cell_type": "code",
   "execution_count": null,
   "id": "2a673e5f",
   "metadata": {},
   "outputs": [],
   "source": [
    "target_year = \"2019\"\n",
    "pm25_2019 = (\n",
    "    pm25_raw[[\"Country Name\", \"Country Code\", target_year]]\n",
    "    .rename(columns={target_year: \"PM25\"})\n",
    "    .assign(PM25=lambda df: pd.to_numeric(df[\"PM25\"], errors=\"coerce\"))\n",
    ")\n",
    "\n",
    "gdp_2019 = (\n",
    "    gdp_raw[[\"Country Name\", \"Country Code\", target_year]]\n",
    "    .rename(columns={target_year: \"GDP_per_capita\"})\n",
    "    .assign(GDP_per_capita=lambda df: pd.to_numeric(df[\"GDP_per_capita\"], errors=\"coerce\"))\n",
    ")\n",
    "\n",
    "validate_columns(pm25_2019, [\"Country Name\", \"Country Code\", \"PM25\"])\n",
    "validate_columns(gdp_2019, [\"Country Name\", \"Country Code\", \"GDP_per_capita\"])\n"
   ]
  },
  {
   "cell_type": "markdown",
   "id": "65c18b16",
   "metadata": {},
   "source": [
    "### Step 4 · Merge the indicators and remove aggregates\n",
    "\n",
    "World Bank files include regional roll-ups (e.g., “High income”). Filter to ISO-like codes to focus on individual countries."
   ]
  },
  {
   "cell_type": "code",
   "execution_count": null,
   "id": "6e7fed84",
   "metadata": {},
   "outputs": [],
   "source": [
    "combined = pm25_2019.merge(gdp_2019, on=[\"Country Name\", \"Country Code\"], how=\"inner\")\n",
    "combined = combined.dropna(subset=[\"PM25\", \"GDP_per_capita\"])\n",
    "combined = combined[combined[\"Country Code\"].str.fullmatch(r\"[A-Z]{3}\")]\n",
    "expect_rows_between(combined, minimum=150, maximum=220)\n",
    "quick_check(combined.tail(), name=\"Combined dataset\")\n"
   ]
  },
  {
   "cell_type": "markdown",
   "id": "abf2a7e0",
   "metadata": {},
   "source": [
    "<details>\n",
    "<summary>Still cleaning?</summary>\n",
    "\n",
    "- The regex filter keeps three-letter uppercase codes, a good proxy for ISO Alpha-3 countries.\n",
    "- If you keep aggregates, they will stack on top of countries and skew the scatter.\n",
    "\n",
    "</details>"
   ]
  },
  {
   "cell_type": "markdown",
   "id": "b4a73498",
   "metadata": {},
   "source": [
    "### Step 5 · Classify countries into income tiers\n",
    "\n",
    "This provides a colour channel for the bubble chart so we can compare peers."
   ]
  },
  {
   "cell_type": "code",
   "execution_count": null,
   "id": "b9e55701",
   "metadata": {},
   "outputs": [],
   "source": [
    "income_bins = [0, 1085, 4255, 13205, float(\"inf\")]\n",
    "income_labels = [\"Low income\", \"Lower-middle\", \"Upper-middle\", \"High income\"]\n",
    "combined[\"IncomeGroup\"] = pd.cut(\n",
    "    combined[\"GDP_per_capita\"],\n",
    "    bins=income_bins,\n",
    "    labels=income_labels,\n",
    "    include_lowest=True,\n",
    ")\n",
    "quick_check(combined.groupby(\"IncomeGroup\").size().reset_index(name=\"Countries\"), name=\"Income group counts\")\n"
   ]
  },
  {
   "cell_type": "markdown",
   "id": "f4285c92",
   "metadata": {},
   "source": [
    "### Step 6 · Build the storytelling checklist\n",
    "\n",
    "As before, make sure the narrative scaffolding is in place before plotting."
   ]
  },
  {
   "cell_type": "code",
   "execution_count": null,
   "id": "5937204e",
   "metadata": {},
   "outputs": [],
   "source": [
    "story = {\n",
    "    \"title\": \"Wealthier Countries Breathe Cleaner Air\",\n",
    "    \"subtitle\": \"PM2.5 exposure vs. GDP per capita (2019) with income-tier colouring\",\n",
    "    \"annotation\": \"Upper-middle income countries shoulder the highest particulate loads.\",\n",
    "    \"source\": \"World Bank World Development Indicators (accessed 2024-12)\",\n",
    "    \"units\": \"µg/m³ and current USD\",\n",
    "}\n",
    "validate_story_elements(story)\n"
   ]
  },
  {
   "cell_type": "markdown",
   "id": "4da881aa",
   "metadata": {},
   "source": [
    "### Step 7 · Configure the interactive scatter\n",
    "\n",
    "Use log scale on GDP to spread out low-income countries. Bubble size follows PM2.5 to highlight especially polluted places."
   ]
  },
  {
   "cell_type": "code",
   "execution_count": null,
   "id": "2145efc6",
   "metadata": {},
   "outputs": [],
   "source": [
    "fig = px.scatter(\n",
    "    combined,\n",
    "    x=\"GDP_per_capita\",\n",
    "    y=\"PM25\",\n",
    "    color=\"IncomeGroup\",\n",
    "    size=\"PM25\",\n",
    "    hover_name=\"Country Name\",\n",
    "    log_x=True,\n",
    "    size_max=40,\n",
    "    title=story[\"title\"],\n",
    "    labels={\n",
    "        \"GDP_per_capita\": \"GDP per capita (USD, log scale)\",\n",
    "        \"PM25\": \"PM2.5 exposure (µg/m³)\",\n",
    "        \"IncomeGroup\": \"World Bank income tier\",\n",
    "    },\n",
    ")\n",
    "fig.update_layout(\n",
    "    legend_title_text=\"Income tier\",\n",
    "    annotations=[\n",
    "        dict(\n",
    "            text=story[\"annotation\"],\n",
    "            x=0.02,\n",
    "            y=0.98,\n",
    "            xref=\"paper\",\n",
    "            yref=\"paper\",\n",
    "            showarrow=False,\n",
    "            bgcolor=\"rgba(255,255,255,0.7)\",\n",
    "        )\n",
    "    ],\n",
    ")\n",
    "fig.update_traces(marker=dict(opacity=0.75, line=dict(width=0.5, color=\"#333\")))\n",
    "fig.show()\n"
   ]
  },
  {
   "cell_type": "markdown",
   "id": "5a7f3a76",
   "metadata": {},
   "source": [
    "### Step 8 · Optional static check\n",
    "\n",
    "If Plotly is unavailable, a quick Matplotlib snapshot verifies the trend."
   ]
  },
  {
   "cell_type": "code",
   "execution_count": null,
   "id": "0f1375d1",
   "metadata": {},
   "outputs": [],
   "source": [
    "_ = combined.plot.scatter(x=\"GDP_per_capita\", y=\"PM25\", alpha=0.4, grid=True)\n"
   ]
  },
  {
   "cell_type": "markdown",
   "id": "1260f292",
   "metadata": {},
   "source": [
    "### Step 9 · Save the interactive output for archiving\n",
    "\n",
    "This produces an HTML file that GitHub Actions can upload without embedding the chart here."
   ]
  },
  {
   "cell_type": "code",
   "execution_count": null,
   "id": "8aaa3c40",
   "metadata": {},
   "outputs": [],
   "source": [
    "save_plotly_fig(fig, \"plots/day03_solution_bubble.html\")\n"
   ]
  },
  {
   "cell_type": "markdown",
   "id": "0a8fbc7b",
   "metadata": {},
   "source": [
    "### Step 10 · Reflection prompts\n",
    "\n",
    "- Which filters or diagnostics caught issues before plotting?\n",
    "- Identify at least one outlier to discuss (e.g., high pollution at high income).\n",
    "- Note one limitation (e.g., missing population scaling) to acknowledge in your write-up."
   ]
  }
 ],
 "metadata": {
  "kernelspec": {
   "display_name": "Python 3",
   "language": "python",
   "name": "python3"
  }
 },
 "nbformat": 4,
 "nbformat_minor": 5
}
