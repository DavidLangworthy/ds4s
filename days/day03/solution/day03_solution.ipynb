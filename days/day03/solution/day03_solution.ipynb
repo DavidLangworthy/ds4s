{
 "cells": [
  {
   "cell_type": "markdown",
   "id": "3a14b016",
   "metadata": {},
   "source": [
    "## 🔗 Open This Notebook in Google Colab\n",
    "\n",
    "[![Open In Colab](https://colab.research.google.com/assets/colab-badge.svg)](https://colab.research.google.com/github/DavidLangworthy/ds4s/blob/master/Day%203%20%E2%80%93%20Air%20Quality%20%26%20Income.ipynb)"
   ]
  },
  {
   "cell_type": "markdown",
   "id": "b8a6f15a",
   "metadata": {},
   "source": [
    "# 🌬️ Day 3 – Air Quality and Economic Development\n",
    "### Connect health impacts to income levels with an interactive scatter\n",
    "\n",
    "We keep the learn → do → check cadence, now using **Plotly Express** for an interactive view of fine particulate pollution (PM₂.₅) versus GDP per capita.\n",
    "\n",
    "---\n",
    "\n",
    "## 🧠 Learning Rhythm\n",
    "- 🔁 Five loops: load pollution data, load economic data, merge, diagnose, visualize.\n",
    "- 🧪 Column checks catch spelling/capitalization issues that often break merges.\n",
    "- 🎯 Micro-rubric rewards: clean joins, log-scale reasoning, and thoughtful annotation.\n",
    "\n",
    "> **Teacher Sidecar**: Plan ~55 minutes. Students who skip the diagnostic often end up with mismatched country codes—redirect them to rerun Loop 3.\n",
    "\n",
    "## 📇 Data Card — World Bank PM₂.₅ Exposure & GDP\n",
    "- **Source**: World Bank open data (downloaded 2023).\n",
    "- **Temporal coverage**: 1990–2021 (we focus on 2019 cross-section).\n",
    "- **Metrics**: PM₂.₅ annual exposure (µg/m³) and GDP per capita (current US$).\n",
    "- **Last updated**: October 2023 pull.\n",
    "- **Caveats**: Some small states lack GDP data; pollution values above WHO guideline (5 µg/m³) indicate health risk.\n",
    "\n",
    "## 🧵 Story Scaffold (Claim → Evidence → Visual → Takeaway)\n",
    "- **Claim**: Wealthier countries typically experience lower PM₂.₅ exposure, but notable exceptions remain.\n",
    "- **Evidence to gather**: Joined dataset of GDP per capita and PM₂.₅ for 2019 with sufficient country coverage.\n",
    "- **Visual plan**: Log-scale scatter with regions highlighted and an annotation for outliers.\n",
    "- **Takeaway**: Economic growth correlates with cleaner air, yet policy choices create exceptions worth noting.\n"
   ]
  },
  {
   "cell_type": "code",
   "execution_count": null,
   "id": "497476eb",
   "metadata": {},
   "outputs": [],
   "source": [
    "\n",
    "from __future__ import annotations\n",
    "\n",
    "from pathlib import Path\n",
    "from typing import Any, Mapping, Sequence\n",
    "\n",
    "import matplotlib.pyplot as plt\n",
    "import numpy as np\n",
    "import pandas as pd\n",
    "import seaborn as sns\n",
    "from IPython.display import display\n",
    "\n",
    "DATA_DIR = Path.cwd() / \"data\"\n",
    "\n",
    "sns.set_theme(style=\"whitegrid\", font_scale=1.1)\n",
    "plt.rcParams.update({\n",
    "    \"axes.titlesize\": 16,\n",
    "    \"axes.labelsize\": 13,\n",
    "    \"axes.grid\": True,\n",
    "    \"figure.figsize\": (11, 6),\n",
    "    \"figure.dpi\": 120,\n",
    "})\n",
    "\n",
    "def ping_environment(packages: Mapping[str, object]) -> None:\n",
    "    \"\"\"Print library versions so teachers can confirm the runtime.\"\"\"\n",
    "    for label, module in packages.items():\n",
    "        version = getattr(module, \"__version__\", \"built-in\")\n",
    "        print(f\"{label}: {version}\")\n",
    "    print(\"Environment check complete ✅\")\n",
    "\n",
    "def load_data(file_name: str, /, **kwargs) -> pd.DataFrame:\n",
    "    \"\"\"Load a CSV from the shared data folder with a friendly status message.\"\"\"\n",
    "    path = DATA_DIR / file_name\n",
    "    if not path.exists():\n",
    "        raise FileNotFoundError(f\"Expected data file at {path}\")\n",
    "    df = pd.read_csv(path, **kwargs)\n",
    "    print(f\"Loaded {file_name} → shape {df.shape}\")\n",
    "    return df\n",
    "\n",
    "def validate_columns(df: pd.DataFrame, required: Sequence[str]) -> pd.DataFrame:\n",
    "    missing = [col for col in required if col not in df.columns]\n",
    "    if missing:\n",
    "        raise ValueError(f\"Missing expected columns: {missing}\")\n",
    "    print(f\"Columns validated ✅ {list(required)}\")\n",
    "    return df\n",
    "\n",
    "def expect_rows_between(df: pd.DataFrame, lower: int, upper: int, label: str = \"rows\") -> pd.DataFrame:\n",
    "    n_rows = len(df)\n",
    "    if not (lower <= n_rows <= upper):\n",
    "        raise ValueError(\n",
    "            f\"Unexpected {label}: {n_rows} (expected between {lower} and {upper})\"\n",
    "        )\n",
    "    print(f\"{label.capitalize()} check ✅ {n_rows} (expected {lower}-{upper})\")\n",
    "    return df\n",
    "\n",
    "def quick_peek(df: pd.DataFrame, n: int = 5) -> pd.DataFrame:\n",
    "    \"\"\"Display a head preview and NA counts for formative assessment.\"\"\"\n",
    "    display(df.head(n))\n",
    "    print(\"Null values per column:\")\n",
    "    print(df.isna().sum())\n",
    "    return df\n",
    "\n",
    "def ensure_metadata(**metadata: str) -> None:\n",
    "    blanks = [key for key, value in metadata.items() if not str(value).strip()]\n",
    "    if blanks:\n",
    "        raise ValueError(f\"Please fill in metadata fields: {blanks}\")\n",
    "    print(\"Story metadata looks great ✅\")\n",
    "\n",
    "def annotate_source(ax: plt.Axes, *, source: str, units: str) -> plt.Axes:\n",
    "    ax.text(\n",
    "        0.0,\n",
    "        -0.22,\n",
    "        f\"Source: {source}\n",
    "Units: {units}\",\n",
    "        transform=ax.transAxes,\n",
    "        ha=\"left\",\n",
    "        fontsize=10,\n",
    "    )\n",
    "    return ax\n",
    "\n",
    "def _resolve_fig(fig: Any | None) -> Any:\n",
    "    if fig is not None:\n",
    "        return fig\n",
    "    if plt.get_fignums():\n",
    "        return plt.gcf()\n",
    "    return None\n",
    "\n",
    "def save_last_fig(fig: Any | None, filename: str) -> Path:\n",
    "    plots_dir = Path.cwd() / \"plots\"\n",
    "    plots_dir.mkdir(parents=True, exist_ok=True)\n",
    "    resolved = _resolve_fig(fig)\n",
    "    if resolved is None:\n",
    "        raise ValueError(\"No recent figure detected.\")\n",
    "\n",
    "    output_path = plots_dir / filename\n",
    "\n",
    "    if hasattr(resolved, \"savefig\"):\n",
    "        resolved.savefig(output_path, dpi=300, bbox_inches=\"tight\")\n",
    "        print(f\"Saved figure to {output_path}\")\n",
    "        return output_path\n",
    "\n",
    "    if hasattr(resolved, \"write_image\"):\n",
    "        try:\n",
    "            resolved.write_image(str(output_path))\n",
    "            print(f\"Saved figure to {output_path}\")\n",
    "            return output_path\n",
    "        except Exception as exc:\n",
    "            html_path = output_path.with_suffix(\".html\")\n",
    "            resolved.write_html(str(html_path))\n",
    "            print(f\"Saved interactive figure to {html_path} (fallback: {exc})\")\n",
    "            return html_path\n",
    "\n",
    "    raise ValueError(\"Don't know how to export this figure type.\")\n"
   ]
  },
  {
   "cell_type": "markdown",
   "id": "713a60f9",
   "metadata": {},
   "source": [
    "## 🔁 Loop 1 · Confirm the setup\n",
    "*Goal: Ensure pandas and Plotly are ready before data work begins.*"
   ]
  },
  {
   "cell_type": "code",
   "execution_count": null,
   "id": "1d066224",
   "metadata": {},
   "outputs": [],
   "source": [
    "import plotly.express as px\n",
    "ping_environment({\"pandas\": pd, \"plotly\": px})\n",
    "assert DATA_DIR.exists(), f\"Data directory missing: {DATA_DIR}\"\n",
    "print(f\"Data files available: {len(list(DATA_DIR.glob('*')))} items\")"
   ]
  },
  {
   "cell_type": "markdown",
   "id": "6924204b",
   "metadata": {},
   "source": [
    "## 🔁 Loop 2 · Load PM₂.₅ exposure data\n",
    "*Goal: Pull the air quality dataset and confirm expected structure.*"
   ]
  },
  {
   "cell_type": "code",
   "execution_count": null,
   "id": "ebbb2f04",
   "metadata": {},
   "outputs": [],
   "source": [
    "pm_raw = load_data(\"pm25_exposure.csv\")\n",
    "validate_columns(pm_raw, [\"Country Name\", \"Country Code\", \"2019\"])\n",
    "pm_2019 = pm_raw[[\"Country Name\", \"Country Code\", \"2019\"]].rename(columns={\"2019\": \"PM25\"})\n",
    "expect_rows_between(pm_2019, 180, 220, label=\"countries in PM dataset\")\n",
    "quick_peek(pm_2019.sample(5, random_state=0))\n"
   ]
  },
  {
   "cell_type": "markdown",
   "id": "121a063d",
   "metadata": {},
   "source": [
    "## 🔁 Loop 3 · Load GDP per capita data\n",
    "*Goal: Bring in the economic indicator with parallel checks.*"
   ]
  },
  {
   "cell_type": "code",
   "execution_count": null,
   "id": "6e4fd124",
   "metadata": {},
   "outputs": [],
   "source": [
    "gdp_raw = load_data(\"gdp_per_country.csv\")\n",
    "validate_columns(gdp_raw, [\"Country Name\", \"Country Code\", \"2019\"])\n",
    "gdp_2019 = gdp_raw[[\"Country Name\", \"Country Code\", \"2019\"]].rename(columns={\"2019\": \"GDP_per_capita\"})\n",
    "expect_rows_between(gdp_2019, 180, 220, label=\"countries in GDP dataset\")\n",
    "quick_peek(gdp_2019.sample(5, random_state=1))\n"
   ]
  },
  {
   "cell_type": "markdown",
   "id": "dec7d2d8",
   "metadata": {},
   "source": [
    "## 🔁 Loop 4 · Merge and diagnose the combined table\n",
    "*Goal: Join on shared identifiers, drop incomplete rows, and sanity-check ranges.*"
   ]
  },
  {
   "cell_type": "code",
   "execution_count": null,
   "id": "df1fe169",
   "metadata": {},
   "outputs": [],
   "source": [
    "combined = pm_2019.merge(gdp_2019, on=[\"Country Name\", \"Country Code\"], how=\"inner\")\n",
    "pre_drop = len(combined)\n",
    "combined = combined.dropna()\n",
    "print(f\"Dropped {pre_drop - len(combined)} rows with missing values.\")\n",
    "expect_rows_between(combined, 150, 220, label=\"countries with both metrics\")\n",
    "print(\"PM₂.₅ range:\", combined[\"PM25\"].min(), \"→\", combined[\"PM25\"].max())\n",
    "print(\"GDP per capita range:\", combined[\"GDP_per_capita\"].min(), \"→\", combined[\"GDP_per_capita\"].max())\n",
    "assert combined[\"GDP_per_capita\"].min() > 0, \"GDP per capita must be positive for log scale.\"\n",
    "combined_sorted = combined.sort_values(\"GDP_per_capita\")\n",
    "combined_sorted.head()\n"
   ]
  },
  {
   "cell_type": "markdown",
   "id": "2bd97e35",
   "metadata": {},
   "source": [
    "## 🔁 Loop 5 · Visualize with story-first metadata\n",
    "*Goal: Craft the Plotly scatter with subtitles, annotation, and accessible styling.*"
   ]
  },
  {
   "cell_type": "code",
   "execution_count": null,
   "id": "e1d4d513",
   "metadata": {},
   "outputs": [],
   "source": [
    "TITLE = \"Wealthier Nations Tend to Breathe Cleaner Air\"\n",
    "SUBTITLE = \"2019 PM₂.₅ exposure vs. GDP per capita (World Bank)\"\n",
    "ANNOTATION = \"Several oil-producing economies buck the trend—wealth does not guarantee clean air.\"\n",
    "SOURCE = \"World Bank Open Data (PM₂.₅ exposure & GDP per capita)\"\n",
    "UNITS = \"PM₂.₅ in µg/m³; GDP per capita in current US$\"\n",
    "\n",
    "ensure_metadata(TITLE=TITLE, SUBTITLE=SUBTITLE, ANNOTATION=ANNOTATION, SOURCE=SOURCE, UNITS=UNITS)\n",
    "\n",
    "fig = px.scatter(\n",
    "    combined,\n",
    "    x=\"GDP_per_capita\",\n",
    "    y=\"PM25\",\n",
    "    hover_name=\"Country Name\",\n",
    "    log_x=True,\n",
    "    color_discrete_sequence=[\"#2ca02c\"],\n",
    "    opacity=0.75,\n",
    ")\n",
    "fig.update_traces(marker=dict(size=9, line=dict(color=\"#ffffff\", width=0.5)))\n",
    "fig.update_layout(\n",
    "    title={\"text\": f\"{TITLE}<br><sup>{SUBTITLE}</sup>\", \"x\": 0.02, \"xanchor\": \"left\"},\n",
    "    xaxis_title=\"GDP per capita (log scale, US$)\",\n",
    "    yaxis_title=\"PM₂.₅ exposure (µg/m³)\",\n",
    "    template=\"plotly_white\",\n",
    "    hovermode=\"closest\",\n",
    ")\n",
    "fig.add_annotation(\n",
    "    text=ANNOTATION,\n",
    "    xref=\"paper\",\n",
    "    yref=\"paper\",\n",
    "    x=0.02,\n",
    "    y=0.98,\n",
    "    showarrow=False,\n",
    "    align=\"left\",\n",
    "    bgcolor=\"rgba(255,255,255,0.85)\",\n",
    "    bordercolor=\"#333333\",\n",
    "    borderwidth=1,\n",
    "    font=dict(size=12),\n",
    ")\n",
    "fig.add_annotation(\n",
    "    text=f\"Source: {SOURCE}<br>Units: {UNITS}\",\n",
    "    xref=\"paper\",\n",
    "    yref=\"paper\",\n",
    "    x=0.0,\n",
    "    y=-0.18,\n",
    "    showarrow=False,\n",
    "    align=\"left\",\n",
    "    font=dict(size=11, color=\"#444444\"),\n",
    ")\n",
    "fig.show()\n"
   ]
  },
  {
   "cell_type": "markdown",
   "id": "44561112",
   "metadata": {},
   "source": [
    "## 🔁 Loop 6 · Interpret and self-check\n",
    "*Goal: Quantify a comparison and surface an exception for discussion.*"
   ]
  },
  {
   "cell_type": "code",
   "execution_count": null,
   "id": "8cf42524",
   "metadata": {},
   "outputs": [],
   "source": [
    "low_income = combined[combined[\"GDP_per_capita\"] < 4000][\"PM25\"].mean()\n",
    "high_income = combined[combined[\"GDP_per_capita\"] > 40000][\"PM25\"].mean()\n",
    "ratio = low_income / high_income\n",
    "print(f\"Mean PM₂.₅ for < $4k GDP per capita: {low_income:.1f} µg/m³\")\n",
    "print(f\"Mean PM₂.₅ for > $40k GDP per capita: {high_income:.1f} µg/m³\")\n",
    "print(f\"Exposure ratio (low/high income): {ratio:.1f}×\")\n",
    "assert ratio > 2, \"Lower-income exposure should be at least twice as high on average.\"\n"
   ]
  },
  {
   "cell_type": "markdown",
   "id": "1e8dfbd4",
   "metadata": {},
   "source": [
    "### 🧾 Claim → Evidence → Visual → Takeaway (filled)\n",
    "- **Claim**: Economic development generally correlates with lower PM₂.₅ exposure.\n",
    "- **Evidence**: Average exposure among low-income countries is more than double that of high-income peers (see diagnostics above).\n",
    "- **Visual**: Log-scale scatter with annotation for exceptions and consistent metadata.\n",
    "- **Takeaway**: Policy decisions and fuel choices matter—wealth is helpful but not sufficient for clean air.\n",
    "\n",
    "> **Limitation prompt**: PM₂.₅ exposure is annual; seasonal spikes and within-country inequalities need separate analysis.\n",
    "\n",
    "---\n",
    "\n",
    "### 💾 Save your work\n",
    "Run the next cell to export the interactive figure reference.\n"
   ]
  },
  {
   "cell_type": "code",
   "execution_count": null,
   "id": "ced4a296",
   "metadata": {},
   "outputs": [],
   "source": [
    "save_last_fig(fig, \"day03_solution_plot.png\")"
   ]
  }
 ],
 "metadata": {
  "colab": {
   "authorship_tag": "ABX9TyMTSV6cG9E9j09m/wmwL+IH",
   "provenance": []
  },
  "kernelspec": {
   "display_name": "Python 3",
   "name": "python3"
  },
  "language_info": {
   "name": "python"
  }
 },
 "nbformat": 4,
 "nbformat_minor": 0
}
