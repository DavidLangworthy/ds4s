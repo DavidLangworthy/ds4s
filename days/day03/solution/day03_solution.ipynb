{
 "cells": [
  {
   "cell_type": "markdown",
   "id": "89299db2",
   "metadata": {},
   "source": [
    "## 🔗 Open This Notebook in Google Colab\n",
    "\n",
    "[![Open In Colab](https://colab.research.google.com/assets/colab-badge.svg)](https://colab.research.google.com/github/DavidLangworthy/ds4s/blob/master/Day%203%20%E2%80%93%20Pollution%20and%20Public%20Health.ipynb)"
   ]
  },
  {
   "cell_type": "markdown",
   "id": "1ff484ed",
   "metadata": {},
   "source": [
    "# 🌫️ Day 3 · Linking Pollution and Prosperity\n",
    "\n",
    "Today we practice pairing two datasets to explain a public-health risk. We'll move through focused rounds—load, join, inspect, and visualize—so you always know the next action."
   ]
  },
  {
   "cell_type": "markdown",
   "id": "b4c648ef",
   "metadata": {},
   "source": [
    "## 🗂️ Data Card · PM₂.₅ Exposure + GDP per Capita\n",
    "| Field | Details |\n",
    "| --- | --- |\n",
    "| Sources | [World Bank PM₂.₅ exposure](https://data.worldbank.org/indicator/EN.ATM.PM25.MC.M3) & [World Bank GDP per capita](https://data.worldbank.org/indicator/NY.GDP.PCAP.CD) |\n",
    "| Temporal coverage | 1990–2021 (PM₂.₅), 1960–2022 (GDP) |\n",
    "| Geographic scope | Countries & select regions |\n",
    "| Units | PM₂.₅: µg/m³ annual mean; GDP: current US dollars |\n",
    "| Update cadence | Annual |\n",
    "| Caveats | Missing data for small states; GDP in current USD ignores purchasing power; PM₂.₅ focuses on outdoor exposure. |\n",
    "| What this chart cannot show | Within-country inequality, other pollutants (ozone, NO₂), or causal mechanisms. Pair with policy case studies for nuance. |"
   ]
  },
  {
   "cell_type": "code",
   "execution_count": null,
   "id": "5bb48983",
   "metadata": {},
   "outputs": [],
   "source": [
    "# 🔁 Shared scaffolds used across DS4S notebooks\n",
    "from __future__ import annotations\n",
    "\n",
    "import warnings\n",
    "from pathlib import Path\n",
    "\n",
    "import matplotlib.pyplot as plt\n",
    "import numpy as np\n",
    "import pandas as pd\n",
    "\n",
    "plt.rcParams.update({\n",
    "    \"figure.dpi\": 120,\n",
    "    \"axes.facecolor\": \"#f8f9fb\",\n",
    "    \"axes.grid\": True,\n",
    "    \"grid.alpha\": 0.25,\n",
    "    \"grid.linestyle\": \"--\",\n",
    "    \"axes.titlesize\": 18,\n",
    "    \"axes.labelsize\": 12,\n",
    "    \"axes.titleweight\": \"bold\",\n",
    "    \"legend.frameon\": False,\n",
    "    \"legend.fontsize\": 11,\n",
    "    \"font.family\": \"DejaVu Sans\",\n",
    "})\n",
    "\n",
    "def quick_diagnostics(df: pd.DataFrame, dataset_name: str, *, expected_columns: list[str] | None = None, expected_rows: tuple[int, int] | None = None) -> None:\n",
    "    \"\"\"Print lightweight diagnostics without stopping execution.\"\"\"\n",
    "    print(f\"\\n🔍 {dataset_name}\")\n",
    "    print(f\"Shape: {df.shape}\")\n",
    "    print(f\"Columns: {list(df.columns)}\")\n",
    "    if expected_columns is not None:\n",
    "        missing = [col for col in expected_columns if col not in df.columns]\n",
    "        if missing:\n",
    "            warnings.warn(f\"Missing expected columns: {missing}\")\n",
    "    if expected_rows is not None:\n",
    "        low, high = expected_rows\n",
    "        if not (low <= len(df) <= high):\n",
    "            warnings.warn(f\"Row count {len(df)} outside expected range {expected_rows}\")\n",
    "        else:\n",
    "            print(f\"Row count within expected range {expected_rows}.\")\n",
    "    print(\"Null counts:\")\n",
    "    print(df.isna().sum())\n",
    "    print(\"Preview:\")\n",
    "    print(df.head())\n",
    "    print(\"-\" * 60)\n",
    "\n",
    "def expect_value_range(series: pd.Series, *, lower: float | None = None, upper: float | None = None, context: str = \"\") -> None:\n",
    "    \"\"\"Warn when values fall outside an expected numeric window.\"\"\"\n",
    "    label = context or series.name or \"series\"\n",
    "    if lower is not None and float(series.min()) < lower:\n",
    "        warnings.warn(f\"{label}: minimum {series.min():.3f} is below expected {lower}\")\n",
    "    if upper is not None and float(series.max()) > upper:\n",
    "        warnings.warn(f\"{label}: maximum {series.max():.3f} is above expected {upper}\")\n",
    "    print(f\"{label}: {series.min():.3f} → {series.max():.3f}\")\n",
    "\n",
    "def validate_story_elements(*, title: str, subtitle: str, annotation: str, source: str, units: str) -> None:\n",
    "    \"\"\"Confirm the storytelling scaffold is filled before plotting.\"\"\"\n",
    "    elements = {\n",
    "        \"TITLE\": title,\n",
    "        \"SUBTITLE\": subtitle,\n",
    "        \"ANNOTATION\": annotation,\n",
    "        \"SOURCE\": source,\n",
    "        \"UNITS\": units,\n",
    "    }\n",
    "    missing = [key for key, value in elements.items() if not str(value).strip()]\n",
    "    if missing:\n",
    "        warnings.warn(f\"Please fill these storytelling fields: {', '.join(missing)}\")\n",
    "    else:\n",
    "        print(\"👍 Story scaffold complete.\")\n",
    "\n",
    "def baseline_style(ax: plt.Axes | None = None) -> plt.Axes:\n",
    "    \"\"\"Standardise axes styling for consistency across notebooks.\"\"\"\n",
    "    ax = ax or plt.gca()\n",
    "    for spine in [\"top\", \"right\"]:\n",
    "        ax.spines[spine].set_visible(False)\n",
    "    ax.set_facecolor(\"#ffffff\")\n",
    "    return ax\n",
    "\n",
    "def save_last_visual(fig, filename: str, *, subfolder: str = \"plots\") -> None:\n",
    "    \"\"\"Persist the most recent Matplotlib or Plotly figure without failing the run.\"\"\"\n",
    "    plots_dir = Path.cwd() / subfolder\n",
    "    plots_dir.mkdir(parents=True, exist_ok=True)\n",
    "    output_path = plots_dir / filename\n",
    "    try:\n",
    "        if hasattr(fig, \"write_image\"):\n",
    "            fig.write_image(str(output_path))\n",
    "        elif hasattr(fig, \"savefig\"):\n",
    "            fig.savefig(output_path, dpi=300, bbox_inches=\"tight\")\n",
    "        else:\n",
    "            warnings.warn(\"Figure type not supported for export; skipping save.\")\n",
    "            return\n",
    "        print(f\"Saved visual to {output_path}\")\n",
    "    except Exception as exc:\n",
    "        warnings.warn(f\"Plot export skipped: {exc}\")\n"
   ]
  },
  {
   "cell_type": "markdown",
   "id": "f892f3e2",
   "metadata": {},
   "source": [
    "## Step 1 · Load both World Bank tables\n",
    "Read the wide-format CSVs and verify they contain the year columns we expect."
   ]
  },
  {
   "cell_type": "code",
   "execution_count": null,
   "id": "dd2325d7",
   "metadata": {},
   "outputs": [],
   "source": [
    "data_dir = Path.cwd() / \"data\"\n",
    "df_pm = pd.read_csv(data_dir / \"pm25_exposure.csv\")\n",
    "df_gdp = pd.read_csv(data_dir / \"gdp_per_country.csv\")\n",
    "\n",
    "quick_diagnostics(\n",
    "    df_pm,\n",
    "    \"PM2.5 exposure (wide)\",\n",
    "    expected_columns=[\"Country Name\", \"Country Code\"],\n",
    "    expected_rows=(200, 250),\n",
    ")\n",
    "quick_diagnostics(\n",
    "    df_gdp,\n",
    "    \"GDP per capita (wide)\",\n",
    "    expected_columns=[\"Country Name\", \"Country Code\"],\n",
    "    expected_rows=(250, 300),\n",
    ")\n"
   ]
  },
  {
   "cell_type": "markdown",
   "id": "1d3c08e7",
   "metadata": {},
   "source": [
    "## Step 2 · Slice a single year and join\n",
    "Select the latest shared year, rename columns, and perform an inner join to keep countries with both metrics."
   ]
  },
  {
   "cell_type": "code",
   "execution_count": null,
   "id": "b9b2e1ed",
   "metadata": {},
   "outputs": [],
   "source": [
    "TARGET_YEAR = 2019\n",
    "\n",
    "pm_year = df_pm[[\"Country Name\", \"Country Code\", str(TARGET_YEAR)]].rename(columns={str(TARGET_YEAR): \"PM25\"})\n",
    "gdp_year = df_gdp[[\"Country Name\", \"Country Code\", str(TARGET_YEAR)]].rename(columns={str(TARGET_YEAR): \"GDP_per_capita\"})\n",
    "\n",
    "quick_diagnostics(\n",
    "    pm_year,\n",
    "    f\"PM2.5 in {TARGET_YEAR}\",\n",
    "    expected_columns=[\"Country Name\", \"Country Code\", \"PM25\"],\n",
    "    expected_rows=(200, 250),\n",
    ")\n",
    "quick_diagnostics(\n",
    "    gdp_year,\n",
    "    f\"GDP per capita in {TARGET_YEAR}\",\n",
    "    expected_columns=[\"Country Name\", \"Country Code\", \"GDP_per_capita\"],\n",
    "    expected_rows=(200, 250),\n",
    ")\n",
    "\n",
    "df_merge = pm_year.merge(gdp_year, on=[\"Country Name\", \"Country Code\"], how=\"inner\").dropna()\n",
    "quick_diagnostics(\n",
    "    df_merge,\n",
    "    f\"Merged PM2.5 + GDP in {TARGET_YEAR}\",\n",
    "    expected_columns=[\"Country Name\", \"Country Code\", \"PM25\", \"GDP_per_capita\"],\n",
    "    expected_rows=(180, 230),\n",
    ")\n"
   ]
  },
  {
   "cell_type": "markdown",
   "id": "8e26f1f5",
   "metadata": {},
   "source": [
    "## Step 3 · Run quick health checks\n",
    "Before plotting, inspect ranges and highlight a few outliers so you know what story points to amplify."
   ]
  },
  {
   "cell_type": "code",
   "execution_count": null,
   "id": "c139a376",
   "metadata": {},
   "outputs": [],
   "source": [
    "expect_value_range(df_merge[\"PM25\"], lower=0, upper=120, context=\"PM2.5 (µg/m³)\")\n",
    "expect_value_range(df_merge[\"GDP_per_capita\"], lower=100, upper=150000, context=\"GDP per capita (USD)\")\n",
    "\n",
    "print(df_merge.sort_values(\"PM25\", ascending=False).head())\n",
    "print(df_merge.sort_values(\"PM25\").head())\n"
   ]
  },
  {
   "cell_type": "markdown",
   "id": "00ddca20",
   "metadata": {},
   "source": [
    "### Expected trend preview\n",
    "Higher-income countries typically meet WHO guidelines, while many lower-income nations face hazardous air. Compare your scatter to this preview."
   ]
  },
  {
   "cell_type": "markdown",
   "id": "121b9842",
   "metadata": {},
   "source": [
    "![Preview of the finished chart](../../../plots/day03_solution_plot.png)"
   ]
  },
  {
   "cell_type": "markdown",
   "id": "3313ed29",
   "metadata": {},
   "source": [
    "## Step 4 · Build the interactive story\n",
    "Use Plotly Express to create a log-scale scatter. Add the WHO guideline line and a narrative annotation so the takeaway is explicit."
   ]
  },
  {
   "cell_type": "code",
   "execution_count": null,
   "id": "6b831fdc",
   "metadata": {},
   "outputs": [],
   "source": [
    "import plotly.express as px\n",
    "\n",
    "TITLE = \"Economic gains correlate with cleaner air, but not for everyone\"\n",
    "SUBTITLE = \"PM₂.₅ exposure vs. GDP per capita (log scale), {TARGET_YEAR}\".format(TARGET_YEAR=TARGET_YEAR)\n",
    "ANNOTATION = \"Wealthier countries cluster below the WHO guideline; many low-income nations breathe 6× that level.\"\n",
    "SOURCE = \"Source: World Bank PM₂.₅ exposure & GDP per capita (downloaded 2025-01-05)\"\n",
    "UNITS = \"PM₂.₅ annual mean exposure (µg/m³)\"\n",
    "\n",
    "validate_story_elements(\n",
    "    title=TITLE,\n",
    "    subtitle=SUBTITLE,\n",
    "    annotation=ANNOTATION,\n",
    "    source=SOURCE,\n",
    "    units=UNITS,\n",
    ")\n",
    "\n",
    "who_guideline = 5\n",
    "\n",
    "fig_pollution = px.scatter(\n",
    "    df_merge,\n",
    "    x=\"GDP_per_capita\",\n",
    "    y=\"PM25\",\n",
    "    hover_name=\"Country Name\",\n",
    "    color=\"PM25\",\n",
    "    size=\"PM25\",\n",
    "    size_max=40,\n",
    "    color_continuous_scale=\"Viridis\",\n",
    "    template=\"plotly_white\",\n",
    ")\n",
    "\n",
    "fig_pollution.update_traces(\n",
    "    marker=dict(opacity=0.75, line=dict(color=\"#333333\", width=0.5))\n",
    ")\n",
    "\n",
    "fig_pollution.update_layout(\n",
    "    title=dict(text=f\"{TITLE}<br><sup>{SUBTITLE}</sup>\", x=0, font=dict(size=22)),\n",
    "    xaxis=dict(\n",
    "        title=\"GDP per capita (current US$)\",\n",
    "        type=\"log\",\n",
    "        tickformat=\"$~s\",\n",
    "    ),\n",
    "    yaxis=dict(title=UNITS),\n",
    "    coloraxis_colorbar=dict(title=UNITS),\n",
    "    margin=dict(l=40, r=40, t=100, b=60),\n",
    ")\n",
    "\n",
    "fig_pollution.add_hline(\n",
    "    y=who_guideline,\n",
    "    line_dash=\"dash\",\n",
    "    line_color=\"#ef553b\",\n",
    "    annotation_text=\"WHO guideline (5 µg/m³)\",\n",
    "    annotation_position=\"top left\",\n",
    "    annotation_font=dict(size=12, color=\"#ef553b\"),\n",
    ")\n",
    "\n",
    "fig_pollution.add_annotation(\n",
    "    xref=\"paper\",\n",
    "    yref=\"paper\",\n",
    "    x=0.02,\n",
    "    y=-0.23,\n",
    "    text=f\"{ANNOTATION}<br>{SOURCE} · Units: {UNITS}\",\n",
    "    showarrow=False,\n",
    "    font=dict(size=12, color=\"#555555\"),\n",
    "    align=\"left\",\n",
    ")\n",
    "\n",
    "fig_pollution.show()\n"
   ]
  },
  {
   "cell_type": "code",
   "execution_count": null,
   "id": "4506a7b7",
   "metadata": {},
   "outputs": [],
   "source": [
    "save_last_visual(fig_pollution, \"day03_solution_plot.png\")"
   ]
  },
  {
   "cell_type": "markdown",
   "id": "9685d6e4",
   "metadata": {},
   "source": [
    "## 🔍 Reflection & limitations\n",
    "- This scatter does not prove causation—economic development can both reduce and increase pollution depending on policy.\n",
    "- Encourage discussion about indoor air quality, wildfire smoke, and monitoring coverage, none of which appear here.\n",
    "- Ask students to draft a short caption using the Claim → Evidence → Visual → Takeaway scaffold."
   ]
  }
 ],
 "metadata": {
  "colab": {
   "provenance": []
  },
  "kernelspec": {
   "display_name": "Python 3",
   "name": "python3"
  },
  "language_info": {
   "name": "python"
  }
 },
 "nbformat": 4,
 "nbformat_minor": 5
}
