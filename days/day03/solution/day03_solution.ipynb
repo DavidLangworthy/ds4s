{
 "cells": [
  {
   "cell_type": "markdown",
   "id": "4a19dba1",
   "metadata": {},
   "source": [
    "## 🔗 Open This Notebook in Google Colab\n",
    "\n",
    "[![Open In Colab](https://colab.research.google.com/assets/colab-badge.svg)](https://colab.research.google.com/github/DavidLangworthy/ds4s/blob/master/Day%203_%20Air%20Quality%20%26%20Health.ipynb)"
   ]
  },
  {
   "cell_type": "markdown",
   "id": "c734d674",
   "metadata": {},
   "source": [
    "# 😷 Day 3 – Air Quality, Health, and Wealth\n",
    "\n",
    "Today we connect economic development to air pollution exposure. Students learn to **join datasets**, work in tidy long form, and build an interactive scatterplot that foregrounds uncertainty and ethical interpretation."
   ]
  },
  {
   "cell_type": "markdown",
   "id": "922a8073",
   "metadata": {},
   "source": [
    "> **Teacher sidebar — pacing & differentiation**  \n",
    "> • Timing: ~50 minutes.  \n",
    "> • Suggested checkpoints: after the join (ensure row counts align) and after the log-axis plot (check for math errors).  \n",
    "> • Stretch ideas: compute regional medians, add WHO guideline reference lines, or capture country annotations for storytelling practice.\n",
    "\n",
    "## 🗺️ Roadmap for Today\n",
    "\n",
    "Loop | Focus | What success looks like\n",
    "--- | --- | ---\n",
    "0 | Story scaffold | Claim + annotation drafted\n",
    "1 | Load slices | 2019 PM₂.₅ + GDP columns isolated\n",
    "2 | Join & clean | Nulls handled, units clarified\n",
    "3 | Diagnostics | Shape, ranges, correlations checked\n",
    "4 | Visualize & interpret | Interactive scatter with log x-axis + ethics discussion"
   ]
  },
  {
   "cell_type": "markdown",
   "id": "504eb522",
   "metadata": {},
   "source": [
    "## 🗂️ Data Cards — World Bank Air Quality & GDP\n",
    "\n",
    "- **PM₂.₅ exposure**: World Bank World Development Indicators (indicator EN.ATM.PM25.MC.M3), mean population-weighted annual exposure.  \n",
    "- **GDP per capita**: World Bank WDI (indicator NY.GDP.PCAP.CD), constant 2015 USD.  \n",
    "- **Temporal coverage**: 1990 – 2023 (annual).  \n",
    "- **Units**: PM₂.₅ in micrograms per cubic meter (µg/m³); GDP per capita in USD.  \n",
    "- **Method notes**: PM₂.₅ estimates blend satellite retrievals with ground stations; GDP values are inflation-adjusted.  \n",
    "- **Caveats**: Missing data for small states; pollution exposure within countries is uneven.  \n",
    "- **Update cadence**: Annual (usually September).\n",
    "\n",
    "> 🎯 **Integrity cue**: Avoid implying causation. Highlight that income correlates with cleaner air, but policy, geography, and industrial mix mediate the relationship."
   ]
  },
  {
   "cell_type": "code",
   "execution_count": null,
   "id": "4f5f32c3",
   "metadata": {},
   "outputs": [],
   "source": [
    "# Shared utilities for the DS4S course notebooks\n",
    "        from pathlib import Path\n",
    "        import pandas as pd\n",
    "        import numpy as np\n",
    "        import matplotlib.pyplot as plt\n",
    "        from IPython.display import display\n",
    "        import plotly.express as px\n",
    "\n",
    "        plt.style.use('seaborn-v0_8-whitegrid')\n",
    "        plt.rcParams.update({\n",
    "            'figure.dpi': 120,\n",
    "            'axes.titlesize': 16,\n",
    "            'axes.labelsize': 13,\n",
    "            'axes.titlepad': 12,\n",
    "            'figure.figsize': (10, 5),\n",
    "        })\n",
    "\n",
    "\n",
    "        def load_csv(path: Path, **read_kwargs) -> pd.DataFrame:\n",
    "            '''Load a CSV and report the basic shape.'''\n",
    "            df = pd.read_csv(path, **read_kwargs)\n",
    "            print(f\"✅ Loaded {path.name} with {df.shape[0]:,} rows and {df.shape[1]} columns\")\n",
    "            return df\n",
    "\n",
    "\n",
    "        def validate_columns(df: pd.DataFrame, required):\n",
    "            missing = [col for col in required if col not in df.columns]\n",
    "            if missing:\n",
    "                raise ValueError(f\"Missing columns: {missing}\")\n",
    "            print(f\"✅ Columns present: {', '.join(required)}\")\n",
    "\n",
    "\n",
    "        def expect_rows_between(df: pd.DataFrame, low: int, high: int):\n",
    "            rows = df.shape[0]\n",
    "            if not (low <= rows <= high):\n",
    "                raise ValueError(f\"Row count {rows} outside expected range {low}-{high}\")\n",
    "            print(f\"✅ Row count {rows} within expected {low}-{high}\")\n",
    "\n",
    "\n",
    "        def quick_snapshot(df: pd.DataFrame, name: str, n: int = 3):\n",
    "            print(f\"\n",
    "{name} snapshot → shape={df.shape}\")\n",
    "            print(\"Columns:\", list(df.columns))\n",
    "            print(\"Nulls:\n",
    "\", df.isna().sum())\n",
    "            display(df.head(n))\n",
    "\n",
    "\n",
    "        def ensure_story_elements(title: str, subtitle: str, annotation: str, source: str, units: str):\n",
    "            fields = {\n",
    "                'TITLE': title,\n",
    "                'SUBTITLE': subtitle,\n",
    "                'ANNOTATION': annotation,\n",
    "                'SOURCE': source,\n",
    "                'UNITS': units,\n",
    "            }\n",
    "            missing = [key for key, value in fields.items() if not str(value).strip()]\n",
    "            if missing:\n",
    "                raise ValueError(f\"Please complete these storytelling fields: {', '.join(missing)}\")\n",
    "            print(\"✅ Story scaffold complete →\", \", \".join(f\"{k}: {v}\" for k, v in fields.items()))\n",
    "            return fields\n",
    "\n",
    "\n",
    "        def save_last_fig(filename: str):\n",
    "            plots_dir = Path.cwd() / \"plots\"\n",
    "            plots_dir.mkdir(parents=True, exist_ok=True)\n",
    "            fig = plt.gcf()\n",
    "            if not fig.axes:\n",
    "                raise RuntimeError(\"Run the plotting cell before saving.\")\n",
    "            output_path = plots_dir / filename\n",
    "            fig.savefig(output_path, dpi=300, bbox_inches='tight')\n",
    "            print(f\"📁 Saved figure to {output_path}\")\n",
    "\n",
    "\n",
    "        def save_plotly_fig(fig, filename: str):\n",
    "            plots_dir = Path.cwd() / \"plots\"\n",
    "            plots_dir.mkdir(parents=True, exist_ok=True)\n",
    "            output_path = plots_dir / filename\n",
    "            fig.write_html(str(output_path))\n",
    "            print(f\"📁 Saved interactive figure to {output_path}\")"
   ]
  },
  {
   "cell_type": "markdown",
   "id": "a41e297d",
   "metadata": {},
   "source": [
    "## 🔁 Loop 0 — Story scaffold (3 min)"
   ]
  },
  {
   "cell_type": "code",
   "execution_count": null,
   "id": "660ff7a5",
   "metadata": {},
   "outputs": [],
   "source": [
    "TITLE = \"Wealthier Countries Breathe Cleaner Air\"\n",
    "SUBTITLE = \"PM₂.₅ exposure vs GDP per capita (2019)\"\n",
    "ANNOTATION = \"WHO guideline: keep annual PM₂.₅ under 10 µg/m³ — only a few countries achieve it.\"\n",
    "SOURCE = \"World Bank WDI (EN.ATM.PM25.MC.M3 & NY.GDP.PCAP.CD, downloaded 2024)\"\n",
    "UNITS = \"PM₂.₅ (µg/m³) vs GDP per capita (2015 USD)\"\n",
    "\n",
    "story_fields = ensure_story_elements(TITLE, SUBTITLE, ANNOTATION, SOURCE, UNITS)"
   ]
  },
  {
   "cell_type": "markdown",
   "id": "1a750a99",
   "metadata": {},
   "source": [
    "## 🔁 Loop 1 — Load the 2019 slices (8 min)\n",
    "\n",
    "Focus on a single, recent year to keep the story tight. Extract the columns we need and validate shapes."
   ]
  },
  {
   "cell_type": "code",
   "execution_count": null,
   "id": "7142d252",
   "metadata": {},
   "outputs": [],
   "source": [
    "data_dir = Path.cwd() / \"data\"\n",
    "pm25 = load_csv(data_dir / \"pm25_exposure.csv\")\n",
    "gdp = load_csv(data_dir / \"gdp_per_country.csv\")\n",
    "\n",
    "required_cols = [\"Country Name\", \"Country Code\", \"2019\"]\n",
    "validate_columns(pm25, required_cols + [\"Indicator Name\", \"Indicator Code\"])\n",
    "validate_columns(gdp, required_cols + [\"Indicator Name\", \"Indicator Code\"])\n",
    "\n",
    "pm2019 = pm25[required_cols].rename(columns={\"2019\": \"PM25\"})\n",
    "gdp2019 = gdp[required_cols].rename(columns={\"2019\": \"GDP_per_capita\"})\n",
    "expect_rows_between(pm2019.dropna().reset_index(drop=True), 200, 250)"
   ]
  },
  {
   "cell_type": "code",
   "execution_count": null,
   "id": "8e5ab417",
   "metadata": {},
   "outputs": [],
   "source": [
    "quick_snapshot(pm2019.head(), name=\"PM₂.₅ 2019 (head)\")\n",
    "quick_snapshot(gdp2019.head(), name=\"GDP per capita 2019 (head)\")"
   ]
  },
  {
   "cell_type": "markdown",
   "id": "47fbb61b",
   "metadata": {},
   "source": [
    "## 🔁 Loop 2 — Join and clean (8 min)\n",
    "\n",
    "Merge on country code, drop nulls, and compute helper columns for storytelling (e.g., income groups via quantiles)."
   ]
  },
  {
   "cell_type": "code",
   "execution_count": null,
   "id": "7db09c72",
   "metadata": {},
   "outputs": [],
   "source": [
    "merged = (\n",
    "    pm2019.merge(gdp2019, on=[\"Country Name\", \"Country Code\"], how=\"inner\")\n",
    "    .dropna(subset=[\"PM25\", \"GDP_per_capita\"])\n",
    ")\n",
    "merged[\"GDP_per_capita\"] = pd.to_numeric(merged[\"GDP_per_capita\"], errors=\"coerce\")\n",
    "merged[\"PM25\"] = pd.to_numeric(merged[\"PM25\"], errors=\"coerce\")\n",
    "merged = merged.dropna(subset=[\"PM25\", \"GDP_per_capita\"])  # second pass after coercion\n",
    "merged = merged.loc[(merged[\"PM25\"] > 0) & (merged[\"GDP_per_capita\"] > 0)]\n",
    "merged[\"IncomeGroup\"] = pd.qcut(merged[\"GDP_per_capita\"], q=4, labels=[\"Q1 Lowest\", \"Q2\", \"Q3\", \"Q4 Highest\"])\n",
    "quick_snapshot(merged.sample(5, random_state=42), name=\"Merged sample\")\n",
    "print(\"Countries retained:\", merged.shape[0])"
   ]
  },
  {
   "cell_type": "markdown",
   "id": "6453485b",
   "metadata": {},
   "source": [
    "## 🔁 Loop 3 — Diagnostics (6 min)\n",
    "\n",
    "Check distributions and correlations to anticipate the story your scatterplot will show."
   ]
  },
  {
   "cell_type": "code",
   "execution_count": null,
   "id": "303e9c01",
   "metadata": {},
   "outputs": [],
   "source": [
    "summary = merged[[\"PM25\", \"GDP_per_capita\"]].describe(percentiles=[0.25, 0.5, 0.75])\n",
    "print(summary)\n",
    "correlation = merged[\"PM25\"].corr(merged[\"GDP_per_capita\"], method=\"spearman\")\n",
    "print(\"Spearman correlation (PM₂.₅ vs GDP): {:.2f}\".format(correlation))"
   ]
  },
  {
   "cell_type": "markdown",
   "id": "5bffb4f7",
   "metadata": {},
   "source": [
    "## 🔁 Loop 4 — Visualize & interpret (12 min)\n",
    "\n",
    "Build an interactive scatterplot with log-scaled GDP, WHO guideline reference, and annotations for contrasting cases."
   ]
  },
  {
   "cell_type": "code",
   "execution_count": null,
   "id": "76dbe100",
   "metadata": {},
   "outputs": [],
   "source": [
    "fig = px.scatter(\n",
    "    merged,\n",
    "    x=\"GDP_per_capita\",\n",
    "    y=\"PM25\",\n",
    "    color=\"IncomeGroup\",\n",
    "    hover_name=\"Country Name\",\n",
    "    color_discrete_sequence=px.colors.qualitative.Safe,\n",
    "    labels={\"GDP_per_capita\": \"GDP per Capita (2015 USD, log scale)\", \"PM25\": \"PM₂.₅ Exposure (µg/m³)\"},\n",
    ")\n",
    "fig.update_traces(marker=dict(size=9, opacity=0.75, line=dict(width=0.5, color=\"white\")))\n",
    "fig.update_layout(\n",
    "    title=dict(text=f\"{TITLE}<br><sup>{SUBTITLE}</sup>\", x=0.05),\n",
    "    legend_title_text=\"Income quartile (2019)\",\n",
    "    template=\"plotly_white\",\n",
    ")\n",
    "fig.update_xaxes(type=\"log\", ticks=\"outside\", showgrid=True)\n",
    "fig.add_hline(y=10, line_dash=\"dash\", line_color=\"#d62728\", annotation_text=\"WHO guideline (10 µg/m³)\")\n",
    "clean_case = merged.nsmallest(1, \"PM25\").iloc[0]\n",
    "fig.add_annotation(\n",
    "    x=clean_case[\"GDP_per_capita\"],\n",
    "    y=clean_case[\"PM25\"],\n",
    "    text=f\"{clean_case['Country Name']}: {clean_case['PM25']:.1f} µg/m³\",\n",
    "    showarrow=True,\n",
    "    arrowhead=2,\n",
    "    ax=40,\n",
    "    ay=-40,\n",
    ")\n",
    "fig.add_annotation(\n",
    "    x=merged.nlargest(1, \"PM25\")[\"GDP_per_capita\"].iloc[0],\n",
    "    y=merged[\"PM25\"].max(),\n",
    "    text=\"High exposure despite growth\",\n",
    "    showarrow=True,\n",
    "    arrowhead=2,\n",
    "    ax=-60,\n",
    "    ay=40,\n",
    ")\n",
    "fig.update_layout(margin=dict(l=40, r=40, t=90, b=50))\n",
    "fig"
   ]
  },
  {
   "cell_type": "code",
   "execution_count": null,
   "id": "3705f830",
   "metadata": {},
   "outputs": [],
   "source": [
    "print(\"Scatter points rendered:\", len(fig.data[0]['x']))\n",
    "assert len(fig.data[0]['x']) == merged.shape[0]"
   ]
  },
  {
   "cell_type": "code",
   "execution_count": null,
   "id": "97b58c76",
   "metadata": {},
   "outputs": [],
   "source": [
    "from IPython.display import Markdown\n",
    "\n",
    "claim = \"Economic growth often coincides with cleaner air, but outliers reveal policy gaps.\"\n",
    "evidence = (\n",
    "    \"GDP per capita and PM₂.₅ exposure show a negative correlation (Spearman ≈ {:.2f}). Many low-income countries exceed the WHO guideline.\".format(correlation)\n",
    ")\n",
    "visual = \"Plotly scatter with log-scaled GDP, WHO guideline line, and annotated outliers.\"\n",
    "takeaway = \"Use visuals to discuss equity: who can afford pollution controls, and whose lungs pay the price?\"\n",
    "Markdown(\n",
    "    f\"\"\"\n",
    "| Claim | Evidence | Visual | Takeaway |\n",
    "| --- | --- | --- | --- |\n",
    "| {claim} | {evidence} | {visual} | {takeaway} |\n",
    "\"\"\"\n",
    ")"
   ]
  },
  {
   "cell_type": "markdown",
   "id": "5261191e",
   "metadata": {},
   "source": [
    "## 💾 Save the figure for the teacher dashboard"
   ]
  },
  {
   "cell_type": "code",
   "execution_count": null,
   "id": "c88eb14b",
   "metadata": {},
   "outputs": [],
   "source": [
    "save_plotly_fig(fig, \"day03_solution_plot.html\")"
   ]
  },
  {
   "cell_type": "markdown",
   "id": "785f751a",
   "metadata": {},
   "source": [
    "## ✅ Exit Ticket\n",
    "\n",
    "- Which country surprised you on the chart and why?  \n",
    "- How would you explain the log scale to a classmate?  \n",
    "- What additional data would help you argue for cleaner air policies?"
   ]
  }
 ],
 "metadata": {},
 "nbformat": 4,
 "nbformat_minor": 5
}