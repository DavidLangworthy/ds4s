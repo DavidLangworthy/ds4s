{
 "cells": [
  {
   "cell_type": "markdown",
   "id": "8ac6c77a",
   "metadata": {},
   "source": [
    "## 🔗 Open This Notebook in Google Colab\n",
    "\n",
    "[![Open In Colab](https://colab.research.google.com/assets/colab-badge.svg)](https://colab.research.google.com/github/DavidLangworthy/ds4s/blob/master/days/day03/notebook/day03_starter.ipynb)"
   ]
  },
  {
   "cell_type": "markdown",
   "id": "4353e20b",
   "metadata": {},
   "source": [
    "# 🌫️ Day 3 – Pollution, Prosperity, and Public Health\n",
    "We will continue the learn–do cadence: inspect, transform, visualise, reflect. This time the goal is an interactive bubble chart that helps explain why clean air remains unequal."
   ]
  },
  {
   "cell_type": "markdown",
   "id": "08bcec14",
   "metadata": {},
   "source": [
    "## 🗂️ Data Card: PM₂.₅ Exposure + GDP per Capita\n",
    "- **Source:** World Bank World Development Indicators (downloaded Nov 2024).\n",
    "- **Temporal coverage:** Annual indicators, 1990–2023; we focus on 2019 for a pre-pandemic snapshot.\n",
    "- **Units:** PM₂.₅ in µg/m³ (population-weighted exposure); GDP per capita in current USD.\n",
    "- **Last updated:** October 2024 release.\n",
    "- **Method notes:** Country-level statistics harmonised with ISO-3 codes; gapminder metadata supplies continent groupings and approximate population for bubble sizing.\n",
    "- **Caveats:** Aggregated regions and territories appear in the raw files — filter to true ISO-3 countries. GDP per capita in current USD is not PPP-adjusted.\n",
    "- **Integrity prompt:** What story could be lost if you plot on a linear x-axis? Why might log-scaling be more responsible here?"
   ]
  },
  {
   "cell_type": "markdown",
   "id": "1fb890f0",
   "metadata": {},
   "source": [
    "## Story Scaffold Reminder\n",
    "- **Claim:** Which relationship between wealth and air quality are you highlighting?\n",
    "- **Evidence:** Which clusters or outliers support that claim?\n",
    "- **Visual:** How do scale choices, hover text, and colour reinforce clarity?\n",
    "- **Takeaway:** Draft the public-health message you want readers to remember."
   ]
  },
  {
   "cell_type": "markdown",
   "id": "9d79796f",
   "metadata": {},
   "source": [
    "## Step 0 · Imports"
   ]
  },
  {
   "cell_type": "code",
   "execution_count": null,
   "id": "ef4e6295",
   "metadata": {},
   "outputs": [],
   "source": [
    "from pathlib import Path\n",
    "\n",
    "import pandas as pd\n",
    "import plotly.express as px\n",
    "\n",
    "from days.utils import (\n",
    "    check_story_metadata,\n",
    "    load_data,\n",
    "    plots_directory,\n",
    "    quick_diagnostics,\n",
    ")"
   ]
  },
  {
   "cell_type": "markdown",
   "id": "9ba9b5f3",
   "metadata": {},
   "source": [
    "## Step 1 · Load 2019 indicators\n",
    "Slice both datasets to a single analysis year so each row represents a comparable snapshot."
   ]
  },
  {
   "cell_type": "code",
   "execution_count": null,
   "id": "bc022751",
   "metadata": {},
   "outputs": [],
   "source": [
    "YEAR = \"2019\"\n",
    "pm = load_data(\"data/pm25_exposure.csv\")\n",
    "gdp = load_data(\"data/gdp_per_country.csv\")\n",
    "\n",
    "pm_year = pm[[\"Country Name\", \"Country Code\", YEAR]].rename(columns={YEAR: \"PM25\"})\n",
    "gdp_year = gdp[[\"Country Name\", \"Country Code\", YEAR]].rename(columns={YEAR: \"GDP_per_capita\"})\n",
    "\n",
    "merged = pd.merge(pm_year, gdp_year, on=[\"Country Name\", \"Country Code\"], how=\"inner\")\n",
    "merged = merged.dropna(subset=[\"PM25\", \"GDP_per_capita\"])"
   ]
  },
  {
   "cell_type": "code",
   "execution_count": null,
   "id": "08354258",
   "metadata": {},
   "outputs": [],
   "source": [
    "quick_diagnostics(\n",
    "    merged,\n",
    "    expected_columns=[\"Country Name\", \"Country Code\", \"PM25\", \"GDP_per_capita\"],\n",
    "    rows_between=(160, 210),\n",
    ")\n",
    "print(\"Expected: ~180 countries. Values should be positive; PM₂.₅ units are µg/m³.\")"
   ]
  },
  {
   "cell_type": "markdown",
   "id": "edd73c45",
   "metadata": {},
   "source": [
    "## Step 2 · Add continent groupings and population proxies\n",
    "Use Plotly's Gapminder metadata to attach continent names and approximate population for bubble sizing. Filter out rows without ISO-3 matches to avoid aggregates."
   ]
  },
  {
   "cell_type": "code",
   "execution_count": null,
   "id": "6873b579",
   "metadata": {},
   "outputs": [],
   "source": [
    "gap = px.data.gapminder()[[\"country\", \"iso_alpha\", \"continent\", \"pop\"]].drop_duplicates()\n",
    "merged = merged.merge(gap, left_on=\"Country Code\", right_on=\"iso_alpha\", how=\"left\")\n",
    "clean_countries = merged.dropna(subset=[\"continent\"])\n",
    "clean_countries = clean_countries.rename(columns={\"country\": \"Gapminder Name\", \"pop\": \"Population\", \"continent\": \"Region\"})\n",
    "clean_countries = clean_countries.drop(columns=[\"iso_alpha\"])"
   ]
  },
  {
   "cell_type": "code",
   "execution_count": null,
   "id": "af40f4f1",
   "metadata": {},
   "outputs": [],
   "source": [
    "quick_diagnostics(\n",
    "    clean_countries[[\"Country Name\", \"Country Code\", \"Region\", \"Population\", \"PM25\", \"GDP_per_capita\"]],\n",
    "    expected_columns=[\"Country Name\", \"Country Code\", \"Region\", \"Population\", \"PM25\", \"GDP_per_capita\"],\n",
    "    rows_between=(130, 200),\n",
    "    head_rows=4,\n",
    ")\n",
    "print(\"Population uses Gapminder's latest available year (approx. 2007) — note this caveat in your write-up.\")"
   ]
  },
  {
   "cell_type": "markdown",
   "id": "de967931",
   "metadata": {},
   "source": [
    "## Step 3 · Interim static check\n",
    "Before going interactive, create a quick scatter to make sure the log scaling and axis labels communicate cleanly.\n",
    "\n",
    "![Interim preview – downward sloping scatter cloud.](../../plots/day03_solution_plot.png)"
   ]
  },
  {
   "cell_type": "code",
   "execution_count": null,
   "id": "552aab1c",
   "metadata": {},
   "outputs": [],
   "source": [
    "import matplotlib.pyplot as plt\n",
    "\n",
    "fig, ax = plt.subplots(figsize=(8, 5))\n",
    "ax.scatter(clean_countries[\"GDP_per_capita\"], clean_countries[\"PM25\"], alpha=0.4, color=\"#5f6caf\")\n",
    "ax.set_xscale(\"log\")\n",
    "ax.set_xlabel(\"GDP per capita (current USD, log scale)\")\n",
    "ax.set_ylabel(\"PM₂.₅ exposure (µg/m³)\")\n",
    "ax.set_title(\"Draft: wealthier countries tend to have cleaner air\")\n",
    "plt.show()"
   ]
  },
  {
   "cell_type": "markdown",
   "id": "64e4f59c",
   "metadata": {},
   "source": [
    "## Step 4 · Story metadata"
   ]
  },
  {
   "cell_type": "code",
   "execution_count": null,
   "id": "c01db990",
   "metadata": {},
   "outputs": [],
   "source": [
    "TITLE = \"Middle-income countries still breathe the dirtiest air\"\n",
    "SUBTITLE = \"PM₂.₅ exposure vs. GDP per capita, 2019\"\n",
    "ANNOTATION = \"South & East Asia dominate the high-PM₂.₅, middle-income cluster.\"\n",
    "SOURCE = \"Source: World Bank WDI (PM₂.₅ exposure & GDP per capita, 2019)\"\n",
    "UNITS = \"Units: PM₂.₅ (µg/m³), GDP per capita (current USD)\"\n",
    "\n",
    "check_story_metadata(\n",
    "    TITLE=TITLE,\n",
    "    SUBTITLE=SUBTITLE,\n",
    "    ANNOTATION=ANNOTATION,\n",
    "    SOURCE=SOURCE,\n",
    "    UNITS=UNITS,\n",
    ")"
   ]
  },
  {
   "cell_type": "markdown",
   "id": "acb431f3",
   "metadata": {},
   "source": [
    "## Step 5 · Build the interactive bubble chart\n",
    "Encode GDP on a log x-axis, PM₂.₅ on the y-axis, colour by region, and bubble size by population. Add hover text with country names and values so viewers can investigate the story."
   ]
  },
  {
   "cell_type": "code",
   "execution_count": null,
   "id": "b754caa7",
   "metadata": {},
   "outputs": [],
   "source": [
    "fig = px.scatter(\n",
    "    clean_countries,\n",
    "    x=\"GDP_per_capita\",\n",
    "    y=\"PM25\",\n",
    "    color=\"Region\",\n",
    "    size=\"Population\",\n",
    "    hover_name=\"Country Name\",\n",
    "    hover_data={\"GDP_per_capita\": \":,.0f\", \"PM25\": \":.1f\", \"Population\": \":,.0f\"},\n",
    "    log_x=True,\n",
    "    size_max=60,\n",
    "    title=f\"{TITLE}<br><sup>{SUBTITLE}</sup>\",\n",
    "    labels={\"GDP_per_capita\": \"GDP per capita (current USD, log scale)\", \"PM25\": \"PM₂.₅ exposure (µg/m³)\"},\n",
    "    template=\"plotly_white\",\n",
    ")\n",
    "fig.add_annotation(\n",
    "    x=6000,\n",
    "    y=45,\n",
    "    text=ANNOTATION,\n",
    "    showarrow=True,\n",
    "    arrowhead=2,\n",
    "    ax=-120,\n",
    "    ay=-40,\n",
    "    bgcolor=\"rgba(255,255,255,0.8)\",\n",
    ")\n",
    "fig.update_layout(\n",
    "    legend_title=\"Region\",\n",
    "    margin=dict(l=40, r=40, t=80, b=40),\n",
    "    annotations=list(fig.layout.annotations) + [\n",
    "        dict(\n",
    "            text=f\"{SOURCE} · {UNITS}\",\n",
    "            xref=\"paper\",\n",
    "            yref=\"paper\",\n",
    "            x=0.5,\n",
    "            y=-0.18,\n",
    "            showarrow=False,\n",
    "            font=dict(size=11, color=\"#555555\"),\n",
    "        )\n",
    "    ],\n",
    ")\n",
    "fig.show(renderer=\"notebook\")"
   ]
  },
  {
   "cell_type": "markdown",
   "id": "ff0deb53",
   "metadata": {},
   "source": [
    "## Step 6 · Interpret with the scaffold\n",
    "- **Claim:** The worst air pollution burdens fall on densely populated middle-income countries.\n",
    "- **Evidence:** Countries like India, Bangladesh, and Pakistan cluster at high PM₂.₅ levels despite rising incomes, while high-income countries sit in the low-exposure corner.\n",
    "- **Visual:** Log-scaling the x-axis reveals the inverted-U pattern; bubble sizes and colour-coded regions contextualise scale and geography.\n",
    "- **Takeaway:** “Economic growth alone does not deliver clean air — targeted pollution controls are essential in rapidly developing nations.”"
   ]
  },
  {
   "cell_type": "markdown",
   "id": "37d60b19",
   "metadata": {},
   "source": [
    "### Limitations to note\n",
    "- Population estimates come from 2007 Gapminder data; cite this approximation when sharing.\n",
    "- PM₂.₅ exposure is averaged nationally and hides within-country inequalities.\n",
    "- GDP per capita in current USD can swing with exchange rates; try PPP-adjusted or median income for deeper analysis."
   ]
  },
  {
   "cell_type": "markdown",
   "id": "617e4363",
   "metadata": {},
   "source": [
    "## Step 7 · Export the interactive figure"
   ]
  },
  {
   "cell_type": "code",
   "execution_count": null,
   "id": "5bc18d09",
   "metadata": {},
   "outputs": [],
   "source": [
    "export_path = plots_directory() / \"day03_solution_plot.html\"\n",
    "fig.write_html(str(export_path))\n",
    "print(f\"💾 Saved interactive figure to {export_path}\")"
   ]
  }
 ],
 "metadata": {},
 "nbformat": 4,
 "nbformat_minor": 5
}
