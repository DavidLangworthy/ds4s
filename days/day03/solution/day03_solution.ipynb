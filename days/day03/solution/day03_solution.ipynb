{
 "cells": [
  {
   "cell_type": "markdown",
   "id": "070d82f1",
   "metadata": {},
   "source": [
    "## 🔗 Open This Notebook in Google Colab\n",
    "\n",
    "[![Open In Colab](https://colab.research.google.com/assets/colab-badge.svg)](https://colab.research.google.com/github/DavidLangworthy/ds4s/blob/master/days/day03/solution/day03_solution.ipynb)"
   ]
  },
  {
   "cell_type": "markdown",
   "id": "a874753d",
   "metadata": {},
   "source": [
    "# 🌫️ Day 3 – Pollution, Prosperity, and Health\n",
    "### Guided loops: tidy → merge → explore → storytell\n",
    "\n",
    "Today’s loops build on everything so far: you will tidy two datasets, confirm they align, create an interpretable scatter plot, and narrate what the relationship says—and doesn’t say—about global health equity."
   ]
  },
  {
   "cell_type": "markdown",
   "id": "f0356214",
   "metadata": {},
   "source": [
    "## 📇 Data Card — World Bank Indicators (PM₂.₅ & GDP per Capita)\n",
    "- **Sources**: World Bank World Development Indicators (downloaded January 2024).\n",
    "- **Temporal coverage**: 1960–2023 annual values; we focus on 2019 to limit pandemic-era noise.\n",
    "- **Units**: PM₂.₅ exposure in µg/m³; GDP per capita in current USD.\n",
    "- **Processing notes**: Select 2019 column, drop aggregates (non-ISO codes), keep countries with both metrics.\n",
    "- **Last updated**: December 2023 WDI refresh.\n",
    "- **Caveats**: GDP in nominal USD exaggerates currency swings; PM₂.₅ exposure uses modeled estimates. Aggregated regions (e.g., “Africa Eastern and Southern”) are removed before plotting.\n",
    "\n",
    "> 🔎 **What this analysis cannot tell us**: Causality between income and pollution, within-country inequality, or rural/urban exposure differences."
   ]
  },
  {
   "cell_type": "markdown",
   "id": "384dab4d",
   "metadata": {},
   "source": [
    "## 🗺️ Workflow Map\n",
    "1. **Setup & shared helpers**.\n",
    "2. **Load and inspect** both raw indicator tables.\n",
    "3. **Slice 2019 & clean** column names.\n",
    "4. **Merge & enrich** with a simple income-tier grouping.\n",
    "5. **Story scaffold** before plotting.\n",
    "6. **Visualise** with Plotly, run accessibility checks, and reflect on uncertainty."
   ]
  },
  {
   "cell_type": "markdown",
   "id": "4a56140b",
   "metadata": {},
   "source": [
    "## Step 0 · Imports, style, and quick diagnostics"
   ]
  },
  {
   "cell_type": "code",
   "execution_count": null,
   "id": "9ff71aa6",
   "metadata": {},
   "outputs": [],
   "source": [
    "\n",
    "from pathlib import Path\n",
    "from textwrap import dedent\n",
    "\n",
    "import pandas as pd\n",
    "import matplotlib.pyplot as plt\n",
    "import seaborn as sns\n",
    "from IPython.display import Image, display\n",
    "\n",
    "sns.set_theme(style=\"whitegrid\")\n",
    "plt.rcParams.update({\n",
    "    \"axes.titlesize\": 18,\n",
    "    \"axes.labelsize\": 13,\n",
    "    \"axes.titleweight\": \"bold\",\n",
    "    \"figure.titlesize\": 20,\n",
    "    \"xtick.labelsize\": 11,\n",
    "    \"ytick.labelsize\": 11,\n",
    "})\n",
    "\n",
    "\n",
    "def baseline_style():\n",
    "    \"\"\"Reset the Matplotlib/Seaborn style so every figure starts consistent.\"\"\"\n",
    "    sns.set_theme(style=\"whitegrid\")\n",
    "    plt.rcParams.update({\n",
    "        \"axes.titlesize\": 18,\n",
    "        \"axes.labelsize\": 13,\n",
    "        \"axes.titleweight\": \"bold\",\n",
    "        \"figure.titlesize\": 20,\n",
    "        \"xtick.labelsize\": 11,\n",
    "        \"ytick.labelsize\": 11,\n",
    "        \"legend.title_fontsize\": 12,\n",
    "        \"legend.fontsize\": 11,\n",
    "    })\n",
    "    return plt\n",
    "\n",
    "\n",
    "def quick_peek(df, expected_columns=None, sample=3, label=\"DataFrame\"):\n",
    "    \"\"\"Print a friendly snapshot so students can self-diagnose issues quickly.\"\"\"\n",
    "    print(f\"\n",
    "🔍 {label} preview\")\n",
    "    print(df.head(sample))\n",
    "    print(f\"Rows: {len(df):,} | Columns: {list(df.columns)}\")\n",
    "    if expected_columns:\n",
    "        missing = [col for col in expected_columns if col not in df.columns]\n",
    "        if missing:\n",
    "            print(f\"⚠️ Missing column(s): {missing}\")\n",
    "        else:\n",
    "            print(\"✅ Columns match the expectation.\")\n",
    "    return df\n",
    "\n",
    "\n",
    "def expect_rows_between(df, low, high, label=\"row count\"):\n",
    "    rows = len(df)\n",
    "    if low <= rows <= high:\n",
    "        print(f\"✅ {label.title()} looks right: {rows:,}.\")\n",
    "    else:\n",
    "        print(f\"⚠️ {label.title()} looks off: {rows:,}. Expected between {low:,} and {high:,}.\")\n",
    "    return rows\n",
    "\n",
    "\n",
    "def validate_story_elements(elements):\n",
    "    missing = [key for key, value in elements.items() if not value or not str(value).strip()]\n",
    "    if missing:\n",
    "        print(f\"⚠️ Please fill in these storytelling fields: {', '.join(missing)}\")\n",
    "    else:\n",
    "        print(\"✅ Story scaffold is ready — every element is filled in.\")\n",
    "    return elements\n",
    "\n",
    "\n",
    "def save_last_fig(filename, fig=None, dpi=300):\n",
    "    \"\"\"Save the latest Matplotlib figure with consistent export settings.\"\"\"\n",
    "    output_path = Path.cwd() / filename\n",
    "    output_path.parent.mkdir(parents=True, exist_ok=True)\n",
    "    if fig is None:\n",
    "        fig = plt.gcf()\n",
    "    if fig and getattr(fig, \"axes\", None):\n",
    "        fig.savefig(output_path, dpi=dpi, bbox_inches=\"tight\")\n",
    "        print(f\"💾 Saved figure to {output_path}\")\n",
    "    else:\n",
    "        print(\"⚠️ No figure detected to save.\")\n",
    "    return output_path\n",
    "\n",
    "baseline_style()\n"
   ]
  },
  {
   "cell_type": "markdown",
   "id": "4d73d366",
   "metadata": {},
   "source": [
    "## Step 1 · Load and preview both indicators\n",
    "**Micro-task**: bring in PM₂.₅ and GDP datasets, then inspect the first few rows to understand the wide format."
   ]
  },
  {
   "cell_type": "code",
   "execution_count": null,
   "id": "26e303bd",
   "metadata": {},
   "outputs": [],
   "source": [
    "\n",
    "data_dir = Path.cwd() / \"data\"\n",
    "pm_df = pd.read_csv(data_dir / \"pm25_exposure.csv\")\n",
    "gdp_df = pd.read_csv(data_dir / \"gdp_per_country.csv\")\n",
    "\n",
    "quick_peek(pm_df, expected_columns=[\"Country Name\", \"Country Code\", \"Indicator Name\"], label=\"PM₂.₅ raw table\")\n",
    "quick_peek(gdp_df, expected_columns=[\"Country Name\", \"Country Code\", \"Indicator Name\"], label=\"GDP raw table\")\n"
   ]
  },
  {
   "cell_type": "markdown",
   "id": "8de753a0",
   "metadata": {},
   "source": [
    "### Self-diagnostic: indicator sanity checks\n",
    "Students verify they’re pulling the correct metrics before slicing years."
   ]
  },
  {
   "cell_type": "code",
   "execution_count": null,
   "id": "88506be4",
   "metadata": {},
   "outputs": [],
   "source": [
    "\n",
    "print(\"PM₂.₅ indicator unique values:\", pm_df[\"Indicator Name\"].unique()[:1])\n",
    "print(\"GDP indicator unique values:\", gdp_df[\"Indicator Name\"].unique()[:1])\n"
   ]
  },
  {
   "cell_type": "markdown",
   "id": "6657484a",
   "metadata": {},
   "source": [
    "## Step 2 · Slice the 2019 columns and tidy names\n",
    "This loop reinforces selecting columns, renaming, and dropping aggregates."
   ]
  },
  {
   "cell_type": "code",
   "execution_count": null,
   "id": "98e0e2a5",
   "metadata": {},
   "outputs": [],
   "source": [
    "\n",
    "YEAR = \"2019\"\n",
    "pm_2019 = pm_df[[\"Country Name\", \"Country Code\", YEAR]].rename(columns={YEAR: \"PM25\"})\n",
    "gdp_2019 = gdp_df[[\"Country Name\", \"Country Code\", YEAR]].rename(columns={YEAR: \"GDP_per_capita\"})\n",
    "\n",
    "pm_2019 = pm_2019.dropna(subset=[\"PM25\"])                   .assign(PM25=lambda d: pd.to_numeric(d[\"PM25\"], errors=\"coerce\"))\n",
    "gdp_2019 = gdp_2019.dropna(subset=[\"GDP_per_capita\"])                     .assign(GDP_per_capita=lambda d: pd.to_numeric(d[\"GDP_per_capita\"], errors=\"coerce\"))\n",
    "\n",
    "quick_peek(pm_2019, expected_columns=[\"Country Name\", \"Country Code\", \"PM25\"], label=\"PM₂.₅ (2019)\")\n",
    "quick_peek(gdp_2019, expected_columns=[\"Country Name\", \"Country Code\", \"GDP_per_capita\"], label=\"GDP per capita (2019)\")\n"
   ]
  },
  {
   "cell_type": "markdown",
   "id": "80747a22",
   "metadata": {},
   "source": [
    "### Aggregates filter\n",
    "Many rows are regional aggregates. Keep ISO3 country codes only."
   ]
  },
  {
   "cell_type": "code",
   "execution_count": null,
   "id": "37e5aa66",
   "metadata": {},
   "outputs": [],
   "source": [
    "\n",
    "def is_iso(code: str) -> bool:\n",
    "    return isinstance(code, str) and len(code) == 3 and code.isalpha()\n",
    "\n",
    "pm_countries = pm_2019[pm_2019[\"Country Code\"].apply(is_iso)]\n",
    "gdp_countries = gdp_2019[gdp_2019[\"Country Code\"].apply(is_iso)]\n",
    "\n",
    "print(f\"PM₂.₅ country rows: {len(pm_countries):,}\")\n",
    "print(f\"GDP country rows: {len(gdp_countries):,}\")\n"
   ]
  },
  {
   "cell_type": "markdown",
   "id": "2ae744cc",
   "metadata": {},
   "source": [
    "## Step 3 · Merge, enrich, and add quick diagnostics\n",
    "Join on ISO code, drop missing values, and classify countries into income quartiles as a storytelling aid."
   ]
  },
  {
   "cell_type": "code",
   "execution_count": null,
   "id": "77ad33ba",
   "metadata": {},
   "outputs": [],
   "source": [
    "\n",
    "merged = pm_countries.merge(\n",
    "    gdp_countries,\n",
    "    on=[\"Country Name\", \"Country Code\"],\n",
    "    how=\"inner\",\n",
    ")\n",
    "merged = merged.dropna(subset=[\"PM25\", \"GDP_per_capita\"]).copy()\n",
    "\n",
    "merged[\"IncomeTier\"] = pd.qcut(merged[\"GDP_per_capita\"], 4, labels=[\"Low\", \"Lower-middle\", \"Upper-middle\", \"High\"], duplicates=\"drop\")\n",
    "expect_rows_between(merged, 150, 200, label=\"country matches\")\n",
    "quick_peek(merged, expected_columns=[\"Country Name\", \"Country Code\", \"PM25\", \"GDP_per_capita\", \"IncomeTier\"], label=\"Merged tidy table\")\n"
   ]
  },
  {
   "cell_type": "markdown",
   "id": "5237ca83",
   "metadata": {},
   "source": [
    "### Progress anchor\n",
    "The reference scatter reminds students what success looks like."
   ]
  },
  {
   "cell_type": "code",
   "execution_count": null,
   "id": "5be72a4e",
   "metadata": {},
   "outputs": [],
   "source": [
    "display(Image(filename=str(Path.cwd() / 'plots' / 'day03_solution_plot.png')), width=420)"
   ]
  },
  {
   "cell_type": "markdown",
   "id": "9296af17",
   "metadata": {},
   "source": [
    "## Step 4 · Story-first chart checklist"
   ]
  },
  {
   "cell_type": "code",
   "execution_count": null,
   "id": "2fd8f162",
   "metadata": {},
   "outputs": [],
   "source": [
    "\n",
    "TITLE = \"Wealthier Countries Breathe Cleaner Air — With Exceptions\"\n",
    "SUBTITLE = \"PM₂.₅ exposure vs. GDP per capita (log scale), countries with available 2019 data\"\n",
    "ANNOTATION = \"Middle-income countries often face the highest pollution as industrialization accelerates.\"\n",
    "SOURCE = \"World Bank WDI (PM₂.₅ exposure & GDP per capita, 2019 download)\"\n",
    "UNITS = \"PM₂.₅ (µg/m³) vs. GDP per capita (current USD)\"\n",
    "ACCESSIBILITY_NOTES = \"Log x-axis labeled every power of ten; colorblind-safe palette for income tiers; hover text supplies country names.\"\n",
    "\n",
    "validate_story_elements({\n",
    "    \"TITLE\": TITLE,\n",
    "    \"SUBTITLE\": SUBTITLE,\n",
    "    \"ANNOTATION\": ANNOTATION,\n",
    "    \"SOURCE\": SOURCE,\n",
    "    \"UNITS\": UNITS,\n",
    "    \"ACCESSIBILITY_NOTES\": ACCESSIBILITY_NOTES,\n",
    "})\n"
   ]
  },
  {
   "cell_type": "markdown",
   "id": "c79c2686",
   "metadata": {},
   "source": [
    "## Step 5 · Build the interactive scatter with Plotly Express\n",
    "Plotly gives hover labels and pan/zoom, while helper text and annotations cue interpretation."
   ]
  },
  {
   "cell_type": "code",
   "execution_count": null,
   "id": "56836fb6",
   "metadata": {},
   "outputs": [],
   "source": [
    "\n",
    "import plotly.express as px\n",
    "\n",
    "fig = px.scatter(\n",
    "    merged,\n",
    "    x=\"GDP_per_capita\",\n",
    "    y=\"PM25\",\n",
    "    color=\"IncomeTier\",\n",
    "    hover_name=\"Country Name\",\n",
    "    log_x=True,\n",
    "    labels={\"GDP_per_capita\": \"GDP per capita (USD, log scale)\", \"PM25\": \"PM₂.₅ exposure (µg/m³)\"},\n",
    "    color_discrete_sequence=px.colors.qualitative.Safe,\n",
    "    title=f\"{TITLE}<br><sup>{SUBTITLE}</sup>\",\n",
    ")\n",
    "fig.update_traces(marker=dict(size=12, opacity=0.7, line=dict(width=0.5, color=\"#333\")))\n",
    "fig.add_annotation(\n",
    "    x=4000,\n",
    "    y=60,\n",
    "    text=ANNOTATION,\n",
    "    showarrow=True,\n",
    "    arrowcolor=\"#333\",\n",
    "    bgcolor=\"rgba(255,255,255,0.9)\",\n",
    ")\n",
    "fig.update_layout(\n",
    "    legend_title_text=\"Income tier\",\n",
    "    margin=dict(l=40, r=40, t=90, b=40),\n",
    "    template=\"plotly_white\",\n",
    "    annotations=[\n",
    "        dict(\n",
    "            text=f\"Source: {SOURCE} | Notes: {ACCESSIBILITY_NOTES}\",\n",
    "            xref=\"paper\",\n",
    "            yref=\"paper\",\n",
    "            x=0,\n",
    "            y=-0.18,\n",
    "            showarrow=False,\n",
    "            font=dict(size=11, color=\"#4f4f4f\"),\n",
    "            align=\"left\",\n",
    "        )\n",
    "    ],\n",
    ")\n",
    "fig.show()\n"
   ]
  },
  {
   "cell_type": "markdown",
   "id": "adbbfdba",
   "metadata": {},
   "source": [
    "### Export checkpoint"
   ]
  },
  {
   "cell_type": "code",
   "execution_count": null,
   "id": "a1352617",
   "metadata": {},
   "outputs": [],
   "source": [
    "\n",
    "plots_dir = Path.cwd() / \"plots\"\n",
    "plots_dir.mkdir(parents=True, exist_ok=True)\n",
    "try:\n",
    "    fig.write_image(str(plots_dir / \"day03_solution_plot.png\"))\n",
    "    print(\"💾 Saved Plotly figure to\", plots_dir / \"day03_solution_plot.png\")\n",
    "except Exception as exc:\n",
    "    print(\"⚠️ Plot export skipped:\", exc)\n"
   ]
  },
  {
   "cell_type": "markdown",
   "id": "a7115ddd",
   "metadata": {},
   "source": [
    "## Step 6 · Reflect on drivers, uncertainty, and ethics\n",
    "- **Claim → Evidence → Visual → Takeaway**:\n",
    "  - **Claim**: Cleaner air generally correlates with higher income, yet some wealthy countries remain high-pollution outliers.\n",
    "  - **Evidence**: Log-scale scatter slopes downward, with middle-income clusters around 40–70 µg/m³; annotations flag the industrialization pinch point.\n",
    "  - **Visual**: Interactive bubble chart with income tiers, annotation, and accessible styling.\n",
    "  - **Takeaway**: Economic growth can finance cleaner air, but policy choices matter—there’s nothing automatic about the transition.\n",
    "- **Limitations**: GDP per capita misses inequality; PM₂.₅ averages hide urban hot spots.\n",
    "- **Potential misreads**: Log axes can confuse; remind viewers that equal spacing means orders of magnitude.\n",
    "- **Next questions**: Which policies helped high-income countries decouple growth from pollution? How do population-weighted exposures differ from national averages?"
   ]
  },
  {
   "cell_type": "markdown",
   "id": "ec20bbc0",
   "metadata": {},
   "source": [
    "## Process quality checklist\n",
    "✅ Loaded and inspected both datasets • ✅ Filtered 2019 country rows with diagnostics • ✅ Built story scaffold • ✅ Created an accessible interactive scatter • ✅ Documented limitations, uncertainty, and ethics."
   ]
  }
 ],
 "metadata": {
  "colab": {
   "authorship_tag": "ABX9TyMTSV6cG9E9j09m/wmwL+IH",
   "provenance": []
  },
  "kernelspec": {
   "display_name": "Python 3",
   "name": "python3"
  },
  "language_info": {
   "name": "python"
  }
 },
 "nbformat": 4,
 "nbformat_minor": 5
}
