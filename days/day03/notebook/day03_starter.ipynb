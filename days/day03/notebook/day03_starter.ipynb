{
 "cells": [
  {
   "cell_type": "markdown",
   "id": "44aec631",
   "metadata": {},
   "source": [
    "## 🔗 Open This Notebook in Google Colab\n",
    "\n",
    "[![Open In Colab](https://colab.research.google.com/assets/colab-badge.svg)](https://colab.research.google.com/github/DavidLangworthy/ds4s/blob/master/days/day03/starter/day03_starter.ipynb)"
   ]
  },
  {
   "cell_type": "markdown",
   "id": "66990486",
   "metadata": {},
   "source": [
    "# 🌫️ Day 3 – Pollution and Public Health\n",
    "### Linking air-quality exposure to economic development\n",
    "\n",
    "Today we connect environmental conditions to human outcomes. We'll pair fine particulate (PM₂.₅) exposure with GDP per capita to explore how pollution burdens shift with income. Expect rapid feedback loops after every transformation so you can debug before plotting."
   ]
  },
  {
   "cell_type": "markdown",
   "id": "61275dd4",
   "metadata": {},
   "source": [
    "### Data card — World Bank World Development Indicators\n",
    "- **Source:** [World Bank – World Development Indicators](https://data.worldbank.org/)\n",
    "- **Indicators used:** PM2.5 air pollution, mean annual exposure (EN.ATM.PM25.MC.M3) and GDP per capita (NY.GDP.PCAP.CD)\n",
    "- **Temporal coverage:** 1990–2023 (annual; earlier years sparse)\n",
    "- **Geographic coverage:** Countries and regional aggregates\n",
    "- **Units:** PM₂.₅ in micrograms per cubic meter; GDP per capita in current US dollars\n",
    "- **Processing notes:** Files include metadata header rows and many blank cells; we need to reshape from wide to tidy format.\n",
    "- **Caveats:** GDP is nominal (not adjusted for purchasing power) and pollution exposure estimates carry uncertainty, especially in low-income regions."
   ]
  },
  {
   "cell_type": "markdown",
   "id": "a8037c62",
   "metadata": {},
   "source": [
    "### Preview: today's target chart\n",
    "You'll produce a scatter plot with a fitted trend line, annotated to emphasize the inequity of pollution exposure across income levels."
   ]
  },
  {
   "cell_type": "code",
   "execution_count": null,
   "id": "4bdff88a",
   "metadata": {
    "execution": {
     "iopub.execute_input": "2025-09-20T17:45:30.792998Z",
     "iopub.status.busy": "2025-09-20T17:45:30.792686Z",
     "iopub.status.idle": "2025-09-20T17:45:32.036229Z",
     "shell.execute_reply": "2025-09-20T17:45:32.034694Z"
    }
   },
   "outputs": [],
   "source": [
    "from pathlib import Path\n",
    "from warnings import warn\n",
    "\n",
    "import numpy as np\n",
    "import pandas as pd\n",
    "from urllib.error import HTTPError, URLError\n",
    "from urllib.request import urlopen\n",
    "import matplotlib.pyplot as plt\n",
    "from IPython.display import Image, display\n",
    "\n",
    "CANDIDATES = [Path.cwd(), *Path.cwd().parents]\n",
    "for candidate in CANDIDATES:\n",
    "    if (candidate / \"data\").exists():\n",
    "        PROJECT_ROOT = candidate\n",
    "        break\n",
    "else:\n",
    "    raise FileNotFoundError(\"Couldn't find the project root containing a data/ folder.\")\n",
    "\n",
    "DATA_DIR = PROJECT_ROOT / \"data\"\n",
    "RAW_DATA_BASE = \"https://raw.githubusercontent.com/DavidLangworthy/ds4s/master/data\"\n",
    "PLOTS_DIR = PROJECT_ROOT / \"plots\"\n",
    "PLOTS_DIR.mkdir(exist_ok=True)\n",
    "\n",
    "plt.rcParams.update({\n",
    "    \"figure.dpi\": 110,\n",
    "    \"axes.titlesize\": 16,\n",
    "    \"axes.labelsize\": 12,\n",
    "    \"xtick.labelsize\": 11,\n",
    "    \"ytick.labelsize\": 11,\n",
    "    \"axes.grid\": True,\n",
    "    \"grid.alpha\": 0.25,\n",
    "})\n",
    "\n",
    "COLORBLIND_FRIENDLY = [\"#2E86AB\", \"#F18F01\", \"#A23B72\", \"#C73E1D\", \"#2EC4B6\", \"#33673B\"]\n",
    "\n",
    "if (PLOTS_DIR / \"day03_solution_plot.png\").exists():\n",
    "    display(Image(filename=PLOTS_DIR / \"day03_solution_plot.png\", width=420))\n",
    "else:\n",
    "    print(\"Preview image not found; continue with the workflow.\")\n",
    "\n",
    "\n",
    "def load_data(csv_name: str, **read_kwargs) -> pd.DataFrame:\n",
    "    path = DATA_DIR / csv_name\n",
    "    if not path.exists():\n",
    "        url = f\"{RAW_DATA_BASE}/{csv_name}\"\n",
    "        print(f\"Local file not found. Downloading {csv_name} from GitHub…\")\n",
    "        try:\n",
    "            with urlopen(url, timeout=30) as response:\n",
    "                data = response.read()\n",
    "        except HTTPError as exc:\n",
    "            raise FileNotFoundError(\n",
    "                f\"Could not retrieve {csv_name} from {url} (status {exc.code}).\"\n",
    "            ) from exc\n",
    "        except URLError as exc:\n",
    "            raise FileNotFoundError(\n",
    "                f\"Could not retrieve {csv_name} from {url} ({exc.reason}).\"\n",
    "            ) from exc\n",
    "        path.parent.mkdir(parents=True, exist_ok=True)\n",
    "        path.write_bytes(data)\n",
    "    df = pd.read_csv(path, **read_kwargs)\n",
    "    print(f\"Loaded {csv_name} → {df.shape[0]:,} rows × {df.shape[1]} columns.\")\n",
    "    return df\n",
    "\n",
    "def validate_columns(df: pd.DataFrame, required: list[str]) -> None:\n",
    "    missing = [col for col in required if col not in df.columns]\n",
    "    if missing:\n",
    "        warn(f\"Missing columns: {missing}\")\n",
    "    else:\n",
    "        print(\"✅ Columns look good:\", required)\n",
    "\n",
    "\n",
    "def expect_rows_between(df: pd.DataFrame, lower: int, upper: int) -> None:\n",
    "    rows = len(df)\n",
    "    if rows < lower or rows > upper:\n",
    "        warn(f\"Row count {rows:,} outside the expected range ({lower:,}–{upper:,}).\")\n",
    "    else:\n",
    "        print(f\"✅ Row count within expected range ({rows:,}).\")\n",
    "\n",
    "\n",
    "def quick_diagnostics(df: pd.DataFrame, name: str = \"DataFrame\") -> None:\n",
    "    print(f\"--- Quick check for {name} ---\")\n",
    "    print(\"Shape:\", df.shape)\n",
    "    print(\"Columns:\", list(df.columns))\n",
    "    print(\"Missing values:\", df.isna().sum())\n",
    "    display(df.head())\n",
    "\n",
    "\n",
    "def check_story_fields(**fields) -> None:\n",
    "    empty = [key for key, value in fields.items() if not str(value).strip()]\n",
    "    if empty:\n",
    "        warn(f\"These storytelling fields still need text: {', '.join(empty)}\")\n",
    "    else:\n",
    "        print(\"✅ Story scaffolding complete. Ready to plot!\")\n",
    "\n",
    "\n",
    "def baseline_style():\n",
    "    plt.style.use(\"seaborn-v0_8-whitegrid\")\n",
    "    plt.rcParams[\"axes.facecolor\"] = \"#F8FAFC\"\n",
    "\n",
    "\n",
    "def save_last_fig(filename: str) -> None:\n",
    "    path = PLOTS_DIR / filename\n",
    "    plt.savefig(path, dpi=300, bbox_inches=\"tight\")\n",
    "    print(f\"Figure saved to {path.relative_to(PROJECT_ROOT)}\")\n"
   ]
  },
  {
   "cell_type": "markdown",
   "id": "639806a5",
   "metadata": {},
   "source": [
    "## Step 1. Load and inspect the PM₂.₅ dataset\n",
    "World Bank CSVs include metadata rows; we skip them and reshape later."
   ]
  },
  {
   "cell_type": "markdown",
   "id": "bc7e3ff9",
   "metadata": {},
   "source": [
    "### Mini example: loading with UTF-8 safety\n",
    "Here's a quick look at how `load_data` reads a CSV and reports its shape."
   ]
  },
  {
   "cell_type": "code",
   "execution_count": null,
   "id": "b90ab6a4",
   "metadata": {},
   "outputs": [],
   "source": [
    "import pandas as pd\n",
    "demo = pd.DataFrame({\n",
    "    \"Country Name\": [\"Example\"],\n",
    "    \"Country Code\": [\"EXM\"],\n",
    "    \"1960\": [55.0],\n",
    "})\n",
    "quick_diagnostics(demo, name=\"demo PM2.5 table\")\n"
   ]
  },
  {
   "cell_type": "code",
   "execution_count": null,
   "id": "9df289c4",
   "metadata": {
    "execution": {
     "iopub.execute_input": "2025-09-20T17:45:32.040578Z",
     "iopub.status.busy": "2025-09-20T17:45:32.039952Z",
     "iopub.status.idle": "2025-09-20T17:45:32.095958Z",
     "shell.execute_reply": "2025-09-20T17:45:32.095023Z"
    }
   },
   "outputs": [],
   "source": [
    "pm25_wide = load_data(\"pm25_exposure.csv\", encoding=\"utf-8-sig\")\n",
    "pm25_wide = pm25_wide.drop(columns=[col for col in pm25_wide.columns if col.startswith(\"Unnamed\")])\n",
    "quick_diagnostics(pm25_wide, name=\"PM2.5 wide format\")\n"
   ]
  },
  {
   "cell_type": "markdown",
   "id": "ccb80c63",
   "metadata": {},
   "source": [
    "✅ **Checkpoint:** You should see columns `Country Name`, `Country Code`, indicator metadata, followed by year columns (1960…2023)."
   ]
  },
  {
   "cell_type": "markdown",
   "id": "7586196e",
   "metadata": {},
   "source": [
    "## Step 2. Load GDP per capita data\n",
    "We'll follow the same pattern so both indicators share the same shape."
   ]
  },
  {
   "cell_type": "markdown",
   "id": "aa296371",
   "metadata": {},
   "source": [
    "### Mini example: aligning GDP data\n",
    "The GDP file follows the same structure, so the same helper applies."
   ]
  },
  {
   "cell_type": "code",
   "execution_count": null,
   "id": "e8357765",
   "metadata": {},
   "outputs": [],
   "source": [
    "import pandas as pd\n",
    "demo_gdp = pd.DataFrame({\n",
    "    \"Country Name\": [\"Example\"],\n",
    "    \"Country Code\": [\"EXM\"],\n",
    "    \"1960\": [1200.0],\n",
    "})\n",
    "quick_diagnostics(demo_gdp, name=\"demo GDP table\")\n"
   ]
  },
  {
   "cell_type": "code",
   "execution_count": null,
   "id": "40c01067",
   "metadata": {
    "execution": {
     "iopub.execute_input": "2025-09-20T17:45:32.099022Z",
     "iopub.status.busy": "2025-09-20T17:45:32.098681Z",
     "iopub.status.idle": "2025-09-20T17:45:32.148961Z",
     "shell.execute_reply": "2025-09-20T17:45:32.148083Z"
    }
   },
   "outputs": [],
   "source": [
    "gdp_wide = load_data(\"gdp_per_country.csv\", encoding=\"utf-8-sig\")\n",
    "gdp_wide = gdp_wide.drop(columns=[col for col in gdp_wide.columns if col.startswith(\"Unnamed\")])\n",
    "quick_diagnostics(gdp_wide, name=\"GDP wide format\")\n"
   ]
  },
  {
   "cell_type": "markdown",
   "id": "0455ec94",
   "metadata": {},
   "source": [
    "## Step 3. Tidy the datasets\n",
    "Convert from wide to long format, keep country-level observations, and drop missing values."
   ]
  },
  {
   "cell_type": "markdown",
   "id": "87d22fce",
   "metadata": {},
   "source": [
    "### Mini example: melting wide to long\n",
    "Practice melting a mini table before applying it to the full indicators."
   ]
  },
  {
   "cell_type": "code",
   "execution_count": null,
   "id": "60b18f90",
   "metadata": {},
   "outputs": [],
   "source": [
    "import pandas as pd\n",
    "wide = pd.DataFrame({\n",
    "    \"Country Name\": [\"Example\"],\n",
    "    \"Country Code\": [\"EXM\"],\n",
    "    \"1990\": [40.0],\n",
    "    \"1991\": [41.0],\n",
    "})\n",
    "long = wide.melt(id_vars=[\"Country Name\", \"Country Code\"], var_name=\"Year\", value_name=\"value\")\n",
    "print(long)\n"
   ]
  },
  {
   "cell_type": "code",
   "execution_count": null,
   "id": "eaa6fdd9",
   "metadata": {
    "execution": {
     "iopub.execute_input": "2025-09-20T17:45:32.151850Z",
     "iopub.status.busy": "2025-09-20T17:45:32.151546Z",
     "iopub.status.idle": "2025-09-20T17:45:32.199612Z",
     "shell.execute_reply": "2025-09-20T17:45:32.198242Z"
    }
   },
   "outputs": [],
   "source": [
    "def tidy_indicator(df: pd.DataFrame, value_name: str) -> pd.DataFrame:\n",
    "    id_vars = [\"Country Name\", \"Country Code\"]\n",
    "    value_vars = [col for col in df.columns if col.isdigit()]\n",
    "    tidy = (\n",
    "        df[id_vars + value_vars]\n",
    "        .melt(id_vars=id_vars, value_vars=value_vars, var_name=\"Year\", value_name=value_name)\n",
    "        .dropna(subset=[value_name])\n",
    "    )\n",
    "    tidy[\"Year\"] = tidy[\"Year\"].astype(int)\n",
    "    tidy[value_name] = tidy[value_name].astype(float)\n",
    "    return tidy\n",
    "\n",
    "pm25_long = tidy_indicator(pm25_wide, \"pm25\")\n",
    "gdp_long = tidy_indicator(gdp_wide, \"gdp_per_capita\")\n",
    "\n",
    "expect_rows_between(pm25_long, 5_000, 20_000)\n",
    "expect_rows_between(gdp_long, 5_000, 20_000)\n",
    "quick_diagnostics(pm25_long.head(), name=\"PM2.5 tidy preview\")\n"
   ]
  },
  {
   "cell_type": "markdown",
   "id": "588fdd9e",
   "metadata": {},
   "source": [
    "### Mini self-diagnostic\n",
    "If the year column isn't numeric, check that you selected only digit-only column names before melting."
   ]
  },
  {
   "cell_type": "markdown",
   "id": "9b0fe744",
   "metadata": {},
   "source": [
    "## Step 4. Join the indicators and filter to a storytelling year\n",
    "We'll focus on 2022 (latest year with broad coverage) and drop aggregate regions so each dot represents a country."
   ]
  },
  {
   "cell_type": "markdown",
   "id": "3cec508e",
   "metadata": {},
   "source": [
    "### Mini example: merging indicators\n",
    "See how an inner join on country and year keeps only aligned records."
   ]
  },
  {
   "cell_type": "code",
   "execution_count": null,
   "id": "ae1b8a44",
   "metadata": {},
   "outputs": [],
   "source": [
    "import pandas as pd\n",
    "pm = pd.DataFrame({\"Country Code\": [\"EXM\"], \"Year\": [2022], \"pm25\": [35.2]})\n",
    "gdp = pd.DataFrame({\"Country Code\": [\"EXM\"], \"Year\": [2022], \"gdp_per_capita\": [1500]})\n",
    "merged = pm.merge(gdp, on=[\"Country Code\", \"Year\"], how=\"inner\")\n",
    "print(merged)\n"
   ]
  },
  {
   "cell_type": "code",
   "execution_count": null,
   "id": "53aed8ba",
   "metadata": {
    "execution": {
     "iopub.execute_input": "2025-09-20T17:45:32.202812Z",
     "iopub.status.busy": "2025-09-20T17:45:32.202351Z",
     "iopub.status.idle": "2025-09-20T17:45:32.243499Z",
     "shell.execute_reply": "2025-09-20T17:45:32.242477Z"
    }
   },
   "outputs": [],
   "source": [
    "merged_all = pm25_long.merge(gdp_long, on=[\"Country Name\", \"Country Code\", \"Year\"], how=\"inner\")\n",
    "available_years = merged_all['Year'].dropna().astype(int)\n",
    "latest_year = int(available_years.max())\n",
    "merged = merged_all.query(\"Year == @latest_year\")\n",
    "\n",
    "country_level = merged[~merged[\"Country Code\"].str.contains(\"^X\", na=False)]\n",
    "country_level = country_level[country_level[\"Country Name\"].str.contains(\"income\", case=False) == False]\n",
    "\n",
    "sample_size = min(len(country_level), 5)\n",
    "quick_diagnostics(country_level.sample(sample_size, random_state=42) if sample_size else country_level, name=\"Joined sample\")\n",
    "print(\"Latest year available:\", latest_year)\n",
    "print(\"Countries in final sample:\", country_level.shape[0])"
   ]
  },
  {
   "cell_type": "markdown",
   "id": "2e517336",
   "metadata": {},
   "source": [
    "✅ **Expectation check:** You should retain 150+ countries. If the sample is tiny, confirm the year choice exists in both datasets."
   ]
  },
  {
   "cell_type": "markdown",
   "id": "94406d4e",
   "metadata": {},
   "source": [
    "## Step 5. Compute reference lines and draft the story scaffold\n",
    "We'll log-scale GDP for legibility, compute a trend line, and capture the narrative message."
   ]
  },
  {
   "cell_type": "markdown",
   "id": "e2c83485",
   "metadata": {},
   "source": [
    "### Mini example: computing log10 GDP and thresholds\n",
    "Use simple numbers to preview the math before plotting."
   ]
  },
  {
   "cell_type": "code",
   "execution_count": null,
   "id": "bcde9a88",
   "metadata": {},
   "outputs": [],
   "source": [
    "import numpy as np\n",
    "sample_gdp = np.array([500, 2000, 10000])\n",
    "log_gdp = np.log10(sample_gdp)\n",
    "print(\"log10 values:\", log_gdp)\n"
   ]
  },
  {
   "cell_type": "code",
   "execution_count": null,
   "id": "8e234b31",
   "metadata": {
    "execution": {
     "iopub.execute_input": "2025-09-20T17:45:32.246786Z",
     "iopub.status.busy": "2025-09-20T17:45:32.246482Z",
     "iopub.status.idle": "2025-09-20T17:45:32.258052Z",
     "shell.execute_reply": "2025-09-20T17:45:32.256922Z"
    }
   },
   "outputs": [],
   "source": [
    "country_level[\"log_gdp\"] = np.log10(country_level[\"gdp_per_capita\"])\n",
    "coeffs = np.polyfit(country_level[\"log_gdp\"], country_level[\"pm25\"], deg=1)\n",
    "trend_line = np.poly1d(coeffs)\n",
    "\n",
    "TITLE = \"Air pollution exposure falls as income rises, but not fast enough\"\n",
    "SUBTITLE = f\"PM₂.₅ exposure vs. GDP per capita for {latest_year}\"\n",
    "ANNOTATION = \"Low-income countries breathe 2–3× the WHO guideline despite modest GDP gains.\"\n",
    "SOURCE = \"Source: World Bank World Development Indicators (EN.ATM.PM25.MC.M3; NY.GDP.PCAP.CD)\"\n",
    "UNITS = \"Units: PM₂.₅ (μg/m³), GDP per capita (current USD; log scale)\"\n",
    "\n",
    "check_story_fields(\n",
    "    TITLE=TITLE,\n",
    "    SUBTITLE=SUBTITLE,\n",
    "    ANNOTATION=ANNOTATION,\n",
    "    SOURCE=SOURCE,\n",
    "    UNITS=UNITS,\n",
    ")\n"
   ]
  },
  {
   "cell_type": "markdown",
   "id": "ca4c6237",
   "metadata": {},
   "source": [
    "## Step 6. Plot the pollution-health scatter with a fitted trend\n",
    "We'll use a log scale for GDP, draw the regression line, and annotate the inequity."
   ]
  },
  {
   "cell_type": "code",
   "execution_count": null,
   "id": "5caeb8d5",
   "metadata": {
    "execution": {
     "iopub.execute_input": "2025-09-20T17:45:32.261313Z",
     "iopub.status.busy": "2025-09-20T17:45:32.260939Z",
     "iopub.status.idle": "2025-09-20T17:45:32.845002Z",
     "shell.execute_reply": "2025-09-20T17:45:32.843585Z"
    }
   },
   "outputs": [],
   "source": [
    "baseline_style()\n",
    "fig, ax = plt.subplots(figsize=(9, 6))\n",
    "\n",
    "ax.scatter(\n",
    "    country_level[\"gdp_per_capita\"],\n",
    "    country_level[\"pm25\"],\n",
    "    s=45,\n",
    "    alpha=0.7,\n",
    "    color=COLORBLIND_FRIENDLY[0],\n",
    "    edgecolor=\"#0f172a\",\n",
    "    linewidth=0.4,\n",
    ")\n",
    "\n",
    "sorted_gdp = np.linspace(country_level[\"gdp_per_capita\"].min(), country_level[\"gdp_per_capita\"].max(), 200)\n",
    "ax.plot(sorted_gdp, trend_line(np.log10(sorted_gdp)), color=COLORBLIND_FRIENDLY[1], linewidth=2.2, label=\"Trend line\")\n",
    "\n",
    "ax.set_xscale(\"log\")\n",
    "ax.set_xlabel(\"GDP per capita (current US$; log scale)\")\n",
    "ax.set_ylabel(\"PM₂.₅ exposure (μg/m³)\")\n",
    "\n",
    "title_text = TITLE + \"\\n\" + SUBTITLE\n",
    "ax.set_title(title_text, loc=\"left\", pad=18)\n",
    "ax.axhline(5, color=\"#EF4444\", linestyle=\"--\", linewidth=1, label=\"WHO guideline (5 μg/m³)\")\n",
    "ax.legend(frameon=False, loc=\"upper right\")\n",
    "\n",
    "worst_case = country_level.sort_values(\"pm25\", ascending=False).iloc[0]\n",
    "ax.annotate(\n",
    "    ANNOTATION,\n",
    "    xy=(worst_case[\"gdp_per_capita\"], worst_case[\"pm25\"]),\n",
    "    xytext=(worst_case[\"gdp_per_capita\"] * 3, worst_case[\"pm25\"] + 10),\n",
    "    arrowprops=dict(arrowstyle=\"->\", color=\"#475569\"),\n",
    "    fontsize=11,\n",
    "    color=\"#111827\",\n",
    ")\n",
    "\n",
    "caption_text = SOURCE + \"\\n\" + \"Claim → Evidence → Visual → Takeaway: Income growth helps, yet many countries stay far above the WHO safety line.\"\n",
    "fig.text(0.01, -0.08, caption_text, fontsize=10)\n",
    "plt.show()\n"
   ]
  },
  {
   "cell_type": "markdown",
   "id": "28d9406b",
   "metadata": {},
   "source": [
    "### Accessibility checklist\n",
    "- Dot colors and trend line use contrasting, colorblind-friendly hues.\n",
    "- Log axis labeled clearly to avoid misinterpretation.\n",
    "- Annotation highlights interpretation rather than restating the obvious.\n",
    "- WHO guideline line provides context without dual axes."
   ]
  },
  {
   "cell_type": "code",
   "execution_count": null,
   "id": "588e5555",
   "metadata": {
    "execution": {
     "iopub.execute_input": "2025-09-20T17:45:32.849436Z",
     "iopub.status.busy": "2025-09-20T17:45:32.849008Z",
     "iopub.status.idle": "2025-09-20T17:45:33.104322Z",
     "shell.execute_reply": "2025-09-20T17:45:33.103183Z"
    }
   },
   "outputs": [],
   "source": [
    "save_last_fig(\"day03_solution_plot.png\")\n"
   ]
  },
  {
   "cell_type": "markdown",
   "id": "3ae50ecf",
   "metadata": {},
   "source": [
    "## Step 7. Reflect on limitations and ethics\n",
    "- PM₂.₅ estimates rely on satellite models and sparse ground monitors; uncertainties are highest in low-income regions.\n",
    "- GDP per capita doesn't capture inequality within countries; pollution burdens can fall disproportionately on marginalized communities.\n",
    "- Encourage learners to surface questions they cannot answer with this scatter alone (e.g., policy causes, health outcomes).\n",
    "- Invite a discussion on ethical framing: avoid implying pollution is an acceptable trade-off for growth."
   ]
  }
 ],
 "metadata": {
  "language_info": {
   "codemirror_mode": {
    "name": "ipython",
    "version": 3
   },
   "file_extension": ".py",
   "mimetype": "text/x-python",
   "name": "python",
   "nbconvert_exporter": "python",
   "pygments_lexer": "ipython3",
   "version": "3.11.12"
  }
 },
 "nbformat": 4,
 "nbformat_minor": 5
}