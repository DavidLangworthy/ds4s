{
 "cells": [
  {
   "cell_type": "markdown",
   "id": "a7d9aa9b",
   "metadata": {},
   "source": [
    "## 🔗 Open This Notebook in Google Colab\n",
    "\n",
    "[![Open In Colab](https://colab.research.google.com/assets/colab-badge.svg)](https://colab.research.google.com/github/DavidLangworthy/ds4s/blob/main/days/day03/notebook/day03_starter.ipynb)"
   ]
  },
  {
   "cell_type": "markdown",
   "id": "0b5763cf",
   "metadata": {},
   "source": [
    "# 🌫️ Day 3 – Pollution, Prosperity, and Public Health\n",
    "You will connect particulate exposure with income to surface where air quality progress is lagging."
   ]
  },
  {
   "cell_type": "markdown",
   "id": "58efa7e9",
   "metadata": {},
   "source": [
    "## 🧾 Data Card – PM₂.₅ Exposure & GDP per Capita\n",
    "- **Sources:** [World Health Organization Global Health Observatory](https://ghoapi.azureedge.net/api/PM25) and [World Bank World Development Indicators](https://data.worldbank.org/indicator/NY.GDP.PCAP.CD).\n",
    "- **Temporal coverage:** 1990–2021 (annual).\n",
    "- **Units:** PM₂.₅ exposure in micrograms per cubic meter; GDP per capita in current USD.\n",
    "- **Update cadence:** Updated annually as governments report emissions and national accounts.\n",
    "- **Method notes:** Exposure estimates model outdoor concentrations weighted by population.\n",
    "- **Caveats:** Some small states have missing PM₂.₅ values; GDP is in nominal dollars and not adjusted for purchasing power."
   ]
  },
  {
   "cell_type": "markdown",
   "id": "40df4879",
   "metadata": {},
   "source": [
    "## 🧭 Story Scaffold\n",
    "- **Claim:** Where is economic growth decoupling from dirty air?\n",
    "- **Evidence:** Which countries sit above or below the trend?\n",
    "- **Visual:** Scatter plot with log-scale GDP, color-coded income tiers, and labeled standouts.\n",
    "- **Takeaway:** Highlight uncertainty (modeled exposure) and equity concerns."
   ]
  },
  {
   "cell_type": "code",
   "execution_count": null,
   "id": "a1b06e8f",
   "metadata": {},
   "outputs": [],
   "source": [
    "from __future__ import annotations\n",
    "\n",
    "from pathlib import Path\n",
    "import sys\n",
    "\n",
    "import matplotlib.pyplot as plt\n",
    "import pandas as pd\n",
    "import seaborn as sns\n",
    "\n",
    "for candidate in [Path.cwd(), Path.cwd().parent, Path.cwd().parent.parent]:\n",
    "    utils_path = candidate / \"utils.py\"\n",
    "    if utils_path.exists():\n",
    "        if str(candidate) not in sys.path:\n",
    "            sys.path.insert(0, str(candidate))\n",
    "        break\n",
    "else:\n",
    "    raise FileNotFoundError(\"Unable to locate utils.py. Did you download the full project?\")\n",
    "\n",
    "from utils import (\n",
    "    baseline_style,\n",
    "    diagnose_dataframe,\n",
    "    expect_rows_between,\n",
    "    load_data,\n",
    "    save_last_fig,\n",
    "    validate_columns,\n",
    "    validate_story_elements,\n",
    ")\n",
    "\n",
    "baseline_style()\n",
    "sns.set_palette(\"colorblind\")\n"
   ]
  },
  {
   "cell_type": "code",
   "execution_count": null,
   "id": "4b8e9e22",
   "metadata": {},
   "outputs": [],
   "source": [
    "# Example: log-scaling a scatter plot\n",
    "example_data = pd.DataFrame(\n",
    "    {\n",
    "        \"GDP_per_capita\": [500, 2000, 10000, 50000],\n",
    "        \"PM25\": [60, 45, 18, 12],\n",
    "        \"Label\": [\"Low\", \"Lower-middle\", \"Upper-middle\", \"High\"],\n",
    "    }\n",
    ")\n",
    "fig, ax = plt.subplots(figsize=(5, 3))\n",
    "ax.scatter(example_data[\"GDP_per_capita\"], example_data[\"PM25\"], color=\"#1f77b4\")\n",
    "ax.set_xscale(\"log\")\n",
    "ax.set_xlabel(\"GDP per capita (USD, log scale)\")\n",
    "ax.set_ylabel(\"PM₂.₅ exposure (µg/m³)\")\n",
    "plt.close(fig)\n",
    "fig\n"
   ]
  },
  {
   "cell_type": "code",
   "execution_count": null,
   "id": "33128ef2",
   "metadata": {},
   "outputs": [],
   "source": [
    "# Step 1 – Load pollution and income datasets\n",
    "df_pm25 = load_data(\"pm25_exposure.csv\")\n",
    "df_gdp = load_data(\"gdp_per_country.csv\")\n",
    "\n",
    "# TODO: Load both CSV files into dataframes using load_data\n"
   ]
  },
  {
   "cell_type": "markdown",
   "id": "6c45d46a",
   "metadata": {},
   "source": [
    "<details>\n",
    "<summary>Need a nudge on loading?</summary>\n",
    "<ul>\n",
    "<li>Call <code>load_data</code> for <code>pm25_exposure.csv</code> and <code>gdp_per_country.csv</code>.</li>\n",
    "<li>Store them in clearly named dataframes (e.g., <code>df_pm25</code>, <code>df_gdp</code>).</li>\n",
    "</ul>\n",
    "</details>"
   ]
  },
  {
   "cell_type": "code",
   "execution_count": null,
   "id": "f47125e6",
   "metadata": {},
   "outputs": [],
   "source": [
    "# Step 2 – Focus on the most recent common year (2019)\n",
    "pollution_2019 = (\n",
    "    df_pm25[[\"Country Name\", \"Country Code\", \"2019\"]]\n",
    "    .rename(columns={\"2019\": \"PM25\"})\n",
    ")\n",
    "income_2019 = (\n",
    "    df_gdp[[\"Country Name\", \"Country Code\", \"2019\"]]\n",
    "    .rename(columns={\"2019\": \"GDP_per_capita\"})\n",
    ")\n",
    "\n",
    "# TODO: Select the Country columns plus 2019, and rename to PM25 / GDP_per_capita\n"
   ]
  },
  {
   "cell_type": "markdown",
   "id": "e9979820",
   "metadata": {},
   "source": [
    "<details>\n",
    "<summary>Column selection hint</summary>\n",
    "<ul>\n",
    "<li>Use double brackets to keep specific columns in the same order.</li>\n",
    "<li><code>rename</code> lets you swap out the 2019 column name.</li>\n",
    "</ul>\n",
    "</details>"
   ]
  },
  {
   "cell_type": "code",
   "execution_count": null,
   "id": "2c604d0e",
   "metadata": {},
   "outputs": [],
   "source": [
    "# Step 3 – Combine and clean the datasets\n",
    "pollution_income = (\n",
    "    pollution_2019.merge(income_2019, on=[\"Country Name\", \"Country Code\"], how=\"inner\")\n",
    "    .dropna(subset=[\"PM25\", \"GDP_per_capita\"])\n",
    ")\n",
    "\n",
    "pollution_income[\"IncomeGroup\"] = pd.qcut(\n",
    "    pollution_income[\"GDP_per_capita\"],\n",
    "    q=4,\n",
    "    labels=[\"Low income\", \"Lower-middle\", \"Upper-middle\", \"High income\"],\n",
    ")\n",
    "\n",
    "# TODO: Merge on both keys, drop missing values, and bucket incomes into quartiles\n"
   ]
  },
  {
   "cell_type": "markdown",
   "id": "220431f8",
   "metadata": {},
   "source": [
    "<details>\n",
    "<summary>Merge hint</summary>\n",
    "<ul>\n",
    "<li>Join on both country name and code to stay safe.</li>\n",
    "<li>Use <code>dropna</code> so the scatter does not include incomplete rows.</li>\n",
    "<li><code>pd.qcut</code> splits countries into quartiles for the <code>IncomeGroup</code> column.</li>\n",
    "</ul>\n",
    "</details>"
   ]
  },
  {
   "cell_type": "code",
   "execution_count": null,
   "id": "f6792eb4",
   "metadata": {},
   "outputs": [],
   "source": [
    "# Step 4 – Diagnostics and expectations\n",
    "diagnose_dataframe(pollution_income, name=\"PM2.5 vs GDP (2019)\")\n",
    "validate_columns(pollution_income, [\"Country Name\", \"Country Code\", \"PM25\", \"GDP_per_capita\"], name=\"pollution_income\")\n",
    "expect_rows_between(pollution_income, 150, 220, name=\"pollution_income\")\n"
   ]
  },
  {
   "cell_type": "code",
   "execution_count": null,
   "id": "68c4e4ff",
   "metadata": {},
   "outputs": [],
   "source": [
    "# Step 5 – Identify standout countries for annotation\n",
    "top_polluted = pollution_income.nlargest(3, \"PM25\")\n",
    "rapid_improvers = pollution_income.nsmallest(3, \"PM25\")\n",
    "standout_labels = pd.concat([top_polluted, rapid_improvers])[\"Country Name\"].unique().tolist()\n",
    "standout_labels\n"
   ]
  },
  {
   "cell_type": "code",
   "execution_count": null,
   "id": "7943f82a",
   "metadata": {},
   "outputs": [],
   "source": [
    "# Step 6 – Story metadata strings\n",
    "TITLE = \"Economic Growth Alone Doesn't Clear the Air\"\n",
    "SUBTITLE = \"Population-weighted PM₂.₅ exposure vs. GDP per capita, 2019\"\n",
    "ANNOTATION = \"High-income gulf states still face elevated PM₂.₅ despite wealth.\"\n",
    "SOURCE = \"WHO GHO & World Bank (downloaded 2024-04-15)\"\n",
    "UNITS = \"PM₂.₅ (µg/m³) and GDP per capita (USD, log scale)\"\n",
    "\n",
    "validate_story_elements(\n",
    "    {\n",
    "        \"TITLE\": TITLE,\n",
    "        \"SUBTITLE\": SUBTITLE,\n",
    "        \"ANNOTATION\": ANNOTATION,\n",
    "        \"SOURCE\": SOURCE,\n",
    "        \"UNITS\": UNITS,\n",
    "    }\n",
    ")\n",
    "\n",
    "# TODO: Make sure each storytelling string is filled in\n"
   ]
  },
  {
   "cell_type": "code",
   "execution_count": null,
   "id": "cf020d49",
   "metadata": {},
   "outputs": [],
   "source": [
    "# Step 7 – Build the annotated scatter plot\n",
    "fig, ax = plt.subplots(figsize=(9, 6))\n",
    "scatter = sns.scatterplot(\n",
    "    data=pollution_income,\n",
    "    x=\"GDP_per_capita\",\n",
    "    y=\"PM25\",\n",
    "    hue=\"IncomeGroup\",\n",
    "    palette=\"Set2\",\n",
    "    alpha=0.8,\n",
    "    edgecolor=\"white\",\n",
    "    linewidth=0.5,\n",
    "    ax=ax,\n",
    ")\n",
    "ax.set_xscale(\"log\")\n",
    "ax.set_title(TITLE)\n",
    "ax.set_xlabel(f\"GDP per capita (USD, log scale) — {SUBTITLE}\")\n",
    "ax.set_ylabel(UNITS.split(\" and \")[0])\n",
    "ax.text(0.01, -0.2, f\"Source: {SOURCE}\", transform=ax.transAxes)\n",
    "ax.legend(title=\"Income tier\", loc=\"upper right\")\n",
    "\n",
    "for _, row in pollution_income[pollution_income[\"Country Name\"].isin(standout_labels)].iterrows():\n",
    "    ax.annotate(\n",
    "        row[\"Country Name\"],\n",
    "        xy=(row[\"GDP_per_capita\"], row[\"PM25\"]),\n",
    "        xytext=(5, 5),\n",
    "        textcoords=\"offset points\",\n",
    "        fontsize=9,\n",
    "        bbox=dict(boxstyle=\"round,pad=0.2\", fc=\"white\", ec=\"none\", alpha=0.8),\n",
    "    )\n",
    "\n",
    "fig.tight_layout()\n",
    "pollution_fig = fig\n",
    "fig\n",
    "\n",
    "# TODO: Create the scatter with log-scaled GDP and annotations for standouts\n"
   ]
  },
  {
   "cell_type": "code",
   "execution_count": null,
   "id": "4feca2ab",
   "metadata": {},
   "outputs": [],
   "source": [
    "# Step 8 – Final validation and save option\n",
    "validate_story_elements(\n",
    "    {\n",
    "        \"TITLE\": TITLE,\n",
    "        \"SUBTITLE\": SUBTITLE,\n",
    "        \"ANNOTATION\": ANNOTATION,\n",
    "        \"SOURCE\": SOURCE,\n",
    "        \"UNITS\": UNITS,\n",
    "    }\n",
    ")\n",
    "save_last_fig(\"day03_pollution_income.png\", fig=pollution_fig)\n"
   ]
  }
 ],
 "metadata": {},
 "nbformat": 4,
 "nbformat_minor": 5
}