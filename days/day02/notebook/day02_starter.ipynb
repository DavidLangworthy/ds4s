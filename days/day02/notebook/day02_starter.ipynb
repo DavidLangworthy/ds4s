{
 "cells": [
  {
   "cell_type": "markdown",
   "id": "b8134360",
   "metadata": {},
   "source": [
    "## 🔗 Open This Notebook in Google Colab\n",
    "\n",
    "[![Open In Colab](https://colab.research.google.com/assets/colab-badge.svg)](https://colab.research.google.com/github/DavidLangworthy/ds4s/blob/master/days/day02/solution/day02_solution.ipynb)"
   ]
  },
  {
   "cell_type": "markdown",
   "id": "3f664d77",
   "metadata": {},
   "source": [
    "# ⚡ Day 2 – Fossil Fuels vs. Renewables\n",
    "### Comparing energy transitions with grouped bar charts\n",
    "\n",
    "We now move from climate outcomes to energy systems. Today's notebook helps you quantify how five major economies are shifting their energy mix — and how different renewable technologies contribute. We'll work in short cycles again: load → check → transform → visualize → reflect."
   ]
  },
  {
   "cell_type": "markdown",
   "id": "38d4321e",
   "metadata": {},
   "source": [
    "### Data card — Our World in Data energy share series\n",
    "- **Source:** [Our World in Data – Energy Mix](https://ourworldindata.org/energy-mix)\n",
    "- **Temporal coverage:** 1965–2023 (annual)\n",
    "- **Geographic coverage:** Global plus individual countries/regions\n",
    "- **Units:** Share of primary energy consumption (% of total)\n",
    "- **Files used today:** Total renewable share, hydro share, solar share, wind share\n",
    "- **Processing notes:** Shares are calculated from BP Statistical Review. Negative or missing values can appear for smaller countries.\n",
    "- **Caveats:** Country definitions follow BP conventions (e.g., EU aggregated). Shares may not sum to 100% because non-renewable categories are not included in this subset."
   ]
  },
  {
   "cell_type": "markdown",
   "id": "75b36544",
   "metadata": {},
   "source": [
    "### Preview: today's target chart\n",
    "A grouped bar chart comparing renewable technology shares in 2023, with a caption that spells out the headline claim."
   ]
  },
  {
   "cell_type": "code",
   "execution_count": null,
   "id": "f8b8337f",
   "metadata": {
    "execution": {
     "iopub.execute_input": "2025-09-20T17:45:27.064948Z",
     "iopub.status.busy": "2025-09-20T17:45:27.064670Z",
     "iopub.status.idle": "2025-09-20T17:45:28.214969Z",
     "shell.execute_reply": "2025-09-20T17:45:28.213350Z"
    }
   },
   "outputs": [],
   "source": [
    "from pathlib import Path\n",
    "from warnings import warn\n",
    "\n",
    "import pandas as pd\n",
    "import matplotlib.pyplot as plt\n",
    "from IPython.display import Image, display\n",
    "\n",
    "CANDIDATES = [Path.cwd(), *Path.cwd().parents]\n",
    "for candidate in CANDIDATES:\n",
    "    if (candidate / \"data\").exists():\n",
    "        PROJECT_ROOT = candidate\n",
    "        break\n",
    "else:\n",
    "    raise FileNotFoundError(\"Couldn't find the project root containing a data/ folder.\")\n",
    "\n",
    "DATA_DIR = PROJECT_ROOT / \"data\"\n",
    "PLOTS_DIR = PROJECT_ROOT / \"plots\"\n",
    "PLOTS_DIR.mkdir(exist_ok=True)\n",
    "\n",
    "plt.rcParams.update({\n",
    "    \"figure.dpi\": 110,\n",
    "    \"axes.titlesize\": 16,\n",
    "    \"axes.labelsize\": 12,\n",
    "    \"xtick.labelsize\": 11,\n",
    "    \"ytick.labelsize\": 11,\n",
    "    \"axes.grid\": True,\n",
    "    \"grid.alpha\": 0.3,\n",
    "})\n",
    "\n",
    "COLORBLIND_FRIENDLY = [\"#2E86AB\", \"#F18F01\", \"#A23B72\", \"#C73E1D\", \"#2EC4B6\", \"#33673B\"]\n",
    "\n",
    "if (PLOTS_DIR / \"day02_solution_plot.png\").exists():\n",
    "    display(Image(filename=PLOTS_DIR / \"day02_solution_plot.png\", width=420))\n",
    "else:\n",
    "    print(\"Preview image not found; continue with the workflow.\")\n",
    "\n",
    "\n",
    "def load_data(csv_name: str, **read_kwargs) -> pd.DataFrame:\n",
    "    path = DATA_DIR / csv_name\n",
    "    df = pd.read_csv(path, **read_kwargs)\n",
    "    print(f\"Loaded {csv_name} → {df.shape[0]:,} rows × {df.shape[1]} columns.\")\n",
    "    return df\n",
    "\n",
    "\n",
    "def validate_columns(df: pd.DataFrame, required: list[str]) -> None:\n",
    "    missing = [col for col in required if col not in df.columns]\n",
    "    if missing:\n",
    "        warn(f\"Missing columns: {missing}\")\n",
    "    else:\n",
    "        print(\"✅ Columns look good:\", required)\n",
    "\n",
    "\n",
    "def expect_rows_between(df: pd.DataFrame, lower: int, upper: int) -> None:\n",
    "    rows = len(df)\n",
    "    if rows < lower or rows > upper:\n",
    "        warn(f\"Row count {rows:,} outside the expected range ({lower:,}–{upper:,}).\")\n",
    "    else:\n",
    "        print(f\"✅ Row count within expected range ({rows:,}).\")\n",
    "\n",
    "\n",
    "def quick_diagnostics(df: pd.DataFrame, name: str = \"DataFrame\") -> None:\n",
    "    print(f\"--- Quick check for {name} ---\")\n",
    "    print(\"Shape:\", df.shape)\n",
    "    print(\"Columns:\", list(df.columns))\n",
    "    print(\"Missing values:\", df.isna().sum())\n",
    "    display(df.head())\n",
    "\n",
    "\n",
    "def check_story_fields(**fields) -> None:\n",
    "    empty = [key for key, value in fields.items() if not str(value).strip()]\n",
    "    if empty:\n",
    "        warn(f\"These storytelling fields still need text: {', '.join(empty)}\")\n",
    "    else:\n",
    "        print(\"✅ Story scaffolding complete. Ready to plot!\")\n",
    "\n",
    "\n",
    "def baseline_style():\n",
    "    plt.style.use(\"seaborn-v0_8-whitegrid\")\n",
    "    plt.rcParams[\"axes.facecolor\"] = \"#F8FAFC\"\n",
    "\n",
    "\n",
    "def save_last_fig(filename: str) -> None:\n",
    "    path = PLOTS_DIR / filename\n",
    "    plt.savefig(path, dpi=300, bbox_inches=\"tight\")\n",
    "    print(f\"Figure saved to {path.relative_to(PROJECT_ROOT)}\")\n"
   ]
  },
  {
   "cell_type": "markdown",
   "id": "3d47040b",
   "metadata": {},
   "source": [
    "## Step 1. Load renewable share data\n",
    "We'll start with the total renewable share dataset and sanity-check the structure."
   ]
  },
  {
   "cell_type": "code",
   "execution_count": null,
   "id": "e649b37a",
   "metadata": {
    "execution": {
     "iopub.execute_input": "2025-09-20T17:45:28.218685Z",
     "iopub.status.busy": "2025-09-20T17:45:28.218016Z",
     "iopub.status.idle": "2025-09-20T17:45:28.256550Z",
     "shell.execute_reply": "2025-09-20T17:45:28.255513Z"
    }
   },
   "outputs": [],
   "source": [
    "renewables_total = load_data(\"01 renewable-share-energy.csv\")\n",
    "quick_diagnostics(renewables_total, name=\"renewable share raw\")\n"
   ]
  },
  {
   "cell_type": "markdown",
   "id": "fb657bff",
   "metadata": {},
   "source": [
    "✅ **Checkpoint:** Expect columns `Entity`, `Code`, `Year`, and `Renewables (% equivalent primary energy)` covering ~300 entities."
   ]
  },
  {
   "cell_type": "markdown",
   "id": "74d39f3a",
   "metadata": {},
   "source": [
    "## Step 2. Load component technology shares\n",
    "Hydro, solar, and wind are provided as separate files. We'll bring them together so we can compare technologies side by side."
   ]
  },
  {
   "cell_type": "code",
   "execution_count": null,
   "id": "5cf3f61a",
   "metadata": {
    "execution": {
     "iopub.execute_input": "2025-09-20T17:45:28.259599Z",
     "iopub.status.busy": "2025-09-20T17:45:28.259212Z",
     "iopub.status.idle": "2025-09-20T17:45:28.311047Z",
     "shell.execute_reply": "2025-09-20T17:45:28.309836Z"
    }
   },
   "outputs": [],
   "source": [
    "hydro = load_data(\"06 hydro-share-energy.csv\")\n",
    "solar = load_data(\"14 solar-share-energy.csv\")\n",
    "wind = load_data(\"10 wind-share-energy.csv\")\n",
    "\n",
    "for name, frame in {\"hydro\": hydro, \"solar\": solar, \"wind\": wind}.items():\n",
    "    validate_columns(frame, [\"Entity\", \"Year\"])\n",
    "    expect_rows_between(frame, 2000, 10000)\n"
   ]
  },
  {
   "cell_type": "code",
   "execution_count": null,
   "id": "c50b6343",
   "metadata": {
    "execution": {
     "iopub.execute_input": "2025-09-20T17:45:28.314120Z",
     "iopub.status.busy": "2025-09-20T17:45:28.313810Z",
     "iopub.status.idle": "2025-09-20T17:45:28.355962Z",
     "shell.execute_reply": "2025-09-20T17:45:28.354832Z"
    }
   },
   "outputs": [],
   "source": [
    "renewables_tidy = renewables_total.drop(columns=[\"Code\"], errors=\"ignore\")\n",
    "\n",
    "def rename_value_column(df: pd.DataFrame, current: str, new: str) -> pd.DataFrame:\n",
    "    subset = df.drop(columns=[\"Code\"], errors=\"ignore\").copy()\n",
    "    return subset.rename(columns={current: new})\n",
    "\n",
    "tech_shares = (\n",
    "    rename_value_column(renewables_tidy, \"Renewables (% equivalent primary energy)\", \"renewables_pct\")\n",
    "    .merge(\n",
    "        rename_value_column(hydro, \"Hydro (% equivalent primary energy)\", \"hydro_pct\"),\n",
    "        on=[\"Entity\", \"Year\"],\n",
    "        how=\"left\"\n",
    "    )\n",
    "    .merge(\n",
    "        rename_value_column(wind, \"Wind (% equivalent primary energy)\", \"wind_pct\"),\n",
    "        on=[\"Entity\", \"Year\"],\n",
    "        how=\"left\"\n",
    "    )\n",
    "    .merge(\n",
    "        rename_value_column(solar, \"Solar (% equivalent primary energy)\", \"solar_pct\"),\n",
    "        on=[\"Entity\", \"Year\"],\n",
    "        how=\"left\"\n",
    "    )\n",
    ")\n",
    "\n",
    "quick_diagnostics(tech_shares, name=\"merged technology shares\")\n"
   ]
  },
  {
   "cell_type": "markdown",
   "id": "ff561ad5",
   "metadata": {},
   "source": [
    "### Mini self-diagnostic\n",
    "If you see duplicate columns suffixed with `_x` or `_y`, double-check the `drop(columns=['Code'])` operations before the merges."
   ]
  },
  {
   "cell_type": "markdown",
   "id": "187f029c",
   "metadata": {},
   "source": [
    "## Step 3. Focus on five key economies in 2023\n",
    "We'll filter for the latest common year and compute an \"other renewables\" bucket to complete the stacked categories."
   ]
  },
  {
   "cell_type": "code",
   "execution_count": null,
   "id": "f5b74fe9",
   "metadata": {
    "execution": {
     "iopub.execute_input": "2025-09-20T17:45:28.359033Z",
     "iopub.status.busy": "2025-09-20T17:45:28.358734Z",
     "iopub.status.idle": "2025-09-20T17:45:28.386740Z",
     "shell.execute_reply": "2025-09-20T17:45:28.385570Z"
    }
   },
   "outputs": [],
   "source": [
    "focus_entities = [\"World\", \"United States\", \"China\", \"India\", \"Germany\"]\n",
    "latest_year = tech_shares[\"Year\"].max()\n",
    "print(f\"Latest year available: {latest_year}\")\n",
    "\n",
    "focus = (\n",
    "    tech_shares[tech_shares[\"Entity\"].isin(focus_entities)]\n",
    "    .query(\"Year == @latest_year\")\n",
    "    [[\"Entity\", \"Year\", \"renewables_pct\", \"hydro_pct\", \"wind_pct\", \"solar_pct\"]]\n",
    "    .dropna(subset=[\"renewables_pct\"])\n",
    ")\n",
    "\n",
    "for col in [\"hydro_pct\", \"wind_pct\", \"solar_pct\"]:\n",
    "    focus[col] = focus[col].fillna(0)\n",
    "\n",
    "focus[\"other_pct\"] = (focus[\"renewables_pct\"] - focus[[\"hydro_pct\", \"wind_pct\", \"solar_pct\"]].sum(axis=1)).clip(lower=0)\n",
    "focus = focus.sort_values(\"renewables_pct\", ascending=False)\n",
    "\n",
    "quick_diagnostics(focus, name=\"focus table\")\n"
   ]
  },
  {
   "cell_type": "markdown",
   "id": "dd0df9ff",
   "metadata": {},
   "source": [
    "✅ **Expectation check:** `other_pct` should be small but non-negative; if it's negative, revisit the subtraction logic."
   ]
  },
  {
   "cell_type": "markdown",
   "id": "9029a29c",
   "metadata": {},
   "source": [
    "## Step 4. Build the storytelling scaffold\n",
    "Capture your main claim and supporting context before you render the grouped bars."
   ]
  },
  {
   "cell_type": "code",
   "execution_count": null,
   "id": "33ba5b85",
   "metadata": {
    "execution": {
     "iopub.execute_input": "2025-09-20T17:45:28.389435Z",
     "iopub.status.busy": "2025-09-20T17:45:28.389147Z",
     "iopub.status.idle": "2025-09-20T17:45:28.394838Z",
     "shell.execute_reply": "2025-09-20T17:45:28.393774Z"
    }
   },
   "outputs": [],
   "source": [
    "TITLE = \"Renewables top 20% of energy in Germany while lagging below 15% in the U.S.\"\n",
    "SUBTITLE = f\"Breakdown of renewable energy share by technology in {latest_year}\"\n",
    "ANNOTATION = \"Wind dominates the U.S. renewable mix, whereas Germany leans on a more balanced portfolio with sizable solar.\"\n",
    "SOURCE = \"Source: Our World in Data – Energy Mix (BP Statistical Review)\"\n",
    "UNITS = \"Units: Share of primary energy consumption (%)\"\n",
    "\n",
    "check_story_fields(\n",
    "    TITLE=TITLE,\n",
    "    SUBTITLE=SUBTITLE,\n",
    "    ANNOTATION=ANNOTATION,\n",
    "    SOURCE=SOURCE,\n",
    "    UNITS=UNITS,\n",
    ")\n"
   ]
  },
  {
   "cell_type": "markdown",
   "id": "4f836770",
   "metadata": {},
   "source": [
    "## Step 5. Plot grouped bars with an annotation pass\n",
    "We'll create a grouped bar chart for each country, color the technologies using a colorblind-safe palette, and annotate the key contrast."
   ]
  },
  {
   "cell_type": "code",
   "execution_count": null,
   "id": "58877843",
   "metadata": {
    "execution": {
     "iopub.execute_input": "2025-09-20T17:45:28.397471Z",
     "iopub.status.busy": "2025-09-20T17:45:28.397172Z",
     "iopub.status.idle": "2025-09-20T17:45:28.772109Z",
     "shell.execute_reply": "2025-09-20T17:45:28.770778Z"
    }
   },
   "outputs": [],
   "source": [
    "baseline_style()\n",
    "categories = [\"hydro_pct\", \"wind_pct\", \"solar_pct\", \"other_pct\"]\n",
    "labels = [\"Hydro\", \"Wind\", \"Solar\", \"Other\"]\n",
    "colors = COLORBLIND_FRIENDLY[:len(categories)]\n",
    "\n",
    "fig, ax = plt.subplots(figsize=(10, 6))\n",
    "bar_width = 0.18\n",
    "indices = range(len(focus))\n",
    "\n",
    "for i, (cat, label, color) in enumerate(zip(categories, labels, colors)):\n",
    "    offsets = [idx + i * bar_width for idx in indices]\n",
    "    ax.bar(offsets, focus[cat], width=bar_width, label=label, color=color)\n",
    "\n",
    "ax.set_xticks([idx + bar_width * (len(categories) - 1) / 2 for idx in indices])\n",
    "ax.set_xticklabels(focus[\"Entity\"], rotation=15, ha=\"right\")\n",
    "ax.set_ylabel(UNITS)\n",
    "\n",
    "title_text = TITLE + \"\\n\" + SUBTITLE\n",
    "ax.set_title(title_text, loc=\"left\", pad=18)\n",
    "ax.legend(frameon=False, ncol=2)\n",
    "\n",
    "max_country = focus.iloc[0]\n",
    "ax.annotate(\n",
    "    ANNOTATION,\n",
    "    xy=(0 + bar_width, max_country[\"wind_pct\"] + 2),\n",
    "    xytext=(1.2, focus[\"renewables_pct\"].max() + 5),\n",
    "    arrowprops=dict(arrowstyle=\"->\", color=\"#555\"),\n",
    "    fontsize=11,\n",
    "    color=\"#333\",\n",
    ")\n",
    "\n",
    "ax.set_ylim(0, max(30, focus[\"renewables_pct\"].max() + 10))\n",
    "\n",
    "caption_text = SOURCE + \"\\n\" + \"Claim → Evidence → Visual → Takeaway: Portfolios differ sharply; Germany combines technologies while the U.S. leans on wind alone.\"\n",
    "fig.text(0.01, -0.08, caption_text, fontsize=10)\n",
    "plt.show()\n"
   ]
  },
  {
   "cell_type": "markdown",
   "id": "b7b0be7e",
   "metadata": {},
   "source": [
    "### Accessibility checklist\n",
    "- Color palette tested for deuteranopia safety.\n",
    "- Bars labeled via legend with text, not just color.\n",
    "- Annotation arrow and text highlight the narrative contrast.\n",
    "- Percent axis starts at zero to avoid exaggeration."
   ]
  },
  {
   "cell_type": "code",
   "execution_count": null,
   "id": "1a87d684",
   "metadata": {
    "execution": {
     "iopub.execute_input": "2025-09-20T17:45:28.775205Z",
     "iopub.status.busy": "2025-09-20T17:45:28.774884Z",
     "iopub.status.idle": "2025-09-20T17:45:28.976643Z",
     "shell.execute_reply": "2025-09-20T17:45:28.975654Z"
    }
   },
   "outputs": [],
   "source": [
    "save_last_fig(\"day02_solution_plot.png\")\n"
   ]
  },
  {
   "cell_type": "markdown",
   "id": "b950f800",
   "metadata": {},
   "source": [
    "## Step 6. Reflect on teaching and uncertainty\n",
    "- Shares depend on BP's accounting of primary energy; biofuels and waste may be grouped into \"other\".\n",
    "- Country-level policy changes (feed-in tariffs, tax credits) explain rapid shifts but aren't captured in the data.\n",
    "- Encourage students to explore a second year (e.g., 2000) to discuss change over time.\n",
    "- Ask learners to note any surprising technology mixes and hypothesize the underlying drivers."
   ]
  }
 ],
 "metadata": {
  "language_info": {
   "codemirror_mode": {
    "name": "ipython",
    "version": 3
   },
   "file_extension": ".py",
   "mimetype": "text/x-python",
   "name": "python",
   "nbconvert_exporter": "python",
   "pygments_lexer": "ipython3",
   "version": "3.11.12"
  }
 },
 "nbformat": 4,
 "nbformat_minor": 5
}