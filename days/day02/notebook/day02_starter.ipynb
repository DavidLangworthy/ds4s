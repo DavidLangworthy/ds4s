{
 "cells": [
  {
   "cell_type": "markdown",
   "id": "8b359599",
   "metadata": {},
   "source": [
    "## 🔗 Open This Notebook in Google Colab\n",
    "\n",
    "[![Open In Colab](https://colab.research.google.com/assets/colab-badge.svg)](https://colab.research.google.com/github/DavidLangworthy/ds4s/blob/main/days/day02/notebook/day02_starter.ipynb)"
   ]
  },
  {
   "cell_type": "markdown",
   "id": "b492e77d",
   "metadata": {},
   "source": [
    "# ⚡ Day 2 – Following the Renewable Energy Transition\n",
    "Today you will deconstruct how the world's energy mix has shifted from hydro toward wind and solar."
   ]
  },
  {
   "cell_type": "markdown",
   "id": "cc8b4011",
   "metadata": {},
   "source": [
    "## 🧾 Data Card – Our World in Data: Renewable Energy Shares\n",
    "- **Source:** [Our World in Data – Energy](https://ourworldindata.org/energy).\n",
    "- **Temporal coverage:** 1965–2022 (annual).\n",
    "- **Units:** Percentage of primary energy consumption.\n",
    "- **Update cadence:** Updated annually as BP Statistical Review releases new data.\n",
    "- **Method notes:** Shares computed using primary energy equivalents for each technology.\n",
    "- **Caveats:** Hydroelectric share dominates early years; values are rounded to one decimal place."
   ]
  },
  {
   "cell_type": "markdown",
   "id": "30f7cea5",
   "metadata": {},
   "source": [
    "## 🧭 Story Scaffold\n",
    "Keep this checklist nearby as you explore.\n",
    "- **Claim:** What shift in the renewable mix stands out?\n",
    "- **Evidence:** Which metrics (e.g., growth rates, totals) support it?\n",
    "- **Visual:** How will you encode trend plus composition?\n",
    "- **Takeaway:** What should audiences remember about pace and scale?"
   ]
  },
  {
   "cell_type": "code",
   "execution_count": null,
   "id": "9dc184c1",
   "metadata": {},
   "outputs": [],
   "source": [
    "from __future__ import annotations\n",
    "\n",
    "from pathlib import Path\n",
    "import sys\n",
    "\n",
    "import matplotlib.pyplot as plt\n",
    "import pandas as pd\n",
    "import seaborn as sns\n",
    "\n",
    "for candidate in [Path.cwd(), Path.cwd().parent, Path.cwd().parent.parent]:\n",
    "    utils_path = candidate / \"utils.py\"\n",
    "    if utils_path.exists():\n",
    "        if str(candidate) not in sys.path:\n",
    "            sys.path.insert(0, str(candidate))\n",
    "        break\n",
    "else:\n",
    "    raise FileNotFoundError(\"Unable to locate utils.py. Did you download the full project?\")\n",
    "\n",
    "from utils import (\n",
    "    baseline_style,\n",
    "    diagnose_dataframe,\n",
    "    expect_rows_between,\n",
    "    load_data,\n",
    "    save_last_fig,\n",
    "    validate_columns,\n",
    "    validate_story_elements,\n",
    ")\n",
    "\n",
    "baseline_style()\n",
    "sns.set_palette(\"colorblind\")\n"
   ]
  },
  {
   "cell_type": "code",
   "execution_count": null,
   "id": "e9e59550",
   "metadata": {},
   "outputs": [],
   "source": [
    "# Example: melting wide data into a long format for plotting\n",
    "example_df = pd.DataFrame(\n",
    "    {\n",
    "        \"Year\": [2019, 2020, 2021],\n",
    "        \"Hydro\": [7.1, 7.0, 6.8],\n",
    "        \"Wind\": [2.2, 2.6, 3.0],\n",
    "    }\n",
    ")\n",
    "example_long = example_df.melt(id_vars=\"Year\", var_name=\"Type\", value_name=\"Share\")\n",
    "example_long\n"
   ]
  },
  {
   "cell_type": "code",
   "execution_count": null,
   "id": "3555178a",
   "metadata": {},
   "outputs": [],
   "source": [
    "# Step 1 – Load each renewable energy dataset\n",
    "energy_sources = {\n",
    "    \"Total\": \"01 renewable-share-energy.csv\",\n",
    "    \"Hydro\": \"06 hydro-share-energy.csv\",\n",
    "    \"Wind\": \"10 wind-share-energy.csv\",\n",
    "    \"Solar\": \"14 solar-share-energy.csv\",\n",
    "}\n",
    "\n",
    "datasets = {\n",
    "    name: load_data(filename)\n",
    "    for name, filename in energy_sources.items()\n",
    "}\n",
    "\n",
    "# TODO: Populate the datasets dictionary using load_data\n"
   ]
  },
  {
   "cell_type": "markdown",
   "id": "5964ce24",
   "metadata": {},
   "source": [
    "<details>\n",
    "<summary>Hint for loading files</summary>\n",
    "<ul>\n",
    "<li>Iterate over the <code>energy_sources</code> dictionary.</li>\n",
    "<li>Call <code>load_data</code> so the CSV works on GitHub or locally.</li>\n",
    "<li>Store each dataframe in the <code>datasets</code> dictionary keyed by its friendly name.</li>\n",
    "</ul>\n",
    "</details>"
   ]
  },
  {
   "cell_type": "code",
   "execution_count": null,
   "id": "c3564429",
   "metadata": {},
   "outputs": [],
   "source": [
    "# Step 2 – Keep only the world-level rows and tidy the columns\n",
    "metric_lookup = {\n",
    "    \"Total\": \"Renewables (% equivalent primary energy)\",\n",
    "    \"Hydro\": \"Hydro (% equivalent primary energy)\",\n",
    "    \"Wind\": \"Wind (% equivalent primary energy)\",\n",
    "    \"Solar\": \"Solar (% equivalent primary energy)\",\n",
    "}\n",
    "\n",
    "world_frames = []\n",
    "for name, frame in datasets.items():\n",
    "    column = metric_lookup[name]\n",
    "    filtered = (\n",
    "        frame.loc[frame[\"Entity\"] == \"World\", [\"Year\", column]]\n",
    "        .rename(columns={column: \"Share\"})\n",
    "        .assign(Technology=name)\n",
    "    )\n",
    "    world_frames.append(filtered)\n",
    "\n",
    "renewables_long = pd.concat(world_frames, ignore_index=True)\n",
    "\n",
    "# TODO: Filter for Entity == \"World\", rename to Share, and track the technology name\n"
   ]
  },
  {
   "cell_type": "markdown",
   "id": "dfcd7c15",
   "metadata": {},
   "source": [
    "<details>\n",
    "<summary>Need a push on the tidy step?</summary>\n",
    "<ul>\n",
    "<li>Each CSV uses the technology name inside parentheses.</li>\n",
    "<li>Select just <code>Year</code> and that column, then rename it to <code>Share</code>.</li>\n",
    "<li>Add a <code>Technology</code> column so you can combine the tables later.</li>\n",
    "</ul>\n",
    "</details>"
   ]
  },
  {
   "cell_type": "code",
   "execution_count": null,
   "id": "1baba112",
   "metadata": {},
   "outputs": [],
   "source": [
    "# Step 3 – Diagnostics\n",
    "diagnose_dataframe(renewables_long, name=\"Renewable energy shares (World)\")\n",
    "validate_columns(renewables_long, [\"Year\", \"Share\", \"Technology\"], name=\"renewables_long\")\n",
    "expect_rows_between(renewables_long, 600, 800, name=\"renewables_long\")\n"
   ]
  },
  {
   "cell_type": "code",
   "execution_count": null,
   "id": "dea20701",
   "metadata": {},
   "outputs": [],
   "source": [
    "# Step 4 – Summaries to inform the story\n",
    "latest_year = renewables_long[\"Year\"].max()\n",
    "composition_latest = renewables_long.query(\"Year == @latest_year and Technology != 'Total'\")\n",
    "share_growth = (\n",
    "    renewables_long.query(\"Technology == 'Total'\")\n",
    "    .assign(Change=lambda df: df[\"Share\"].diff())\n",
    "    .tail(10)\n",
    ")\n",
    "composition_latest\n"
   ]
  },
  {
   "cell_type": "code",
   "execution_count": null,
   "id": "2d8fa53e",
   "metadata": {},
   "outputs": [],
   "source": [
    "# Step 5 – Prepare data for the final chart\n",
    "tech_stack = (\n",
    "    renewables_long\n",
    "    .query(\"Technology != 'Total'\")\n",
    "    .pivot(index=\"Year\", columns=\"Technology\", values=\"Share\")\n",
    "    .fillna(0)\n",
    "    .sort_index()\n",
    ")\n",
    "\n",
    "total_trend = (\n",
    "    renewables_long\n",
    "    .query(\"Technology == 'Total'\")\n",
    "    .set_index(\"Year\")[\"Share\"]\n",
    "    .sort_index()\n",
    ")\n",
    "\n",
    "# TODO: Create tech_stack (Year x Technology) and total_trend series\n"
   ]
  },
  {
   "cell_type": "markdown",
   "id": "367101a5",
   "metadata": {},
   "source": [
    "<details>\n",
    "<summary>Stack vs. trend hint</summary>\n",
    "<ul>\n",
    "<li>Use <code>pivot</code> to turn the long format into columns per technology.</li>\n",
    "<li>Wind and solar start later; <code>fillna(0)</code> keeps the stackplot tidy.</li>\n",
    "<li>Build <code>total_trend</code> as a Series indexed by year for the line overlay.</li>\n",
    "</ul>\n",
    "</details>"
   ]
  },
  {
   "cell_type": "code",
   "execution_count": null,
   "id": "af677367",
   "metadata": {},
   "outputs": [],
   "source": [
    "# Step 6 – Story metadata for every chart\n",
    "TITLE = \"Renewables Are Accelerating, but Hydro Still Leads\"\n",
    "SUBTITLE = \"World energy mix, 1965–2022 (Our World in Data / BP Statistical Review)\"\n",
    "ANNOTATION = \"Wind and solar finally rival hydro's contribution after 2015.\"\n",
    "SOURCE = \"Our World in Data (downloaded 2024-04-15)\"\n",
    "UNITS = \"Share of primary energy (%)\"\n",
    "\n",
    "validate_story_elements(\n",
    "    {\n",
    "        \"TITLE\": TITLE,\n",
    "        \"SUBTITLE\": SUBTITLE,\n",
    "        \"ANNOTATION\": ANNOTATION,\n",
    "        \"SOURCE\": SOURCE,\n",
    "        \"UNITS\": UNITS,\n",
    "    }\n",
    ")\n",
    "\n",
    "# TODO: Edit each metadata string with your own wording\n"
   ]
  },
  {
   "cell_type": "code",
   "execution_count": null,
   "id": "03da6338",
   "metadata": {},
   "outputs": [],
   "source": [
    "# Step 7 – Compose the story-first chart\n",
    "fig, ax = plt.subplots(figsize=(11, 6))\n",
    "ax.stackplot(\n",
    "    tech_stack.index,\n",
    "    tech_stack[\"Hydro\"],\n",
    "    tech_stack[\"Wind\"],\n",
    "    tech_stack[\"Solar\"],\n",
    "    labels=[\"Hydro\", \"Wind\", \"Solar\"],\n",
    "    colors=[\"#4c72b0\", \"#55a868\", \"#c44e52\"],\n",
    "    alpha=0.75,\n",
    ")\n",
    "ax.plot(total_trend.index, total_trend.values, color=\"#1f77b4\", linewidth=2.5, label=\"Total share\")\n",
    "ax.set_title(TITLE)\n",
    "ax.set_xlabel(f\"Year — {SUBTITLE}\")\n",
    "ax.set_ylabel(f\"{UNITS}\")\n",
    "ax.legend(loc=\"upper left\", frameon=False)\n",
    "ax.text(0.01, -0.2, f\"Source: {SOURCE}\", transform=ax.transAxes)\n",
    "annotation_year = 2016 if 2016 in total_trend.index else int(total_trend.index[-1])\n",
    "ax.annotate(\n",
    "    ANNOTATION,\n",
    "    xy=(annotation_year, total_trend.loc[annotation_year]),\n",
    "    xytext=(1990, total_trend.max() - 2),\n",
    "    arrowprops={\"arrowstyle\": \"->\", \"color\": \"#333333\"},\n",
    "    fontsize=11,\n",
    ")\n",
    "fig.tight_layout()\n",
    "energy_fig = fig\n",
    "fig\n",
    "\n",
    "# TODO: Layer the stackplot with the total trend and annotations\n"
   ]
  },
  {
   "cell_type": "code",
   "execution_count": null,
   "id": "ec177a39",
   "metadata": {},
   "outputs": [],
   "source": [
    "# Step 8 – Final check and save option\n",
    "validate_story_elements(\n",
    "    {\n",
    "        \"TITLE\": TITLE,\n",
    "        \"SUBTITLE\": SUBTITLE,\n",
    "        \"ANNOTATION\": ANNOTATION,\n",
    "        \"SOURCE\": SOURCE,\n",
    "        \"UNITS\": UNITS,\n",
    "    }\n",
    ")\n",
    "save_last_fig(\"day02_renewables_transition.png\", fig=energy_fig)\n"
   ]
  }
 ],
 "metadata": {},
 "nbformat": 4,
 "nbformat_minor": 5
}