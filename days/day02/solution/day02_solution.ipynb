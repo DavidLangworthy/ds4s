{
 "cells": [
  {
   "cell_type": "markdown",
   "id": "05f86885",
   "metadata": {},
   "source": [
    "## 🔗 Open This Notebook in Google Colab\n",
    "\n",
    "[![Open In Colab](https://colab.research.google.com/assets/colab-badge.svg)](https://colab.research.google.com/github/DavidLangworthy/ds4s/blob/master/days/day02/solution/day02_solution.ipynb)"
   ]
  },
  {
   "cell_type": "markdown",
   "id": "45b86a00",
   "metadata": {},
   "source": [
    "# ⚡ Day 2 – Exploring Energy Transitions\n",
    "### Guided loops: reshape → check → compare → narrate\n",
    "\n",
    "We continue the learn-a-little, do-a-little cadence by comparing the rise of renewables against the stubborn dominance of fossil fuels. Each loop adds one analytical skill: reshaping tables, validating joins, layering multiple series, and narrating trade-offs."
   ]
  },
  {
   "cell_type": "markdown",
   "id": "d94b133f",
   "metadata": {},
   "source": [
    "## 📇 Data Card — Our World in Data: Renewable Energy Share\n",
    "- **Sources**: BP Statistical Review / IEA via Our World in Data (2016 methodology).\n",
    "- **Temporal coverage**: 1965–2022, annual, global and national entities.\n",
    "- **Units**: Share of total primary energy (% of equivalent primary energy).\n",
    "- **Files used**: `01 renewable-share-energy.csv`, `06 hydro-share-energy.csv`, `10 wind-share-energy.csv`, `14 solar-share-energy.csv`.\n",
    "- **Processing notes**: Filter to the `World` entity, align years across series, reshape to wide format for stacked visuals.\n",
    "- **Last updated**: OWID download refreshed January 2024.\n",
    "- **Caveats**: Method harmonises BP and IEA estimates; bioenergy and geothermal excluded. Country definitions follow OWID, which may differ from national statistics.\n",
    "\n",
    "> 🔎 **What this analysis cannot tell us**: Absolute energy demand, fossil fuel breakdown, or grid reliability. Treat the share metric as a relative indicator, not total consumption."
   ]
  },
  {
   "cell_type": "markdown",
   "id": "6273c455",
   "metadata": {},
   "source": [
    "## 🗺️ Workflow Map\n",
    "1. **Setup & shared helpers**.\n",
    "2. **Load multiple CSVs** and verify column alignment.\n",
    "3. **Filter & merge** world-level series into one tidy table.\n",
    "4. **Story scaffold** with title, subtitle, annotation, units, and source.\n",
    "5. **Visualise** a progress line plus stacked composition, checking accessibility as you go.\n",
    "6. **Reflect** on pace of change, limitations, and policy implications."
   ]
  },
  {
   "cell_type": "markdown",
   "id": "132de27e",
   "metadata": {},
   "source": [
    "## Step 0 · Imports, style, and quick diagnostics\n",
    "Reusing the shared helper block keeps every day’s workflow familiar."
   ]
  },
  {
   "cell_type": "code",
   "execution_count": null,
   "id": "3804dbf2",
   "metadata": {},
   "outputs": [],
   "source": [
    "\n",
    "from pathlib import Path\n",
    "from textwrap import dedent\n",
    "\n",
    "import pandas as pd\n",
    "import matplotlib.pyplot as plt\n",
    "import seaborn as sns\n",
    "from IPython.display import Image, display\n",
    "\n",
    "sns.set_theme(style=\"whitegrid\")\n",
    "plt.rcParams.update({\n",
    "    \"axes.titlesize\": 18,\n",
    "    \"axes.labelsize\": 13,\n",
    "    \"axes.titleweight\": \"bold\",\n",
    "    \"figure.titlesize\": 20,\n",
    "    \"xtick.labelsize\": 11,\n",
    "    \"ytick.labelsize\": 11,\n",
    "})\n",
    "\n",
    "\n",
    "def baseline_style():\n",
    "    \"\"\"Reset the Matplotlib/Seaborn style so every figure starts consistent.\"\"\"\n",
    "    sns.set_theme(style=\"whitegrid\")\n",
    "    plt.rcParams.update({\n",
    "        \"axes.titlesize\": 18,\n",
    "        \"axes.labelsize\": 13,\n",
    "        \"axes.titleweight\": \"bold\",\n",
    "        \"figure.titlesize\": 20,\n",
    "        \"xtick.labelsize\": 11,\n",
    "        \"ytick.labelsize\": 11,\n",
    "        \"legend.title_fontsize\": 12,\n",
    "        \"legend.fontsize\": 11,\n",
    "    })\n",
    "    return plt\n",
    "\n",
    "\n",
    "def quick_peek(df, expected_columns=None, sample=3, label=\"DataFrame\"):\n",
    "    \"\"\"Print a friendly snapshot so students can self-diagnose issues quickly.\"\"\"\n",
    "    print(f\"\n",
    "🔍 {label} preview\")\n",
    "    print(df.head(sample))\n",
    "    print(f\"Rows: {len(df):,} | Columns: {list(df.columns)}\")\n",
    "    if expected_columns:\n",
    "        missing = [col for col in expected_columns if col not in df.columns]\n",
    "        if missing:\n",
    "            print(f\"⚠️ Missing column(s): {missing}\")\n",
    "        else:\n",
    "            print(\"✅ Columns match the expectation.\")\n",
    "    return df\n",
    "\n",
    "\n",
    "def expect_rows_between(df, low, high, label=\"row count\"):\n",
    "    rows = len(df)\n",
    "    if low <= rows <= high:\n",
    "        print(f\"✅ {label.title()} looks right: {rows:,}.\")\n",
    "    else:\n",
    "        print(f\"⚠️ {label.title()} looks off: {rows:,}. Expected between {low:,} and {high:,}.\")\n",
    "    return rows\n",
    "\n",
    "\n",
    "def validate_story_elements(elements):\n",
    "    missing = [key for key, value in elements.items() if not value or not str(value).strip()]\n",
    "    if missing:\n",
    "        print(f\"⚠️ Please fill in these storytelling fields: {', '.join(missing)}\")\n",
    "    else:\n",
    "        print(\"✅ Story scaffold is ready — every element is filled in.\")\n",
    "    return elements\n",
    "\n",
    "\n",
    "def save_last_fig(filename, fig=None, dpi=300):\n",
    "    \"\"\"Save the latest Matplotlib figure with consistent export settings.\"\"\"\n",
    "    output_path = Path.cwd() / filename\n",
    "    output_path.parent.mkdir(parents=True, exist_ok=True)\n",
    "    if fig is None:\n",
    "        fig = plt.gcf()\n",
    "    if fig and getattr(fig, \"axes\", None):\n",
    "        fig.savefig(output_path, dpi=dpi, bbox_inches=\"tight\")\n",
    "        print(f\"💾 Saved figure to {output_path}\")\n",
    "    else:\n",
    "        print(\"⚠️ No figure detected to save.\")\n",
    "    return output_path\n",
    "\n",
    "baseline_style()\n"
   ]
  },
  {
   "cell_type": "markdown",
   "id": "4783d669",
   "metadata": {},
   "source": [
    "## Step 1 · Load renewable energy series\n",
    "**Micro-task**: read each CSV, keep the `Entity`, `Year`, and share column, and check the world rows align. Tiered hints in the starter notebook walk through `pd.read_csv`, filtering, and renaming."
   ]
  },
  {
   "cell_type": "code",
   "execution_count": null,
   "id": "cb1d40c0",
   "metadata": {},
   "outputs": [],
   "source": [
    "\n",
    "data_dir = Path.cwd() / \"data\"\n",
    "files = {\n",
    "    \"total\": \"01 renewable-share-energy.csv\",\n",
    "    \"hydro\": \"06 hydro-share-energy.csv\",\n",
    "    \"wind\": \"10 wind-share-energy.csv\",\n",
    "    \"solar\": \"14 solar-share-energy.csv\",\n",
    "}\n",
    "\n",
    "datasets = {}\n",
    "for key, filename in files.items():\n",
    "    df_part = pd.read_csv(data_dir / filename)\n",
    "    datasets[key] = df_part\n",
    "    quick_peek(df_part, expected_columns=[\"Entity\", \"Code\", \"Year\"], label=f\"{key.title()} file snapshot\")\n",
    "\n",
    "print(\"Loaded\", ', '.join(files.values()))\n"
   ]
  },
  {
   "cell_type": "markdown",
   "id": "b9716035",
   "metadata": {},
   "source": [
    "### Self-diagnostic: world filter\n",
    "We focus on the global trend before exploring country splits."
   ]
  },
  {
   "cell_type": "code",
   "execution_count": null,
   "id": "c1a23138",
   "metadata": {},
   "outputs": [],
   "source": [
    "\n",
    "df_total = datasets[\"total\"]\n",
    "df_world_total = df_total[df_total[\"Entity\"] == \"World\"].copy()\n",
    "quick_peek(df_world_total, expected_columns=[\"Entity\", \"Year\", \"Renewables (% equivalent primary energy)\"], label=\"World renewables share\")\n",
    "expect_rows_between(df_world_total, 55, 60)\n"
   ]
  },
  {
   "cell_type": "markdown",
   "id": "8a95eb0d",
   "metadata": {},
   "source": [
    "## Step 2 · Merge the core renewable technologies\n",
    "This loop reinforces column alignment, joining, and tidy reshaping."
   ]
  },
  {
   "cell_type": "code",
   "execution_count": null,
   "id": "fc809341",
   "metadata": {},
   "outputs": [],
   "source": [
    "\n",
    "df_hydro = datasets[\"hydro\"][datasets[\"hydro\"][\"Entity\"] == \"World\"].rename(columns={\"Hydro (% equivalent primary energy)\": \"Hydro\"})\n",
    "df_wind = datasets[\"wind\"][datasets[\"wind\"][\"Entity\"] == \"World\"].rename(columns={\"Wind (% equivalent primary energy)\": \"Wind\"})\n",
    "df_solar = datasets[\"solar\"][datasets[\"solar\"][\"Entity\"] == \"World\"].rename(columns={\"Solar (% equivalent primary energy)\": \"Solar\"})\n",
    "\n",
    "df_world = (\n",
    "    df_world_total[[\"Year\", \"Renewables (% equivalent primary energy)\"]]\n",
    "    .rename(columns={\"Renewables (% equivalent primary energy)\": \"Total Renewable\"})\n",
    "    .merge(df_hydro[[\"Year\", \"Hydro\"]], on=\"Year\", how=\"left\")\n",
    "    .merge(df_wind[[\"Year\", \"Wind\"]], on=\"Year\", how=\"left\")\n",
    "    .merge(df_solar[[\"Year\", \"Solar\"]], on=\"Year\", how=\"left\")\n",
    "    .sort_values(\"Year\")\n",
    ")\n",
    "\n",
    "quick_peek(df_world, expected_columns=[\"Year\", \"Total Renewable\", \"Hydro\", \"Wind\", \"Solar\"], label=\"Merged world table\")\n"
   ]
  },
  {
   "cell_type": "markdown",
   "id": "14c08132",
   "metadata": {},
   "source": [
    "### Progress anchor\n",
    "Reference image to help students gauge their intermediate plot."
   ]
  },
  {
   "cell_type": "code",
   "execution_count": null,
   "id": "a48a79d4",
   "metadata": {},
   "outputs": [],
   "source": [
    "display(Image(filename=str(Path.cwd() / 'plots' / 'day02_solution_plot.png')), width=420)"
   ]
  },
  {
   "cell_type": "markdown",
   "id": "95035940",
   "metadata": {},
   "source": [
    "## Step 3 · Story-first chart checklist\n",
    "The metadata scaffold keeps titles, subtitles, annotations, and sources consistent."
   ]
  },
  {
   "cell_type": "code",
   "execution_count": null,
   "id": "e5da247c",
   "metadata": {},
   "outputs": [],
   "source": [
    "\n",
    "latest_year = int(df_world[\"Year\"].max())\n",
    "latest_share = df_world.loc[df_world[\"Year\"] == latest_year, \"Total Renewable\"].iloc[0]\n",
    "start_year = int(df_world[\"Year\"].min())\n",
    "start_share = df_world.loc[df_world[\"Year\"] == start_year, \"Total Renewable\"].iloc[0]\n",
    "TITLE = \"Renewables Tripled, Yet Fossil Fuels Still Dominate\"\n",
    "SUBTITLE = f\"Share of global primary energy from renewables, {start_year}–{latest_year}\"\n",
    "ANNOTATION = f\"{latest_year}: {latest_share:.1f}% — up from {start_share:.1f}% in {start_year}\"\n",
    "SOURCE = \"Our World in Data – Renewable energy share (BP & IEA synthesis)\"\n",
    "UNITS = \"Share of total primary energy (%)\"\n",
    "ACCESSIBILITY_NOTES = \"Line + stackplot use colorblind-safe palette; axes labelled; annotation highlights latest share.\"\n",
    "\n",
    "validate_story_elements({\n",
    "    \"TITLE\": TITLE,\n",
    "    \"SUBTITLE\": SUBTITLE,\n",
    "    \"ANNOTATION\": ANNOTATION,\n",
    "    \"SOURCE\": SOURCE,\n",
    "    \"UNITS\": UNITS,\n",
    "    \"ACCESSIBILITY_NOTES\": ACCESSIBILITY_NOTES,\n",
    "})\n"
   ]
  },
  {
   "cell_type": "markdown",
   "id": "53133db0",
   "metadata": {},
   "source": [
    "## Step 4 · Visualise the trend and composition\n",
    "We combine a progress line (process quality) with a stacked area view (composition). Inline comments mirror the starter notebook hints."
   ]
  },
  {
   "cell_type": "code",
   "execution_count": null,
   "id": "cf0c1989",
   "metadata": {},
   "outputs": [],
   "source": [
    "\n",
    "baseline_style()\n",
    "\n",
    "fig, (ax_line, ax_stack) = plt.subplots(2, 1, figsize=(12, 10), sharex=True)\n",
    "\n",
    "# Line plot for overall renewable share\n",
    "sns.lineplot(data=df_world, x=\"Year\", y=\"Total Renewable\", ax=ax_line, color=\"#2a9d8f\", linewidth=2.5)\n",
    "ax_line.fill_between(df_world[\"Year\"], 0, df_world[\"Total Renewable\"], color=\"#2a9d8f\", alpha=0.2)\n",
    "ax_line.set_title(f\"{TITLE}\n",
    "{SUBTITLE}\", loc=\"left\")\n",
    "ax_line.set_ylabel(UNITS)\n",
    "ax_line.axhline(10, color=\"#b5b5b5\", linestyle=\"--\", linewidth=1)\n",
    "ax_line.text(0.01, -0.25, f\"Source: {SOURCE}\", transform=ax_line.transAxes, fontsize=10, color=\"#4f4f4f\")\n",
    "ax_line.text(0.01, -0.32, f\"Notes: {ACCESSIBILITY_NOTES}\", transform=ax_line.transAxes, fontsize=10, color=\"#4f4f4f\")\n",
    "ax_line.annotate(\n",
    "    ANNOTATION,\n",
    "    xy=(latest_year, latest_share),\n",
    "    xytext=(latest_year - 20, latest_share + 5),\n",
    "    arrowprops=dict(arrowstyle=\"->\", color=\"#264653\"),\n",
    "    bbox=dict(boxstyle=\"round,pad=0.3\", fc=\"white\", ec=\"#b5b5b5\"),\n",
    ")\n",
    "\n",
    "# Stacked area chart for technology mix\n",
    "ax_stack.stackplot(\n",
    "    df_world[\"Year\"],\n",
    "    df_world[\"Hydro\"],\n",
    "    df_world[\"Wind\"],\n",
    "    df_world[\"Solar\"],\n",
    "    labels=[\"Hydro\", \"Wind\", \"Solar\"],\n",
    "    colors=[\"#457b9d\", \"#e9c46a\", \"#f4a261\"],\n",
    "    alpha=0.85,\n",
    ")\n",
    "ax_stack.set_ylabel(\"Share of total energy (%)\")\n",
    "ax_stack.set_xlabel(\"Year\")\n",
    "ax_stack.legend(loc=\"upper left\", frameon=False)\n",
    "ax_stack.set_title(\"What fuels make up renewable energy?\", loc=\"left\")\n",
    "ax_stack.grid(alpha=0.3)\n",
    "\n",
    "plt.tight_layout()\n",
    "plt.show()\n"
   ]
  },
  {
   "cell_type": "markdown",
   "id": "677b5b42",
   "metadata": {},
   "source": [
    "### Export checkpoint"
   ]
  },
  {
   "cell_type": "code",
   "execution_count": null,
   "id": "4856541a",
   "metadata": {},
   "outputs": [],
   "source": [
    "save_last_fig('plots/day02_solution_plot.png')"
   ]
  },
  {
   "cell_type": "markdown",
   "id": "1dfd2260",
   "metadata": {},
   "source": [
    "## Step 5 · Reflect on progress and gaps\n",
    "- **Claim → Evidence → Visual → Takeaway**:\n",
    "  - **Claim**: Renewable share has roughly tripled since the late 1960s but remains a minority of global energy.\n",
    "  - **Evidence**: The line plot climbs from low single digits to the mid-teens; the stackplot shows hydro’s dominance alongside rapid wind and solar growth after 2000.\n",
    "  - **Visual**: Dual-panel figure balancing long-run trend (top) with composition detail (bottom).\n",
    "  - **Takeaway**: Momentum is building, yet the pace is still slower than climate pledges require.\n",
    "- **Limitations**: Shares mask absolute demand growth; traditional biomass and emerging tech are excluded.\n",
    "- **Potential misreads**: Avoid interpreting the stackplot as cumulative capacity; it shows part-to-whole shares.\n",
    "- **Next questions**: How quickly must renewables grow to bend the emissions curve? Which countries are accelerating the mix fastest?"
   ]
  },
  {
   "cell_type": "markdown",
   "id": "a9303988",
   "metadata": {},
   "source": [
    "## Process quality checklist\n",
    "✅ Loaded four aligned datasets • ✅ Filtered and merged with diagnostics • ✅ Completed story scaffold • ✅ Built accessible line + stack visuals • ✅ Reflected on limitations and policy angles."
   ]
  }
 ],
 "metadata": {
  "colab": {
   "authorship_tag": "ABX9TyMJkTdCSv3RDEVVC8b1GTMb",
   "provenance": []
  },
  "kernelspec": {
   "display_name": "Python 3",
   "name": "python3"
  },
  "language_info": {
   "name": "python"
  }
 },
 "nbformat": 4,
 "nbformat_minor": 5
}
