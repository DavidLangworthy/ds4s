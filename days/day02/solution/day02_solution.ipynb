{
 "cells": [
  {
   "cell_type": "markdown",
   "id": "33b79f3e",
   "metadata": {},
   "source": [
    "## 🔗 Open This Notebook in Google Colab\n",
    "\n",
    "[![Open In Colab](https://colab.research.google.com/assets/colab-badge.svg)](https://colab.research.google.com/github/DavidLangworthy/ds4s/blob/master/days/day02/notebook/day02_starter.ipynb)"
   ]
  },
  {
   "cell_type": "markdown",
   "id": "33f1d739",
   "metadata": {},
   "source": [
    "# ⚡ Day 2 – Tracking the Energy Transition\n",
    "### Comparing global renewable energy growth against legacy sources\n",
    "\n",
    "Today we build on yesterday's workflow and practice layering multiple datasets about the global energy mix.\n",
    "By the end of the lab you will quantify how quickly renewables are growing, which technologies drive the change,\n",
    "and how the mix still compares with fossil fuels."
   ]
  },
  {
   "cell_type": "markdown",
   "id": "bea1b388",
   "metadata": {},
   "source": [
    "### 🗂️ Data card — Our World in Data energy mix series\n",
    "- **Source:** Our World in Data, based on BP Statistical Review of World Energy (2023 edition)\n",
    "- **Temporal coverage:** 1965–2022 (annual)\n",
    "- **Geography:** Global aggregate (Entity = \"World\")\n",
    "- **Units:** Share of primary energy consumption (% of total)\n",
    "- **Collection notes:** Shares are calculated on an energy-equivalent basis and may not sum to 100% due to rounding\n",
    "- **Last updated:** Published July 2023; later revisions may update recent years\n",
    "- **Caveats:** Hydropower includes large-scale projects only; bioenergy not included in this subset; totals omit traditional biomass\n",
    "- **Mindful design:** Compare percentages on the same baseline; label technologies clearly to avoid confusion."
   ]
  },
  {
   "cell_type": "markdown",
   "id": "ad6f45ec",
   "metadata": {},
   "source": [
    "### 1. Set up the environment"
   ]
  },
  {
   "cell_type": "code",
   "execution_count": null,
   "id": "fc07e7bb",
   "metadata": {},
   "outputs": [],
   "source": [
    "import pandas as pd\n",
    "import numpy as np\n",
    "import matplotlib.pyplot as plt\n",
    "import seaborn as sns\n",
    "from IPython.display import display\n",
    "\n",
    "pd.options.display.float_format = \"{:.2f}\".format"
   ]
  },
  {
   "cell_type": "code",
   "execution_count": null,
   "id": "d2814ded",
   "metadata": {},
   "outputs": [],
   "source": [
    "# Shared helper utilities used throughout the week.\n",
    "from __future__ import annotations\n",
    "\n",
    "import warnings\n",
    "from pathlib import Path\n",
    "from typing import Iterable, Mapping\n",
    "\n",
    "import matplotlib.pyplot as plt\n",
    "import pandas as pd\n",
    "import seaborn as sns\n",
    "\n",
    "\n",
    "def resolve_data_dir(max_up: int = 5) -> Path:\n",
    "    \"\"\"Locate the project-level ``data`` directory regardless of execution location.\"\"\"\n",
    "    here = Path.cwd()\n",
    "    for _ in range(max_up + 1):\n",
    "        candidate = here / \"data\"\n",
    "        if candidate.exists():\n",
    "            return candidate\n",
    "        here = here.parent\n",
    "    raise FileNotFoundError(\n",
    "        \"Could not find a 'data' directory relative to this notebook.\n",
    "\"\n",
    "        \"If you are running in Colab, mount your drive or upload the data folder first.\"\n",
    "    )\n",
    "\n",
    "\n",
    "DATA_DIR = resolve_data_dir()\n",
    "PROJECT_ROOT = DATA_DIR.parent\n",
    "PLOTS_DIR = PROJECT_ROOT / \"plots\"\n",
    "PLOTS_DIR.mkdir(parents=True, exist_ok=True)\n",
    "\n",
    "\n",
    "def baseline_style() -> None:\n",
    "    \"\"\"Apply a consistent, high-contrast visual style that is colorblind-friendly.\"\"\"\n",
    "    sns.set_theme(style=\"whitegrid\", context=\"talk\", font_scale=0.9)\n",
    "    plt.rcParams.update(\n",
    "        {\n",
    "            \"figure.dpi\": 120,\n",
    "            \"axes.titlesize\": 16,\n",
    "            \"axes.labelsize\": 13,\n",
    "            \"legend.fontsize\": 11,\n",
    "            \"axes.titleweight\": \"semibold\",\n",
    "        }\n",
    "    )\n",
    "\n",
    "\n",
    "def load_data(filename: str | Path, **kwargs) -> pd.DataFrame:\n",
    "    \"\"\"Read a CSV file from the shared data directory and report its shape.\"\"\"\n",
    "    path = Path(filename)\n",
    "    if not path.exists():\n",
    "        path = DATA_DIR / filename\n",
    "    df = pd.read_csv(path, **kwargs)\n",
    "    print(f\"Loaded {path.name} with shape {df.shape}.\")\n",
    "    return df\n",
    "\n",
    "\n",
    "def validate_columns(df: pd.DataFrame, required: Iterable[str], *, context: str = \"\") -> None:\n",
    "    missing = [col for col in required if col not in df.columns]\n",
    "    if missing:\n",
    "        warnings.warn(\n",
    "            f\"Missing expected columns {missing} in {context or 'dataframe'}.\n",
    "\"\n",
    "            \"Double-check your renaming and loading steps before moving on.\"\n",
    "        )\n",
    "    else:\n",
    "        print(f\"✅ Columns look good: {list(required)}\")\n",
    "\n",
    "\n",
    "def expect_rows_between(df: pd.DataFrame, low: int, high: int, *, label: str = \"rows\") -> None:\n",
    "    count = len(df)\n",
    "    if not (low <= count <= high):\n",
    "        warnings.warn(\n",
    "            f\"{label} check: expected between {low:,} and {high:,} but found {count:,}.\"\n",
    "        )\n",
    "    else:\n",
    "        print(f\"✅ {label} check: {count:,} rows is within the expected range.\")\n",
    "\n",
    "\n",
    "def quick_diagnose(df: pd.DataFrame, *, sample: int = 3) -> None:\n",
    "    print(\"\n",
    "Preview of the current dataframe:\")\n",
    "    display(df.head(sample))\n",
    "    print(\"\n",
    "Null values by column:\")\n",
    "    print(df.isna().sum())\n",
    "\n",
    "\n",
    "def validate_story_fields(fields: Mapping[str, str]) -> None:\n",
    "    missing = [name for name, value in fields.items() if not str(value).strip()]\n",
    "    if missing:\n",
    "        warnings.warn(\n",
    "            \"The following story fields are blank: \" + \", \".join(missing) +\n",
    "            \"\n",
    "Fill them in so your chart has a clear narrative frame.\"\n",
    "        )\n",
    "    else:\n",
    "        print(\"✅ Narrative checklist complete.\")\n",
    "\n",
    "\n",
    "def save_last_fig(fig: plt.Figure | None, filename: str) -> Path | None:\n",
    "    if fig is None:\n",
    "        fig = plt.gcf()\n",
    "    if fig and getattr(fig, \"axes\", None):\n",
    "        output_path = PLOTS_DIR / filename\n",
    "        fig.savefig(output_path, dpi=300, bbox_inches=\"tight\")\n",
    "        print(f\"Saved figure to {output_path.relative_to(PROJECT_ROOT)}\")\n",
    "        return output_path\n",
    "    warnings.warn(\"No matplotlib figure available to save yet.\")\n",
    "    return None\n"
   ]
  },
  {
   "cell_type": "markdown",
   "id": "08b98401",
   "metadata": {},
   "source": [
    "### 2. Load renewable energy datasets\n",
    "We pull total renewable share plus hydro, wind, and solar components, then confirm the schema."
   ]
  },
  {
   "cell_type": "code",
   "execution_count": null,
   "id": "cd76cb94",
   "metadata": {},
   "outputs": [],
   "source": [
    "renewables_total = load_data(\"01 renewable-share-energy.csv\")\n",
    "hydro = load_data(\"06 hydro-share-energy.csv\")\n",
    "wind = load_data(\"10 wind-share-energy.csv\")\n",
    "solar = load_data(\"14 solar-share-energy.csv\")"
   ]
  },
  {
   "cell_type": "code",
   "execution_count": null,
   "id": "e5aaf92f",
   "metadata": {},
   "outputs": [],
   "source": [
    "required_cols = [\"Entity\", \"Year\"]\n",
    "validate_columns(renewables_total, required_cols + [\"Renewables (% equivalent primary energy)\"])\n",
    "validate_columns(hydro, required_cols + [\"Hydro (% equivalent primary energy)\"])\n",
    "validate_columns(wind, required_cols + [\"Wind (% equivalent primary energy)\"])\n",
    "validate_columns(solar, required_cols + [\"Solar (% equivalent primary energy)\"])"
   ]
  },
  {
   "cell_type": "markdown",
   "id": "47560597",
   "metadata": {},
   "source": [
    "### 3. Focus on the world aggregate\n",
    "Filter for the global totals, keep relevant columns, and verify the year coverage before merging."
   ]
  },
  {
   "cell_type": "code",
   "execution_count": null,
   "id": "bfa96801",
   "metadata": {},
   "outputs": [],
   "source": [
    "def world_slice(df: pd.DataFrame, value_col: str) -> pd.DataFrame:\n",
    "    return (\n",
    "        df[df[\"Entity\"] == \"World\"]\n",
    "        .loc[:, [\"Year\", value_col]]\n",
    "        .dropna()\n",
    "        .sort_values(\"Year\")\n",
    "        .reset_index(drop=True)\n",
    "    )\n",
    "\n",
    "\n",
    "world_total = world_slice(renewables_total, \"Renewables (% equivalent primary energy)\")\n",
    "world_hydro = world_slice(hydro, \"Hydro (% equivalent primary energy)\")\n",
    "world_wind = world_slice(wind, \"Wind (% equivalent primary energy)\")\n",
    "world_solar = world_slice(solar, \"Solar (% equivalent primary energy)\")\n",
    "\n",
    "for label, df in {\n",
    "    \"total\": world_total,\n",
    "    \"hydro\": world_hydro,\n",
    "    \"wind\": world_wind,\n",
    "    \"solar\": world_solar,\n",
    "}.items():\n",
    "    expect_rows_between(df, 55, 60, label=f\"{label} yearly records\")\n",
    "    quick_diagnose(df.tail(3))"
   ]
  },
  {
   "cell_type": "markdown",
   "id": "ef0df0bb",
   "metadata": {},
   "source": [
    "### 4. Assemble a tidy table for plotting\n",
    "Combine the series, calculate non-renewable share, and create a long-form version for stacked visuals."
   ]
  },
  {
   "cell_type": "code",
   "execution_count": null,
   "id": "0c4c96fa",
   "metadata": {},
   "outputs": [],
   "source": [
    "renewables_world = (\n",
    "    world_total\n",
    "    .rename(columns={\"Renewables (% equivalent primary energy)\": \"renewable_share_pct\"})\n",
    "    .merge(world_hydro.rename(columns={\"Hydro (% equivalent primary energy)\": \"hydro_pct\"}), on=\"Year\")\n",
    "    .merge(world_wind.rename(columns={\"Wind (% equivalent primary energy)\": \"wind_pct\"}), on=\"Year\")\n",
    "    .merge(world_solar.rename(columns={\"Solar (% equivalent primary energy)\": \"solar_pct\"}), on=\"Year\")\n",
    ")\n",
    "renewables_world[\"non_renewable_pct\"] = 100 - renewables_world[\"renewable_share_pct\"]\n",
    "renewables_world[\"modern_renewables_pct\"] = renewables_world[\"wind_pct\"] + renewables_world[\"solar_pct\"]\n",
    "\n",
    "quick_diagnose(renewables_world.tail())\n",
    "tidy_mix = renewables_world.melt(\n",
    "    id_vars=\"Year\",\n",
    "    value_vars=[\"hydro_pct\", \"wind_pct\", \"solar_pct\"],\n",
    "    var_name=\"technology\",\n",
    "    value_name=\"share_pct\",\n",
    ")\n",
    "quick_diagnose(tidy_mix.head())"
   ]
  },
  {
   "cell_type": "markdown",
   "id": "a0f3f6a0",
   "metadata": {},
   "source": [
    "### 5. Define the storytelling frame\n",
    "Clarify the claim and ensure title, subtitle, annotation, source, and units are ready before plotting."
   ]
  },
  {
   "cell_type": "code",
   "execution_count": null,
   "id": "7daed5e5",
   "metadata": {},
   "outputs": [],
   "source": [
    "TITLE = \"Renewables are finally bending the energy curve\"\n",
    "SUBTITLE = \"Global share of primary energy from hydro, wind, and solar (1965–2022)\"\n",
    "ANNOTATION = \"Wind and solar accelerate after 2000 but hydropower still carries half of renewables\"\n",
    "SOURCE = \"Source: Our World in Data (BP Statistical Review 2023)\"\n",
    "UNITS = \"Share of primary energy consumption (%)\"\n",
    "\n",
    "validate_story_fields({\n",
    "    \"TITLE\": TITLE,\n",
    "    \"SUBTITLE\": SUBTITLE,\n",
    "    \"ANNOTATION\": ANNOTATION,\n",
    "    \"SOURCE\": SOURCE,\n",
    "    \"UNITS\": UNITS,\n",
    "})"
   ]
  },
  {
   "cell_type": "markdown",
   "id": "4cdcc221",
   "metadata": {},
   "source": [
    "### 6. Visualize with checkpoints\n",
    "Use a two-panel figure: top shows renewables vs. everything else, bottom details the technology mix."
   ]
  },
  {
   "cell_type": "code",
   "execution_count": null,
   "id": "5c287202",
   "metadata": {},
   "outputs": [],
   "source": [
    "baseline_style()\n",
    "\n",
    "palette = {\n",
    "    \"renewables\": \"#0072B2\",\n",
    "    \"non_renewables\": \"#999999\",\n",
    "    \"hydro_pct\": \"#56B4E9\",\n",
    "    \"wind_pct\": \"#009E73\",\n",
    "    \"solar_pct\": \"#F0E442\",\n",
    "}\n",
    "\n",
    "fig, axes = plt.subplots(2, 1, figsize=(11, 9), sharex=True, gridspec_kw={\"height_ratios\": [1, 1.2]})\n",
    "\n",
    "ax_top = axes[0]\n",
    "ax_top.plot(\n",
    "    renewables_world[\"Year\"],\n",
    "    renewables_world[\"renewable_share_pct\"],\n",
    "    color=palette[\"renewables\"],\n",
    "    linewidth=2.2,\n",
    "    label=\"Renewables\",\n",
    ")\n",
    "ax_top.plot(\n",
    "    renewables_world[\"Year\"],\n",
    "    renewables_world[\"non_renewable_pct\"],\n",
    "    color=palette[\"non_renewables\"],\n",
    "    linewidth=1.5,\n",
    "    linestyle=\"--\",\n",
    "    label=\"Everything else\",\n",
    ")\n",
    "ax_top.set_ylabel(\"Share of energy (%)\")\n",
    "ax_top.legend(loc=\"upper right\", frameon=False)\n",
    "ax_top.set_title(TITLE, loc=\"left\")\n",
    "ax_top.text(0.01, 0.05, SUBTITLE, transform=ax_top.transAxes, fontsize=11, ha=\"left\")\n",
    "\n",
    "ax_bottom = axes[1]\n",
    "ax_bottom.stackplot(\n",
    "    renewables_world[\"Year\"],\n",
    "    renewables_world[\"hydro_pct\"],\n",
    "    renewables_world[\"wind_pct\"],\n",
    "    renewables_world[\"solar_pct\"],\n",
    "    labels=[\"Hydro\", \"Wind\", \"Solar\"],\n",
    "    colors=[palette[\"hydro_pct\"], palette[\"wind_pct\"], palette[\"solar_pct\"]],\n",
    "    alpha=0.85,\n",
    ")\n",
    "ax_bottom.set_ylabel(\"Renewable share (%)\")\n",
    "ax_bottom.legend(loc=\"upper left\", frameon=False)\n",
    "ax_bottom.text(0.01, -0.18, f\"{SOURCE} · {ANNOTATION}\", transform=ax_bottom.transAxes, fontsize=10, ha=\"left\")\n",
    "ax_bottom.set_xlabel(\"Year\")\n",
    "\n",
    "latest_year = renewables_world[\"Year\"].iloc[-1]\n",
    "latest_share = renewables_world[\"renewable_share_pct\"].iloc[-1]\n",
    "ax_top.annotate(\n",
    "    f\"{latest_year}: {latest_share:.1f}% renewables\",\n",
    "    xy=(latest_year, latest_share),\n",
    "    xytext=(latest_year - 15, latest_share + 5),\n",
    "    arrowprops=dict(arrowstyle=\"->\", color=\"#333333\"),\n",
    ")\n",
    "\n",
    "plt.tight_layout()\n",
    "plt.show()\n",
    "final_fig_path = save_last_fig(fig, \"day02_solution_plot.png\")"
   ]
  },
  {
   "cell_type": "markdown",
   "id": "4233f9e5",
   "metadata": {},
   "source": [
    "### 7. Interpret responsibly\n",
    "- **Key takeaway:** Renewables tripled their share of global energy since 2000, yet still supply <15% of total demand. Hydropower remains the backbone while wind and solar now drive growth.\n",
    "- **Uncertainty & caveats:** Share estimates depend on BP's energy accounting; the data exclude traditional biomass and newer technologies like geothermal; recent years may revise.\n",
    "- **What this plot cannot tell us:** It omits regional disparities, storage constraints, and absolute consumption volumes—pair with country-level data or per-capita metrics for deeper insight."
   ]
  },
  {
   "cell_type": "markdown",
   "id": "ebdf6952",
   "metadata": {},
   "source": [
    "### 8. Process micro-rubric\n",
    "| Step | Evidence of completion |\n",
    "| --- | --- |\n",
    "| Data loaded & validated | Required columns confirmed for all four CSVs |\n",
    "| Cleaning documented | World slices checked for expected year counts |\n",
    "| Story frame filled | Narrative checklist (title, subtitle, annotation, source, units) completed |\n",
    "| Visualization reviewed | Two-panel layout with colorblind-safe palette and annotations |\n",
    "| Reflection written | Takeaway plus limitations articulated |"
   ]
  }
 ],
 "metadata": {
  "colab": {
   "provenance": []
  },
  "kernelspec": {
   "display_name": "Python 3",
   "name": "python3"
  },
  "language_info": {
   "name": "python"
  }
 },
 "nbformat": 4,
 "nbformat_minor": 5
}