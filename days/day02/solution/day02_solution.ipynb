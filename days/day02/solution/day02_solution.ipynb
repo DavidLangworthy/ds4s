{
 "cells": [
  {
   "cell_type": "markdown",
   "id": "12ae199a",
   "metadata": {},
   "source": [
    "## 🔗 Open This Notebook in Google Colab\n",
    "\n",
    "[![Open In Colab](https://colab.research.google.com/assets/colab-badge.svg)](https://colab.research.google.com/github/DavidLangworthy/ds4s/blob/master/Day%202_%20Energy%20Mix%20Trends.ipynb)"
   ]
  },
  {
   "cell_type": "markdown",
   "id": "0e6a9aa3",
   "metadata": {},
   "source": [
    "# ⚡ Day 2 – Exploring the Global Energy Mix\n",
    "\n",
    "Today we practice multi-series storytelling: comparing the growth of **hydro, wind, solar, and total renewables** within the global energy system. The cadence stays the same — short loops that alternate reading, doing, and checking — but the datasets get wider and the narrative gets more nuanced."
   ]
  },
  {
   "cell_type": "markdown",
   "id": "3b960639",
   "metadata": {},
   "source": [
    "> **Teacher sidebar — pacing & differentiation**  \n",
    "> • Target time: ~50 minutes (story scaffold + four work loops + debrief).  \n",
    "> • Diagnostic anchors: `quick_snapshot` after each merge surfaces column misalignment quickly.  \n",
    "> • Differentiation: offer stretch goal to compute regional breakouts; support learners by pre-filtering the `World` subset in advance if needed.\n",
    "\n",
    "## 🗺️ Roadmap for Today\n",
    "\n",
    "Loop | Focus | What success looks like\n",
    "--- | --- | ---\n",
    "0 | Story scaffold | Claim and annotation drafted before coding\n",
    "1 | Load + filter | World-only tables with expected columns\n",
    "2 | Merge + tidy | One tidy DataFrame with % share columns\n",
    "3 | Self-diagnose | Checks for ranges, nulls, and inflection points\n",
    "4 | Visualize & interpret | Accessible multi-series chart + narrative takeaway"
   ]
  },
  {
   "cell_type": "markdown",
   "id": "887ed260",
   "metadata": {},
   "source": [
    "## 🗂️ Data Cards — Our World in Data Renewable Energy Series\n",
    "\n",
    "- **Sources**: Our World in Data, based on BP Statistical Review and Ember (released 2023).  \n",
    "- **Temporal coverage**: 1965 – 2022 (annual).  \n",
    "- **Units**: Percent share of primary energy consumption.  \n",
    "- **Method notes**: BP converts electricity to primary energy equivalents; solar/wind series become non-zero in late 20th century; revisions occur with BP annual updates.  \n",
    "- **Known caveats**: Hydro dominates early decades; negative values are not possible; missing values reflect years before technology adoption.  \n",
    "- **Update cadence**: Yearly, typically every June.\n",
    "\n",
    "> 🎯 **Integrity cue**: Always state that these are shares of *primary energy*, not final electricity. Comparing percentages keeps the scale honest and avoids overstating the role of a single technology."
   ]
  },
  {
   "cell_type": "code",
   "execution_count": null,
   "id": "4d2c6d07",
   "metadata": {},
   "outputs": [],
   "source": [
    "# Shared utilities for the DS4S course notebooks\n",
    "        from pathlib import Path\n",
    "        import pandas as pd\n",
    "        import numpy as np\n",
    "        import matplotlib.pyplot as plt\n",
    "        from IPython.display import display\n",
    "        import seaborn as sns\n",
    "\n",
    "        plt.style.use('seaborn-v0_8-whitegrid')\n",
    "        plt.rcParams.update({\n",
    "            'figure.dpi': 120,\n",
    "            'axes.titlesize': 16,\n",
    "            'axes.labelsize': 13,\n",
    "            'axes.titlepad': 12,\n",
    "            'figure.figsize': (10, 5),\n",
    "        })\n",
    "\n",
    "\n",
    "        def load_csv(path: Path, **read_kwargs) -> pd.DataFrame:\n",
    "            '''Load a CSV and report the basic shape.'''\n",
    "            df = pd.read_csv(path, **read_kwargs)\n",
    "            print(f\"✅ Loaded {path.name} with {df.shape[0]:,} rows and {df.shape[1]} columns\")\n",
    "            return df\n",
    "\n",
    "\n",
    "        def validate_columns(df: pd.DataFrame, required):\n",
    "            missing = [col for col in required if col not in df.columns]\n",
    "            if missing:\n",
    "                raise ValueError(f\"Missing columns: {missing}\")\n",
    "            print(f\"✅ Columns present: {', '.join(required)}\")\n",
    "\n",
    "\n",
    "        def expect_rows_between(df: pd.DataFrame, low: int, high: int):\n",
    "            rows = df.shape[0]\n",
    "            if not (low <= rows <= high):\n",
    "                raise ValueError(f\"Row count {rows} outside expected range {low}-{high}\")\n",
    "            print(f\"✅ Row count {rows} within expected {low}-{high}\")\n",
    "\n",
    "\n",
    "        def quick_snapshot(df: pd.DataFrame, name: str, n: int = 3):\n",
    "            print(f\"\n",
    "{name} snapshot → shape={df.shape}\")\n",
    "            print(\"Columns:\", list(df.columns))\n",
    "            print(\"Nulls:\n",
    "\", df.isna().sum())\n",
    "            display(df.head(n))\n",
    "\n",
    "\n",
    "        def ensure_story_elements(title: str, subtitle: str, annotation: str, source: str, units: str):\n",
    "            fields = {\n",
    "                'TITLE': title,\n",
    "                'SUBTITLE': subtitle,\n",
    "                'ANNOTATION': annotation,\n",
    "                'SOURCE': source,\n",
    "                'UNITS': units,\n",
    "            }\n",
    "            missing = [key for key, value in fields.items() if not str(value).strip()]\n",
    "            if missing:\n",
    "                raise ValueError(f\"Please complete these storytelling fields: {', '.join(missing)}\")\n",
    "            print(\"✅ Story scaffold complete →\", \", \".join(f\"{k}: {v}\" for k, v in fields.items()))\n",
    "            return fields\n",
    "\n",
    "\n",
    "        def save_last_fig(filename: str):\n",
    "            plots_dir = Path.cwd() / \"plots\"\n",
    "            plots_dir.mkdir(parents=True, exist_ok=True)\n",
    "            fig = plt.gcf()\n",
    "            if not fig.axes:\n",
    "                raise RuntimeError(\"Run the plotting cell before saving.\")\n",
    "            output_path = plots_dir / filename\n",
    "            fig.savefig(output_path, dpi=300, bbox_inches='tight')\n",
    "            print(f\"📁 Saved figure to {output_path}\")\n",
    "\n",
    "\n",
    "        def save_plotly_fig(fig, filename: str):\n",
    "            plots_dir = Path.cwd() / \"plots\"\n",
    "            plots_dir.mkdir(parents=True, exist_ok=True)\n",
    "            output_path = plots_dir / filename\n",
    "            fig.write_html(str(output_path))\n",
    "            print(f\"📁 Saved interactive figure to {output_path}\")"
   ]
  },
  {
   "cell_type": "markdown",
   "id": "cc85b63a",
   "metadata": {},
   "source": [
    "## 🔁 Loop 0 — Story scaffold (3 min)\n",
    "\n",
    "Draft the narrative frame before touching data. What change are we trying to reveal?"
   ]
  },
  {
   "cell_type": "code",
   "execution_count": null,
   "id": "e338397d",
   "metadata": {},
   "outputs": [],
   "source": [
    "TITLE = \"Renewables Quadrupled Their Share of Global Energy\"\n",
    "SUBTITLE = \"World primary energy mix, 1965–2022\"\n",
    "ANNOTATION = \"Solar and wind now supply ~13% of global primary energy combined.\"\n",
    "SOURCE = \"Our World in Data (BP Statistical Review 2023, Ember Solar/Wind supplement)\"\n",
    "UNITS = \"Share of primary energy (%)\"\n",
    "\n",
    "story_fields = ensure_story_elements(TITLE, SUBTITLE, ANNOTATION, SOURCE, UNITS)"
   ]
  },
  {
   "cell_type": "markdown",
   "id": "ad988e10",
   "metadata": {},
   "source": [
    "## 🔁 Loop 1 — Load and filter the World aggregates (8 min)\n",
    "\n",
    "We only need the `World` rows today. Use the shared helpers to load and validate each CSV."
   ]
  },
  {
   "cell_type": "code",
   "execution_count": null,
   "id": "1f315915",
   "metadata": {},
   "outputs": [],
   "source": [
    "data_dir = Path.cwd() / \"data\"\n",
    "renewables = load_csv(data_dir / \"01 renewable-share-energy.csv\")\n",
    "hydro = load_csv(data_dir / \"06 hydro-share-energy.csv\")\n",
    "wind = load_csv(data_dir / \"10 wind-share-energy.csv\")\n",
    "solar = load_csv(data_dir / \"14 solar-share-energy.csv\")\n",
    "\n",
    "for frame in [renewables, hydro, wind, solar]:\n",
    "    validate_columns(frame, [\"Entity\", \"Code\", \"Year\", frame.columns[-1]])\n",
    "\n",
    "world_frames = {\n",
    "    \"Total Renewable\": renewables.query(\"Entity == 'World'\")[[\"Year\", \"Renewables (% equivalent primary energy)\"]],\n",
    "    \"Hydro\": hydro.query(\"Entity == 'World'\")[[\"Year\", \"Hydro (% equivalent primary energy)\"]],\n",
    "    \"Wind\": wind.query(\"Entity == 'World'\")[[\"Year\", \"Wind (% equivalent primary energy)\"]],\n",
    "    \"Solar\": solar.query(\"Entity == 'World'\")[[\"Year\", \"Solar (% equivalent primary energy)\"]],\n",
    "}\n",
    "for name, df in world_frames.items():\n",
    "    expect_rows_between(df, 50, 70)"
   ]
  },
  {
   "cell_type": "code",
   "execution_count": null,
   "id": "6404930c",
   "metadata": {},
   "outputs": [],
   "source": [
    "for label, df in world_frames.items():\n",
    "    quick_snapshot(df.tail(), name=f\"{label} share (tail)\")"
   ]
  },
  {
   "cell_type": "markdown",
   "id": "c0799ce8",
   "metadata": {},
   "source": [
    "## 🔁 Loop 2 — Merge and tidy for plotting (8 min)\n",
    "\n",
    "Merge the technology-specific series into a single tidy DataFrame, then reshape to long form for plotting and diagnostics."
   ]
  },
  {
   "cell_type": "code",
   "execution_count": null,
   "id": "7012bc8b",
   "metadata": {},
   "outputs": [],
   "source": [
    "energy_wide = world_frames[\"Total Renewable\"].rename(columns={\"Renewables (% equivalent primary energy)\": \"Total Renewable\"})\n",
    "for name, df in world_frames.items():\n",
    "    if name == \"Total Renewable\":\n",
    "        continue\n",
    "    col_name = df.columns[-1]\n",
    "    energy_wide = energy_wide.merge(df.rename(columns={col_name: name}), on=\"Year\", how=\"left\")\n",
    "\n",
    "ergy_wide[\"Year\"] = energy_wide[\"Year\"].astype(int)\n",
    "energy_long = energy_wide.melt(id_vars=\"Year\", var_name=\"Source\", value_name=\"Share\")\n",
    "energy_long[\"Share\"] = energy_long[\"Share\"].clip(lower=0)\n",
    "energy_long = energy_long.dropna()\n",
    "quick_snapshot(energy_wide.tail(), name=\"Merged energy shares\")"
   ]
  },
  {
   "cell_type": "markdown",
   "id": "1a3fd384",
   "metadata": {},
   "source": [
    "## 🔁 Loop 3 — Self-diagnose with quick checks (6 min)\n",
    "\n",
    "Look for data quality issues before plotting:\n",
    "\n",
    "- Shares should stay between 0 and 100.  \n",
    "- Total renewable share should exceed the sum of solar + wind alone.  \n",
    "- Growth should accelerate after ~2000."
   ]
  },
  {
   "cell_type": "code",
   "execution_count": null,
   "id": "fb480c8e",
   "metadata": {},
   "outputs": [],
   "source": [
    "assert energy_long[\"Share\"].between(0, 100).all(), \"Energy shares should stay within 0-100%.\"\n",
    "recent = energy_wide.query(\"Year >= 2000\")\n",
    "print(\"Average renewable share since 2000: {:.1f}%\".format(recent[\"Total Renewable\"].mean()))\n",
    "print(\n",
    "    \"Solar + Wind share 2022: {:.1f}%\".format(\n",
    "        energy_wide.loc[energy_wide[\"Year\"].idxmax(), [\"Wind\", \"Solar\"]].sum()\n",
    "    )\n",
    ")\n",
    "quick_snapshot(energy_long.query(\"Year in [1970, 2000, 2022]\").head(6), name=\"Sample long-form rows\")"
   ]
  },
  {
   "cell_type": "markdown",
   "id": "465dfe64",
   "metadata": {},
   "source": [
    "## 🔁 Loop 4 — Visualize responsibly (12 min)\n",
    "\n",
    "Use a colorblind-safe palette, label every axis, and highlight the inflection when wind and solar accelerate. Finish with the Claim → Evidence table."
   ]
  },
  {
   "cell_type": "code",
   "execution_count": null,
   "id": "e0a8f168",
   "metadata": {},
   "outputs": [],
   "source": [
    "sns.set_theme(style=\"whitegrid\")\n",
    "color_map = dict(\n",
    "    zip(\n",
    "        [\"Total Renewable\", \"Hydro\", \"Wind\", \"Solar\"],\n",
    "        sns.color_palette(\"colorblind\", 4),\n",
    "    )\n",
    ")\n",
    "fig, ax = plt.subplots()\n",
    "for source, group in energy_long.groupby(\"Source\"):\n",
    "    ax.plot(group[\"Year\"], group[\"Share\"], label=source, linewidth=2.5, color=color_map[source])\n",
    "ax.set_title(TITLE)\n",
    "ax.set_xlabel(\"Year\")\n",
    "ax.set_ylabel(UNITS)\n",
    "ax.set_ylim(0, max(energy_wide[[\"Total Renewable\", \"Hydro\", \"Wind\", \"Solar\"]].max()) + 5)\n",
    "ax.legend(title=\"Source\", loc=\"upper left\")\n",
    "inflection_year = 2010\n",
    "inflection_value = energy_wide.set_index(\"Year\").loc[inflection_year, \"Wind\"] + energy_wide.set_index(\"Year\").loc[inflection_year, \"Solar\"]\n",
    "ax.annotate(\n",
    "    ANNOTATION,\n",
    "    xy=(2022, energy_wide.set_index(\"Year\").loc[2022, [\"Wind\", \"Solar\"]].sum()),\n",
    "    xytext=(1995, 25),\n",
    "    arrowprops=dict(arrowstyle=\"->\", color=\"#444444\"),\n",
    "    bbox=dict(boxstyle=\"round,pad=0.3\", fc=\"white\", ec=\"#666666\"),\n",
    ")\n",
    "ax.text(\n",
    "    0.01,\n",
    "    -0.2,\n",
    "    f\"{SOURCE} | Units: {UNITS}\",\n",
    "    transform=ax.transAxes,\n",
    "    fontsize=10,\n",
    "    color=\"#555555\",\n",
    ")\n",
    "plt.suptitle(SUBTITLE, fontsize=13, y=1.02, color=\"#444444\")\n",
    "plt.tight_layout()\n",
    "plt.show()"
   ]
  },
  {
   "cell_type": "code",
   "execution_count": null,
   "id": "5e628a2e",
   "metadata": {},
   "outputs": [],
   "source": [
    "assert energy_wide[\"Total Renewable\"].iloc[-1] >= energy_wide[[\"Wind\", \"Solar\"]].sum(axis=1).iloc[-1]\n",
    "print(\"Latest total renewable share: {:.1f}%\".format(energy_wide[\"Total Renewable\"].iloc[-1]))"
   ]
  },
  {
   "cell_type": "code",
   "execution_count": null,
   "id": "7a3ce637",
   "metadata": {},
   "outputs": [],
   "source": [
    "from IPython.display import Markdown\n",
    "\n",
    "claim = \"Renewables moved from niche to mainstream in the global energy mix.\"\n",
    "evidence = (\n",
    "    \"Total renewable share climbed from ~6% in 1965 to nearly 15% today, while wind+solar jumped from near-zero to double digits.\"\n",
    ")\n",
    "visual = \"Four-line Matplotlib chart with colorblind-safe palette and annotated 2022 milestone.\"\n",
    "takeaway = \"Energy transitions compound slowly, so celebrating growth means acknowledging hydro’s legacy and the recent surge of wind+solar.\"\n",
    "Markdown(\n",
    "    f\"\"\"\n",
    "| Claim | Evidence | Visual | Takeaway |\n",
    "| --- | --- | --- | --- |\n",
    "| {claim} | {evidence} | {visual} | {takeaway} |\n",
    "\"\"\"\n",
    ")"
   ]
  },
  {
   "cell_type": "markdown",
   "id": "e856b7dc",
   "metadata": {},
   "source": [
    "## 💾 Save the figure for the teacher dashboard"
   ]
  },
  {
   "cell_type": "code",
   "execution_count": null,
   "id": "1e979ce9",
   "metadata": {},
   "outputs": [],
   "source": [
    "save_last_fig(\"day02_solution_plot.png\")"
   ]
  },
  {
   "cell_type": "markdown",
   "id": "7f5173fc",
   "metadata": {},
   "source": [
    "## ✅ Exit Ticket\n",
    "\n",
    "- Which renewable technology changed the fastest after 2010?  \n",
    "- What questions would you ask about regions hidden inside the `World` aggregate?  \n",
    "- How might you extend this chart for fast finishers (e.g., add stacked area or regional comparison)?"
   ]
  }
 ],
 "metadata": {},
 "nbformat": 4,
 "nbformat_minor": 5
}