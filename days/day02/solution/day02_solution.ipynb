{
 "cells": [
  {
   "cell_type": "markdown",
   "id": "ff9ccbc8",
   "metadata": {},
   "source": [
    "## 🔗 Open This Notebook in Google Colab\n",
    "\n",
    "[![Open In Colab](https://colab.research.google.com/assets/colab-badge.svg)](https://colab.research.google.com/github/DavidLangworthy/ds4s/blob/master/days/day02/notebook/day02_starter.ipynb)"
   ]
  },
  {
   "cell_type": "markdown",
   "id": "cf9f6cf5",
   "metadata": {},
   "source": [
    "# ⚡ Day 2 – Tracking the Renewable Energy Transition\n",
    "We continue with short learn–do cycles. Each section nudges the data a little further so you can constantly confirm understanding before layering more complexity."
   ]
  },
  {
   "cell_type": "markdown",
   "id": "8ccece27",
   "metadata": {},
   "source": [
    "## 🗂️ Data Card: Global Energy Mix\n",
    "- **Source:** Our World in Data, based on BP Statistical Review and IEA conversions.\n",
    "- **Temporal coverage:** 1965–2021, annual.\n",
    "- **Units:** Share of primary energy from renewables (%). Separate files track hydro, wind, solar.\n",
    "- **Last updated:** July 2022 (snapshotted for this course).\n",
    "- **Method notes:** Energy expressed as share of total primary energy demand using BP's substitution method.\n",
    "- **Caveats:** Country definitions follow BP; shares can exceed 100% in edge cases if totals are revised.\n",
    "- **Integrity prompt:** How might stacked area choices mislead (e.g., order of layers, color saturation)? Commit to one tactic that keeps interpretation honest."
   ]
  },
  {
   "cell_type": "markdown",
   "id": "c983da86",
   "metadata": {},
   "source": [
    "## Story Scaffold Reminder\n",
    "- **Claim:** What shift in the energy mix are you highlighting?\n",
    "- **Evidence:** Which metrics show that shift?\n",
    "- **Visual:** How do color, ordering, and axes make the comparison fair?\n",
    "- **Takeaway:** Draft the sentence you want a policymaker to repeat."
   ]
  },
  {
   "cell_type": "markdown",
   "id": "ce308a00",
   "metadata": {},
   "source": [
    "## Step 0 · Imports and styling"
   ]
  },
  {
   "cell_type": "code",
   "execution_count": null,
   "id": "3ac4975e",
   "metadata": {},
   "outputs": [],
   "source": [
    "from pathlib import Path\n",
    "\n",
    "import matplotlib.pyplot as plt\n",
    "import pandas as pd\n",
    "import seaborn as sns\n",
    "\n",
    "from days.utils import (\n",
    "    add_story_footer,\n",
    "    baseline_style,\n",
    "    check_story_metadata,\n",
    "    load_data,\n",
    "    quick_diagnostics,\n",
    "    save_last_fig,\n",
    ")\n",
    "\n",
    "baseline_style()\n",
    "sns.set_palette([\"#2F4B7C\", \"#59A14F\", \"#F28E2B\", \"#E15759\"])"
   ]
  },
  {
   "cell_type": "markdown",
   "id": "a364570c",
   "metadata": {},
   "source": [
    "## Step 1 · Load the renewable datasets\n",
    "Focus on the world totals so you can compare the mix over time without worrying about country-level differences yet."
   ]
  },
  {
   "cell_type": "code",
   "execution_count": null,
   "id": "2ebd9943",
   "metadata": {},
   "outputs": [],
   "source": [
    "total = load_data(\"data/01 renewable-share-energy.csv\")\n",
    "hydro = load_data(\"data/06 hydro-share-energy.csv\")\n",
    "wind = load_data(\"data/10 wind-share-energy.csv\")\n",
    "solar = load_data(\"data/14 solar-share-energy.csv\")\n",
    "\n",
    "world_filters = total[\"Entity\"] == \"World\"\n",
    "renewables_world = (\n",
    "    total.loc[world_filters, [\"Year\", \"Renewables (% equivalent primary energy)\"]]\n",
    "    .rename(columns={\"Renewables (% equivalent primary energy)\": \"RenewableShare\"})\n",
    ")\n",
    "renewables_world = renewables_world.merge(\n",
    "    hydro.loc[world_filters, [\"Year\", \"Hydro (% equivalent primary energy)\"]],\n",
    "    on=\"Year\",\n",
    ").merge(\n",
    "    wind.loc[world_filters, [\"Year\", \"Wind (% equivalent primary energy)\"]],\n",
    "    on=\"Year\",\n",
    ").merge(\n",
    "    solar.loc[world_filters, [\"Year\", \"Solar (% equivalent primary energy)\"]],\n",
    "    on=\"Year\",\n",
    ")\n",
    "renewables_world = renewables_world.rename(\n",
    "    columns={\n",
    "        \"Hydro (% equivalent primary energy)\": \"Hydro\",\n",
    "        \"Wind (% equivalent primary energy)\": \"Wind\",\n",
    "        \"Solar (% equivalent primary energy)\": \"Solar\",\n",
    "    }\n",
    ").sort_values(\"Year\").reset_index(drop=True)"
   ]
  },
  {
   "cell_type": "code",
   "execution_count": null,
   "id": "7d1c293b",
   "metadata": {},
   "outputs": [],
   "source": [
    "quick_diagnostics(\n",
    "    renewables_world,\n",
    "    expected_columns=[\"Year\", \"RenewableShare\", \"Hydro\", \"Wind\", \"Solar\"],\n",
    "    rows_between=(50, 60),\n",
    ")\n",
    "print(\"Expected: 57 annual rows for 1965–2021 with percentage values between 0 and ~30.\")"
   ]
  },
  {
   "cell_type": "markdown",
   "id": "e306f697",
   "metadata": {},
   "source": [
    "## Step 2 · Prepare long-form data for stacking\n",
    "Transform the wide table into a tidy layout so you can reuse it for multiple charts and calculations."
   ]
  },
  {
   "cell_type": "code",
   "execution_count": null,
   "id": "33a09e89",
   "metadata": {},
   "outputs": [],
   "source": [
    "composition_long = renewables_world.melt(\n",
    "    id_vars=[\"Year\", \"RenewableShare\"],\n",
    "    value_vars=[\"Hydro\", \"Wind\", \"Solar\"],\n",
    "    var_name=\"Source\",\n",
    "    value_name=\"Share\",\n",
    ")\")"
   ]
  },
  {
   "cell_type": "code",
   "execution_count": null,
   "id": "cc5e085c",
   "metadata": {},
   "outputs": [],
   "source": [
    "quick_diagnostics(\n",
    "    composition_long.head(15),\n",
    "    expected_columns=[\"Year\", \"RenewableShare\", \"Source\", \"Share\"],\n",
    "    rows_between=(150, 200),\n",
    "    head_rows=5,\n",
    ")\n",
    "print(\"Check: three rows per year — one for each source.\")"
   ]
  },
  {
   "cell_type": "markdown",
   "id": "0a3c37f1",
   "metadata": {},
   "source": [
    "## Step 3 · Interim progress check\n",
    "Plot the total renewable share to confirm the overall trajectory before layering the individual technologies.\n",
    "\n",
    "![Interim preview – line chart climbing from 5% to ~15%.](../../plots/day02_solution_plot.png)"
   ]
  },
  {
   "cell_type": "code",
   "execution_count": null,
   "id": "97dbe58b",
   "metadata": {},
   "outputs": [],
   "source": [
    "fig, ax = plt.subplots(figsize=(10, 5))\n",
    "ax.plot(renewables_world[\"Year\"], renewables_world[\"RenewableShare\"], color=\"#2F4B7C\", linewidth=2)\n",
    "ax.set_xlabel(\"Year\")\n",
    "ax.set_ylabel(\"Share of global primary energy from renewables (%)\")\n",
    "ax.set_title(\"Draft: Renewable share is steadily rising\")\n",
    "ax.set_ylim(0, max(renewables_world[\"RenewableShare\"]) + 5)\n",
    "plt.show()"
   ]
  },
  {
   "cell_type": "markdown",
   "id": "4f01862b",
   "metadata": {},
   "source": [
    "## Step 4 · Story metadata"
   ]
  },
  {
   "cell_type": "code",
   "execution_count": null,
   "id": "70516e63",
   "metadata": {},
   "outputs": [],
   "source": [
    "TITLE = \"Renewables tripled their share, but the race is far from done\"\n",
    "SUBTITLE = \"World primary energy mix, 1965–2021\"\n",
    "ANNOTATION = \"Wind and solar now supply nearly as much energy as hydropower combined.\"\n",
    "SOURCE = \"Source: Our World in Data (BP Statistical Review 2022 edition)\"\n",
    "UNITS = \"Units: Share of total primary energy (%)\"\n",
    "\n",
    "check_story_metadata(\n",
    "    TITLE=TITLE,\n",
    "    SUBTITLE=SUBTITLE,\n",
    "    ANNOTATION=ANNOTATION,\n",
    "    SOURCE=SOURCE,\n",
    "    UNITS=UNITS,\n",
    ")"
   ]
  },
  {
   "cell_type": "markdown",
   "id": "6abee314",
   "metadata": {},
   "source": [
    "## Step 5 · Final stacked area story\n",
    "Layer the renewable sources, annotate the combined impact, and retain a single y-axis to keep interpretation honest."
   ]
  },
  {
   "cell_type": "code",
   "execution_count": null,
   "id": "d9731a88",
   "metadata": {},
   "outputs": [],
   "source": [
    "fig, ax = plt.subplots(figsize=(11, 6))\n",
    "sources = [\"Hydro\", \"Wind\", \"Solar\"]\n",
    "colors = [\"#2F4B7C\", \"#59A14F\", \"#F28E2B\"]\n",
    "ax.stackplot(\n",
    "    renewables_world[\"Year\"],\n",
    "    [renewables_world[src] for src in sources],\n",
    "    labels=sources,\n",
    "    colors=colors,\n",
    "    alpha=0.85,\n",
    ")\n",
    "ax.plot(renewables_world[\"Year\"], renewables_world[\"RenewableShare\"], color=\"#1D3557\", linewidth=2.5, label=\"Total renewable share\")\n",
    "ax.set_title(f\"{TITLE}\\n{SUBTITLE}\")\n",
    "ax.set_xlabel(\"Year\")\n",
    "ax.set_ylabel(\"Share of global primary energy (%)\")\n",
    "ax.set_ylim(0, max(renewables_world[\"RenewableShare\"]) + 5)\n",
    "ax.legend(loc=\"upper left\", frameon=False)\n",
    "latest = renewables_world.iloc[-1]\n",
    "ax.annotate(\n",
    "    ANNOTATION,\n",
    "    xy=(latest[\"Year\"], latest[\"RenewableShare\"]),\n",
    "    xytext=(latest[\"Year\"] - 15, latest[\"RenewableShare\"] + 5),\n",
    "    arrowprops=dict(arrowstyle=\"->\", color=\"#1D3557\"),\n",
    "    fontsize=11,\n",
    "    color=\"#1D3557\",\n",
    ")\n",
    "add_story_footer(ax, source=SOURCE, units=UNITS)\n",
    "plt.show()"
   ]
  },
  {
   "cell_type": "markdown",
   "id": "fc49412f",
   "metadata": {},
   "source": [
    "## Step 6 · Interpret using the scaffold\n",
    "- **Claim:** Renewable energy's share of global primary demand has climbed from ~5% to ~15%, powered by wind and solar gains.\n",
    "- **Evidence:** Hydro dominated until the 2000s; wind and solar contributions accelerate after 2010, pushing the total curve upward.\n",
    "- **Visual:** A stackplot with a contrasting outline reinforces that the total share is what matters for climate goals.\n",
    "- **Takeaway:** “Wind and solar growth finally matches hydropower, but renewables still supply barely one-sixth of the world’s energy — we need faster scaling.”"
   ]
  },
  {
   "cell_type": "markdown",
   "id": "f4ceef13",
   "metadata": {},
   "source": [
    "### What the chart does not show\n",
    "- Fossil fuel absolute consumption is still rising; add a companion chart if discussing emissions.\n",
    "- Shares hide efficiency and demand trends — consider energy intensity or total TWh for deeper analysis.\n",
    "- Country-level disparities matter for policy; suggest an extension where students explore leaders and laggards."
   ]
  },
  {
   "cell_type": "markdown",
   "id": "bc27ed41",
   "metadata": {},
   "source": [
    "## Step 7 · Save the output"
   ]
  },
  {
   "cell_type": "code",
   "execution_count": null,
   "id": "bfc21d9e",
   "metadata": {},
   "outputs": [],
   "source": [
    "save_last_fig(\"day02_solution_plot.png\")"
   ]
  }
 ],
 "metadata": {},
 "nbformat": 4,
 "nbformat_minor": 5
}
