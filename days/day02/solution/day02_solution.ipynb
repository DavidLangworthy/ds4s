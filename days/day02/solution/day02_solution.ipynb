{
 "cells": [
  {
   "cell_type": "markdown",
   "id": "4cc9bc5a",
   "metadata": {},
   "source": [
    "## 🔗 Open Solution in Google Colab\n",
    "\n",
    "[![Open Solution in Colab](https://colab.research.google.com/assets/colab-badge.svg)](https://colab.research.google.com/github/DavidLangworthy/ds4s/blob/master/days/day02/solution/day02_solution.ipynb)"
   ]
  },
  {
   "cell_type": "markdown",
   "id": "4f6b7057",
   "metadata": {},
   "source": [
    "# ⚡ Day 2 – Tracking the Renewable Energy Transition\n",
    "\n",
    "Today you will layer multiple datasets to see how the world’s energy mix is changing. Each step builds toward a story-ready comparison of total renewable share and the technologies driving it."
   ]
  },
  {
   "cell_type": "markdown",
   "id": "92cfdd2a",
   "metadata": {},
   "source": [
    "### Data Card — Our World in Data: Energy Mix (1965–2022)\n",
    "\n",
    "| Dataset | Coverage | Units | Notes & Caveats |\n",
    "| --- | --- | --- | --- |\n",
    "| `01 renewable-share-energy.csv` | Global + countries, annual | % of primary energy from renewables | Derived from BP Statistical Review; revisions released yearly. |\n",
    "| `06 hydro-share-energy.csv` | Global + countries, annual | % share | Hydro share of total primary energy. |\n",
    "| `10 wind-share-energy.csv` | Global + countries, annual | % share | Wind generation share; minor gaps interpolated. |\n",
    "| `14 solar-share-energy.csv` | Global + countries, annual | % share | Solar share; early years sparse (<1990). |\n",
    "| Metadata | Updated July 2024 | Percent of primary energy consumption | Shares may not sum to 100% because other renewables (bioenergy, geothermal) are excluded. |\n"
   ]
  },
  {
   "cell_type": "markdown",
   "id": "f751e71f",
   "metadata": {},
   "source": [
    "### Step 1 · Imports and shared helpers\n",
    "\n",
    "We will use pandas for wrangling plus Matplotlib/Seaborn for plotting."
   ]
  },
  {
   "cell_type": "code",
   "execution_count": null,
   "id": "300f70c9",
   "metadata": {},
   "outputs": [],
   "source": [
    "# Ensure shared helpers are available when running on Google Colab\n",
    "import pathlib\n",
    "import urllib.request\n",
    "\n",
    "UTILS_PATH = pathlib.Path(\"utils.py\")\n",
    "if not UTILS_PATH.exists():\n",
    "    UTILS_URL = \"https://raw.githubusercontent.com/DavidLangworthy/ds4s/master/utils.py\"\n",
    "    print(\"Fetching shared helper module…\")\n",
    "    UTILS_PATH.write_bytes(urllib.request.urlopen(UTILS_URL).read())\n",
    "\n",
    "import pandas as pd\n",
    "import matplotlib.pyplot as plt\n",
    "import seaborn as sns\n",
    "\n",
    "from utils import (\n",
    "    baseline_style,\n",
    "    expect_rows_between,\n",
    "    load_csv,\n",
    "    quick_check,\n",
    "    save_last_fig,\n",
    "    validate_columns,\n",
    "    validate_story_elements,\n",
    ")\n",
    "\n",
    "sns.set_palette(\"deep\")\n",
    "baseline_style()\n"
   ]
  },
  {
   "cell_type": "markdown",
   "id": "d4f015d7",
   "metadata": {},
   "source": [
    "### Step 2 · Load the global renewable share dataset\n",
    "\n",
    "Start with the total renewable share to anchor the analysis."
   ]
  },
  {
   "cell_type": "code",
   "execution_count": null,
   "id": "a0a37c66",
   "metadata": {},
   "outputs": [],
   "source": [
    "renewable_total = load_csv(\"data/01 renewable-share-energy.csv\")\n",
    "quick_check(renewable_total, name=\"Renewable share (all entities)\")\n"
   ]
  },
  {
   "cell_type": "markdown",
   "id": "a5f6f599",
   "metadata": {},
   "source": [
    "<details>\n",
    "<summary>Need a nudge?</summary>\n",
    "\n",
    "- Expect columns like `Entity`, `Code`, `Year`, `Renewables (% equivalent primary energy)`.\n",
    "- If your dataset looks empty, check the relative path and quoting (note the leading `01`).\n",
    "\n",
    "</details>"
   ]
  },
  {
   "cell_type": "markdown",
   "id": "ae4f3462",
   "metadata": {},
   "source": [
    "### Step 3 · Focus on the world aggregate\n",
    "\n",
    "Filtering early prevents mix-ups when merging technology-level series."
   ]
  },
  {
   "cell_type": "code",
   "execution_count": null,
   "id": "ebfc7cf5",
   "metadata": {},
   "outputs": [],
   "source": [
    "world_total = renewable_total.loc[\n",
    "    renewable_total[\"Entity\"] == \"World\",\n",
    "    [\"Year\", \"Renewables (% equivalent primary energy)\"]\n",
    "].rename(columns={\"Renewables (% equivalent primary energy)\": \"TotalRenewables\"})\n",
    "\n",
    "validate_columns(world_total, [\"Year\", \"TotalRenewables\"])\n",
    "expect_rows_between(world_total, minimum=50, maximum=70)\n",
    "quick_check(world_total.tail(), name=\"World renewable share\")\n"
   ]
  },
  {
   "cell_type": "markdown",
   "id": "da3ef02a",
   "metadata": {},
   "source": [
    "### Step 4 · Load the technology-specific shares\n",
    "\n",
    "Repeat the pattern for hydro, wind, and solar."
   ]
  },
  {
   "cell_type": "code",
   "execution_count": null,
   "id": "bcc9e794",
   "metadata": {},
   "outputs": [],
   "source": [
    "hydro = load_csv(\"data/06 hydro-share-energy.csv\")\n",
    "wind = load_csv(\"data/10 wind-share-energy.csv\")\n",
    "solar = load_csv(\"data/14 solar-share-energy.csv\")\n",
    "\n",
    "for label, frame in {\"Hydro\": hydro, \"Wind\": wind, \"Solar\": solar}.items():\n",
    "    quick_check(frame.head(), name=f\"{label} share (preview)\")\n"
   ]
  },
  {
   "cell_type": "markdown",
   "id": "f8db7f2f",
   "metadata": {},
   "source": [
    "<details>\n",
    "<summary>Check your columns</summary>\n",
    "\n",
    "- Hydro column: `Hydro (% equivalent primary energy)`\n",
    "- Wind column: `Wind (% equivalent primary energy)`\n",
    "- Solar column: `Solar (% equivalent primary energy)`\n",
    "\n",
    "</details>"
   ]
  },
  {
   "cell_type": "markdown",
   "id": "01b2485f",
   "metadata": {},
   "source": [
    "### Step 5 · Align on the world totals and merge\n",
    "\n",
    "Keep each series tidy before combining."
   ]
  },
  {
   "cell_type": "code",
   "execution_count": null,
   "id": "49ec9a5a",
   "metadata": {},
   "outputs": [],
   "source": [
    "world_sources = []\n",
    "for label, frame, value_col in [\n",
    "    (\"Hydro\", hydro, \"Hydro (% equivalent primary energy)\"),\n",
    "    (\"Wind\", wind, \"Wind (% equivalent primary energy)\"),\n",
    "    (\"Solar\", solar, \"Solar (% equivalent primary energy)\"),\n",
    "]:\n",
    "    subset = frame.loc[frame[\"Entity\"] == \"World\", [\"Year\", value_col]].rename(columns={value_col: label})\n",
    "    world_sources.append(subset)\n",
    "\n",
    "world_mix = world_total.copy()\n",
    "for piece in world_sources:\n",
    "    world_mix = world_mix.merge(piece, on=\"Year\", how=\"left\")\n",
    "\n",
    "validate_columns(world_mix, [\"Year\", \"TotalRenewables\", \"Hydro\", \"Wind\", \"Solar\"])\n",
    "quick_check(world_mix.tail(), name=\"World renewable mix\")\n"
   ]
  },
  {
   "cell_type": "markdown",
   "id": "41e39743",
   "metadata": {},
   "source": [
    "### Step 6 · Reshape for flexible plotting\n",
    "\n",
    "A long format simplifies stacked areas and grouped bars."
   ]
  },
  {
   "cell_type": "code",
   "execution_count": null,
   "id": "2e77a4fd",
   "metadata": {},
   "outputs": [],
   "source": [
    "world_long = world_mix.melt(\n",
    "    id_vars=\"Year\",\n",
    "    value_vars=[\"Hydro\", \"Wind\", \"Solar\"],\n",
    "    var_name=\"Technology\",\n",
    "    value_name=\"Share\",\n",
    ")\n",
    "quick_check(world_long.tail(), name=\"Long-format renewables\")\n"
   ]
  },
  {
   "cell_type": "markdown",
   "id": "bf74bda9",
   "metadata": {},
   "source": [
    "### Step 7 · Story checklist\n",
    "\n",
    "Fill in the narrative scaffolding before rendering charts."
   ]
  },
  {
   "cell_type": "code",
   "execution_count": null,
   "id": "f61cd3d4",
   "metadata": {},
   "outputs": [],
   "source": [
    "story = {\n",
    "    \"title\": \"Renewables Triple, but Fossil Fuels Still Dominate\",\n",
    "    \"subtitle\": \"Global share of primary energy from renewables and the mix of hydro, wind, and solar (1965–2022)\",\n",
    "    \"annotation\": \"Wind and solar now provide >6% combined—small but accelerating since 2005.\",\n",
    "    \"source\": \"Our World in Data, BP Statistical Review 2024 edition\",\n",
    "    \"units\": \"% of primary energy\",\n",
    "}\n",
    "validate_story_elements(story)\n"
   ]
  },
  {
   "cell_type": "markdown",
   "id": "3500ea0e",
   "metadata": {},
   "source": [
    "### Step 8 · Line plot of the global renewable share\n",
    "\n",
    "Confirm the curve climbs steadily after 2000."
   ]
  },
  {
   "cell_type": "code",
   "execution_count": null,
   "id": "b5b7842f",
   "metadata": {},
   "outputs": [],
   "source": [
    "fig, ax = plt.subplots(figsize=(10, 5))\n",
    "ax.plot(world_mix[\"Year\"], world_mix[\"TotalRenewables\"], color=\"#2a9d8f\", linewidth=2.2, marker=\"o\", label=\"Total renewables\")\n",
    "ax.fill_between(world_mix[\"Year\"], world_mix[\"TotalRenewables\"], color=\"#2a9d8f\", alpha=0.1)\n",
    "ax.set_title(story[\"title\"], pad=14)\n",
    "ax.set_xlabel(\"Year\")\n",
    "ax.set_ylabel(story[\"units\"])\n",
    "ax.grid(alpha=0.3)\n",
    "ax.text(0.01, -0.2, f\"Source: {story['source']}\", transform=ax.transAxes, fontsize=9, ha=\"left\")\n",
    "annotation_y = world_mix.loc[world_mix[\"Year\"] == 2015, \"TotalRenewables\"].iloc[0]\n",
    "ax.annotate(\n",
    "    story[\"annotation\"],\n",
    "    xy=(2015, annotation_y),\n",
    "    xytext=(1995, 22),\n",
    "    arrowprops=dict(arrowstyle=\"->\", color=\"#555\"),\n",
    "    fontsize=11,\n",
    ")\n",
    "plt.tight_layout()\n",
    "plt.show()\n"
   ]
  },
  {
   "cell_type": "markdown",
   "id": "186715d2",
   "metadata": {},
   "source": [
    "<details>\n",
    "<summary>Quick diagnostic</summary>\n",
    "\n",
    "- Hovering around 5% in 2000, reaching ~15% by 2022.\n",
    "- If the line is flat, double-check you filtered for `World`.\n",
    "\n",
    "</details>"
   ]
  },
  {
   "cell_type": "markdown",
   "id": "f8f7d926",
   "metadata": {},
   "source": [
    "### Step 9 · Stacked area chart for the technology mix\n",
    "\n",
    "Expect hydro to dominate early years, with wind and solar climbing after 2005."
   ]
  },
  {
   "cell_type": "code",
   "execution_count": null,
   "id": "10d7410b",
   "metadata": {},
   "outputs": [],
   "source": [
    "fig_stack, ax_stack = plt.subplots(figsize=(10, 5))\n",
    "tech_order = [\"Hydro\", \"Wind\", \"Solar\"]\n",
    "colors = [\"#264653\", \"#e76f51\", \"#f4a261\"]\n",
    "ax_stack.stackplot(\n",
    "    world_mix[\"Year\"],\n",
    "    *(world_mix[tech] for tech in tech_order),\n",
    "    labels=tech_order,\n",
    "    colors=colors,\n",
    "    alpha=0.85,\n",
    ")\n",
    "ax_stack.set_xlabel(\"Year\")\n",
    "ax_stack.set_ylabel(story[\"units\"])\n",
    "ax_stack.set_title(\"What powers global renewables?\")\n",
    "ax_stack.legend(loc=\"upper left\")\n",
    "ax_stack.grid(alpha=0.25)\n",
    "plt.tight_layout()\n",
    "plt.show()\n"
   ]
  },
  {
   "cell_type": "markdown",
   "id": "31a68228",
   "metadata": {},
   "source": [
    "### Step 10 · Compare the latest year with a bar chart\n",
    "\n",
    "A grouped bar clarifies the current composition."
   ]
  },
  {
   "cell_type": "code",
   "execution_count": null,
   "id": "eda6aa04",
   "metadata": {},
   "outputs": [],
   "source": [
    "latest_year = int(world_mix[\"Year\"].max())\n",
    "latest_mix = world_long.loc[world_long[\"Year\"] == latest_year]\n",
    "fig_bar, ax_bar = plt.subplots(figsize=(6, 4))\n",
    "sns.barplot(data=latest_mix, x=\"Technology\", y=\"Share\", palette=colors, ax=ax_bar)\n",
    "ax_bar.set_title(f\"Renewable mix in {latest_year}\")\n",
    "ax_bar.set_ylabel(story[\"units\"])\n",
    "ax_bar.set_xlabel(\"Technology\")\n",
    "ax_bar.grid(axis=\"y\", alpha=0.3)\n",
    "plt.tight_layout()\n",
    "plt.show()\n"
   ]
  },
  {
   "cell_type": "markdown",
   "id": "ef27a940",
   "metadata": {},
   "source": [
    "### Step 11 · Save your favourite figure\n",
    "\n",
    "Pick the chart that best communicates your story before moving on."
   ]
  },
  {
   "cell_type": "code",
   "execution_count": null,
   "id": "b91f3a40",
   "metadata": {},
   "outputs": [],
   "source": [
    "save_last_fig(fig_stack, \"plots/day02_solution_stack.png\")\n"
   ]
  },
  {
   "cell_type": "markdown",
   "id": "5a3433c0",
   "metadata": {},
   "source": [
    "### Step 12 · Reflection prompts\n",
    "\n",
    "- Which checkpoints surfaced issues before plotting?\n",
    "- What headline will you give this comparison?\n",
    "- Identify one uncertainty (e.g., missing other renewables) to note in discussion."
   ]
  }
 ],
 "metadata": {
  "kernelspec": {
   "display_name": "Python 3",
   "language": "python",
   "name": "python3"
  }
 },
 "nbformat": 4,
 "nbformat_minor": 5
}
