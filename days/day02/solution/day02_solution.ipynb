{
 "cells": [
  {
   "cell_type": "markdown",
   "id": "fcca8bd9",
   "metadata": {},
   "source": [
    "## 🔗 Open This Notebook in Google Colab\n",
    "\n",
    "[![Open In Colab](https://colab.research.google.com/assets/colab-badge.svg)](https://colab.research.google.com/github/DavidLangworthy/ds4s/blob/master/days/day02/notebook/day02_starter.ipynb)"
   ]
  },
  {
   "cell_type": "markdown",
   "id": "f5efc946",
   "metadata": {},
   "source": [
    "# ⚡ Day 2 – Fossil Fuels vs. Renewables\n",
    "### Comparing the changing global energy mix\n",
    "\n",
    "We'll track how the world's energy sources have shifted over the past two decades and build a grouped bar chart that shows fossil fuels giving way to renewables."
   ]
  },
  {
   "cell_type": "markdown",
   "id": "b327da52",
   "metadata": {},
   "source": [
    "#### Data card: Our World in Data – Energy mix\n",
    "* **Sources:** [Our World in Data](https://ourworldindata.org/energy) (BP Statistical Review, Ember, IEA).\n",
    "* **Temporal coverage:** 1965–2023 for most fuels.\n",
    "* **Units:** Share of global primary energy (%).\n",
    "* **Refresh cadence:** Updated annually; downloaded September 2024.\n",
    "* **Caveats:** Percentages may not sum to 100 due to rounding; renewables include hydro, wind, solar, and other sources."
   ]
  },
  {
   "cell_type": "code",
   "execution_count": null,
   "id": "90361a0d",
   "metadata": {},
   "outputs": [],
   "source": [
    "# Core imports and shared helpers\n",
    "from pathlib import Path\n",
    "\n",
    "import numpy as np\n",
    "import pandas as pd\n",
    "import matplotlib.pyplot as plt\n",
    "import seaborn as sns\n",
    "from IPython.display import Markdown, display\n",
    "\n",
    "import utils\n",
    "\n",
    "utils.baseline_style()\n"
   ]
  },
  {
   "cell_type": "markdown",
   "id": "f1e6ffbe",
   "metadata": {},
   "source": [
    "## Step 1: Load the four energy share datasets\n",
    "Each file contains a `Year` column and a percentage column. We keep the helper workflow consistent so every file goes through the same checks."
   ]
  },
  {
   "cell_type": "code",
   "execution_count": null,
   "id": "93458226",
   "metadata": {},
   "outputs": [],
   "source": [
    "# Example: diagnostics summarises a dataframe before we touch it\n",
    "sample = pd.DataFrame({'Year': [2000, 2001, 2002], 'Share': [10, 11, 12]})\n",
    "utils.diagnostics(sample, 'Sample share table', expected_columns=['Year', 'Share'], expected_row_range=(3, 3))\n"
   ]
  },
  {
   "cell_type": "code",
   "execution_count": null,
   "id": "ab1efc8f",
   "metadata": {},
   "outputs": [],
   "source": [
    "renewables = utils.load_data('01 renewable-share-energy.csv')\n",
    "hydro = utils.load_data('06 hydro-share-energy.csv')\n",
    "wind = utils.load_data('10 wind-share-energy.csv')\n",
    "solar = utils.load_data('14 solar-share-energy.csv')\n",
    "\n",
    "for name, df in [('Renewables', renewables), ('Hydro', hydro), ('Wind', wind), ('Solar', solar)]:\n",
    "    utils.diagnostics(\n",
    "        df,\n",
    "        f\"{name} share (raw)\",\n",
    "        expected_columns=['Entity', 'Code', 'Year'],\n",
    "        expected_row_range=(2000, 3000),\n",
    "    )\n"
   ]
  },
  {
   "cell_type": "markdown",
   "id": "83bf9496",
   "metadata": {},
   "source": [
    "## Step 2: Isolate the global totals and clean the shares\n",
    "Filter to the `World` totals, convert the share columns to numeric values, and keep only the years we need."
   ]
  },
  {
   "cell_type": "code",
   "execution_count": null,
   "id": "437ae48a",
   "metadata": {},
   "outputs": [],
   "source": [
    "def tidy_energy_share(df: pd.DataFrame, column_name: str, label: str) -> pd.DataFrame:\n",
    "    cleaned = (\n",
    "        df[df['Entity'] == 'World'][['Year', column_name]]\n",
    "        .rename(columns={column_name: 'share'})\n",
    "        .assign(\n",
    "            Year=lambda frame: pd.to_numeric(frame['Year'], errors='coerce').astype('Int64'),\n",
    "            share=lambda frame: pd.to_numeric(frame['share'], errors='coerce'),\n",
    "            category=label,\n",
    "        )\n",
    "        .dropna(subset=['Year', 'share'])\n",
    "    )\n",
    "    utils.expect_rows_between(cleaned, 40, 70)\n",
    "    return cleaned\n",
    "\n",
    "world_renewables = tidy_energy_share(renewables, 'Renewables (% equivalent primary energy)', 'Renewables')\n",
    "world_hydro = tidy_energy_share(hydro, 'Hydro (% equivalent primary energy)', 'Hydro')\n",
    "world_wind = tidy_energy_share(wind, 'Wind (% electricity)', 'Wind electricity')\n",
    "world_solar = tidy_energy_share(solar, 'Solar (% electricity)', 'Solar electricity')\n"
   ]
  },
  {
   "cell_type": "markdown",
   "id": "7b636922",
   "metadata": {},
   "source": [
    "## Step 3: Combine the streams into one tidy table\n",
    "Merge the categories, calculate the implied fossil-fuel share, and derive an `Other renewables` bucket so the parts add up."
   ]
  },
  {
   "cell_type": "code",
   "execution_count": null,
   "id": "039fecbc",
   "metadata": {},
   "outputs": [],
   "source": [
    "energy_mix = (\n",
    "    world_renewables.rename(columns={'share': 'renewable_share'})[['Year', 'renewable_share']]\n",
    "    .merge(world_hydro.rename(columns={'share': 'hydro_share'})[['Year', 'hydro_share']], on='Year', how='left')\n",
    "    .merge(world_wind.rename(columns={'share': 'wind_share'})[['Year', 'wind_share']], on='Year', how='left')\n",
    "    .merge(world_solar.rename(columns={'share': 'solar_share'})[['Year', 'solar_share']], on='Year', how='left')\n",
    "    .assign(\n",
    "        fossil_share=lambda df: 100 - df['renewable_share'],\n",
    "        other_renewables=lambda df: df['renewable_share'] - (\n",
    "            df['hydro_share'].fillna(0)\n",
    "            + df['wind_share'].fillna(0)\n",
    "            + df['solar_share'].fillna(0)\n",
    "        ),\n",
    "    )\n",
    ")\n",
    "energy_mix['other_renewables'] = energy_mix['other_renewables'].clip(lower=0)\n",
    "utils.diagnostics(\n",
    "    energy_mix,\n",
    "    'Energy mix (combined)',\n",
    "    expected_columns=['Year', 'renewable_share', 'fossil_share'],\n",
    "    expected_row_range=(40, 70),\n",
    ")\n"
   ]
  },
  {
   "cell_type": "markdown",
   "id": "9d75a465",
   "metadata": {},
   "source": [
    "## Step 4: Focus on milestone years and reshape for plotting\n",
    "Three checkpoints (2000, 2010, 2022) provide a clean narrative arc and make the grouped bars easy to compare."
   ]
  },
  {
   "cell_type": "code",
   "execution_count": null,
   "id": "ff6d11ed",
   "metadata": {},
   "outputs": [],
   "source": [
    "focus_years = [2000, 2010, 2022]\n",
    "focus_mix = (\n",
    "    energy_mix[energy_mix['Year'].isin(focus_years)]\n",
    "    .assign(Year=lambda df: df['Year'].astype(int))\n",
    "    .melt(\n",
    "        id_vars='Year',\n",
    "        value_vars=['fossil_share', 'hydro_share', 'wind_share', 'solar_share', 'other_renewables'],\n",
    "        var_name='category',\n",
    "        value_name='share',\n",
    "    )\n",
    "    .replace(\n",
    "        {\n",
    "            'fossil_share': 'Fossil fuels',\n",
    "            'hydro_share': 'Hydro',\n",
    "            'wind_share': 'Wind',\n",
    "            'solar_share': 'Solar',\n",
    "            'other_renewables': 'Other renewables',\n",
    "        }\n",
    "    )\n",
    ")\n",
    "utils.diagnostics(\n",
    "    focus_mix,\n",
    "    'Energy mix (plot ready)',\n",
    "    expected_columns=['Year', 'category', 'share'],\n",
    "    expected_row_range=(15, 15),\n",
    ")\n"
   ]
  },
  {
   "cell_type": "markdown",
   "id": "1cf5d171",
   "metadata": {},
   "source": [
    "## Step 5: Build the grouped bar chart with story metadata\n",
    "Label every chart element (title, subtitle, annotation, source, units) before rendering and finish with a clean legend."
   ]
  },
  {
   "cell_type": "code",
   "execution_count": null,
   "id": "ca726020",
   "metadata": {},
   "outputs": [],
   "source": [
    "TITLE = 'Renewables have doubled their share of global energy since 2000'\n",
    "SUBTITLE = 'Global primary energy mix, selected years'\n",
    "ANNOTATION = 'Wind and solar remain small but have grown more than fivefold since 2000.'\n",
    "SOURCE = 'Our World in Data, BP Statistical Review, Ember, IEA'\n",
    "UNITS = 'Share of global primary energy (%)'\n",
    "\n",
    "metadata = {\n",
    "    'title': TITLE,\n",
    "    'subtitle': SUBTITLE,\n",
    "    'annotation': ANNOTATION,\n",
    "    'source': SOURCE,\n",
    "    'units': UNITS,\n",
    "}\n",
    "utils.validate_story_elements(metadata)\n",
    "\n",
    "order = ['Fossil fuels', 'Hydro', 'Wind', 'Solar', 'Other renewables']\n",
    "palette = {\n",
    "    'Fossil fuels': '#8c564b',\n",
    "    'Hydro': '#1f77b4',\n",
    "    'Wind': '#2ca02c',\n",
    "    'Solar': '#ff7f0e',\n",
    "    'Other renewables': '#9467bd',\n",
    "}\n",
    "\n",
    "fig, ax = plt.subplots(figsize=(10, 6))\n",
    "sns.barplot(\n",
    "    data=focus_mix,\n",
    "    x='Year',\n",
    "    y='share',\n",
    "    hue='category',\n",
    "    order=sorted(focus_years),\n",
    "    hue_order=order,\n",
    "    palette=palette,\n",
    "    ax=ax,\n",
    ")\n",
    "utils.apply_story_template(ax, title=TITLE, subtitle=SUBTITLE, source=SOURCE, units=UNITS)\n",
    "ax.set_xlabel('Year')\n",
    "ax.legend(title='', loc='upper right', frameon=False)\n",
    "\n",
    "highlight_year = 2022\n",
    "highlight_share = focus_mix[\n",
    "    (focus_mix['Year'] == highlight_year) & (focus_mix['category'] == 'Solar')\n",
    "]['share'].iloc[0]\n",
    "\n",
    "ax.annotate(\n",
    "    ANNOTATION,\n",
    "    xy=(2.6, highlight_share + 1.5),\n",
    "    xycoords='data',\n",
    "    xytext=(15, 35),\n",
    "    textcoords='offset points',\n",
    "    arrowprops=dict(arrowstyle='->', color='#333333'),\n",
    "    fontsize=11,\n",
    "    ha='left',\n",
    "    va='bottom',\n",
    "    bbox=dict(boxstyle='round,pad=0.3', fc='white', ec='#555555', alpha=0.85),\n",
    ")\n",
    "\n",
    "plt.tight_layout()\n",
    "utils.save_last_fig('day02_solution_plot.png')\n"
   ]
  },
  {
   "cell_type": "code",
   "execution_count": null,
   "id": "1e343102",
   "metadata": {},
   "outputs": [],
   "source": [
    "display(\n",
    "    Markdown(\n",
    "        utils.summarize_claim(\n",
    "            claim='Fossil fuels still dominate but their share is shrinking.',\n",
    "            evidence='Global renewables grew from about 7% in 2000 to nearly 15% in 2022, led by wind and solar.',\n",
    "            takeaway='Scaling renewables requires accelerating wind and solar without neglecting other clean sources.',\n",
    "        )\n",
    "    )\n",
    ")\n"
   ]
  }
 ],
 "metadata": {
  "kernelspec": {
   "display_name": "Python 3",
   "language": "python",
   "name": "python3"
  },
  "language_info": {
   "name": "python",
   "version": "3.11"
  }
 },
 "nbformat": 4,
 "nbformat_minor": 5
}
